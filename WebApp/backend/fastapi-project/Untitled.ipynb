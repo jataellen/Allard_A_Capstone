{
 "cells": [
  {
   "cell_type": "code",
   "execution_count": 10,
   "id": "3101bb26-92ca-4cef-a4ca-3613f49088f7",
   "metadata": {},
   "outputs": [],
   "source": [
    "import pandas as pd\n",
    "df = pd.read_csv(\"rap_data_wip - dead_obies5.csv.csv\")\n",
    "# df"
   ]
  },
  {
   "cell_type": "code",
   "execution_count": 11,
   "id": "defb9cf2-564c-45c6-9470-1e355af46e37",
   "metadata": {},
   "outputs": [],
   "source": [
    "yes_rows = df[df['yes'].notna()]\n",
    "no_rows = df[df['no'].notna()]\n",
    "get_rows = df[df['get'].notna()]\n",
    "two_word_rows = df[df['two-word'].notna()]\n",
    "# yes_rows"
   ]
  },
  {
   "cell_type": "code",
   "execution_count": 14,
   "id": "9515f1ea-9cfb-4357-99ab-fb51a9592f5e",
   "metadata": {},
   "outputs": [],
   "source": [
    "with pd.ExcelWriter('output.xlsx') as writer:  \n",
    "    yes_rows.to_excel(writer, sheet_name='Yes')\n",
    "    no_rows.to_excel(writer, sheet_name='No')\n",
    "    get_rows.to_excel(writer, sheet_name='Get')\n",
    "    two_word_rows.to_excel(writer, sheet_name='Two_word')"
   ]
  },
  {
   "cell_type": "code",
   "execution_count": null,
   "id": "a609fd43-f20c-4ef3-9cf3-39775f4ca7bb",
   "metadata": {},
   "outputs": [],
   "source": []
  }
 ],
 "metadata": {
  "kernelspec": {
   "display_name": "Python 3 (ipykernel)",
   "language": "python",
   "name": "python3"
  },
  "language_info": {
   "codemirror_mode": {
    "name": "ipython",
    "version": 3
   },
   "file_extension": ".py",
   "mimetype": "text/x-python",
   "name": "python",
   "nbconvert_exporter": "python",
   "pygments_lexer": "ipython3",
   "version": "3.10.6"
  }
 },
 "nbformat": 4,
 "nbformat_minor": 5
}
