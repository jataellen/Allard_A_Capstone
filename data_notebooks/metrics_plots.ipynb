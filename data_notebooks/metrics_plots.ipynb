{
 "cells": [
  {
   "attachments": {},
   "cell_type": "markdown",
   "metadata": {},
   "source": [
    "# Metric Plots"
   ]
  },
  {
   "cell_type": "code",
   "execution_count": 32,
   "metadata": {},
   "outputs": [],
   "source": [
    "import pandas as pd\n",
    "import ast\n",
    "\n",
    "def read_csv_with_lists(file_path):\n",
    "    # Read the CSV file\n",
    "    df = pd.read_csv(file_path)\n",
    "    \n",
    "    # Iterate over each column\n",
    "    for column in df.columns:\n",
    "        # Check if the column contains strings that represent lists\n",
    "        if df[column].dtype == object:\n",
    "            try:\n",
    "                # Convert the strings to lists using ast.literal_eval\n",
    "                df[column] = df[column].apply(ast.literal_eval)\n",
    "            except (ValueError, SyntaxError):\n",
    "                # Skip the column if it cannot be converted to a list\n",
    "                pass\n",
    "    \n",
    "    return df"
   ]
  },
  {
   "cell_type": "code",
   "execution_count": 33,
   "metadata": {},
   "outputs": [
    {
     "data": {
      "text/html": [
       "<div>\n",
       "<style scoped>\n",
       "    .dataframe tbody tr th:only-of-type {\n",
       "        vertical-align: middle;\n",
       "    }\n",
       "\n",
       "    .dataframe tbody tr th {\n",
       "        vertical-align: top;\n",
       "    }\n",
       "\n",
       "    .dataframe thead th {\n",
       "        text-align: right;\n",
       "    }\n",
       "</style>\n",
       "<table border=\"1\" class=\"dataframe\">\n",
       "  <thead>\n",
       "    <tr style=\"text-align: right;\">\n",
       "      <th></th>\n",
       "      <th>What is the file number of the case?</th>\n",
       "      <th>file_number_gold_cleaned</th>\n",
       "      <th>raw_file_text</th>\n",
       "      <th>raw_file_name</th>\n",
       "      <th>Timestamp</th>\n",
       "      <th>Email Address</th>\n",
       "      <th>What was the date of the hearing? [mm/dd/yyyy]</th>\n",
       "      <th>What was the date of the decision? [mm/dd/yyyy]</th>\n",
       "      <th>Who was the member adjudicating the decision?</th>\n",
       "      <th>What was the location of the landlord tenant board?</th>\n",
       "      <th>...</th>\n",
       "      <th>If yes to the previous question, which of the following were applicable to the tenant?</th>\n",
       "      <th>Did the decision state the tenant was given prior notice for the eviction?</th>\n",
       "      <th>If the tenant was given prior notice for the eviction, how much notice was given?</th>\n",
       "      <th>Did the decisions state postponement would result in the tenant accruing additional arrears?</th>\n",
       "      <th>Which other specific applications of the landlord or the tenant were mentioned?</th>\n",
       "      <th>Did the decision mention the validity of an N4 eviction notice?</th>\n",
       "      <th>Were there detail(s) in the decision not captured by this questionnaire that should be included?</th>\n",
       "      <th>Exec Review</th>\n",
       "      <th>Review Status</th>\n",
       "      <th>file_number</th>\n",
       "    </tr>\n",
       "  </thead>\n",
       "  <tbody>\n",
       "    <tr>\n",
       "      <th>0</th>\n",
       "      <td>CEL-62600-16</td>\n",
       "      <td>CEL-62600-16</td>\n",
       "      <td>Metadata:\\nDate:\\t2017-01-18\\nFile number:\\t\\n...</td>\n",
       "      <td>CEL-62600-16.txt</td>\n",
       "      <td>1/31/2021 22:26:19</td>\n",
       "      <td>jac.huang@mail.utoronto.ca</td>\n",
       "      <td>1/5/2017</td>\n",
       "      <td>1/18/2017</td>\n",
       "      <td>Avril Cardoso</td>\n",
       "      <td>Mississauga</td>\n",
       "      <td>...</td>\n",
       "      <td>NaN</td>\n",
       "      <td>Yes</td>\n",
       "      <td>Not stated</td>\n",
       "      <td>No</td>\n",
       "      <td>L1: Application to Evict a Tenant for Non-paym...</td>\n",
       "      <td>No</td>\n",
       "      <td>NaN</td>\n",
       "      <td>NaN</td>\n",
       "      <td>NaN</td>\n",
       "      <td>CEL-62600-16</td>\n",
       "    </tr>\n",
       "    <tr>\n",
       "      <th>1</th>\n",
       "      <td>CEL-62852-16</td>\n",
       "      <td>CEL-62852-16</td>\n",
       "      <td>Metadata:\\nDate:\\t2017-01-09\\nFile number:\\t\\n...</td>\n",
       "      <td>CEL-62852-16.txt</td>\n",
       "      <td>1/31/2021 22:35:03</td>\n",
       "      <td>jac.huang@mail.utoronto.ca</td>\n",
       "      <td>12/14/2016</td>\n",
       "      <td>1/9/2017</td>\n",
       "      <td>Tiisetso Russell</td>\n",
       "      <td>Mississauga</td>\n",
       "      <td>...</td>\n",
       "      <td>reliance on social assistance, children's scho...</td>\n",
       "      <td>Yes</td>\n",
       "      <td>Not stated</td>\n",
       "      <td>No</td>\n",
       "      <td>No other specific applications were mentioned</td>\n",
       "      <td>No</td>\n",
       "      <td>NaN</td>\n",
       "      <td>NaN</td>\n",
       "      <td>NaN</td>\n",
       "      <td>CEL-62852-16</td>\n",
       "    </tr>\n",
       "  </tbody>\n",
       "</table>\n",
       "<p>2 rows × 58 columns</p>\n",
       "</div>"
      ],
      "text/plain": [
       "  What is the file number of the case? file_number_gold_cleaned  \\\n",
       "0                         CEL-62600-16             CEL-62600-16   \n",
       "1                         CEL-62852-16             CEL-62852-16   \n",
       "\n",
       "                                       raw_file_text     raw_file_name  \\\n",
       "0  Metadata:\\nDate:\\t2017-01-18\\nFile number:\\t\\n...  CEL-62600-16.txt   \n",
       "1  Metadata:\\nDate:\\t2017-01-09\\nFile number:\\t\\n...  CEL-62852-16.txt   \n",
       "\n",
       "            Timestamp               Email Address  \\\n",
       "0  1/31/2021 22:26:19  jac.huang@mail.utoronto.ca   \n",
       "1  1/31/2021 22:35:03  jac.huang@mail.utoronto.ca   \n",
       "\n",
       "  What was the date of the hearing? [mm/dd/yyyy]  \\\n",
       "0                                       1/5/2017   \n",
       "1                                     12/14/2016   \n",
       "\n",
       "  What was the date of the decision? [mm/dd/yyyy]  \\\n",
       "0                                       1/18/2017   \n",
       "1                                        1/9/2017   \n",
       "\n",
       "  Who was the member adjudicating the decision?  \\\n",
       "0                                 Avril Cardoso   \n",
       "1                              Tiisetso Russell   \n",
       "\n",
       "  What was the location of the landlord tenant board?  ...  \\\n",
       "0                                        Mississauga   ...   \n",
       "1                                        Mississauga   ...   \n",
       "\n",
       "  If yes to the previous question, which of the following were applicable to the tenant?  \\\n",
       "0                                                NaN                                       \n",
       "1  reliance on social assistance, children's scho...                                       \n",
       "\n",
       "  Did the decision state the tenant was given prior notice for the eviction?  \\\n",
       "0                                                Yes                           \n",
       "1                                                Yes                           \n",
       "\n",
       "  If the tenant was given prior notice for the eviction, how much notice was given?  \\\n",
       "0                                         Not stated                                  \n",
       "1                                         Not stated                                  \n",
       "\n",
       "  Did the decisions state postponement would result in the tenant accruing additional arrears?  \\\n",
       "0                                                 No                                             \n",
       "1                                                 No                                             \n",
       "\n",
       "  Which other specific applications of the landlord or the tenant were mentioned?  \\\n",
       "0  L1: Application to Evict a Tenant for Non-paym...                                \n",
       "1      No other specific applications were mentioned                                \n",
       "\n",
       "  Did the decision mention the validity of an N4 eviction notice?  \\\n",
       "0                                                 No                \n",
       "1                                                 No                \n",
       "\n",
       "  Were there detail(s) in the decision not captured by this questionnaire that should be included?  \\\n",
       "0                                                NaN                                                 \n",
       "1                                                NaN                                                 \n",
       "\n",
       "  Exec Review Review Status   file_number  \n",
       "0         NaN           NaN  CEL-62600-16  \n",
       "1         NaN           NaN  CEL-62852-16  \n",
       "\n",
       "[2 rows x 58 columns]"
      ]
     },
     "execution_count": 33,
     "metadata": {},
     "output_type": "execute_result"
    }
   ],
   "source": [
    "partner_gold_df = read_csv_with_lists('data/gold_labels_with_files.csv')\n",
    "partner_gold_df['file_number'] = partner_gold_df['file_number_gold_cleaned']#.columns\n",
    "partner_gold_df.head(2)"
   ]
  },
  {
   "cell_type": "code",
   "execution_count": 34,
   "metadata": {},
   "outputs": [
    {
     "name": "stdout",
     "output_type": "stream",
     "text": [
      "new_case_outcome\n",
      "No relief            0.639881\n",
      "Relief               0.349702\n",
      "Conditional Order    0.010417\n",
      "dtype: float64\n"
     ]
    },
    {
     "data": {
      "text/html": [
       "<div>\n",
       "<style scoped>\n",
       "    .dataframe tbody tr th:only-of-type {\n",
       "        vertical-align: middle;\n",
       "    }\n",
       "\n",
       "    .dataframe tbody tr th {\n",
       "        vertical-align: top;\n",
       "    }\n",
       "\n",
       "    .dataframe thead th {\n",
       "        text-align: right;\n",
       "    }\n",
       "</style>\n",
       "<table border=\"1\" class=\"dataframe\">\n",
       "  <thead>\n",
       "    <tr style=\"text-align: right;\">\n",
       "      <th></th>\n",
       "      <th>raw_file_text</th>\n",
       "      <th>raw_file_name</th>\n",
       "      <th>full_cleaned</th>\n",
       "      <th>metadata</th>\n",
       "      <th>content</th>\n",
       "      <th>case_citation</th>\n",
       "      <th>file_number</th>\n",
       "      <th>language</th>\n",
       "      <th>year</th>\n",
       "      <th>ltb_location</th>\n",
       "      <th>decision_date</th>\n",
       "      <th>hearing_date</th>\n",
       "      <th>url</th>\n",
       "      <th>adjudicating_member</th>\n",
       "      <th>new_case_outcome</th>\n",
       "    </tr>\n",
       "  </thead>\n",
       "  <tbody>\n",
       "    <tr>\n",
       "      <th>0</th>\n",
       "      <td>Metadata:\\nDate:\\t2017-01-18\\nFile number:\\t\\n...</td>\n",
       "      <td>CEL-62600-16.txt</td>\n",
       "      <td>[Metadata:, Date: 2017-01-18, File number:, CE...</td>\n",
       "      <td>[Date: 2017-01-18, File number:, CEL-62600-16,...</td>\n",
       "      <td>[Arrears Worksheet File Number: CEL-62600-16 T...</td>\n",
       "      <td>CEL-62600-16 (Re), 2017 CanLII 9545 (ON LTB)</td>\n",
       "      <td>CEL-62600-16</td>\n",
       "      <td>English</td>\n",
       "      <td>2016</td>\n",
       "      <td>Mississauga</td>\n",
       "      <td>01/18/2017</td>\n",
       "      <td>01/30/2017</td>\n",
       "      <td>https://canlii.ca/t/gxq6n</td>\n",
       "      <td>Avril Cardoso</td>\n",
       "      <td>No relief</td>\n",
       "    </tr>\n",
       "  </tbody>\n",
       "</table>\n",
       "</div>"
      ],
      "text/plain": [
       "                                       raw_file_text     raw_file_name  \\\n",
       "0  Metadata:\\nDate:\\t2017-01-18\\nFile number:\\t\\n...  CEL-62600-16.txt   \n",
       "\n",
       "                                        full_cleaned  \\\n",
       "0  [Metadata:, Date: 2017-01-18, File number:, CE...   \n",
       "\n",
       "                                            metadata  \\\n",
       "0  [Date: 2017-01-18, File number:, CEL-62600-16,...   \n",
       "\n",
       "                                             content  \\\n",
       "0  [Arrears Worksheet File Number: CEL-62600-16 T...   \n",
       "\n",
       "                                  case_citation   file_number language  year  \\\n",
       "0  CEL-62600-16 (Re), 2017 CanLII 9545 (ON LTB)  CEL-62600-16  English  2016   \n",
       "\n",
       "  ltb_location decision_date hearing_date                        url  \\\n",
       "0  Mississauga    01/18/2017   01/30/2017  https://canlii.ca/t/gxq6n   \n",
       "\n",
       "  adjudicating_member new_case_outcome  \n",
       "0       Avril Cardoso        No relief  "
      ]
     },
     "execution_count": 34,
     "metadata": {},
     "output_type": "execute_result"
    }
   ],
   "source": [
    "gold_df = read_csv_with_lists('data/outcome_extraction_testing.csv')\n",
    "print(gold_df.value_counts('new_case_outcome', normalize = True))\n",
    "# gold_df['new_hearing_date'] = partner_gold_df\n",
    "gold_df.head(1)"
   ]
  },
  {
   "cell_type": "code",
   "execution_count": 35,
   "metadata": {},
   "outputs": [
    {
     "data": {
      "text/html": [
       "<div>\n",
       "<style scoped>\n",
       "    .dataframe tbody tr th:only-of-type {\n",
       "        vertical-align: middle;\n",
       "    }\n",
       "\n",
       "    .dataframe tbody tr th {\n",
       "        vertical-align: top;\n",
       "    }\n",
       "\n",
       "    .dataframe thead th {\n",
       "        text-align: right;\n",
       "    }\n",
       "</style>\n",
       "<table border=\"1\" class=\"dataframe\">\n",
       "  <thead>\n",
       "    <tr style=\"text-align: right;\">\n",
       "      <th></th>\n",
       "      <th>raw_file_text</th>\n",
       "      <th>raw_file_name</th>\n",
       "      <th>full_cleaned</th>\n",
       "      <th>metadata</th>\n",
       "      <th>content</th>\n",
       "      <th>case_citation</th>\n",
       "      <th>file_number</th>\n",
       "      <th>language</th>\n",
       "      <th>year</th>\n",
       "      <th>ltb_location</th>\n",
       "      <th>decision_date</th>\n",
       "      <th>hearing_date</th>\n",
       "      <th>url</th>\n",
       "      <th>adjudicating_member</th>\n",
       "      <th>new_case_outcome</th>\n",
       "      <th>new_hearing_date</th>\n",
       "    </tr>\n",
       "  </thead>\n",
       "  <tbody>\n",
       "    <tr>\n",
       "      <th>0</th>\n",
       "      <td>Metadata:\\nDate:\\t2017-01-18\\nFile number:\\t\\n...</td>\n",
       "      <td>CEL-62600-16.txt</td>\n",
       "      <td>[Metadata:, Date: 2017-01-18, File number:, CE...</td>\n",
       "      <td>[Date: 2017-01-18, File number:, CEL-62600-16,...</td>\n",
       "      <td>[Arrears Worksheet File Number: CEL-62600-16 T...</td>\n",
       "      <td>CEL-62600-16 (Re), 2017 CanLII 9545 (ON LTB)</td>\n",
       "      <td>CEL-62600-16</td>\n",
       "      <td>English</td>\n",
       "      <td>2016</td>\n",
       "      <td>Mississauga</td>\n",
       "      <td>01/18/2017</td>\n",
       "      <td>01/30/2017</td>\n",
       "      <td>https://canlii.ca/t/gxq6n</td>\n",
       "      <td>Avril Cardoso</td>\n",
       "      <td>No relief</td>\n",
       "      <td>1/5/2017</td>\n",
       "    </tr>\n",
       "  </tbody>\n",
       "</table>\n",
       "</div>"
      ],
      "text/plain": [
       "                                       raw_file_text     raw_file_name  \\\n",
       "0  Metadata:\\nDate:\\t2017-01-18\\nFile number:\\t\\n...  CEL-62600-16.txt   \n",
       "\n",
       "                                        full_cleaned  \\\n",
       "0  [Metadata:, Date: 2017-01-18, File number:, CE...   \n",
       "\n",
       "                                            metadata  \\\n",
       "0  [Date: 2017-01-18, File number:, CEL-62600-16,...   \n",
       "\n",
       "                                             content  \\\n",
       "0  [Arrears Worksheet File Number: CEL-62600-16 T...   \n",
       "\n",
       "                                  case_citation   file_number language  year  \\\n",
       "0  CEL-62600-16 (Re), 2017 CanLII 9545 (ON LTB)  CEL-62600-16  English  2016   \n",
       "\n",
       "  ltb_location decision_date hearing_date                        url  \\\n",
       "0  Mississauga    01/18/2017   01/30/2017  https://canlii.ca/t/gxq6n   \n",
       "\n",
       "  adjudicating_member new_case_outcome new_hearing_date  \n",
       "0       Avril Cardoso        No relief         1/5/2017  "
      ]
     },
     "execution_count": 35,
     "metadata": {},
     "output_type": "execute_result"
    }
   ],
   "source": [
    "# Assuming \"raw_file_name\" is a column in both partner_gold_df and gold_df\n",
    "\n",
    "# Perform inner join based on \"raw_file_name\" column\n",
    "merged_df = gold_df.merge(partner_gold_df[[\"raw_file_name\", \"What was the date of the hearing? [mm/dd/yyyy]\"]], on = \"raw_file_name\", how = \"inner\")\n",
    "\n",
    "# Copy the values from column A of partner_gold_df to a new column in gold_df\n",
    "gold_df[\"new_hearing_date\"] = merged_df[\"What was the date of the hearing? [mm/dd/yyyy]\"]\n",
    "gold_df.head(1)"
   ]
  },
  {
   "cell_type": "code",
   "execution_count": 36,
   "metadata": {},
   "outputs": [
    {
     "data": {
      "text/html": [
       "<div>\n",
       "<style scoped>\n",
       "    .dataframe tbody tr th:only-of-type {\n",
       "        vertical-align: middle;\n",
       "    }\n",
       "\n",
       "    .dataframe tbody tr th {\n",
       "        vertical-align: top;\n",
       "    }\n",
       "\n",
       "    .dataframe thead th {\n",
       "        text-align: right;\n",
       "    }\n",
       "</style>\n",
       "<table border=\"1\" class=\"dataframe\">\n",
       "  <thead>\n",
       "    <tr style=\"text-align: right;\">\n",
       "      <th></th>\n",
       "      <th>raw_file_text</th>\n",
       "      <th>raw_file_name</th>\n",
       "      <th>full_cleaned</th>\n",
       "      <th>metadata</th>\n",
       "      <th>content</th>\n",
       "      <th>case_citation</th>\n",
       "      <th>file_number</th>\n",
       "      <th>language</th>\n",
       "      <th>year</th>\n",
       "      <th>ltb_location</th>\n",
       "      <th>decision_date</th>\n",
       "      <th>hearing_date</th>\n",
       "      <th>url</th>\n",
       "      <th>adjudicating_member</th>\n",
       "      <th>new_case_outcome</th>\n",
       "      <th>new_hearing_date</th>\n",
       "      <th>new_decision_date</th>\n",
       "    </tr>\n",
       "  </thead>\n",
       "  <tbody>\n",
       "    <tr>\n",
       "      <th>0</th>\n",
       "      <td>Metadata:\\nDate:\\t2017-01-18\\nFile number:\\t\\n...</td>\n",
       "      <td>CEL-62600-16.txt</td>\n",
       "      <td>[Metadata:, Date: 2017-01-18, File number:, CE...</td>\n",
       "      <td>[Date: 2017-01-18, File number:, CEL-62600-16,...</td>\n",
       "      <td>[Arrears Worksheet File Number: CEL-62600-16 T...</td>\n",
       "      <td>CEL-62600-16 (Re), 2017 CanLII 9545 (ON LTB)</td>\n",
       "      <td>CEL-62600-16</td>\n",
       "      <td>English</td>\n",
       "      <td>2016</td>\n",
       "      <td>Mississauga</td>\n",
       "      <td>01/18/2017</td>\n",
       "      <td>01/30/2017</td>\n",
       "      <td>https://canlii.ca/t/gxq6n</td>\n",
       "      <td>Avril Cardoso</td>\n",
       "      <td>No relief</td>\n",
       "      <td>1/5/2017</td>\n",
       "      <td>1/18/2017</td>\n",
       "    </tr>\n",
       "  </tbody>\n",
       "</table>\n",
       "</div>"
      ],
      "text/plain": [
       "                                       raw_file_text     raw_file_name  \\\n",
       "0  Metadata:\\nDate:\\t2017-01-18\\nFile number:\\t\\n...  CEL-62600-16.txt   \n",
       "\n",
       "                                        full_cleaned  \\\n",
       "0  [Metadata:, Date: 2017-01-18, File number:, CE...   \n",
       "\n",
       "                                            metadata  \\\n",
       "0  [Date: 2017-01-18, File number:, CEL-62600-16,...   \n",
       "\n",
       "                                             content  \\\n",
       "0  [Arrears Worksheet File Number: CEL-62600-16 T...   \n",
       "\n",
       "                                  case_citation   file_number language  year  \\\n",
       "0  CEL-62600-16 (Re), 2017 CanLII 9545 (ON LTB)  CEL-62600-16  English  2016   \n",
       "\n",
       "  ltb_location decision_date hearing_date                        url  \\\n",
       "0  Mississauga    01/18/2017   01/30/2017  https://canlii.ca/t/gxq6n   \n",
       "\n",
       "  adjudicating_member new_case_outcome new_hearing_date new_decision_date  \n",
       "0       Avril Cardoso        No relief         1/5/2017         1/18/2017  "
      ]
     },
     "execution_count": 36,
     "metadata": {},
     "output_type": "execute_result"
    }
   ],
   "source": [
    "# Assuming \"file_number\" is a column in both partner_gold_df and gold_df\n",
    "\n",
    "# Perform inner join based on \"file_number\" column\n",
    "merged_df = gold_df.merge(partner_gold_df[[\"raw_file_name\", \"What was the date of the decision? [mm/dd/yyyy]\"]], on = \"raw_file_name\", how = \"inner\")\n",
    "\n",
    "# Copy the values from column A of partner_gold_df to a new column in gold_df\n",
    "gold_df[\"new_decision_date\"] = merged_df[\"What was the date of the decision? [mm/dd/yyyy]\"]\n",
    "gold_df.head(1)"
   ]
  },
  {
   "attachments": {},
   "cell_type": "markdown",
   "metadata": {},
   "source": [
    "# Creating `silver_df` for eval"
   ]
  },
  {
   "cell_type": "code",
   "execution_count": 37,
   "metadata": {},
   "outputs": [
    {
     "data": {
      "text/html": [
       "<div>\n",
       "<style scoped>\n",
       "    .dataframe tbody tr th:only-of-type {\n",
       "        vertical-align: middle;\n",
       "    }\n",
       "\n",
       "    .dataframe tbody tr th {\n",
       "        vertical-align: top;\n",
       "    }\n",
       "\n",
       "    .dataframe thead th {\n",
       "        text-align: right;\n",
       "    }\n",
       "</style>\n",
       "<table border=\"1\" class=\"dataframe\">\n",
       "  <thead>\n",
       "    <tr style=\"text-align: right;\">\n",
       "      <th></th>\n",
       "      <th>full_cleaned</th>\n",
       "      <th>metadata</th>\n",
       "      <th>content</th>\n",
       "    </tr>\n",
       "  </thead>\n",
       "  <tbody>\n",
       "    <tr>\n",
       "      <th>0</th>\n",
       "      <td>[Metadata:, Date: 2017-01-18, File number:, CE...</td>\n",
       "      <td>Date: 2017-01-18 File number: CEL-62600-16 CEL...</td>\n",
       "      <td>Arrears Worksheet File Number: CEL-62600-16 Ti...</td>\n",
       "    </tr>\n",
       "    <tr>\n",
       "      <th>1</th>\n",
       "      <td>[Metadata:, Date: 2017-01-09, File number:, CE...</td>\n",
       "      <td>Date: 2017-01-09 File number: CEL-62852-16 CEL...</td>\n",
       "      <td>Arrears Worksheet File Number: CEL-62852-16 Ti...</td>\n",
       "    </tr>\n",
       "    <tr>\n",
       "      <th>2</th>\n",
       "      <td>[Metadata:, Date: 2017-01-09, File number:, CE...</td>\n",
       "      <td>Date: 2017-01-09 File number: CEL-63024-16 CEL...</td>\n",
       "      <td>Arrears Worksheet File Number: CEL-63024-16 Ti...</td>\n",
       "    </tr>\n",
       "    <tr>\n",
       "      <th>3</th>\n",
       "      <td>[Metadata:, Date: 2017-01-20, File number:, CE...</td>\n",
       "      <td>Date: 2017-01-20 File number: CEL-63056-16 CEL...</td>\n",
       "      <td>Arrears Worksheet File Number: CEL-63056-16 Ti...</td>\n",
       "    </tr>\n",
       "    <tr>\n",
       "      <th>4</th>\n",
       "      <td>[Metadata:, Date: 2017-02-03, File number:, CE...</td>\n",
       "      <td>Date: 2017-02-03 File number: CEL-63193-16 CEL...</td>\n",
       "      <td>Arrears Worksheet File Number: CEL-63193-16 Ti...</td>\n",
       "    </tr>\n",
       "    <tr>\n",
       "      <th>...</th>\n",
       "      <td>...</td>\n",
       "      <td>...</td>\n",
       "      <td>...</td>\n",
       "    </tr>\n",
       "    <tr>\n",
       "      <th>667</th>\n",
       "      <td>[Metadata:, Date: 2018-12-13, File number:, TS...</td>\n",
       "      <td>Date: 2018-12-13 File number: TSL-98918-18-RV ...</td>\n",
       "      <td>Order under Section 21.2 of the Statutory Powe...</td>\n",
       "    </tr>\n",
       "    <tr>\n",
       "      <th>668</th>\n",
       "      <td>[Metadata:, Date: 2018-11-23, File number:, TS...</td>\n",
       "      <td>Date: 2018-11-23 File number: TSL-99691-18 TSL...</td>\n",
       "      <td>Order under Section 69 Residential Tenancies A...</td>\n",
       "    </tr>\n",
       "    <tr>\n",
       "      <th>669</th>\n",
       "      <td>[Metadata:, Date: 2018-11-29, File number:, TS...</td>\n",
       "      <td>Date: 2018-11-29 File number: TSL-99824-18 TSL...</td>\n",
       "      <td>Order under Section 69 Residential Tenancies A...</td>\n",
       "    </tr>\n",
       "    <tr>\n",
       "      <th>670</th>\n",
       "      <td>[Metadata:, Date: 2018-12-12, File number:, TS...</td>\n",
       "      <td>Date: 2018-12-12 File number: TSL-99900-18 TSL...</td>\n",
       "      <td>Order under Section 69 Residential Tenancies A...</td>\n",
       "    </tr>\n",
       "    <tr>\n",
       "      <th>671</th>\n",
       "      <td>[Metadata:, Date: 2018-11-20, File number:, TS...</td>\n",
       "      <td>Date: 2018-11-20 File number: TSL-99965-18 TSL...</td>\n",
       "      <td>Order under Section 69 Residential Tenancies A...</td>\n",
       "    </tr>\n",
       "  </tbody>\n",
       "</table>\n",
       "<p>672 rows × 3 columns</p>\n",
       "</div>"
      ],
      "text/plain": [
       "                                          full_cleaned  \\\n",
       "0    [Metadata:, Date: 2017-01-18, File number:, CE...   \n",
       "1    [Metadata:, Date: 2017-01-09, File number:, CE...   \n",
       "2    [Metadata:, Date: 2017-01-09, File number:, CE...   \n",
       "3    [Metadata:, Date: 2017-01-20, File number:, CE...   \n",
       "4    [Metadata:, Date: 2017-02-03, File number:, CE...   \n",
       "..                                                 ...   \n",
       "667  [Metadata:, Date: 2018-12-13, File number:, TS...   \n",
       "668  [Metadata:, Date: 2018-11-23, File number:, TS...   \n",
       "669  [Metadata:, Date: 2018-11-29, File number:, TS...   \n",
       "670  [Metadata:, Date: 2018-12-12, File number:, TS...   \n",
       "671  [Metadata:, Date: 2018-11-20, File number:, TS...   \n",
       "\n",
       "                                              metadata  \\\n",
       "0    Date: 2017-01-18 File number: CEL-62600-16 CEL...   \n",
       "1    Date: 2017-01-09 File number: CEL-62852-16 CEL...   \n",
       "2    Date: 2017-01-09 File number: CEL-63024-16 CEL...   \n",
       "3    Date: 2017-01-20 File number: CEL-63056-16 CEL...   \n",
       "4    Date: 2017-02-03 File number: CEL-63193-16 CEL...   \n",
       "..                                                 ...   \n",
       "667  Date: 2018-12-13 File number: TSL-98918-18-RV ...   \n",
       "668  Date: 2018-11-23 File number: TSL-99691-18 TSL...   \n",
       "669  Date: 2018-11-29 File number: TSL-99824-18 TSL...   \n",
       "670  Date: 2018-12-12 File number: TSL-99900-18 TSL...   \n",
       "671  Date: 2018-11-20 File number: TSL-99965-18 TSL...   \n",
       "\n",
       "                                               content  \n",
       "0    Arrears Worksheet File Number: CEL-62600-16 Ti...  \n",
       "1    Arrears Worksheet File Number: CEL-62852-16 Ti...  \n",
       "2    Arrears Worksheet File Number: CEL-63024-16 Ti...  \n",
       "3    Arrears Worksheet File Number: CEL-63056-16 Ti...  \n",
       "4    Arrears Worksheet File Number: CEL-63193-16 Ti...  \n",
       "..                                                 ...  \n",
       "667  Order under Section 21.2 of the Statutory Powe...  \n",
       "668  Order under Section 69 Residential Tenancies A...  \n",
       "669  Order under Section 69 Residential Tenancies A...  \n",
       "670  Order under Section 69 Residential Tenancies A...  \n",
       "671  Order under Section 69 Residential Tenancies A...  \n",
       "\n",
       "[672 rows x 3 columns]"
      ]
     },
     "execution_count": 37,
     "metadata": {},
     "output_type": "execute_result"
    }
   ],
   "source": [
    "silver_df = gold_df.drop(columns = [col for col in gold_df.columns if col not in ['full_cleaned', 'metadata', 'content']])\n",
    "silver_df['metadata'] = silver_df[\"metadata\"].apply(lambda x: \" \".join(x))\n",
    "silver_df['content'] = silver_df[\"content\"].apply(lambda x: \" \".join(x))\n",
    "silver_df"
   ]
  },
  {
   "attachments": {},
   "cell_type": "markdown",
   "metadata": {},
   "source": [
    "# File Number + Citation"
   ]
  },
  {
   "cell_type": "code",
   "execution_count": 38,
   "metadata": {},
   "outputs": [],
   "source": [
    "import re\n",
    "\n",
    "def get_case_citation(metadata_list):\n",
    "    \"\"\"\n",
    "    Extracts the case citation from a list of metadata lines.\n",
    "\n",
    "    This function searches through the metadata lines for a line containing \"Citation:\" or \"Référence:\"\n",
    "    and extracts the citation information from that line.\n",
    "\n",
    "    Parameters\n",
    "    ----------\n",
    "    metadata_list : list of str\n",
    "        A list of metadata lines.\n",
    "\n",
    "    Returns\n",
    "    -------\n",
    "    str or None\n",
    "        The extracted case citation, or None if no citation is found.\n",
    "\n",
    "    Examples\n",
    "    --------\n",
    "    >>> metadata = [\"Title: Example Case\", \"Citation: ABC123 (LTB)\"]\n",
    "    >>> get_case_citation(metadata)\n",
    "    'ABC123 (LTB)'\n",
    "\n",
    "    >>> metadata = [\"Title: Another Case\", \"Référence: XYZ789 (LTB)\"]\n",
    "    >>> get_case_citation(metadata)\n",
    "    'XYZ789 (LTB)'\n",
    "    \"\"\"\n",
    "    if isinstance(metadata_list, str):\n",
    "        metadata_list = metadata_list.split(\"\\n\")\n",
    "\n",
    "    for line in metadata_list:\n",
    "        if \"Citation:\" in line:\n",
    "            citation_start = line.find(\"Citation: \")\n",
    "            citation_end = line.find(\"LTB)\") + 4\n",
    "            return line[citation_start:citation_end].replace(\"Citation: \", \"\").strip()\n",
    "        elif \"Référence: \" in line:\n",
    "            citation_start = line.find(\"Référence: \")\n",
    "            citation_end = line.find(\"LTB)\") + 4\n",
    "            return line[citation_start:citation_end].replace(\"Référence: \", \"\").strip()\n",
    "    return None\n",
    "\n",
    "def get_file_number(metadata_list):\n",
    "    \"\"\"\n",
    "    Extracts the file number from a list of metadata lines.\n",
    "\n",
    "    This function concatenates the metadata lines into a single string and extracts the file number\n",
    "    from that string. The file number is obtained either after \"File number:\" or \"Numéro de dossier:\".\n",
    "\n",
    "    Parameters\n",
    "    ----------\n",
    "    metadata_list : list of str\n",
    "        A list of metadata lines.\n",
    "\n",
    "    Returns\n",
    "    -------\n",
    "    str or None\n",
    "        The extracted file number, or None if no file number is found.\n",
    "\n",
    "    Examples\n",
    "    --------\n",
    "    >>> metadata = [\"File number: TNL-10001-18\", \"Citation: ABC123 (LTB)\"]\n",
    "    >>> get_file_number(metadata)\n",
    "    'TNL-10001-18'\n",
    "\n",
    "    >>> metadata = [\"Numéro de dossier: XYZ789\", \"Référence: DEF456 (LTB)\"]\n",
    "    >>> get_file_number(metadata)\n",
    "    'XYZ789'\n",
    "    \"\"\"\n",
    "    if isinstance(metadata_list, list):\n",
    "        metadata_str = \" \".join(metadata_list)\n",
    "    else:\n",
    "        metadata_str = metadata_list\n",
    "\n",
    "    if \"Citation: \" in metadata_str:\n",
    "        file_nums = metadata_str[metadata_str.find(\"File number: \") + len(\"File number: \") : metadata_str.find(\"Citation:\")].strip()\n",
    "    elif \"Référence: \" in metadata_str:\n",
    "        file_nums = metadata_str[metadata_str.find(\"Numéro de dossier: \") + len(\"Numéro de dossier: \") : metadata_str.find(\"Référence\")].strip()\n",
    "\n",
    "    if len(file_nums) == 0:\n",
    "        return None\n",
    "\n",
    "    file_nums = file_nums.replace(\";\", \" \")\n",
    "\n",
    "    file_num = list(set(file_nums.split()))\n",
    "    file_num = \";\".join(file_num)\n",
    "    file_num = re.sub(r'[^\\w\\s]$', '', file_num)\n",
    "\n",
    "    if \";\" in file_num:\n",
    "        file_num = list(set(file_num.split(\";\")))\n",
    "        file_num = [re.sub(r'[\\(\\)]', '', num) for num in file_num]\n",
    "        file_num = \";\".join(file_num)\n",
    "\n",
    "    file_num = re.sub(r'[\\(\\)]', '', file_num)\n",
    "\n",
    "    return file_num"
   ]
  },
  {
   "cell_type": "code",
   "execution_count": 39,
   "metadata": {},
   "outputs": [
    {
     "data": {
      "text/html": [
       "<div>\n",
       "<style scoped>\n",
       "    .dataframe tbody tr th:only-of-type {\n",
       "        vertical-align: middle;\n",
       "    }\n",
       "\n",
       "    .dataframe tbody tr th {\n",
       "        vertical-align: top;\n",
       "    }\n",
       "\n",
       "    .dataframe thead th {\n",
       "        text-align: right;\n",
       "    }\n",
       "</style>\n",
       "<table border=\"1\" class=\"dataframe\">\n",
       "  <thead>\n",
       "    <tr style=\"text-align: right;\">\n",
       "      <th></th>\n",
       "      <th>full_cleaned</th>\n",
       "      <th>metadata</th>\n",
       "      <th>content</th>\n",
       "      <th>citation</th>\n",
       "      <th>file_number</th>\n",
       "    </tr>\n",
       "  </thead>\n",
       "  <tbody>\n",
       "    <tr>\n",
       "      <th>0</th>\n",
       "      <td>[Metadata:, Date: 2017-01-18, File number:, CE...</td>\n",
       "      <td>Date: 2017-01-18 File number: CEL-62600-16 CEL...</td>\n",
       "      <td>Arrears Worksheet File Number: CEL-62600-16 Ti...</td>\n",
       "      <td>CEL-62600-16 (Re), 2017 CanLII 9545 (ON LTB)</td>\n",
       "      <td>CEL-62600-16</td>\n",
       "    </tr>\n",
       "    <tr>\n",
       "      <th>1</th>\n",
       "      <td>[Metadata:, Date: 2017-01-09, File number:, CE...</td>\n",
       "      <td>Date: 2017-01-09 File number: CEL-62852-16 CEL...</td>\n",
       "      <td>Arrears Worksheet File Number: CEL-62852-16 Ti...</td>\n",
       "      <td>CEL-62852-16 (Re), 2017 CanLII 9535 (ON LTB)</td>\n",
       "      <td>CEL-62852-16</td>\n",
       "    </tr>\n",
       "    <tr>\n",
       "      <th>2</th>\n",
       "      <td>[Metadata:, Date: 2017-01-09, File number:, CE...</td>\n",
       "      <td>Date: 2017-01-09 File number: CEL-63024-16 CEL...</td>\n",
       "      <td>Arrears Worksheet File Number: CEL-63024-16 Ti...</td>\n",
       "      <td>CEL-63024-16 (Re), 2017 CanLII 9543 (ON LTB)</td>\n",
       "      <td>CEL-63024-16</td>\n",
       "    </tr>\n",
       "    <tr>\n",
       "      <th>3</th>\n",
       "      <td>[Metadata:, Date: 2017-01-20, File number:, CE...</td>\n",
       "      <td>Date: 2017-01-20 File number: CEL-63056-16 CEL...</td>\n",
       "      <td>Arrears Worksheet File Number: CEL-63056-16 Ti...</td>\n",
       "      <td>CEL-63056-16 (Re), 2017 CanLII 9537 (ON LTB)</td>\n",
       "      <td>CEL-63056-16</td>\n",
       "    </tr>\n",
       "    <tr>\n",
       "      <th>4</th>\n",
       "      <td>[Metadata:, Date: 2017-02-03, File number:, CE...</td>\n",
       "      <td>Date: 2017-02-03 File number: CEL-63193-16 CEL...</td>\n",
       "      <td>Arrears Worksheet File Number: CEL-63193-16 Ti...</td>\n",
       "      <td>CEL-63193-16 (Re), 2017 CanLII 30828 (ON LTB)</td>\n",
       "      <td>CEL-63193-16</td>\n",
       "    </tr>\n",
       "    <tr>\n",
       "      <th>...</th>\n",
       "      <td>...</td>\n",
       "      <td>...</td>\n",
       "      <td>...</td>\n",
       "      <td>...</td>\n",
       "      <td>...</td>\n",
       "    </tr>\n",
       "    <tr>\n",
       "      <th>667</th>\n",
       "      <td>[Metadata:, Date: 2018-12-13, File number:, TS...</td>\n",
       "      <td>Date: 2018-12-13 File number: TSL-98918-18-RV ...</td>\n",
       "      <td>Order under Section 21.2 of the Statutory Powe...</td>\n",
       "      <td>TSL-98918-18-RV (Re), 2018 CanLII 141679 (ON LTB)</td>\n",
       "      <td>TSL-98918-18-RV</td>\n",
       "    </tr>\n",
       "    <tr>\n",
       "      <th>668</th>\n",
       "      <td>[Metadata:, Date: 2018-11-23, File number:, TS...</td>\n",
       "      <td>Date: 2018-11-23 File number: TSL-99691-18 TSL...</td>\n",
       "      <td>Order under Section 69 Residential Tenancies A...</td>\n",
       "      <td>TSL-99691-18 (Re), 2018 CanLII 141675 (ON LTB)</td>\n",
       "      <td>TSL-99691-18</td>\n",
       "    </tr>\n",
       "    <tr>\n",
       "      <th>669</th>\n",
       "      <td>[Metadata:, Date: 2018-11-29, File number:, TS...</td>\n",
       "      <td>Date: 2018-11-29 File number: TSL-99824-18 TSL...</td>\n",
       "      <td>Order under Section 69 Residential Tenancies A...</td>\n",
       "      <td>TSL-99824-18 (Re), 2018 CanLII 141673 (ON LTB)</td>\n",
       "      <td>TSL-99824-18</td>\n",
       "    </tr>\n",
       "    <tr>\n",
       "      <th>670</th>\n",
       "      <td>[Metadata:, Date: 2018-12-12, File number:, TS...</td>\n",
       "      <td>Date: 2018-12-12 File number: TSL-99900-18 TSL...</td>\n",
       "      <td>Order under Section 69 Residential Tenancies A...</td>\n",
       "      <td>TSL-99900-18 (Re), 2018 CanLII 140403 (ON LTB)</td>\n",
       "      <td>TSL-99900-18</td>\n",
       "    </tr>\n",
       "    <tr>\n",
       "      <th>671</th>\n",
       "      <td>[Metadata:, Date: 2018-11-20, File number:, TS...</td>\n",
       "      <td>Date: 2018-11-20 File number: TSL-99965-18 TSL...</td>\n",
       "      <td>Order under Section 69 Residential Tenancies A...</td>\n",
       "      <td>TSL-99965-18 (Re), 2018 CanLII 141672 (ON LTB)</td>\n",
       "      <td>TSL-99965-18</td>\n",
       "    </tr>\n",
       "  </tbody>\n",
       "</table>\n",
       "<p>672 rows × 5 columns</p>\n",
       "</div>"
      ],
      "text/plain": [
       "                                          full_cleaned  \\\n",
       "0    [Metadata:, Date: 2017-01-18, File number:, CE...   \n",
       "1    [Metadata:, Date: 2017-01-09, File number:, CE...   \n",
       "2    [Metadata:, Date: 2017-01-09, File number:, CE...   \n",
       "3    [Metadata:, Date: 2017-01-20, File number:, CE...   \n",
       "4    [Metadata:, Date: 2017-02-03, File number:, CE...   \n",
       "..                                                 ...   \n",
       "667  [Metadata:, Date: 2018-12-13, File number:, TS...   \n",
       "668  [Metadata:, Date: 2018-11-23, File number:, TS...   \n",
       "669  [Metadata:, Date: 2018-11-29, File number:, TS...   \n",
       "670  [Metadata:, Date: 2018-12-12, File number:, TS...   \n",
       "671  [Metadata:, Date: 2018-11-20, File number:, TS...   \n",
       "\n",
       "                                              metadata  \\\n",
       "0    Date: 2017-01-18 File number: CEL-62600-16 CEL...   \n",
       "1    Date: 2017-01-09 File number: CEL-62852-16 CEL...   \n",
       "2    Date: 2017-01-09 File number: CEL-63024-16 CEL...   \n",
       "3    Date: 2017-01-20 File number: CEL-63056-16 CEL...   \n",
       "4    Date: 2017-02-03 File number: CEL-63193-16 CEL...   \n",
       "..                                                 ...   \n",
       "667  Date: 2018-12-13 File number: TSL-98918-18-RV ...   \n",
       "668  Date: 2018-11-23 File number: TSL-99691-18 TSL...   \n",
       "669  Date: 2018-11-29 File number: TSL-99824-18 TSL...   \n",
       "670  Date: 2018-12-12 File number: TSL-99900-18 TSL...   \n",
       "671  Date: 2018-11-20 File number: TSL-99965-18 TSL...   \n",
       "\n",
       "                                               content  \\\n",
       "0    Arrears Worksheet File Number: CEL-62600-16 Ti...   \n",
       "1    Arrears Worksheet File Number: CEL-62852-16 Ti...   \n",
       "2    Arrears Worksheet File Number: CEL-63024-16 Ti...   \n",
       "3    Arrears Worksheet File Number: CEL-63056-16 Ti...   \n",
       "4    Arrears Worksheet File Number: CEL-63193-16 Ti...   \n",
       "..                                                 ...   \n",
       "667  Order under Section 21.2 of the Statutory Powe...   \n",
       "668  Order under Section 69 Residential Tenancies A...   \n",
       "669  Order under Section 69 Residential Tenancies A...   \n",
       "670  Order under Section 69 Residential Tenancies A...   \n",
       "671  Order under Section 69 Residential Tenancies A...   \n",
       "\n",
       "                                              citation      file_number  \n",
       "0         CEL-62600-16 (Re), 2017 CanLII 9545 (ON LTB)     CEL-62600-16  \n",
       "1         CEL-62852-16 (Re), 2017 CanLII 9535 (ON LTB)     CEL-62852-16  \n",
       "2         CEL-63024-16 (Re), 2017 CanLII 9543 (ON LTB)     CEL-63024-16  \n",
       "3         CEL-63056-16 (Re), 2017 CanLII 9537 (ON LTB)     CEL-63056-16  \n",
       "4        CEL-63193-16 (Re), 2017 CanLII 30828 (ON LTB)     CEL-63193-16  \n",
       "..                                                 ...              ...  \n",
       "667  TSL-98918-18-RV (Re), 2018 CanLII 141679 (ON LTB)  TSL-98918-18-RV  \n",
       "668     TSL-99691-18 (Re), 2018 CanLII 141675 (ON LTB)     TSL-99691-18  \n",
       "669     TSL-99824-18 (Re), 2018 CanLII 141673 (ON LTB)     TSL-99824-18  \n",
       "670     TSL-99900-18 (Re), 2018 CanLII 140403 (ON LTB)     TSL-99900-18  \n",
       "671     TSL-99965-18 (Re), 2018 CanLII 141672 (ON LTB)     TSL-99965-18  \n",
       "\n",
       "[672 rows x 5 columns]"
      ]
     },
     "execution_count": 39,
     "metadata": {},
     "output_type": "execute_result"
    }
   ],
   "source": [
    "for row in silver_df.index:\n",
    "    silver_df.loc[row, 'citation'] = get_case_citation(silver_df.loc[row, 'metadata'])\n",
    "    silver_df.loc[row, 'file_number'] = get_file_number(silver_df.loc[row, 'metadata'])\n",
    "\n",
    "silver_df"
   ]
  },
  {
   "cell_type": "code",
   "execution_count": 40,
   "metadata": {},
   "outputs": [],
   "source": [
    "from sklearn.metrics import classification_report, f1_score, accuracy_score, precision_score, recall_score\n",
    "from jellyfish import jaro_winkler_similarity\n",
    "import plotly.express as px"
   ]
  },
  {
   "cell_type": "code",
   "execution_count": 41,
   "metadata": {},
   "outputs": [],
   "source": [
    "def eval(y_pred: list, y_true: list, metric: str = \"accuracy\"):\n",
    "\n",
    "    assert len(y_true) == len(y_pred), f\"The two lists must be the same length.\\n\\tlen(y_pred) == {len(y_pred)}, len(y_true) == {len(y_true)}\"\n",
    "\n",
    "    if metric == \"accuracy\": # accuracy\n",
    "        return(accuracy_score(y_true = y_true, y_pred = y_pred))\n",
    "\n",
    "    if metric == \"precision\": # recall\n",
    "        return(precision_score(y_true = y_true, y_pred = y_pred, average = \"weighted\", zero_division = 1))\n",
    "\n",
    "    if metric == \"recall\": # recall\n",
    "        return(recall_score(y_true = y_true, y_pred = y_pred, average = \"weighted\", zero_division = 1))\n",
    "\n",
    "    if metric == \"f1 score\": # f1 score\n",
    "        return(f1_score(y_true = y_true, y_pred = y_pred, average = \"weighted\"))\n",
    "\n",
    "    if metric == \"cr\": # classification report\n",
    "        return(classification_report(y_true = y_true, y_pred = y_pred))\n",
    "\n",
    "    if metric == \"Jaro-Winkler Similarity\": # Jaro-Winkler Similarity similarity with 0.7 threshold\n",
    "        total_above_thresh = 0\n",
    "        threshold = 0.7\n",
    "        for true, pred in zip(y_true, y_pred):\n",
    "            jw_score = jaro_winkler_similarity(true, pred)\n",
    "            if jw_score >= threshold:\n",
    "                total_above_thresh += 1\n",
    "        return(total_above_thresh / len(y_true)) # number above threshold"
   ]
  },
  {
   "cell_type": "code",
   "execution_count": 42,
   "metadata": {},
   "outputs": [
    {
     "name": "stdout",
     "output_type": "stream",
     "text": [
      "Index(['raw_file_text', 'raw_file_name', 'full_cleaned', 'metadata', 'content',\n",
      "       'case_citation', 'file_number', 'language', 'year', 'ltb_location',\n",
      "       'decision_date', 'hearing_date', 'url', 'adjudicating_member',\n",
      "       'new_case_outcome', 'new_hearing_date', 'new_decision_date'],\n",
      "      dtype='object')\n",
      "Index(['full_cleaned', 'metadata', 'content', 'citation', 'file_number'], dtype='object')\n"
     ]
    }
   ],
   "source": [
    "print(gold_df.columns)\n",
    "print(silver_df.columns)"
   ]
  },
  {
   "cell_type": "code",
   "execution_count": 43,
   "metadata": {},
   "outputs": [],
   "source": [
    "results = {}\n",
    "results['extraction'] = []\n",
    "results['metric'] = []\n",
    "results['score'] = []"
   ]
  },
  {
   "cell_type": "code",
   "execution_count": 44,
   "metadata": {},
   "outputs": [
    {
     "data": {
      "application/vnd.plotly.v1+json": {
       "config": {
        "plotlyServerURL": "https://plot.ly"
       },
       "data": [
        {
         "alignmentgroup": "True",
         "hovertemplate": "extraction=file number<br>metric=%{x}<br>score=%{y}<extra></extra>",
         "legendgroup": "file number",
         "marker": {
          "color": "#636efa",
          "pattern": {
           "shape": ""
          }
         },
         "name": "file number",
         "offsetgroup": "file number",
         "orientation": "v",
         "showlegend": true,
         "textposition": "auto",
         "type": "bar",
         "x": [
          "accuracy",
          "precision",
          "recall",
          "f1 score",
          "Jaro-Winkler Similarity"
         ],
         "xaxis": "x",
         "y": [
          0.96875,
          1,
          0.96875,
          0.96875,
          0.9970238095238095
         ],
         "yaxis": "y"
        }
       ],
       "layout": {
        "barmode": "relative",
        "legend": {
         "title": {
          "text": "extraction"
         },
         "tracegroupgap": 0
        },
        "template": {
         "data": {
          "bar": [
           {
            "error_x": {
             "color": "#2a3f5f"
            },
            "error_y": {
             "color": "#2a3f5f"
            },
            "marker": {
             "line": {
              "color": "#E5ECF6",
              "width": 0.5
             },
             "pattern": {
              "fillmode": "overlay",
              "size": 10,
              "solidity": 0.2
             }
            },
            "type": "bar"
           }
          ],
          "barpolar": [
           {
            "marker": {
             "line": {
              "color": "#E5ECF6",
              "width": 0.5
             },
             "pattern": {
              "fillmode": "overlay",
              "size": 10,
              "solidity": 0.2
             }
            },
            "type": "barpolar"
           }
          ],
          "carpet": [
           {
            "aaxis": {
             "endlinecolor": "#2a3f5f",
             "gridcolor": "white",
             "linecolor": "white",
             "minorgridcolor": "white",
             "startlinecolor": "#2a3f5f"
            },
            "baxis": {
             "endlinecolor": "#2a3f5f",
             "gridcolor": "white",
             "linecolor": "white",
             "minorgridcolor": "white",
             "startlinecolor": "#2a3f5f"
            },
            "type": "carpet"
           }
          ],
          "choropleth": [
           {
            "colorbar": {
             "outlinewidth": 0,
             "ticks": ""
            },
            "type": "choropleth"
           }
          ],
          "contour": [
           {
            "colorbar": {
             "outlinewidth": 0,
             "ticks": ""
            },
            "colorscale": [
             [
              0,
              "#0d0887"
             ],
             [
              0.1111111111111111,
              "#46039f"
             ],
             [
              0.2222222222222222,
              "#7201a8"
             ],
             [
              0.3333333333333333,
              "#9c179e"
             ],
             [
              0.4444444444444444,
              "#bd3786"
             ],
             [
              0.5555555555555556,
              "#d8576b"
             ],
             [
              0.6666666666666666,
              "#ed7953"
             ],
             [
              0.7777777777777778,
              "#fb9f3a"
             ],
             [
              0.8888888888888888,
              "#fdca26"
             ],
             [
              1,
              "#f0f921"
             ]
            ],
            "type": "contour"
           }
          ],
          "contourcarpet": [
           {
            "colorbar": {
             "outlinewidth": 0,
             "ticks": ""
            },
            "type": "contourcarpet"
           }
          ],
          "heatmap": [
           {
            "colorbar": {
             "outlinewidth": 0,
             "ticks": ""
            },
            "colorscale": [
             [
              0,
              "#0d0887"
             ],
             [
              0.1111111111111111,
              "#46039f"
             ],
             [
              0.2222222222222222,
              "#7201a8"
             ],
             [
              0.3333333333333333,
              "#9c179e"
             ],
             [
              0.4444444444444444,
              "#bd3786"
             ],
             [
              0.5555555555555556,
              "#d8576b"
             ],
             [
              0.6666666666666666,
              "#ed7953"
             ],
             [
              0.7777777777777778,
              "#fb9f3a"
             ],
             [
              0.8888888888888888,
              "#fdca26"
             ],
             [
              1,
              "#f0f921"
             ]
            ],
            "type": "heatmap"
           }
          ],
          "heatmapgl": [
           {
            "colorbar": {
             "outlinewidth": 0,
             "ticks": ""
            },
            "colorscale": [
             [
              0,
              "#0d0887"
             ],
             [
              0.1111111111111111,
              "#46039f"
             ],
             [
              0.2222222222222222,
              "#7201a8"
             ],
             [
              0.3333333333333333,
              "#9c179e"
             ],
             [
              0.4444444444444444,
              "#bd3786"
             ],
             [
              0.5555555555555556,
              "#d8576b"
             ],
             [
              0.6666666666666666,
              "#ed7953"
             ],
             [
              0.7777777777777778,
              "#fb9f3a"
             ],
             [
              0.8888888888888888,
              "#fdca26"
             ],
             [
              1,
              "#f0f921"
             ]
            ],
            "type": "heatmapgl"
           }
          ],
          "histogram": [
           {
            "marker": {
             "pattern": {
              "fillmode": "overlay",
              "size": 10,
              "solidity": 0.2
             }
            },
            "type": "histogram"
           }
          ],
          "histogram2d": [
           {
            "colorbar": {
             "outlinewidth": 0,
             "ticks": ""
            },
            "colorscale": [
             [
              0,
              "#0d0887"
             ],
             [
              0.1111111111111111,
              "#46039f"
             ],
             [
              0.2222222222222222,
              "#7201a8"
             ],
             [
              0.3333333333333333,
              "#9c179e"
             ],
             [
              0.4444444444444444,
              "#bd3786"
             ],
             [
              0.5555555555555556,
              "#d8576b"
             ],
             [
              0.6666666666666666,
              "#ed7953"
             ],
             [
              0.7777777777777778,
              "#fb9f3a"
             ],
             [
              0.8888888888888888,
              "#fdca26"
             ],
             [
              1,
              "#f0f921"
             ]
            ],
            "type": "histogram2d"
           }
          ],
          "histogram2dcontour": [
           {
            "colorbar": {
             "outlinewidth": 0,
             "ticks": ""
            },
            "colorscale": [
             [
              0,
              "#0d0887"
             ],
             [
              0.1111111111111111,
              "#46039f"
             ],
             [
              0.2222222222222222,
              "#7201a8"
             ],
             [
              0.3333333333333333,
              "#9c179e"
             ],
             [
              0.4444444444444444,
              "#bd3786"
             ],
             [
              0.5555555555555556,
              "#d8576b"
             ],
             [
              0.6666666666666666,
              "#ed7953"
             ],
             [
              0.7777777777777778,
              "#fb9f3a"
             ],
             [
              0.8888888888888888,
              "#fdca26"
             ],
             [
              1,
              "#f0f921"
             ]
            ],
            "type": "histogram2dcontour"
           }
          ],
          "mesh3d": [
           {
            "colorbar": {
             "outlinewidth": 0,
             "ticks": ""
            },
            "type": "mesh3d"
           }
          ],
          "parcoords": [
           {
            "line": {
             "colorbar": {
              "outlinewidth": 0,
              "ticks": ""
             }
            },
            "type": "parcoords"
           }
          ],
          "pie": [
           {
            "automargin": true,
            "type": "pie"
           }
          ],
          "scatter": [
           {
            "fillpattern": {
             "fillmode": "overlay",
             "size": 10,
             "solidity": 0.2
            },
            "type": "scatter"
           }
          ],
          "scatter3d": [
           {
            "line": {
             "colorbar": {
              "outlinewidth": 0,
              "ticks": ""
             }
            },
            "marker": {
             "colorbar": {
              "outlinewidth": 0,
              "ticks": ""
             }
            },
            "type": "scatter3d"
           }
          ],
          "scattercarpet": [
           {
            "marker": {
             "colorbar": {
              "outlinewidth": 0,
              "ticks": ""
             }
            },
            "type": "scattercarpet"
           }
          ],
          "scattergeo": [
           {
            "marker": {
             "colorbar": {
              "outlinewidth": 0,
              "ticks": ""
             }
            },
            "type": "scattergeo"
           }
          ],
          "scattergl": [
           {
            "marker": {
             "colorbar": {
              "outlinewidth": 0,
              "ticks": ""
             }
            },
            "type": "scattergl"
           }
          ],
          "scattermapbox": [
           {
            "marker": {
             "colorbar": {
              "outlinewidth": 0,
              "ticks": ""
             }
            },
            "type": "scattermapbox"
           }
          ],
          "scatterpolar": [
           {
            "marker": {
             "colorbar": {
              "outlinewidth": 0,
              "ticks": ""
             }
            },
            "type": "scatterpolar"
           }
          ],
          "scatterpolargl": [
           {
            "marker": {
             "colorbar": {
              "outlinewidth": 0,
              "ticks": ""
             }
            },
            "type": "scatterpolargl"
           }
          ],
          "scatterternary": [
           {
            "marker": {
             "colorbar": {
              "outlinewidth": 0,
              "ticks": ""
             }
            },
            "type": "scatterternary"
           }
          ],
          "surface": [
           {
            "colorbar": {
             "outlinewidth": 0,
             "ticks": ""
            },
            "colorscale": [
             [
              0,
              "#0d0887"
             ],
             [
              0.1111111111111111,
              "#46039f"
             ],
             [
              0.2222222222222222,
              "#7201a8"
             ],
             [
              0.3333333333333333,
              "#9c179e"
             ],
             [
              0.4444444444444444,
              "#bd3786"
             ],
             [
              0.5555555555555556,
              "#d8576b"
             ],
             [
              0.6666666666666666,
              "#ed7953"
             ],
             [
              0.7777777777777778,
              "#fb9f3a"
             ],
             [
              0.8888888888888888,
              "#fdca26"
             ],
             [
              1,
              "#f0f921"
             ]
            ],
            "type": "surface"
           }
          ],
          "table": [
           {
            "cells": {
             "fill": {
              "color": "#EBF0F8"
             },
             "line": {
              "color": "white"
             }
            },
            "header": {
             "fill": {
              "color": "#C8D4E3"
             },
             "line": {
              "color": "white"
             }
            },
            "type": "table"
           }
          ]
         },
         "layout": {
          "annotationdefaults": {
           "arrowcolor": "#2a3f5f",
           "arrowhead": 0,
           "arrowwidth": 1
          },
          "autotypenumbers": "strict",
          "coloraxis": {
           "colorbar": {
            "outlinewidth": 0,
            "ticks": ""
           }
          },
          "colorscale": {
           "diverging": [
            [
             0,
             "#8e0152"
            ],
            [
             0.1,
             "#c51b7d"
            ],
            [
             0.2,
             "#de77ae"
            ],
            [
             0.3,
             "#f1b6da"
            ],
            [
             0.4,
             "#fde0ef"
            ],
            [
             0.5,
             "#f7f7f7"
            ],
            [
             0.6,
             "#e6f5d0"
            ],
            [
             0.7,
             "#b8e186"
            ],
            [
             0.8,
             "#7fbc41"
            ],
            [
             0.9,
             "#4d9221"
            ],
            [
             1,
             "#276419"
            ]
           ],
           "sequential": [
            [
             0,
             "#0d0887"
            ],
            [
             0.1111111111111111,
             "#46039f"
            ],
            [
             0.2222222222222222,
             "#7201a8"
            ],
            [
             0.3333333333333333,
             "#9c179e"
            ],
            [
             0.4444444444444444,
             "#bd3786"
            ],
            [
             0.5555555555555556,
             "#d8576b"
            ],
            [
             0.6666666666666666,
             "#ed7953"
            ],
            [
             0.7777777777777778,
             "#fb9f3a"
            ],
            [
             0.8888888888888888,
             "#fdca26"
            ],
            [
             1,
             "#f0f921"
            ]
           ],
           "sequentialminus": [
            [
             0,
             "#0d0887"
            ],
            [
             0.1111111111111111,
             "#46039f"
            ],
            [
             0.2222222222222222,
             "#7201a8"
            ],
            [
             0.3333333333333333,
             "#9c179e"
            ],
            [
             0.4444444444444444,
             "#bd3786"
            ],
            [
             0.5555555555555556,
             "#d8576b"
            ],
            [
             0.6666666666666666,
             "#ed7953"
            ],
            [
             0.7777777777777778,
             "#fb9f3a"
            ],
            [
             0.8888888888888888,
             "#fdca26"
            ],
            [
             1,
             "#f0f921"
            ]
           ]
          },
          "colorway": [
           "#636efa",
           "#EF553B",
           "#00cc96",
           "#ab63fa",
           "#FFA15A",
           "#19d3f3",
           "#FF6692",
           "#B6E880",
           "#FF97FF",
           "#FECB52"
          ],
          "font": {
           "color": "#2a3f5f"
          },
          "geo": {
           "bgcolor": "white",
           "lakecolor": "white",
           "landcolor": "#E5ECF6",
           "showlakes": true,
           "showland": true,
           "subunitcolor": "white"
          },
          "hoverlabel": {
           "align": "left"
          },
          "hovermode": "closest",
          "mapbox": {
           "style": "light"
          },
          "paper_bgcolor": "white",
          "plot_bgcolor": "#E5ECF6",
          "polar": {
           "angularaxis": {
            "gridcolor": "white",
            "linecolor": "white",
            "ticks": ""
           },
           "bgcolor": "#E5ECF6",
           "radialaxis": {
            "gridcolor": "white",
            "linecolor": "white",
            "ticks": ""
           }
          },
          "scene": {
           "xaxis": {
            "backgroundcolor": "#E5ECF6",
            "gridcolor": "white",
            "gridwidth": 2,
            "linecolor": "white",
            "showbackground": true,
            "ticks": "",
            "zerolinecolor": "white"
           },
           "yaxis": {
            "backgroundcolor": "#E5ECF6",
            "gridcolor": "white",
            "gridwidth": 2,
            "linecolor": "white",
            "showbackground": true,
            "ticks": "",
            "zerolinecolor": "white"
           },
           "zaxis": {
            "backgroundcolor": "#E5ECF6",
            "gridcolor": "white",
            "gridwidth": 2,
            "linecolor": "white",
            "showbackground": true,
            "ticks": "",
            "zerolinecolor": "white"
           }
          },
          "shapedefaults": {
           "line": {
            "color": "#2a3f5f"
           }
          },
          "ternary": {
           "aaxis": {
            "gridcolor": "white",
            "linecolor": "white",
            "ticks": ""
           },
           "baxis": {
            "gridcolor": "white",
            "linecolor": "white",
            "ticks": ""
           },
           "bgcolor": "#E5ECF6",
           "caxis": {
            "gridcolor": "white",
            "linecolor": "white",
            "ticks": ""
           }
          },
          "title": {
           "x": 0.05
          },
          "xaxis": {
           "automargin": true,
           "gridcolor": "white",
           "linecolor": "white",
           "ticks": "",
           "title": {
            "standoff": 15
           },
           "zerolinecolor": "white",
           "zerolinewidth": 2
          },
          "yaxis": {
           "automargin": true,
           "gridcolor": "white",
           "linecolor": "white",
           "ticks": "",
           "title": {
            "standoff": 15
           },
           "zerolinecolor": "white",
           "zerolinewidth": 2
          }
         }
        },
        "title": {
         "text": "Extraction Metrics"
        },
        "xaxis": {
         "anchor": "y",
         "domain": [
          0,
          1
         ],
         "title": {
          "text": "metric"
         }
        },
        "yaxis": {
         "anchor": "x",
         "domain": [
          0,
          1
         ],
         "title": {
          "text": "score"
         }
        }
       }
      }
     },
     "metadata": {},
     "output_type": "display_data"
    }
   ],
   "source": [
    "for metric in [\"accuracy\", \"precision\", \"recall\", \"f1 score\", \"Jaro-Winkler Similarity\"]:\n",
    "    results[\"extraction\"].append(\"file number\")\n",
    "    results['metric'].append(metric)\n",
    "    results['score'].append(eval(y_pred = silver_df['file_number'], y_true = gold_df['file_number'], metric = metric))\n",
    "\n",
    "# pd.DataFrame(results)\n",
    "\n",
    "# Create the bar chart using Plotly Express\n",
    "fig = px.bar(pd.DataFrame(results),\n",
    "             x = 'metric',\n",
    "             y = 'score',\n",
    "             title = 'Extraction Metrics',\n",
    "             color = \"extraction\")\n",
    "\n",
    "# Display the chart\n",
    "fig.show()"
   ]
  },
  {
   "attachments": {},
   "cell_type": "markdown",
   "metadata": {},
   "source": [
    "# LTB Location"
   ]
  },
  {
   "cell_type": "code",
   "execution_count": 45,
   "metadata": {},
   "outputs": [],
   "source": [
    "import re\n",
    "\n",
    "def find_all_positions(text: str, keyword: str):\n",
    "    \"\"\"\n",
    "    Finds all positions of a keyword in a given text.\n",
    "\n",
    "    This function searches for a keyword in a given text and returns a list of positions where the keyword is found.\n",
    "\n",
    "    Parameters\n",
    "    ----------\n",
    "    text : str\n",
    "        The text to search within.\n",
    "    keyword : str\n",
    "        The keyword to find in the text.\n",
    "\n",
    "    Returns\n",
    "    -------\n",
    "    list\n",
    "        A list of integers representing the positions of the keyword in the text.\n",
    "\n",
    "    Examples\n",
    "    --------\n",
    "    >>> find_all_positions(\"This is an example sentence.\", \"example\")\n",
    "    [11]\n",
    "    \"\"\"\n",
    "    positions = []\n",
    "    start = 0\n",
    "    while True:\n",
    "        index = text.find(keyword, start)\n",
    "        if index == -1:\n",
    "            break\n",
    "        positions.append(index)\n",
    "        start = index + 1\n",
    "    return positions\n",
    "\n",
    "def get_postal_code(text: str):\n",
    "    \"\"\"\n",
    "    Finds a postal code in the format \"L4Z2G5\" within the given text.\n",
    "\n",
    "    Args:\n",
    "        text (str): The input text to search for a postal code.\n",
    "\n",
    "    Returns:\n",
    "        str: The postal code found in the text. Returns an empty string if no postal code is found.\n",
    "\n",
    "    Examples:\n",
    "        >>> find_postal_code(\"This is a sample text with a postal code L4Z2G5.\")\n",
    "        \"L4Z2G5\"\n",
    "    \"\"\"\n",
    "\n",
    "    pattern = r\"\\b[A-Za-z]\\d[A-Za-z]\\d[A-Za-z]\\d\\b\"\n",
    "    match = re.search(pattern, text)\n",
    "\n",
    "    if match:\n",
    "        return match.group()\n",
    "    else:\n",
    "        return None\n",
    "\n",
    "def find_closest_subset(text: str, keywords: list):\n",
    "    \"\"\"\n",
    "    Finds a subset of the given text where a date and any of the given keywords appear with the smallest distance between them,\n",
    "    but only if the subset appears before the word \"determination\" in the lowercase text and does not contain the word \"member\".\n",
    "\n",
    "    Args:\n",
    "        text (str): The input text to search for the subset.\n",
    "        keywords (list): The list of keywords to search for.\n",
    "\n",
    "    Returns:\n",
    "        tuple: A tuple containing the subset of the text where the date and keyword appear with the smallest distance between them,\n",
    "               and the corresponding keyword. Returns an empty string and None if no match is found or if the subset appears after \"determination\"\n",
    "               or contains the word \"member\".\n",
    "\n",
    "    Examples:\n",
    "        >>> find_closest_subset(\"The event will take place on April 23, 2018. The application was heard on April 25, 2018.\", [\"heard\", \"event\"])\n",
    "        (\"The event will take place on April 23, 2018.\", \"event\")\n",
    "\n",
    "    \"\"\"\n",
    "\n",
    "    pattern = r\"\\b[A-Z][a-z]+ \\d{1,2}, \\d{4}\\b\"\n",
    "    date_matches = re.findall(pattern, text)\n",
    "    keyword_positions = [(m.start(), m.end(), keyword) for keyword in keywords for m in re.finditer(keyword, text)]\n",
    "\n",
    "    if not date_matches or not keyword_positions:\n",
    "        return \"\", None\n",
    "\n",
    "    smallest_distance = float('inf')\n",
    "    best_subset = \"\"\n",
    "    best_keyword = None\n",
    "    \n",
    "    for date in date_matches:\n",
    "        for start, end, keyword in keyword_positions:\n",
    "            distance = abs(start - text.find(date))\n",
    "            subset = text[min(start, text.find(date)): max(end, text.find(date))]\n",
    "\n",
    "            if distance < smallest_distance and text.lower().find(best_subset.lower()) < (text.lower().find(\"determination\") or text.lower().find(\"it is determinatined that\")) and (\"member\" or \"with the request to review\") not in subset.lower():\n",
    "                smallest_distance = distance\n",
    "                best_subset = subset\n",
    "                best_keyword = keyword\n",
    "\n",
    "    if text.lower().find(best_subset.lower()) >= text.lower().find(\"determination\") or \"member\" in best_subset.lower():\n",
    "        return \"\", None\n",
    "\n",
    "    return best_subset, best_keyword\n",
    "\n",
    "\n",
    "def get_ltb_location_by_postal_code(case_content_str: str):\n",
    "    \"\"\"\n",
    "    Helps to extract the location information from the given case content string using postal code lookup.\n",
    "\n",
    "    Args:\n",
    "        case_content_str (str): The case content string to extract the location from.\n",
    "\n",
    "    Returns:\n",
    "        str or None: Subset of text from the passed case string wherein the location appears near the postal code.\n",
    "\n",
    "    Examples:\n",
    "        >>> get_ltb_location_by_postal_code(\"The application was heard at L4Z 2G5.\")\n",
    "        \"Mississauga\"\n",
    "    \"\"\"\n",
    "\n",
    "    # if there isn't a postal code, return None right away\n",
    "    if not get_postal_code(case_content_str):\n",
    "        return None\n",
    "\n",
    "    pc_idx = case_content_str.find(get_postal_code(case_content_str))\n",
    "    subset = case_content_str[pc_idx - 30 : pc_idx]\n",
    "\n",
    "    if \"ON\" in subset:\n",
    "        subset = subset.split(\"ON\")[:-1]\n",
    "    elif \"Ontario\" in subset:\n",
    "        subset = subset.split(\"Ontario\")[:-1]\n",
    "\n",
    "    subset = \" \".join(subset)\n",
    "    \n",
    "    if \"floor\" in subset.lower():\n",
    "        floor_idx = subset.lower().find(\"floor\")\n",
    "        # print(floor_idx)\n",
    "        subset = subset[floor_idx + len(\"floor\") :].strip()\n",
    "    \n",
    "    return subset\n",
    "\n",
    "def get_ltb_location(case_content_str: str):\n",
    "    \"\"\"\n",
    "    Extracts the location information from the given case content string.\n",
    "\n",
    "    Args:\n",
    "        case_content_str (str): The case content string to extract the location from.\n",
    "\n",
    "    Returns:\n",
    "        str or None: The extracted location information if found, otherwise None.\n",
    "\n",
    "    Examples:\n",
    "        >>> get_ltb_location(\"The application was heard in Newmarket.\")\n",
    "        \"Newmarket\"\n",
    "    \"\"\"\n",
    "\n",
    "    keywords = [\"application was heard\", \"applications were heard\", \"was heard\", \"were heard together\",\n",
    "                \"was held\", \"set to be heard\",\n",
    "                # \"heard by telephone\", \"heard by teleconference\", \"heard via teleconference\",\n",
    "                \"heard by\", \"heard by\", \"heard via\",\n",
    "                \"motion were heard\", \"motion was heard\", \"came before the board in\",\n",
    "                \"was then heard in\", \"were then heard in\"]\n",
    "\n",
    "    subset, keyword = find_closest_subset(text = case_content_str, keywords = keywords)\n",
    "\n",
    "    if subset:\n",
    "        subset = subset.replace(keyword, \"\")\n",
    "        subset = subset.split()\n",
    "        subset = [tok for tok in subset if tok not in ['in', 'on', 'via', 'together', 'by']]\n",
    "        subset = \" \".join(subset).strip()\n",
    "        subset = subset.replace(\"With The Request To Review\", \"\")\n",
    "\n",
    "    if subset: # sometimes the hearing location is redacted and replaced with [CITY]\n",
    "        if str(subset) != \"[CITY]\":\n",
    "            return subset.title().replace(\"And Avenue, Unit 2 \", \"\").strip()\n",
    "\n",
    "    # otherwise, go by postal code\n",
    "    subset = get_ltb_location_by_postal_code(case_content_str = case_content_str)\n",
    "    if subset:\n",
    "        return subset.title().replace(\"And Avenue, Unit 2 \", \"\").strip()\n",
    "    else:\n",
    "        return None"
   ]
  },
  {
   "cell_type": "code",
   "execution_count": 46,
   "metadata": {},
   "outputs": [
    {
     "data": {
      "text/html": [
       "<div>\n",
       "<style scoped>\n",
       "    .dataframe tbody tr th:only-of-type {\n",
       "        vertical-align: middle;\n",
       "    }\n",
       "\n",
       "    .dataframe tbody tr th {\n",
       "        vertical-align: top;\n",
       "    }\n",
       "\n",
       "    .dataframe thead th {\n",
       "        text-align: right;\n",
       "    }\n",
       "</style>\n",
       "<table border=\"1\" class=\"dataframe\">\n",
       "  <thead>\n",
       "    <tr style=\"text-align: right;\">\n",
       "      <th></th>\n",
       "      <th>full_cleaned</th>\n",
       "      <th>metadata</th>\n",
       "      <th>content</th>\n",
       "      <th>citation</th>\n",
       "      <th>file_number</th>\n",
       "      <th>ltb_location</th>\n",
       "    </tr>\n",
       "  </thead>\n",
       "  <tbody>\n",
       "    <tr>\n",
       "      <th>0</th>\n",
       "      <td>[Metadata:, Date: 2017-01-18, File number:, CE...</td>\n",
       "      <td>Date: 2017-01-18 File number: CEL-62600-16 CEL...</td>\n",
       "      <td>Arrears Worksheet File Number: CEL-62600-16 Ti...</td>\n",
       "      <td>CEL-62600-16 (Re), 2017 CanLII 9545 (ON LTB)</td>\n",
       "      <td>CEL-62600-16</td>\n",
       "      <td>Mississauga</td>\n",
       "    </tr>\n",
       "  </tbody>\n",
       "</table>\n",
       "</div>"
      ],
      "text/plain": [
       "                                        full_cleaned  \\\n",
       "0  [Metadata:, Date: 2017-01-18, File number:, CE...   \n",
       "\n",
       "                                            metadata  \\\n",
       "0  Date: 2017-01-18 File number: CEL-62600-16 CEL...   \n",
       "\n",
       "                                             content  \\\n",
       "0  Arrears Worksheet File Number: CEL-62600-16 Ti...   \n",
       "\n",
       "                                       citation   file_number ltb_location  \n",
       "0  CEL-62600-16 (Re), 2017 CanLII 9545 (ON LTB)  CEL-62600-16  Mississauga  "
      ]
     },
     "execution_count": 46,
     "metadata": {},
     "output_type": "execute_result"
    }
   ],
   "source": [
    "for row in silver_df.index:\n",
    "    silver_df.loc[row, 'ltb_location'] = get_ltb_location(silver_df.loc[row, 'content'])\n",
    "\n",
    "silver_df.head(1)"
   ]
  },
  {
   "cell_type": "code",
   "execution_count": 47,
   "metadata": {},
   "outputs": [
    {
     "name": "stdout",
     "output_type": "stream",
     "text": [
      "Index(['raw_file_text', 'raw_file_name', 'full_cleaned', 'metadata', 'content',\n",
      "       'case_citation', 'file_number', 'language', 'year', 'ltb_location',\n",
      "       'decision_date', 'hearing_date', 'url', 'adjudicating_member',\n",
      "       'new_case_outcome', 'new_hearing_date', 'new_decision_date'],\n",
      "      dtype='object')\n",
      "Index(['full_cleaned', 'metadata', 'content', 'citation', 'file_number',\n",
      "       'ltb_location'],\n",
      "      dtype='object')\n"
     ]
    }
   ],
   "source": [
    "print(gold_df.columns)\n",
    "print(silver_df.columns)"
   ]
  },
  {
   "cell_type": "code",
   "execution_count": 48,
   "metadata": {},
   "outputs": [
    {
     "data": {
      "application/vnd.plotly.v1+json": {
       "config": {
        "plotlyServerURL": "https://plot.ly"
       },
       "data": [
        {
         "alignmentgroup": "True",
         "hovertemplate": "extraction=file number<br>metric=%{x}<br>score=%{y}<extra></extra>",
         "legendgroup": "file number",
         "marker": {
          "color": "#636efa",
          "pattern": {
           "shape": ""
          }
         },
         "name": "file number",
         "offsetgroup": "file number",
         "orientation": "v",
         "showlegend": true,
         "textposition": "auto",
         "type": "bar",
         "x": [
          "accuracy",
          "precision",
          "recall",
          "f1 score",
          "Jaro-Winkler Similarity"
         ],
         "xaxis": "x",
         "y": [
          0.96875,
          1,
          0.96875,
          0.96875,
          0.9970238095238095
         ],
         "yaxis": "y"
        },
        {
         "alignmentgroup": "True",
         "hovertemplate": "extraction=ltb location<br>metric=%{x}<br>score=%{y}<extra></extra>",
         "legendgroup": "ltb location",
         "marker": {
          "color": "#EF553B",
          "pattern": {
           "shape": ""
          }
         },
         "name": "ltb location",
         "offsetgroup": "ltb location",
         "orientation": "v",
         "showlegend": true,
         "textposition": "auto",
         "type": "bar",
         "x": [
          "accuracy",
          "precision",
          "recall",
          "f1 score",
          "Jaro-Winkler Similarity"
         ],
         "xaxis": "x",
         "y": [
          0.9523809523809523,
          0.9821854097277184,
          0.9523809523809523,
          0.9512205981425629,
          0.9538690476190477
         ],
         "yaxis": "y"
        }
       ],
       "layout": {
        "barmode": "group",
        "legend": {
         "title": {
          "text": "extraction"
         },
         "tracegroupgap": 0
        },
        "template": {
         "data": {
          "bar": [
           {
            "error_x": {
             "color": "#2a3f5f"
            },
            "error_y": {
             "color": "#2a3f5f"
            },
            "marker": {
             "line": {
              "color": "#E5ECF6",
              "width": 0.5
             },
             "pattern": {
              "fillmode": "overlay",
              "size": 10,
              "solidity": 0.2
             }
            },
            "type": "bar"
           }
          ],
          "barpolar": [
           {
            "marker": {
             "line": {
              "color": "#E5ECF6",
              "width": 0.5
             },
             "pattern": {
              "fillmode": "overlay",
              "size": 10,
              "solidity": 0.2
             }
            },
            "type": "barpolar"
           }
          ],
          "carpet": [
           {
            "aaxis": {
             "endlinecolor": "#2a3f5f",
             "gridcolor": "white",
             "linecolor": "white",
             "minorgridcolor": "white",
             "startlinecolor": "#2a3f5f"
            },
            "baxis": {
             "endlinecolor": "#2a3f5f",
             "gridcolor": "white",
             "linecolor": "white",
             "minorgridcolor": "white",
             "startlinecolor": "#2a3f5f"
            },
            "type": "carpet"
           }
          ],
          "choropleth": [
           {
            "colorbar": {
             "outlinewidth": 0,
             "ticks": ""
            },
            "type": "choropleth"
           }
          ],
          "contour": [
           {
            "colorbar": {
             "outlinewidth": 0,
             "ticks": ""
            },
            "colorscale": [
             [
              0,
              "#0d0887"
             ],
             [
              0.1111111111111111,
              "#46039f"
             ],
             [
              0.2222222222222222,
              "#7201a8"
             ],
             [
              0.3333333333333333,
              "#9c179e"
             ],
             [
              0.4444444444444444,
              "#bd3786"
             ],
             [
              0.5555555555555556,
              "#d8576b"
             ],
             [
              0.6666666666666666,
              "#ed7953"
             ],
             [
              0.7777777777777778,
              "#fb9f3a"
             ],
             [
              0.8888888888888888,
              "#fdca26"
             ],
             [
              1,
              "#f0f921"
             ]
            ],
            "type": "contour"
           }
          ],
          "contourcarpet": [
           {
            "colorbar": {
             "outlinewidth": 0,
             "ticks": ""
            },
            "type": "contourcarpet"
           }
          ],
          "heatmap": [
           {
            "colorbar": {
             "outlinewidth": 0,
             "ticks": ""
            },
            "colorscale": [
             [
              0,
              "#0d0887"
             ],
             [
              0.1111111111111111,
              "#46039f"
             ],
             [
              0.2222222222222222,
              "#7201a8"
             ],
             [
              0.3333333333333333,
              "#9c179e"
             ],
             [
              0.4444444444444444,
              "#bd3786"
             ],
             [
              0.5555555555555556,
              "#d8576b"
             ],
             [
              0.6666666666666666,
              "#ed7953"
             ],
             [
              0.7777777777777778,
              "#fb9f3a"
             ],
             [
              0.8888888888888888,
              "#fdca26"
             ],
             [
              1,
              "#f0f921"
             ]
            ],
            "type": "heatmap"
           }
          ],
          "heatmapgl": [
           {
            "colorbar": {
             "outlinewidth": 0,
             "ticks": ""
            },
            "colorscale": [
             [
              0,
              "#0d0887"
             ],
             [
              0.1111111111111111,
              "#46039f"
             ],
             [
              0.2222222222222222,
              "#7201a8"
             ],
             [
              0.3333333333333333,
              "#9c179e"
             ],
             [
              0.4444444444444444,
              "#bd3786"
             ],
             [
              0.5555555555555556,
              "#d8576b"
             ],
             [
              0.6666666666666666,
              "#ed7953"
             ],
             [
              0.7777777777777778,
              "#fb9f3a"
             ],
             [
              0.8888888888888888,
              "#fdca26"
             ],
             [
              1,
              "#f0f921"
             ]
            ],
            "type": "heatmapgl"
           }
          ],
          "histogram": [
           {
            "marker": {
             "pattern": {
              "fillmode": "overlay",
              "size": 10,
              "solidity": 0.2
             }
            },
            "type": "histogram"
           }
          ],
          "histogram2d": [
           {
            "colorbar": {
             "outlinewidth": 0,
             "ticks": ""
            },
            "colorscale": [
             [
              0,
              "#0d0887"
             ],
             [
              0.1111111111111111,
              "#46039f"
             ],
             [
              0.2222222222222222,
              "#7201a8"
             ],
             [
              0.3333333333333333,
              "#9c179e"
             ],
             [
              0.4444444444444444,
              "#bd3786"
             ],
             [
              0.5555555555555556,
              "#d8576b"
             ],
             [
              0.6666666666666666,
              "#ed7953"
             ],
             [
              0.7777777777777778,
              "#fb9f3a"
             ],
             [
              0.8888888888888888,
              "#fdca26"
             ],
             [
              1,
              "#f0f921"
             ]
            ],
            "type": "histogram2d"
           }
          ],
          "histogram2dcontour": [
           {
            "colorbar": {
             "outlinewidth": 0,
             "ticks": ""
            },
            "colorscale": [
             [
              0,
              "#0d0887"
             ],
             [
              0.1111111111111111,
              "#46039f"
             ],
             [
              0.2222222222222222,
              "#7201a8"
             ],
             [
              0.3333333333333333,
              "#9c179e"
             ],
             [
              0.4444444444444444,
              "#bd3786"
             ],
             [
              0.5555555555555556,
              "#d8576b"
             ],
             [
              0.6666666666666666,
              "#ed7953"
             ],
             [
              0.7777777777777778,
              "#fb9f3a"
             ],
             [
              0.8888888888888888,
              "#fdca26"
             ],
             [
              1,
              "#f0f921"
             ]
            ],
            "type": "histogram2dcontour"
           }
          ],
          "mesh3d": [
           {
            "colorbar": {
             "outlinewidth": 0,
             "ticks": ""
            },
            "type": "mesh3d"
           }
          ],
          "parcoords": [
           {
            "line": {
             "colorbar": {
              "outlinewidth": 0,
              "ticks": ""
             }
            },
            "type": "parcoords"
           }
          ],
          "pie": [
           {
            "automargin": true,
            "type": "pie"
           }
          ],
          "scatter": [
           {
            "fillpattern": {
             "fillmode": "overlay",
             "size": 10,
             "solidity": 0.2
            },
            "type": "scatter"
           }
          ],
          "scatter3d": [
           {
            "line": {
             "colorbar": {
              "outlinewidth": 0,
              "ticks": ""
             }
            },
            "marker": {
             "colorbar": {
              "outlinewidth": 0,
              "ticks": ""
             }
            },
            "type": "scatter3d"
           }
          ],
          "scattercarpet": [
           {
            "marker": {
             "colorbar": {
              "outlinewidth": 0,
              "ticks": ""
             }
            },
            "type": "scattercarpet"
           }
          ],
          "scattergeo": [
           {
            "marker": {
             "colorbar": {
              "outlinewidth": 0,
              "ticks": ""
             }
            },
            "type": "scattergeo"
           }
          ],
          "scattergl": [
           {
            "marker": {
             "colorbar": {
              "outlinewidth": 0,
              "ticks": ""
             }
            },
            "type": "scattergl"
           }
          ],
          "scattermapbox": [
           {
            "marker": {
             "colorbar": {
              "outlinewidth": 0,
              "ticks": ""
             }
            },
            "type": "scattermapbox"
           }
          ],
          "scatterpolar": [
           {
            "marker": {
             "colorbar": {
              "outlinewidth": 0,
              "ticks": ""
             }
            },
            "type": "scatterpolar"
           }
          ],
          "scatterpolargl": [
           {
            "marker": {
             "colorbar": {
              "outlinewidth": 0,
              "ticks": ""
             }
            },
            "type": "scatterpolargl"
           }
          ],
          "scatterternary": [
           {
            "marker": {
             "colorbar": {
              "outlinewidth": 0,
              "ticks": ""
             }
            },
            "type": "scatterternary"
           }
          ],
          "surface": [
           {
            "colorbar": {
             "outlinewidth": 0,
             "ticks": ""
            },
            "colorscale": [
             [
              0,
              "#0d0887"
             ],
             [
              0.1111111111111111,
              "#46039f"
             ],
             [
              0.2222222222222222,
              "#7201a8"
             ],
             [
              0.3333333333333333,
              "#9c179e"
             ],
             [
              0.4444444444444444,
              "#bd3786"
             ],
             [
              0.5555555555555556,
              "#d8576b"
             ],
             [
              0.6666666666666666,
              "#ed7953"
             ],
             [
              0.7777777777777778,
              "#fb9f3a"
             ],
             [
              0.8888888888888888,
              "#fdca26"
             ],
             [
              1,
              "#f0f921"
             ]
            ],
            "type": "surface"
           }
          ],
          "table": [
           {
            "cells": {
             "fill": {
              "color": "#EBF0F8"
             },
             "line": {
              "color": "white"
             }
            },
            "header": {
             "fill": {
              "color": "#C8D4E3"
             },
             "line": {
              "color": "white"
             }
            },
            "type": "table"
           }
          ]
         },
         "layout": {
          "annotationdefaults": {
           "arrowcolor": "#2a3f5f",
           "arrowhead": 0,
           "arrowwidth": 1
          },
          "autotypenumbers": "strict",
          "coloraxis": {
           "colorbar": {
            "outlinewidth": 0,
            "ticks": ""
           }
          },
          "colorscale": {
           "diverging": [
            [
             0,
             "#8e0152"
            ],
            [
             0.1,
             "#c51b7d"
            ],
            [
             0.2,
             "#de77ae"
            ],
            [
             0.3,
             "#f1b6da"
            ],
            [
             0.4,
             "#fde0ef"
            ],
            [
             0.5,
             "#f7f7f7"
            ],
            [
             0.6,
             "#e6f5d0"
            ],
            [
             0.7,
             "#b8e186"
            ],
            [
             0.8,
             "#7fbc41"
            ],
            [
             0.9,
             "#4d9221"
            ],
            [
             1,
             "#276419"
            ]
           ],
           "sequential": [
            [
             0,
             "#0d0887"
            ],
            [
             0.1111111111111111,
             "#46039f"
            ],
            [
             0.2222222222222222,
             "#7201a8"
            ],
            [
             0.3333333333333333,
             "#9c179e"
            ],
            [
             0.4444444444444444,
             "#bd3786"
            ],
            [
             0.5555555555555556,
             "#d8576b"
            ],
            [
             0.6666666666666666,
             "#ed7953"
            ],
            [
             0.7777777777777778,
             "#fb9f3a"
            ],
            [
             0.8888888888888888,
             "#fdca26"
            ],
            [
             1,
             "#f0f921"
            ]
           ],
           "sequentialminus": [
            [
             0,
             "#0d0887"
            ],
            [
             0.1111111111111111,
             "#46039f"
            ],
            [
             0.2222222222222222,
             "#7201a8"
            ],
            [
             0.3333333333333333,
             "#9c179e"
            ],
            [
             0.4444444444444444,
             "#bd3786"
            ],
            [
             0.5555555555555556,
             "#d8576b"
            ],
            [
             0.6666666666666666,
             "#ed7953"
            ],
            [
             0.7777777777777778,
             "#fb9f3a"
            ],
            [
             0.8888888888888888,
             "#fdca26"
            ],
            [
             1,
             "#f0f921"
            ]
           ]
          },
          "colorway": [
           "#636efa",
           "#EF553B",
           "#00cc96",
           "#ab63fa",
           "#FFA15A",
           "#19d3f3",
           "#FF6692",
           "#B6E880",
           "#FF97FF",
           "#FECB52"
          ],
          "font": {
           "color": "#2a3f5f"
          },
          "geo": {
           "bgcolor": "white",
           "lakecolor": "white",
           "landcolor": "#E5ECF6",
           "showlakes": true,
           "showland": true,
           "subunitcolor": "white"
          },
          "hoverlabel": {
           "align": "left"
          },
          "hovermode": "closest",
          "mapbox": {
           "style": "light"
          },
          "paper_bgcolor": "white",
          "plot_bgcolor": "#E5ECF6",
          "polar": {
           "angularaxis": {
            "gridcolor": "white",
            "linecolor": "white",
            "ticks": ""
           },
           "bgcolor": "#E5ECF6",
           "radialaxis": {
            "gridcolor": "white",
            "linecolor": "white",
            "ticks": ""
           }
          },
          "scene": {
           "xaxis": {
            "backgroundcolor": "#E5ECF6",
            "gridcolor": "white",
            "gridwidth": 2,
            "linecolor": "white",
            "showbackground": true,
            "ticks": "",
            "zerolinecolor": "white"
           },
           "yaxis": {
            "backgroundcolor": "#E5ECF6",
            "gridcolor": "white",
            "gridwidth": 2,
            "linecolor": "white",
            "showbackground": true,
            "ticks": "",
            "zerolinecolor": "white"
           },
           "zaxis": {
            "backgroundcolor": "#E5ECF6",
            "gridcolor": "white",
            "gridwidth": 2,
            "linecolor": "white",
            "showbackground": true,
            "ticks": "",
            "zerolinecolor": "white"
           }
          },
          "shapedefaults": {
           "line": {
            "color": "#2a3f5f"
           }
          },
          "ternary": {
           "aaxis": {
            "gridcolor": "white",
            "linecolor": "white",
            "ticks": ""
           },
           "baxis": {
            "gridcolor": "white",
            "linecolor": "white",
            "ticks": ""
           },
           "bgcolor": "#E5ECF6",
           "caxis": {
            "gridcolor": "white",
            "linecolor": "white",
            "ticks": ""
           }
          },
          "title": {
           "x": 0.05
          },
          "xaxis": {
           "automargin": true,
           "gridcolor": "white",
           "linecolor": "white",
           "ticks": "",
           "title": {
            "standoff": 15
           },
           "zerolinecolor": "white",
           "zerolinewidth": 2
          },
          "yaxis": {
           "automargin": true,
           "gridcolor": "white",
           "linecolor": "white",
           "ticks": "",
           "title": {
            "standoff": 15
           },
           "zerolinecolor": "white",
           "zerolinewidth": 2
          }
         }
        },
        "title": {
         "text": "Extraction Metrics"
        },
        "xaxis": {
         "anchor": "y",
         "domain": [
          0,
          1
         ],
         "title": {
          "text": "metric"
         }
        },
        "yaxis": {
         "anchor": "x",
         "domain": [
          0,
          1
         ],
         "title": {
          "text": "score"
         }
        }
       }
      }
     },
     "metadata": {},
     "output_type": "display_data"
    }
   ],
   "source": [
    "gold_df['ltb_location'] = gold_df['ltb_location'].apply(lambda x: str(x))\n",
    "silver_df['ltb_location'] = silver_df['ltb_location'].apply(lambda x: str(x))\n",
    "\n",
    "# results\n",
    "\n",
    "for metric in [\"accuracy\", \"precision\", \"recall\", \"f1 score\", \"Jaro-Winkler Similarity\"]:\n",
    "    results[\"extraction\"].append(\"ltb location\")\n",
    "    results['metric'].append(metric)\n",
    "    results['score'].append(eval(y_pred = silver_df['ltb_location'], y_true = gold_df['ltb_location'], metric = metric))\n",
    "\n",
    "# results\n",
    "\n",
    "# pd.DataFrame(results)\n",
    "\n",
    "# Create the bar chart using Plotly Express\n",
    "fig = px.bar(pd.DataFrame(results),\n",
    "             x = 'metric',\n",
    "             y = 'score',\n",
    "             title = 'Extraction Metrics',\n",
    "             color = \"extraction\",\n",
    "             barmode  = 'group')\n",
    "\n",
    "# Display the chart\n",
    "fig.show()"
   ]
  },
  {
   "attachments": {},
   "cell_type": "markdown",
   "metadata": {},
   "source": [
    "# Hearing Date"
   ]
  },
  {
   "cell_type": "code",
   "execution_count": 49,
   "metadata": {},
   "outputs": [],
   "source": [
    "def find_date(text: str):\n",
    "    \"\"\"\n",
    "    Finds a date in the format \"Month Day, Year\" within the given text.\n",
    "\n",
    "    Args:\n",
    "        text (str): The input text to search for a date.\n",
    "\n",
    "    Returns:\n",
    "        str: The date found in the text. Returns an empty string if no date is found.\n",
    "\n",
    "    Examples:\n",
    "        >>> find_date(\"The event will take place on April 23, 2018.\")\n",
    "        \"April 23, 2018\"\n",
    "    \"\"\"\n",
    "\n",
    "    pattern = r\"\\b[A-Z][a-z]+ \\d{1,2}, \\d{4}\\b\"\n",
    "    match = re.search(pattern, text)\n",
    "\n",
    "    if match:\n",
    "        return match.group()\n",
    "    else:\n",
    "        return \"\"\n",
    "\n",
    "def get_hearing_date(case_content_str: str):\n",
    "    \"\"\"\n",
    "    Extracts the hearing date from the given case content string.\n",
    "\n",
    "    Args:\n",
    "        case_content_str (str): The case content string to extract the hearing date from.\n",
    "\n",
    "    Returns:\n",
    "        str or None: The extracted hearing date in the format \"Month Day, Year\" if found, otherwise None.\n",
    "\n",
    "    Examples:\n",
    "        >>> get_hearing_date(\"The application was heard on April 23, 2018. It is determined that...\")\n",
    "        \"April 23, 2018\"\n",
    "    \"\"\"\n",
    "\n",
    "    for keyword in [\"determinations:\", \"it is determined\"]:\n",
    "        if keyword in case_content_str.lower():\n",
    "            kw_idx = case_content_str.find(keyword)\n",
    "            break\n",
    "        else:\n",
    "            kw_idx = -1\n",
    "\n",
    "    subset = case_content_str[case_content_str.lower().find(\"application\") : kw_idx].strip()\n",
    "    date = find_date(subset)\n",
    "\n",
    "    if date:\n",
    "        return date.strip()\n",
    "        \n",
    "    # otherwise return None\n",
    "    return None"
   ]
  },
  {
   "cell_type": "code",
   "execution_count": 50,
   "metadata": {},
   "outputs": [
    {
     "name": "stdout",
     "output_type": "stream",
     "text": [
      "2/13/2018\n",
      "8/1/2018\n"
     ]
    }
   ],
   "source": [
    "from datetime import datetime\n",
    "\n",
    "def convert_date_format(date_str):\n",
    "    try:\n",
    "        # Parse the date\n",
    "        date = datetime.strptime(date_str, \"%B %d, %Y\")\n",
    "    except ValueError:\n",
    "        # If parsing fails, try parsing with abbreviated month name\n",
    "        date = datetime.strptime(date_str, \"%b %d, %Y\")\n",
    "\n",
    "    # Convert to new format\n",
    "    month = date.strftime(\"%m\").lstrip('0')\n",
    "    day = date.strftime(\"%d\").lstrip('0')\n",
    "    year = date.strftime(\"%Y\")\n",
    "\n",
    "    new_format_date = f\"{month}/{day}/{year}\"\n",
    "\n",
    "    return new_format_date\n",
    "\n",
    "# Usage\n",
    "print(convert_date_format(\"February 13, 2018\"))  # Returns: 2/13/2018\n",
    "print(convert_date_format(\"Aug 1, 2018\"))  # Returns: 8/1/2018"
   ]
  },
  {
   "cell_type": "code",
   "execution_count": 51,
   "metadata": {},
   "outputs": [
    {
     "data": {
      "text/html": [
       "<div>\n",
       "<style scoped>\n",
       "    .dataframe tbody tr th:only-of-type {\n",
       "        vertical-align: middle;\n",
       "    }\n",
       "\n",
       "    .dataframe tbody tr th {\n",
       "        vertical-align: top;\n",
       "    }\n",
       "\n",
       "    .dataframe thead th {\n",
       "        text-align: right;\n",
       "    }\n",
       "</style>\n",
       "<table border=\"1\" class=\"dataframe\">\n",
       "  <thead>\n",
       "    <tr style=\"text-align: right;\">\n",
       "      <th></th>\n",
       "      <th>full_cleaned</th>\n",
       "      <th>metadata</th>\n",
       "      <th>content</th>\n",
       "      <th>citation</th>\n",
       "      <th>file_number</th>\n",
       "      <th>ltb_location</th>\n",
       "      <th>hearing_date</th>\n",
       "    </tr>\n",
       "  </thead>\n",
       "  <tbody>\n",
       "    <tr>\n",
       "      <th>0</th>\n",
       "      <td>[Metadata:, Date: 2017-01-18, File number:, CE...</td>\n",
       "      <td>Date: 2017-01-18 File number: CEL-62600-16 CEL...</td>\n",
       "      <td>Arrears Worksheet File Number: CEL-62600-16 Ti...</td>\n",
       "      <td>CEL-62600-16 (Re), 2017 CanLII 9545 (ON LTB)</td>\n",
       "      <td>CEL-62600-16</td>\n",
       "      <td>Mississauga</td>\n",
       "      <td>1/5/2017</td>\n",
       "    </tr>\n",
       "    <tr>\n",
       "      <th>1</th>\n",
       "      <td>[Metadata:, Date: 2017-01-09, File number:, CE...</td>\n",
       "      <td>Date: 2017-01-09 File number: CEL-62852-16 CEL...</td>\n",
       "      <td>Arrears Worksheet File Number: CEL-62852-16 Ti...</td>\n",
       "      <td>CEL-62852-16 (Re), 2017 CanLII 9535 (ON LTB)</td>\n",
       "      <td>CEL-62852-16</td>\n",
       "      <td>Mississauga</td>\n",
       "      <td>12/14/2016</td>\n",
       "    </tr>\n",
       "    <tr>\n",
       "      <th>2</th>\n",
       "      <td>[Metadata:, Date: 2017-01-09, File number:, CE...</td>\n",
       "      <td>Date: 2017-01-09 File number: CEL-63024-16 CEL...</td>\n",
       "      <td>Arrears Worksheet File Number: CEL-63024-16 Ti...</td>\n",
       "      <td>CEL-63024-16 (Re), 2017 CanLII 9543 (ON LTB)</td>\n",
       "      <td>CEL-63024-16</td>\n",
       "      <td>Mississauga</td>\n",
       "      <td>1/4/2017</td>\n",
       "    </tr>\n",
       "    <tr>\n",
       "      <th>3</th>\n",
       "      <td>[Metadata:, Date: 2017-01-20, File number:, CE...</td>\n",
       "      <td>Date: 2017-01-20 File number: CEL-63056-16 CEL...</td>\n",
       "      <td>Arrears Worksheet File Number: CEL-63056-16 Ti...</td>\n",
       "      <td>CEL-63056-16 (Re), 2017 CanLII 9537 (ON LTB)</td>\n",
       "      <td>CEL-63056-16</td>\n",
       "      <td>Mississauga</td>\n",
       "      <td>1/4/2017</td>\n",
       "    </tr>\n",
       "    <tr>\n",
       "      <th>4</th>\n",
       "      <td>[Metadata:, Date: 2017-02-03, File number:, CE...</td>\n",
       "      <td>Date: 2017-02-03 File number: CEL-63193-16 CEL...</td>\n",
       "      <td>Arrears Worksheet File Number: CEL-63193-16 Ti...</td>\n",
       "      <td>CEL-63193-16 (Re), 2017 CanLII 30828 (ON LTB)</td>\n",
       "      <td>CEL-63193-16</td>\n",
       "      <td>Mississauga</td>\n",
       "      <td>1/10/2017</td>\n",
       "    </tr>\n",
       "  </tbody>\n",
       "</table>\n",
       "</div>"
      ],
      "text/plain": [
       "                                        full_cleaned  \\\n",
       "0  [Metadata:, Date: 2017-01-18, File number:, CE...   \n",
       "1  [Metadata:, Date: 2017-01-09, File number:, CE...   \n",
       "2  [Metadata:, Date: 2017-01-09, File number:, CE...   \n",
       "3  [Metadata:, Date: 2017-01-20, File number:, CE...   \n",
       "4  [Metadata:, Date: 2017-02-03, File number:, CE...   \n",
       "\n",
       "                                            metadata  \\\n",
       "0  Date: 2017-01-18 File number: CEL-62600-16 CEL...   \n",
       "1  Date: 2017-01-09 File number: CEL-62852-16 CEL...   \n",
       "2  Date: 2017-01-09 File number: CEL-63024-16 CEL...   \n",
       "3  Date: 2017-01-20 File number: CEL-63056-16 CEL...   \n",
       "4  Date: 2017-02-03 File number: CEL-63193-16 CEL...   \n",
       "\n",
       "                                             content  \\\n",
       "0  Arrears Worksheet File Number: CEL-62600-16 Ti...   \n",
       "1  Arrears Worksheet File Number: CEL-62852-16 Ti...   \n",
       "2  Arrears Worksheet File Number: CEL-63024-16 Ti...   \n",
       "3  Arrears Worksheet File Number: CEL-63056-16 Ti...   \n",
       "4  Arrears Worksheet File Number: CEL-63193-16 Ti...   \n",
       "\n",
       "                                        citation   file_number ltb_location  \\\n",
       "0   CEL-62600-16 (Re), 2017 CanLII 9545 (ON LTB)  CEL-62600-16  Mississauga   \n",
       "1   CEL-62852-16 (Re), 2017 CanLII 9535 (ON LTB)  CEL-62852-16  Mississauga   \n",
       "2   CEL-63024-16 (Re), 2017 CanLII 9543 (ON LTB)  CEL-63024-16  Mississauga   \n",
       "3   CEL-63056-16 (Re), 2017 CanLII 9537 (ON LTB)  CEL-63056-16  Mississauga   \n",
       "4  CEL-63193-16 (Re), 2017 CanLII 30828 (ON LTB)  CEL-63193-16  Mississauga   \n",
       "\n",
       "  hearing_date  \n",
       "0     1/5/2017  \n",
       "1   12/14/2016  \n",
       "2     1/4/2017  \n",
       "3     1/4/2017  \n",
       "4    1/10/2017  "
      ]
     },
     "execution_count": 51,
     "metadata": {},
     "output_type": "execute_result"
    }
   ],
   "source": [
    "for row in silver_df.itertuples():\n",
    "\n",
    "    try:\n",
    "        silver_df.at[row.Index, 'hearing_date'] = convert_date_format(get_hearing_date(silver_df.loc[row.Index, 'content']))\n",
    "    except Exception as any_error:\n",
    "        silver_df.at[row.Index, 'hearing_date'] = \"HEARING DATE NOT FOUND\"\n",
    "\n",
    "silver_df.head()"
   ]
  },
  {
   "cell_type": "code",
   "execution_count": 52,
   "metadata": {},
   "outputs": [
    {
     "data": {
      "application/vnd.plotly.v1+json": {
       "config": {
        "plotlyServerURL": "https://plot.ly"
       },
       "data": [
        {
         "alignmentgroup": "True",
         "hovertemplate": "extraction=file number<br>metric=%{x}<br>score=%{y}<extra></extra>",
         "legendgroup": "file number",
         "marker": {
          "color": "#636efa",
          "pattern": {
           "shape": ""
          }
         },
         "name": "file number",
         "offsetgroup": "file number",
         "orientation": "v",
         "showlegend": true,
         "textposition": "auto",
         "type": "bar",
         "x": [
          "accuracy",
          "precision",
          "recall",
          "f1 score",
          "Jaro-Winkler Similarity"
         ],
         "xaxis": "x",
         "y": [
          0.96875,
          1,
          0.96875,
          0.96875,
          0.9970238095238095
         ],
         "yaxis": "y"
        },
        {
         "alignmentgroup": "True",
         "hovertemplate": "extraction=ltb location<br>metric=%{x}<br>score=%{y}<extra></extra>",
         "legendgroup": "ltb location",
         "marker": {
          "color": "#EF553B",
          "pattern": {
           "shape": ""
          }
         },
         "name": "ltb location",
         "offsetgroup": "ltb location",
         "orientation": "v",
         "showlegend": true,
         "textposition": "auto",
         "type": "bar",
         "x": [
          "accuracy",
          "precision",
          "recall",
          "f1 score",
          "Jaro-Winkler Similarity"
         ],
         "xaxis": "x",
         "y": [
          0.9523809523809523,
          0.9821854097277184,
          0.9523809523809523,
          0.9512205981425629,
          0.9538690476190477
         ],
         "yaxis": "y"
        },
        {
         "alignmentgroup": "True",
         "hovertemplate": "extraction=hearing date<br>metric=%{x}<br>score=%{y}<extra></extra>",
         "legendgroup": "hearing date",
         "marker": {
          "color": "#00cc96",
          "pattern": {
           "shape": ""
          }
         },
         "name": "hearing date",
         "offsetgroup": "hearing date",
         "orientation": "v",
         "showlegend": true,
         "textposition": "auto",
         "type": "bar",
         "x": [
          "accuracy",
          "precision",
          "recall",
          "f1 score",
          "Jaro-Winkler Similarity"
         ],
         "xaxis": "x",
         "y": [
          0.8005952380952381,
          0.9235367063492064,
          0.8005952380952381,
          0.80692168281454,
          0.9732142857142857
         ],
         "yaxis": "y"
        }
       ],
       "layout": {
        "barmode": "group",
        "legend": {
         "title": {
          "text": "extraction"
         },
         "tracegroupgap": 0
        },
        "template": {
         "data": {
          "bar": [
           {
            "error_x": {
             "color": "#2a3f5f"
            },
            "error_y": {
             "color": "#2a3f5f"
            },
            "marker": {
             "line": {
              "color": "#E5ECF6",
              "width": 0.5
             },
             "pattern": {
              "fillmode": "overlay",
              "size": 10,
              "solidity": 0.2
             }
            },
            "type": "bar"
           }
          ],
          "barpolar": [
           {
            "marker": {
             "line": {
              "color": "#E5ECF6",
              "width": 0.5
             },
             "pattern": {
              "fillmode": "overlay",
              "size": 10,
              "solidity": 0.2
             }
            },
            "type": "barpolar"
           }
          ],
          "carpet": [
           {
            "aaxis": {
             "endlinecolor": "#2a3f5f",
             "gridcolor": "white",
             "linecolor": "white",
             "minorgridcolor": "white",
             "startlinecolor": "#2a3f5f"
            },
            "baxis": {
             "endlinecolor": "#2a3f5f",
             "gridcolor": "white",
             "linecolor": "white",
             "minorgridcolor": "white",
             "startlinecolor": "#2a3f5f"
            },
            "type": "carpet"
           }
          ],
          "choropleth": [
           {
            "colorbar": {
             "outlinewidth": 0,
             "ticks": ""
            },
            "type": "choropleth"
           }
          ],
          "contour": [
           {
            "colorbar": {
             "outlinewidth": 0,
             "ticks": ""
            },
            "colorscale": [
             [
              0,
              "#0d0887"
             ],
             [
              0.1111111111111111,
              "#46039f"
             ],
             [
              0.2222222222222222,
              "#7201a8"
             ],
             [
              0.3333333333333333,
              "#9c179e"
             ],
             [
              0.4444444444444444,
              "#bd3786"
             ],
             [
              0.5555555555555556,
              "#d8576b"
             ],
             [
              0.6666666666666666,
              "#ed7953"
             ],
             [
              0.7777777777777778,
              "#fb9f3a"
             ],
             [
              0.8888888888888888,
              "#fdca26"
             ],
             [
              1,
              "#f0f921"
             ]
            ],
            "type": "contour"
           }
          ],
          "contourcarpet": [
           {
            "colorbar": {
             "outlinewidth": 0,
             "ticks": ""
            },
            "type": "contourcarpet"
           }
          ],
          "heatmap": [
           {
            "colorbar": {
             "outlinewidth": 0,
             "ticks": ""
            },
            "colorscale": [
             [
              0,
              "#0d0887"
             ],
             [
              0.1111111111111111,
              "#46039f"
             ],
             [
              0.2222222222222222,
              "#7201a8"
             ],
             [
              0.3333333333333333,
              "#9c179e"
             ],
             [
              0.4444444444444444,
              "#bd3786"
             ],
             [
              0.5555555555555556,
              "#d8576b"
             ],
             [
              0.6666666666666666,
              "#ed7953"
             ],
             [
              0.7777777777777778,
              "#fb9f3a"
             ],
             [
              0.8888888888888888,
              "#fdca26"
             ],
             [
              1,
              "#f0f921"
             ]
            ],
            "type": "heatmap"
           }
          ],
          "heatmapgl": [
           {
            "colorbar": {
             "outlinewidth": 0,
             "ticks": ""
            },
            "colorscale": [
             [
              0,
              "#0d0887"
             ],
             [
              0.1111111111111111,
              "#46039f"
             ],
             [
              0.2222222222222222,
              "#7201a8"
             ],
             [
              0.3333333333333333,
              "#9c179e"
             ],
             [
              0.4444444444444444,
              "#bd3786"
             ],
             [
              0.5555555555555556,
              "#d8576b"
             ],
             [
              0.6666666666666666,
              "#ed7953"
             ],
             [
              0.7777777777777778,
              "#fb9f3a"
             ],
             [
              0.8888888888888888,
              "#fdca26"
             ],
             [
              1,
              "#f0f921"
             ]
            ],
            "type": "heatmapgl"
           }
          ],
          "histogram": [
           {
            "marker": {
             "pattern": {
              "fillmode": "overlay",
              "size": 10,
              "solidity": 0.2
             }
            },
            "type": "histogram"
           }
          ],
          "histogram2d": [
           {
            "colorbar": {
             "outlinewidth": 0,
             "ticks": ""
            },
            "colorscale": [
             [
              0,
              "#0d0887"
             ],
             [
              0.1111111111111111,
              "#46039f"
             ],
             [
              0.2222222222222222,
              "#7201a8"
             ],
             [
              0.3333333333333333,
              "#9c179e"
             ],
             [
              0.4444444444444444,
              "#bd3786"
             ],
             [
              0.5555555555555556,
              "#d8576b"
             ],
             [
              0.6666666666666666,
              "#ed7953"
             ],
             [
              0.7777777777777778,
              "#fb9f3a"
             ],
             [
              0.8888888888888888,
              "#fdca26"
             ],
             [
              1,
              "#f0f921"
             ]
            ],
            "type": "histogram2d"
           }
          ],
          "histogram2dcontour": [
           {
            "colorbar": {
             "outlinewidth": 0,
             "ticks": ""
            },
            "colorscale": [
             [
              0,
              "#0d0887"
             ],
             [
              0.1111111111111111,
              "#46039f"
             ],
             [
              0.2222222222222222,
              "#7201a8"
             ],
             [
              0.3333333333333333,
              "#9c179e"
             ],
             [
              0.4444444444444444,
              "#bd3786"
             ],
             [
              0.5555555555555556,
              "#d8576b"
             ],
             [
              0.6666666666666666,
              "#ed7953"
             ],
             [
              0.7777777777777778,
              "#fb9f3a"
             ],
             [
              0.8888888888888888,
              "#fdca26"
             ],
             [
              1,
              "#f0f921"
             ]
            ],
            "type": "histogram2dcontour"
           }
          ],
          "mesh3d": [
           {
            "colorbar": {
             "outlinewidth": 0,
             "ticks": ""
            },
            "type": "mesh3d"
           }
          ],
          "parcoords": [
           {
            "line": {
             "colorbar": {
              "outlinewidth": 0,
              "ticks": ""
             }
            },
            "type": "parcoords"
           }
          ],
          "pie": [
           {
            "automargin": true,
            "type": "pie"
           }
          ],
          "scatter": [
           {
            "fillpattern": {
             "fillmode": "overlay",
             "size": 10,
             "solidity": 0.2
            },
            "type": "scatter"
           }
          ],
          "scatter3d": [
           {
            "line": {
             "colorbar": {
              "outlinewidth": 0,
              "ticks": ""
             }
            },
            "marker": {
             "colorbar": {
              "outlinewidth": 0,
              "ticks": ""
             }
            },
            "type": "scatter3d"
           }
          ],
          "scattercarpet": [
           {
            "marker": {
             "colorbar": {
              "outlinewidth": 0,
              "ticks": ""
             }
            },
            "type": "scattercarpet"
           }
          ],
          "scattergeo": [
           {
            "marker": {
             "colorbar": {
              "outlinewidth": 0,
              "ticks": ""
             }
            },
            "type": "scattergeo"
           }
          ],
          "scattergl": [
           {
            "marker": {
             "colorbar": {
              "outlinewidth": 0,
              "ticks": ""
             }
            },
            "type": "scattergl"
           }
          ],
          "scattermapbox": [
           {
            "marker": {
             "colorbar": {
              "outlinewidth": 0,
              "ticks": ""
             }
            },
            "type": "scattermapbox"
           }
          ],
          "scatterpolar": [
           {
            "marker": {
             "colorbar": {
              "outlinewidth": 0,
              "ticks": ""
             }
            },
            "type": "scatterpolar"
           }
          ],
          "scatterpolargl": [
           {
            "marker": {
             "colorbar": {
              "outlinewidth": 0,
              "ticks": ""
             }
            },
            "type": "scatterpolargl"
           }
          ],
          "scatterternary": [
           {
            "marker": {
             "colorbar": {
              "outlinewidth": 0,
              "ticks": ""
             }
            },
            "type": "scatterternary"
           }
          ],
          "surface": [
           {
            "colorbar": {
             "outlinewidth": 0,
             "ticks": ""
            },
            "colorscale": [
             [
              0,
              "#0d0887"
             ],
             [
              0.1111111111111111,
              "#46039f"
             ],
             [
              0.2222222222222222,
              "#7201a8"
             ],
             [
              0.3333333333333333,
              "#9c179e"
             ],
             [
              0.4444444444444444,
              "#bd3786"
             ],
             [
              0.5555555555555556,
              "#d8576b"
             ],
             [
              0.6666666666666666,
              "#ed7953"
             ],
             [
              0.7777777777777778,
              "#fb9f3a"
             ],
             [
              0.8888888888888888,
              "#fdca26"
             ],
             [
              1,
              "#f0f921"
             ]
            ],
            "type": "surface"
           }
          ],
          "table": [
           {
            "cells": {
             "fill": {
              "color": "#EBF0F8"
             },
             "line": {
              "color": "white"
             }
            },
            "header": {
             "fill": {
              "color": "#C8D4E3"
             },
             "line": {
              "color": "white"
             }
            },
            "type": "table"
           }
          ]
         },
         "layout": {
          "annotationdefaults": {
           "arrowcolor": "#2a3f5f",
           "arrowhead": 0,
           "arrowwidth": 1
          },
          "autotypenumbers": "strict",
          "coloraxis": {
           "colorbar": {
            "outlinewidth": 0,
            "ticks": ""
           }
          },
          "colorscale": {
           "diverging": [
            [
             0,
             "#8e0152"
            ],
            [
             0.1,
             "#c51b7d"
            ],
            [
             0.2,
             "#de77ae"
            ],
            [
             0.3,
             "#f1b6da"
            ],
            [
             0.4,
             "#fde0ef"
            ],
            [
             0.5,
             "#f7f7f7"
            ],
            [
             0.6,
             "#e6f5d0"
            ],
            [
             0.7,
             "#b8e186"
            ],
            [
             0.8,
             "#7fbc41"
            ],
            [
             0.9,
             "#4d9221"
            ],
            [
             1,
             "#276419"
            ]
           ],
           "sequential": [
            [
             0,
             "#0d0887"
            ],
            [
             0.1111111111111111,
             "#46039f"
            ],
            [
             0.2222222222222222,
             "#7201a8"
            ],
            [
             0.3333333333333333,
             "#9c179e"
            ],
            [
             0.4444444444444444,
             "#bd3786"
            ],
            [
             0.5555555555555556,
             "#d8576b"
            ],
            [
             0.6666666666666666,
             "#ed7953"
            ],
            [
             0.7777777777777778,
             "#fb9f3a"
            ],
            [
             0.8888888888888888,
             "#fdca26"
            ],
            [
             1,
             "#f0f921"
            ]
           ],
           "sequentialminus": [
            [
             0,
             "#0d0887"
            ],
            [
             0.1111111111111111,
             "#46039f"
            ],
            [
             0.2222222222222222,
             "#7201a8"
            ],
            [
             0.3333333333333333,
             "#9c179e"
            ],
            [
             0.4444444444444444,
             "#bd3786"
            ],
            [
             0.5555555555555556,
             "#d8576b"
            ],
            [
             0.6666666666666666,
             "#ed7953"
            ],
            [
             0.7777777777777778,
             "#fb9f3a"
            ],
            [
             0.8888888888888888,
             "#fdca26"
            ],
            [
             1,
             "#f0f921"
            ]
           ]
          },
          "colorway": [
           "#636efa",
           "#EF553B",
           "#00cc96",
           "#ab63fa",
           "#FFA15A",
           "#19d3f3",
           "#FF6692",
           "#B6E880",
           "#FF97FF",
           "#FECB52"
          ],
          "font": {
           "color": "#2a3f5f"
          },
          "geo": {
           "bgcolor": "white",
           "lakecolor": "white",
           "landcolor": "#E5ECF6",
           "showlakes": true,
           "showland": true,
           "subunitcolor": "white"
          },
          "hoverlabel": {
           "align": "left"
          },
          "hovermode": "closest",
          "mapbox": {
           "style": "light"
          },
          "paper_bgcolor": "white",
          "plot_bgcolor": "#E5ECF6",
          "polar": {
           "angularaxis": {
            "gridcolor": "white",
            "linecolor": "white",
            "ticks": ""
           },
           "bgcolor": "#E5ECF6",
           "radialaxis": {
            "gridcolor": "white",
            "linecolor": "white",
            "ticks": ""
           }
          },
          "scene": {
           "xaxis": {
            "backgroundcolor": "#E5ECF6",
            "gridcolor": "white",
            "gridwidth": 2,
            "linecolor": "white",
            "showbackground": true,
            "ticks": "",
            "zerolinecolor": "white"
           },
           "yaxis": {
            "backgroundcolor": "#E5ECF6",
            "gridcolor": "white",
            "gridwidth": 2,
            "linecolor": "white",
            "showbackground": true,
            "ticks": "",
            "zerolinecolor": "white"
           },
           "zaxis": {
            "backgroundcolor": "#E5ECF6",
            "gridcolor": "white",
            "gridwidth": 2,
            "linecolor": "white",
            "showbackground": true,
            "ticks": "",
            "zerolinecolor": "white"
           }
          },
          "shapedefaults": {
           "line": {
            "color": "#2a3f5f"
           }
          },
          "ternary": {
           "aaxis": {
            "gridcolor": "white",
            "linecolor": "white",
            "ticks": ""
           },
           "baxis": {
            "gridcolor": "white",
            "linecolor": "white",
            "ticks": ""
           },
           "bgcolor": "#E5ECF6",
           "caxis": {
            "gridcolor": "white",
            "linecolor": "white",
            "ticks": ""
           }
          },
          "title": {
           "x": 0.05
          },
          "xaxis": {
           "automargin": true,
           "gridcolor": "white",
           "linecolor": "white",
           "ticks": "",
           "title": {
            "standoff": 15
           },
           "zerolinecolor": "white",
           "zerolinewidth": 2
          },
          "yaxis": {
           "automargin": true,
           "gridcolor": "white",
           "linecolor": "white",
           "ticks": "",
           "title": {
            "standoff": 15
           },
           "zerolinecolor": "white",
           "zerolinewidth": 2
          }
         }
        },
        "title": {
         "text": "Extraction Metrics"
        },
        "xaxis": {
         "anchor": "y",
         "domain": [
          0,
          1
         ],
         "title": {
          "text": "metric"
         }
        },
        "yaxis": {
         "anchor": "x",
         "domain": [
          0,
          1
         ],
         "title": {
          "text": "score"
         }
        }
       }
      }
     },
     "metadata": {},
     "output_type": "display_data"
    }
   ],
   "source": [
    "gold_df['ltb_location'] = gold_df['ltb_location'].apply(lambda x: str(x))\n",
    "silver_df['ltb_location'] = silver_df['ltb_location'].apply(lambda x: str(x))\n",
    "\n",
    "# results\n",
    "\n",
    "for metric in [\"accuracy\", \"precision\", \"recall\", \"f1 score\", \"Jaro-Winkler Similarity\"]:\n",
    "    results[\"extraction\"].append(\"hearing date\")\n",
    "    results['metric'].append(metric)\n",
    "    results['score'].append(eval(y_pred = silver_df['hearing_date'], y_true = gold_df['new_hearing_date'], metric = metric))\n",
    "\n",
    "results\n",
    "\n",
    "# pd.DataFrame(results)\n",
    "\n",
    "# Create the bar chart using Plotly Express\n",
    "fig = px.bar(pd.DataFrame(results),\n",
    "             x = 'metric',\n",
    "             y = 'score',\n",
    "             title = 'Extraction Metrics',\n",
    "             color = \"extraction\",\n",
    "             barmode  = 'group')\n",
    "\n",
    "# Display the chart\n",
    "fig.show()"
   ]
  },
  {
   "attachments": {},
   "cell_type": "markdown",
   "metadata": {},
   "source": [
    "# Decision Date"
   ]
  },
  {
   "cell_type": "code",
   "execution_count": 53,
   "metadata": {},
   "outputs": [],
   "source": [
    "import re\n",
    "from dateutil.parser import parse\n",
    "import spacy\n",
    "nlp = spacy.load(\"en_core_web_sm\")\n",
    "\n",
    "def find_date(text: str):\n",
    "    \"\"\"\n",
    "    Finds a date in the format \"Month Day, Year\" within the given text.\n",
    "\n",
    "    Args:\n",
    "        text (str): The input text to search for a date.\n",
    "\n",
    "    Returns:\n",
    "        str: The date found in the text. Returns an empty string if no date is found.\n",
    "\n",
    "    Examples:\n",
    "        >>> find_date(\"The event will take place on April 23, 2018.\")\n",
    "        \"April 23, 2018\"\n",
    "    \"\"\"\n",
    "\n",
    "    pattern = r\"\\b[A-Z][a-z]+ \\d{1,2}, \\d{4}\\b\"\n",
    "    match = re.search(pattern, text)\n",
    "\n",
    "    if match:\n",
    "        return match.group()\n",
    "    else:\n",
    "        return \"\"\n",
    "\n",
    "def extract_date(text, nlp = nlp):\n",
    "    \"\"\"\n",
    "    Extracts a date from a string of text using spaCy's entity recognition.\n",
    "\n",
    "    Args:\n",
    "        text (str): The text to extract the date from.\n",
    "\n",
    "    Returns:\n",
    "        str: The extracted date string, or an empty string if no date is found.\n",
    "\n",
    "    Examples:\n",
    "        >>> extract_date(\"The event will take place on April 23, 2018.\")\n",
    "        \"April 23, 2018\"\n",
    "    \"\"\"\n",
    "\n",
    "    doc = nlp(text)\n",
    "\n",
    "    for entity in doc.ents:\n",
    "        if entity.label_ == \"DATE\":\n",
    "            return entity.text\n",
    "\n",
    "    return \"\"\n",
    "\n",
    "def convert_date(date_str):\n",
    "    \"\"\"\n",
    "    Parses a date string in any format and converts it to the format \"Month Day, Year\".\n",
    "\n",
    "    Args:\n",
    "        date_str (str): The date string to parse.\n",
    "\n",
    "    Returns:\n",
    "        str: The parsed date string in the format \"Month Day, Year\", or an empty string if parsing fails.\n",
    "\n",
    "    Examples:\n",
    "        >>> convert_date(\"2022-05-31\")\n",
    "        \"May 31, 2022\"\n",
    "\n",
    "        >>> convert_date(\"05/31/2018\")\n",
    "        \"May 31, 2018\"\n",
    "    \"\"\"\n",
    "\n",
    "    try:\n",
    "        parsed_date = parse(date_str)\n",
    "        formatted_date = parsed_date.strftime(\"%B %d, %Y\")\n",
    "        return formatted_date\n",
    "    except ValueError:\n",
    "        return \"\"\n",
    "\n",
    "def get_decision_date(case_content_str: str):\n",
    "    \"\"\"\n",
    "    Extracts the decision date from the given case content string.\n",
    "\n",
    "    Args:\n",
    "        case_content_str (str): The case content string to extract the decision date from.\n",
    "\n",
    "    Returns:\n",
    "        str or None: The extracted decision date in the format \"Month Day, Year\" if found, otherwise None.\n",
    "\n",
    "    Examples:\n",
    "        >>> get_decision_date(\"The date order issued on April 23, 2018 states...\")\n",
    "        \"April 23, 2018\"\n",
    "    \"\"\"\n",
    "\n",
    "    # intentionally searches these in this order. Any amendment would be the most recent date\n",
    "    for keyword in ['date order amended', 'date issued', 'date order issued']: \n",
    "        if keyword in case_content_str.lower():\n",
    "            di_idx = case_content_str.lower().find(keyword)\n",
    "            subset = case_content_str[di_idx - 18 : di_idx].strip().split(\". \")[-1]\n",
    "            return subset.strip()\n",
    "    \n",
    "    else:\n",
    "        if \"date\" in case_content_str.lower()[: 500]:\n",
    "            subset = case_content_str[: 500]\n",
    "            date_idx = case_content_str.lower().find('date')\n",
    "            subset = case_content_str[date_idx + len('date') : date_idx + len('date') + 50].strip()\n",
    "            subset = extract_date(subset).strip()\n",
    "            return convert_date(subset).strip()\n",
    "    \n",
    "    # otherwise return None\n",
    "    return None"
   ]
  },
  {
   "cell_type": "code",
   "execution_count": 54,
   "metadata": {},
   "outputs": [
    {
     "name": "stdout",
     "output_type": "stream",
     "text": [
      "2/13/2018\n",
      "8/1/2018\n"
     ]
    }
   ],
   "source": [
    "from datetime import datetime\n",
    "\n",
    "def convert_date_format(date_str):\n",
    "    try:\n",
    "        # Parse the date\n",
    "        date = datetime.strptime(date_str, \"%B %d, %Y\")\n",
    "    except ValueError:\n",
    "        # If parsing fails, try parsing with abbreviated month name\n",
    "        date = datetime.strptime(date_str, \"%b %d, %Y\")\n",
    "\n",
    "    # Convert to new format\n",
    "    month = date.strftime(\"%m\").lstrip('0')\n",
    "    day = date.strftime(\"%d\").lstrip('0')\n",
    "    year = date.strftime(\"%Y\")\n",
    "\n",
    "    new_format_date = f\"{month}/{day}/{year}\"\n",
    "\n",
    "    return new_format_date\n",
    "\n",
    "# Usage\n",
    "print(convert_date_format(\"February 13, 2018\"))  # Returns: 2/13/2018\n",
    "print(convert_date_format(\"Aug 1, 2018\"))  # Returns: 8/1/2018"
   ]
  },
  {
   "cell_type": "code",
   "execution_count": 55,
   "metadata": {},
   "outputs": [
    {
     "data": {
      "text/html": [
       "<div>\n",
       "<style scoped>\n",
       "    .dataframe tbody tr th:only-of-type {\n",
       "        vertical-align: middle;\n",
       "    }\n",
       "\n",
       "    .dataframe tbody tr th {\n",
       "        vertical-align: top;\n",
       "    }\n",
       "\n",
       "    .dataframe thead th {\n",
       "        text-align: right;\n",
       "    }\n",
       "</style>\n",
       "<table border=\"1\" class=\"dataframe\">\n",
       "  <thead>\n",
       "    <tr style=\"text-align: right;\">\n",
       "      <th></th>\n",
       "      <th>full_cleaned</th>\n",
       "      <th>metadata</th>\n",
       "      <th>content</th>\n",
       "      <th>citation</th>\n",
       "      <th>file_number</th>\n",
       "      <th>ltb_location</th>\n",
       "      <th>hearing_date</th>\n",
       "      <th>decision_date</th>\n",
       "    </tr>\n",
       "  </thead>\n",
       "  <tbody>\n",
       "    <tr>\n",
       "      <th>0</th>\n",
       "      <td>[Metadata:, Date: 2017-01-18, File number:, CE...</td>\n",
       "      <td>Date: 2017-01-18 File number: CEL-62600-16 CEL...</td>\n",
       "      <td>Arrears Worksheet File Number: CEL-62600-16 Ti...</td>\n",
       "      <td>CEL-62600-16 (Re), 2017 CanLII 9545 (ON LTB)</td>\n",
       "      <td>CEL-62600-16</td>\n",
       "      <td>Mississauga</td>\n",
       "      <td>1/5/2017</td>\n",
       "      <td>1/18/2017</td>\n",
       "    </tr>\n",
       "    <tr>\n",
       "      <th>1</th>\n",
       "      <td>[Metadata:, Date: 2017-01-09, File number:, CE...</td>\n",
       "      <td>Date: 2017-01-09 File number: CEL-62852-16 CEL...</td>\n",
       "      <td>Arrears Worksheet File Number: CEL-62852-16 Ti...</td>\n",
       "      <td>CEL-62852-16 (Re), 2017 CanLII 9535 (ON LTB)</td>\n",
       "      <td>CEL-62852-16</td>\n",
       "      <td>Mississauga</td>\n",
       "      <td>12/14/2016</td>\n",
       "      <td>1/9/2017</td>\n",
       "    </tr>\n",
       "    <tr>\n",
       "      <th>2</th>\n",
       "      <td>[Metadata:, Date: 2017-01-09, File number:, CE...</td>\n",
       "      <td>Date: 2017-01-09 File number: CEL-63024-16 CEL...</td>\n",
       "      <td>Arrears Worksheet File Number: CEL-63024-16 Ti...</td>\n",
       "      <td>CEL-63024-16 (Re), 2017 CanLII 9543 (ON LTB)</td>\n",
       "      <td>CEL-63024-16</td>\n",
       "      <td>Mississauga</td>\n",
       "      <td>1/4/2017</td>\n",
       "      <td>1/9/2017</td>\n",
       "    </tr>\n",
       "    <tr>\n",
       "      <th>3</th>\n",
       "      <td>[Metadata:, Date: 2017-01-20, File number:, CE...</td>\n",
       "      <td>Date: 2017-01-20 File number: CEL-63056-16 CEL...</td>\n",
       "      <td>Arrears Worksheet File Number: CEL-63056-16 Ti...</td>\n",
       "      <td>CEL-63056-16 (Re), 2017 CanLII 9537 (ON LTB)</td>\n",
       "      <td>CEL-63056-16</td>\n",
       "      <td>Mississauga</td>\n",
       "      <td>1/4/2017</td>\n",
       "      <td>1/9/2017</td>\n",
       "    </tr>\n",
       "    <tr>\n",
       "      <th>4</th>\n",
       "      <td>[Metadata:, Date: 2017-02-03, File number:, CE...</td>\n",
       "      <td>Date: 2017-02-03 File number: CEL-63193-16 CEL...</td>\n",
       "      <td>Arrears Worksheet File Number: CEL-63193-16 Ti...</td>\n",
       "      <td>CEL-63193-16 (Re), 2017 CanLII 30828 (ON LTB)</td>\n",
       "      <td>CEL-63193-16</td>\n",
       "      <td>Mississauga</td>\n",
       "      <td>1/10/2017</td>\n",
       "      <td>2/3/2017</td>\n",
       "    </tr>\n",
       "  </tbody>\n",
       "</table>\n",
       "</div>"
      ],
      "text/plain": [
       "                                        full_cleaned  \\\n",
       "0  [Metadata:, Date: 2017-01-18, File number:, CE...   \n",
       "1  [Metadata:, Date: 2017-01-09, File number:, CE...   \n",
       "2  [Metadata:, Date: 2017-01-09, File number:, CE...   \n",
       "3  [Metadata:, Date: 2017-01-20, File number:, CE...   \n",
       "4  [Metadata:, Date: 2017-02-03, File number:, CE...   \n",
       "\n",
       "                                            metadata  \\\n",
       "0  Date: 2017-01-18 File number: CEL-62600-16 CEL...   \n",
       "1  Date: 2017-01-09 File number: CEL-62852-16 CEL...   \n",
       "2  Date: 2017-01-09 File number: CEL-63024-16 CEL...   \n",
       "3  Date: 2017-01-20 File number: CEL-63056-16 CEL...   \n",
       "4  Date: 2017-02-03 File number: CEL-63193-16 CEL...   \n",
       "\n",
       "                                             content  \\\n",
       "0  Arrears Worksheet File Number: CEL-62600-16 Ti...   \n",
       "1  Arrears Worksheet File Number: CEL-62852-16 Ti...   \n",
       "2  Arrears Worksheet File Number: CEL-63024-16 Ti...   \n",
       "3  Arrears Worksheet File Number: CEL-63056-16 Ti...   \n",
       "4  Arrears Worksheet File Number: CEL-63193-16 Ti...   \n",
       "\n",
       "                                        citation   file_number ltb_location  \\\n",
       "0   CEL-62600-16 (Re), 2017 CanLII 9545 (ON LTB)  CEL-62600-16  Mississauga   \n",
       "1   CEL-62852-16 (Re), 2017 CanLII 9535 (ON LTB)  CEL-62852-16  Mississauga   \n",
       "2   CEL-63024-16 (Re), 2017 CanLII 9543 (ON LTB)  CEL-63024-16  Mississauga   \n",
       "3   CEL-63056-16 (Re), 2017 CanLII 9537 (ON LTB)  CEL-63056-16  Mississauga   \n",
       "4  CEL-63193-16 (Re), 2017 CanLII 30828 (ON LTB)  CEL-63193-16  Mississauga   \n",
       "\n",
       "  hearing_date decision_date  \n",
       "0     1/5/2017     1/18/2017  \n",
       "1   12/14/2016      1/9/2017  \n",
       "2     1/4/2017      1/9/2017  \n",
       "3     1/4/2017      1/9/2017  \n",
       "4    1/10/2017      2/3/2017  "
      ]
     },
     "execution_count": 55,
     "metadata": {},
     "output_type": "execute_result"
    }
   ],
   "source": [
    "for row in silver_df.itertuples():\n",
    "\n",
    "    try:\n",
    "        silver_df.at[row.Index, 'decision_date'] = convert_date_format(get_decision_date(silver_df.loc[row.Index, 'content']))\n",
    "    except Exception as any_error:\n",
    "        silver_df.at[row.Index, 'decision_date'] = \"DECISION DATE NOT FOUND\"\n",
    "\n",
    "silver_df.head()"
   ]
  },
  {
   "cell_type": "code",
   "execution_count": 56,
   "metadata": {},
   "outputs": [
    {
     "data": {
      "application/vnd.plotly.v1+json": {
       "config": {
        "plotlyServerURL": "https://plot.ly"
       },
       "data": [
        {
         "alignmentgroup": "True",
         "hovertemplate": "metric=accuracy<br>extraction=%{x}<br>score=%{y}<extra></extra>",
         "legendgroup": "accuracy",
         "marker": {
          "color": "#636efa",
          "pattern": {
           "shape": ""
          }
         },
         "name": "accuracy",
         "offsetgroup": "accuracy",
         "orientation": "v",
         "showlegend": true,
         "textposition": "auto",
         "type": "bar",
         "x": [
          "file number",
          "ltb location",
          "hearing date",
          "decision date"
         ],
         "xaxis": "x",
         "y": [
          0.96875,
          0.9523809523809523,
          0.8005952380952381,
          0.8928571428571429
         ],
         "yaxis": "y"
        },
        {
         "alignmentgroup": "True",
         "hovertemplate": "metric=precision<br>extraction=%{x}<br>score=%{y}<extra></extra>",
         "legendgroup": "precision",
         "marker": {
          "color": "#EF553B",
          "pattern": {
           "shape": ""
          }
         },
         "name": "precision",
         "offsetgroup": "precision",
         "orientation": "v",
         "showlegend": true,
         "textposition": "auto",
         "type": "bar",
         "x": [
          "file number",
          "ltb location",
          "hearing date",
          "decision date"
         ],
         "xaxis": "x",
         "y": [
          1,
          0.9821854097277184,
          0.9235367063492064,
          0.967485119047619
         ],
         "yaxis": "y"
        },
        {
         "alignmentgroup": "True",
         "hovertemplate": "metric=recall<br>extraction=%{x}<br>score=%{y}<extra></extra>",
         "legendgroup": "recall",
         "marker": {
          "color": "#00cc96",
          "pattern": {
           "shape": ""
          }
         },
         "name": "recall",
         "offsetgroup": "recall",
         "orientation": "v",
         "showlegend": true,
         "textposition": "auto",
         "type": "bar",
         "x": [
          "file number",
          "ltb location",
          "hearing date",
          "decision date"
         ],
         "xaxis": "x",
         "y": [
          0.96875,
          0.9523809523809523,
          0.8005952380952381,
          0.8928571428571429
         ],
         "yaxis": "y"
        },
        {
         "alignmentgroup": "True",
         "hovertemplate": "metric=f1 score<br>extraction=%{x}<br>score=%{y}<extra></extra>",
         "legendgroup": "f1 score",
         "marker": {
          "color": "#ab63fa",
          "pattern": {
           "shape": ""
          }
         },
         "name": "f1 score",
         "offsetgroup": "f1 score",
         "orientation": "v",
         "showlegend": true,
         "textposition": "auto",
         "type": "bar",
         "x": [
          "file number",
          "ltb location",
          "hearing date",
          "decision date"
         ],
         "xaxis": "x",
         "y": [
          0.96875,
          0.9512205981425629,
          0.80692168281454,
          0.894028590457162
         ],
         "yaxis": "y"
        },
        {
         "alignmentgroup": "True",
         "hovertemplate": "metric=Jaro-Winkler Similarity<br>extraction=%{x}<br>score=%{y}<extra></extra>",
         "legendgroup": "Jaro-Winkler Similarity",
         "marker": {
          "color": "#FFA15A",
          "pattern": {
           "shape": ""
          }
         },
         "name": "Jaro-Winkler Similarity",
         "offsetgroup": "Jaro-Winkler Similarity",
         "orientation": "v",
         "showlegend": true,
         "textposition": "auto",
         "type": "bar",
         "x": [
          "file number",
          "ltb location",
          "hearing date",
          "decision date"
         ],
         "xaxis": "x",
         "y": [
          0.9970238095238095,
          0.9538690476190477,
          0.9732142857142857,
          0.9627976190476191
         ],
         "yaxis": "y"
        }
       ],
       "layout": {
        "barmode": "group",
        "legend": {
         "title": {
          "text": "metric"
         },
         "tracegroupgap": 0
        },
        "template": {
         "data": {
          "bar": [
           {
            "error_x": {
             "color": "#2a3f5f"
            },
            "error_y": {
             "color": "#2a3f5f"
            },
            "marker": {
             "line": {
              "color": "#E5ECF6",
              "width": 0.5
             },
             "pattern": {
              "fillmode": "overlay",
              "size": 10,
              "solidity": 0.2
             }
            },
            "type": "bar"
           }
          ],
          "barpolar": [
           {
            "marker": {
             "line": {
              "color": "#E5ECF6",
              "width": 0.5
             },
             "pattern": {
              "fillmode": "overlay",
              "size": 10,
              "solidity": 0.2
             }
            },
            "type": "barpolar"
           }
          ],
          "carpet": [
           {
            "aaxis": {
             "endlinecolor": "#2a3f5f",
             "gridcolor": "white",
             "linecolor": "white",
             "minorgridcolor": "white",
             "startlinecolor": "#2a3f5f"
            },
            "baxis": {
             "endlinecolor": "#2a3f5f",
             "gridcolor": "white",
             "linecolor": "white",
             "minorgridcolor": "white",
             "startlinecolor": "#2a3f5f"
            },
            "type": "carpet"
           }
          ],
          "choropleth": [
           {
            "colorbar": {
             "outlinewidth": 0,
             "ticks": ""
            },
            "type": "choropleth"
           }
          ],
          "contour": [
           {
            "colorbar": {
             "outlinewidth": 0,
             "ticks": ""
            },
            "colorscale": [
             [
              0,
              "#0d0887"
             ],
             [
              0.1111111111111111,
              "#46039f"
             ],
             [
              0.2222222222222222,
              "#7201a8"
             ],
             [
              0.3333333333333333,
              "#9c179e"
             ],
             [
              0.4444444444444444,
              "#bd3786"
             ],
             [
              0.5555555555555556,
              "#d8576b"
             ],
             [
              0.6666666666666666,
              "#ed7953"
             ],
             [
              0.7777777777777778,
              "#fb9f3a"
             ],
             [
              0.8888888888888888,
              "#fdca26"
             ],
             [
              1,
              "#f0f921"
             ]
            ],
            "type": "contour"
           }
          ],
          "contourcarpet": [
           {
            "colorbar": {
             "outlinewidth": 0,
             "ticks": ""
            },
            "type": "contourcarpet"
           }
          ],
          "heatmap": [
           {
            "colorbar": {
             "outlinewidth": 0,
             "ticks": ""
            },
            "colorscale": [
             [
              0,
              "#0d0887"
             ],
             [
              0.1111111111111111,
              "#46039f"
             ],
             [
              0.2222222222222222,
              "#7201a8"
             ],
             [
              0.3333333333333333,
              "#9c179e"
             ],
             [
              0.4444444444444444,
              "#bd3786"
             ],
             [
              0.5555555555555556,
              "#d8576b"
             ],
             [
              0.6666666666666666,
              "#ed7953"
             ],
             [
              0.7777777777777778,
              "#fb9f3a"
             ],
             [
              0.8888888888888888,
              "#fdca26"
             ],
             [
              1,
              "#f0f921"
             ]
            ],
            "type": "heatmap"
           }
          ],
          "heatmapgl": [
           {
            "colorbar": {
             "outlinewidth": 0,
             "ticks": ""
            },
            "colorscale": [
             [
              0,
              "#0d0887"
             ],
             [
              0.1111111111111111,
              "#46039f"
             ],
             [
              0.2222222222222222,
              "#7201a8"
             ],
             [
              0.3333333333333333,
              "#9c179e"
             ],
             [
              0.4444444444444444,
              "#bd3786"
             ],
             [
              0.5555555555555556,
              "#d8576b"
             ],
             [
              0.6666666666666666,
              "#ed7953"
             ],
             [
              0.7777777777777778,
              "#fb9f3a"
             ],
             [
              0.8888888888888888,
              "#fdca26"
             ],
             [
              1,
              "#f0f921"
             ]
            ],
            "type": "heatmapgl"
           }
          ],
          "histogram": [
           {
            "marker": {
             "pattern": {
              "fillmode": "overlay",
              "size": 10,
              "solidity": 0.2
             }
            },
            "type": "histogram"
           }
          ],
          "histogram2d": [
           {
            "colorbar": {
             "outlinewidth": 0,
             "ticks": ""
            },
            "colorscale": [
             [
              0,
              "#0d0887"
             ],
             [
              0.1111111111111111,
              "#46039f"
             ],
             [
              0.2222222222222222,
              "#7201a8"
             ],
             [
              0.3333333333333333,
              "#9c179e"
             ],
             [
              0.4444444444444444,
              "#bd3786"
             ],
             [
              0.5555555555555556,
              "#d8576b"
             ],
             [
              0.6666666666666666,
              "#ed7953"
             ],
             [
              0.7777777777777778,
              "#fb9f3a"
             ],
             [
              0.8888888888888888,
              "#fdca26"
             ],
             [
              1,
              "#f0f921"
             ]
            ],
            "type": "histogram2d"
           }
          ],
          "histogram2dcontour": [
           {
            "colorbar": {
             "outlinewidth": 0,
             "ticks": ""
            },
            "colorscale": [
             [
              0,
              "#0d0887"
             ],
             [
              0.1111111111111111,
              "#46039f"
             ],
             [
              0.2222222222222222,
              "#7201a8"
             ],
             [
              0.3333333333333333,
              "#9c179e"
             ],
             [
              0.4444444444444444,
              "#bd3786"
             ],
             [
              0.5555555555555556,
              "#d8576b"
             ],
             [
              0.6666666666666666,
              "#ed7953"
             ],
             [
              0.7777777777777778,
              "#fb9f3a"
             ],
             [
              0.8888888888888888,
              "#fdca26"
             ],
             [
              1,
              "#f0f921"
             ]
            ],
            "type": "histogram2dcontour"
           }
          ],
          "mesh3d": [
           {
            "colorbar": {
             "outlinewidth": 0,
             "ticks": ""
            },
            "type": "mesh3d"
           }
          ],
          "parcoords": [
           {
            "line": {
             "colorbar": {
              "outlinewidth": 0,
              "ticks": ""
             }
            },
            "type": "parcoords"
           }
          ],
          "pie": [
           {
            "automargin": true,
            "type": "pie"
           }
          ],
          "scatter": [
           {
            "fillpattern": {
             "fillmode": "overlay",
             "size": 10,
             "solidity": 0.2
            },
            "type": "scatter"
           }
          ],
          "scatter3d": [
           {
            "line": {
             "colorbar": {
              "outlinewidth": 0,
              "ticks": ""
             }
            },
            "marker": {
             "colorbar": {
              "outlinewidth": 0,
              "ticks": ""
             }
            },
            "type": "scatter3d"
           }
          ],
          "scattercarpet": [
           {
            "marker": {
             "colorbar": {
              "outlinewidth": 0,
              "ticks": ""
             }
            },
            "type": "scattercarpet"
           }
          ],
          "scattergeo": [
           {
            "marker": {
             "colorbar": {
              "outlinewidth": 0,
              "ticks": ""
             }
            },
            "type": "scattergeo"
           }
          ],
          "scattergl": [
           {
            "marker": {
             "colorbar": {
              "outlinewidth": 0,
              "ticks": ""
             }
            },
            "type": "scattergl"
           }
          ],
          "scattermapbox": [
           {
            "marker": {
             "colorbar": {
              "outlinewidth": 0,
              "ticks": ""
             }
            },
            "type": "scattermapbox"
           }
          ],
          "scatterpolar": [
           {
            "marker": {
             "colorbar": {
              "outlinewidth": 0,
              "ticks": ""
             }
            },
            "type": "scatterpolar"
           }
          ],
          "scatterpolargl": [
           {
            "marker": {
             "colorbar": {
              "outlinewidth": 0,
              "ticks": ""
             }
            },
            "type": "scatterpolargl"
           }
          ],
          "scatterternary": [
           {
            "marker": {
             "colorbar": {
              "outlinewidth": 0,
              "ticks": ""
             }
            },
            "type": "scatterternary"
           }
          ],
          "surface": [
           {
            "colorbar": {
             "outlinewidth": 0,
             "ticks": ""
            },
            "colorscale": [
             [
              0,
              "#0d0887"
             ],
             [
              0.1111111111111111,
              "#46039f"
             ],
             [
              0.2222222222222222,
              "#7201a8"
             ],
             [
              0.3333333333333333,
              "#9c179e"
             ],
             [
              0.4444444444444444,
              "#bd3786"
             ],
             [
              0.5555555555555556,
              "#d8576b"
             ],
             [
              0.6666666666666666,
              "#ed7953"
             ],
             [
              0.7777777777777778,
              "#fb9f3a"
             ],
             [
              0.8888888888888888,
              "#fdca26"
             ],
             [
              1,
              "#f0f921"
             ]
            ],
            "type": "surface"
           }
          ],
          "table": [
           {
            "cells": {
             "fill": {
              "color": "#EBF0F8"
             },
             "line": {
              "color": "white"
             }
            },
            "header": {
             "fill": {
              "color": "#C8D4E3"
             },
             "line": {
              "color": "white"
             }
            },
            "type": "table"
           }
          ]
         },
         "layout": {
          "annotationdefaults": {
           "arrowcolor": "#2a3f5f",
           "arrowhead": 0,
           "arrowwidth": 1
          },
          "autotypenumbers": "strict",
          "coloraxis": {
           "colorbar": {
            "outlinewidth": 0,
            "ticks": ""
           }
          },
          "colorscale": {
           "diverging": [
            [
             0,
             "#8e0152"
            ],
            [
             0.1,
             "#c51b7d"
            ],
            [
             0.2,
             "#de77ae"
            ],
            [
             0.3,
             "#f1b6da"
            ],
            [
             0.4,
             "#fde0ef"
            ],
            [
             0.5,
             "#f7f7f7"
            ],
            [
             0.6,
             "#e6f5d0"
            ],
            [
             0.7,
             "#b8e186"
            ],
            [
             0.8,
             "#7fbc41"
            ],
            [
             0.9,
             "#4d9221"
            ],
            [
             1,
             "#276419"
            ]
           ],
           "sequential": [
            [
             0,
             "#0d0887"
            ],
            [
             0.1111111111111111,
             "#46039f"
            ],
            [
             0.2222222222222222,
             "#7201a8"
            ],
            [
             0.3333333333333333,
             "#9c179e"
            ],
            [
             0.4444444444444444,
             "#bd3786"
            ],
            [
             0.5555555555555556,
             "#d8576b"
            ],
            [
             0.6666666666666666,
             "#ed7953"
            ],
            [
             0.7777777777777778,
             "#fb9f3a"
            ],
            [
             0.8888888888888888,
             "#fdca26"
            ],
            [
             1,
             "#f0f921"
            ]
           ],
           "sequentialminus": [
            [
             0,
             "#0d0887"
            ],
            [
             0.1111111111111111,
             "#46039f"
            ],
            [
             0.2222222222222222,
             "#7201a8"
            ],
            [
             0.3333333333333333,
             "#9c179e"
            ],
            [
             0.4444444444444444,
             "#bd3786"
            ],
            [
             0.5555555555555556,
             "#d8576b"
            ],
            [
             0.6666666666666666,
             "#ed7953"
            ],
            [
             0.7777777777777778,
             "#fb9f3a"
            ],
            [
             0.8888888888888888,
             "#fdca26"
            ],
            [
             1,
             "#f0f921"
            ]
           ]
          },
          "colorway": [
           "#636efa",
           "#EF553B",
           "#00cc96",
           "#ab63fa",
           "#FFA15A",
           "#19d3f3",
           "#FF6692",
           "#B6E880",
           "#FF97FF",
           "#FECB52"
          ],
          "font": {
           "color": "#2a3f5f"
          },
          "geo": {
           "bgcolor": "white",
           "lakecolor": "white",
           "landcolor": "#E5ECF6",
           "showlakes": true,
           "showland": true,
           "subunitcolor": "white"
          },
          "hoverlabel": {
           "align": "left"
          },
          "hovermode": "closest",
          "mapbox": {
           "style": "light"
          },
          "paper_bgcolor": "white",
          "plot_bgcolor": "#E5ECF6",
          "polar": {
           "angularaxis": {
            "gridcolor": "white",
            "linecolor": "white",
            "ticks": ""
           },
           "bgcolor": "#E5ECF6",
           "radialaxis": {
            "gridcolor": "white",
            "linecolor": "white",
            "ticks": ""
           }
          },
          "scene": {
           "xaxis": {
            "backgroundcolor": "#E5ECF6",
            "gridcolor": "white",
            "gridwidth": 2,
            "linecolor": "white",
            "showbackground": true,
            "ticks": "",
            "zerolinecolor": "white"
           },
           "yaxis": {
            "backgroundcolor": "#E5ECF6",
            "gridcolor": "white",
            "gridwidth": 2,
            "linecolor": "white",
            "showbackground": true,
            "ticks": "",
            "zerolinecolor": "white"
           },
           "zaxis": {
            "backgroundcolor": "#E5ECF6",
            "gridcolor": "white",
            "gridwidth": 2,
            "linecolor": "white",
            "showbackground": true,
            "ticks": "",
            "zerolinecolor": "white"
           }
          },
          "shapedefaults": {
           "line": {
            "color": "#2a3f5f"
           }
          },
          "ternary": {
           "aaxis": {
            "gridcolor": "white",
            "linecolor": "white",
            "ticks": ""
           },
           "baxis": {
            "gridcolor": "white",
            "linecolor": "white",
            "ticks": ""
           },
           "bgcolor": "#E5ECF6",
           "caxis": {
            "gridcolor": "white",
            "linecolor": "white",
            "ticks": ""
           }
          },
          "title": {
           "x": 0.05
          },
          "xaxis": {
           "automargin": true,
           "gridcolor": "white",
           "linecolor": "white",
           "ticks": "",
           "title": {
            "standoff": 15
           },
           "zerolinecolor": "white",
           "zerolinewidth": 2
          },
          "yaxis": {
           "automargin": true,
           "gridcolor": "white",
           "linecolor": "white",
           "ticks": "",
           "title": {
            "standoff": 15
           },
           "zerolinecolor": "white",
           "zerolinewidth": 2
          }
         }
        },
        "title": {
         "text": "Extraction Metrics"
        },
        "xaxis": {
         "anchor": "y",
         "domain": [
          0,
          1
         ],
         "title": {
          "text": "extraction"
         }
        },
        "yaxis": {
         "anchor": "x",
         "domain": [
          0,
          1
         ],
         "title": {
          "text": "score"
         }
        }
       }
      }
     },
     "metadata": {},
     "output_type": "display_data"
    }
   ],
   "source": [
    "# gold_df['ltb_location'] = gold_df['ltb_location'].apply(lambda x: str(x))\n",
    "# silver_df['ltb_location'] = silver_df['ltb_location'].apply(lambda x: str(x))\n",
    "\n",
    "# results\n",
    "\n",
    "for metric in [\"accuracy\", \"precision\", \"recall\", \"f1 score\", \"Jaro-Winkler Similarity\"]:\n",
    "    results[\"extraction\"].append(\"decision date\")\n",
    "    results['metric'].append(metric)\n",
    "    results['score'].append(eval(y_pred = silver_df['decision_date'], y_true = gold_df['new_decision_date'], metric = metric))\n",
    "\n",
    "# results\n",
    "\n",
    "pd.DataFrame(results)\n",
    "\n",
    "# Create the bar chart using Plotly Express\n",
    "fig = px.bar(pd.DataFrame(results),\n",
    "             x = 'extraction',\n",
    "             y = 'score',\n",
    "             title = 'Extraction Metrics',\n",
    "             color = \"metric\",\n",
    "             barmode  = 'group')\n",
    "\n",
    "# Display the chart\n",
    "fig.show()"
   ]
  },
  {
   "attachments": {},
   "cell_type": "markdown",
   "metadata": {},
   "source": [
    "# Adjudicating Member"
   ]
  },
  {
   "cell_type": "code",
   "execution_count": 57,
   "metadata": {},
   "outputs": [],
   "source": [
    "def get_adj_member(case_content_str: str):\n",
    "    \"\"\"\n",
    "    Retrieves the adjudicating member(s) mentioned in the given case content string.\n",
    "\n",
    "    Args:\n",
    "        case_content_str (str): The input string containing the case content.\n",
    "\n",
    "    Returns:\n",
    "        str: The adjudicating member(s) mentioned in the case content. If no adjudicating member is found, returns \"nan\".\n",
    "\n",
    "    Examples:\n",
    "        >>> get_adjudicating_member(\"This is the entire case file. There are sentences and other text.\")\n",
    "        \"Name of Adjudicating Member\"\n",
    "\n",
    "    Notes:\n",
    "        The function looks for specific keywords in the `case_content_str` to identify the adjudicating member(s).\n",
    "        The keywords are evaluated in the following order: \"date issued\", \"date of reasons\", and \"date order issued\".\n",
    "        If multiple instances of the same keyword are found, the function extracts the adjacent text and processes it to retrieve the member(s).\n",
    "        If only one instance of the keyword is found, the function extracts the adjacent text and processes it to retrieve the member(s).\n",
    "        If no adjudicating member is found, the function returns \"nan\".\n",
    "\n",
    "    Raises:\n",
    "        TypeError: If `case_content_str` is not a string.\n",
    "\n",
    "    \"\"\"\n",
    "\n",
    "    keyword_1 = \"date issued\" # this is the most reliable one\n",
    "    keyword_2 = \"date of reasons\" # first fallback\n",
    "    keyword_3 = \"date order issued\" # second fallback\n",
    "\n",
    "    # find which is best for the case (in order of best option to worst option)\n",
    "    if keyword_1 in case_content_str.lower():\n",
    "        keyword = keyword_1\n",
    "        # kw_idx = case_content_str.lower().find(keyword_1)\n",
    "    \n",
    "    elif keyword_2 in case_content_str.lower():\n",
    "        keyword = keyword_2\n",
    "        # kw_idx = case_content_str.lower().find(keyword_2)\n",
    "\n",
    "    elif keyword_3 in case_content_str.lower():\n",
    "        keyword = keyword_3\n",
    "        # kw_idx = case_content_str.lower().find(keyword_3)\n",
    "\n",
    "    # if nothing is found, better to return nothing than to return something clearly incorrect\n",
    "    if not keyword:\n",
    "        return \"nan\"\n",
    "    \n",
    "    # getting index of whichever keyword was found first\n",
    "    kw_idxs = find_all_positions(text = case_content_str.lower(), keyword = keyword)\n",
    "    \n",
    "    \n",
    "    ### If there are multiple members found ###\n",
    "\n",
    "    if len(kw_idxs) > 1:\n",
    "\n",
    "        adj_membs = []\n",
    "\n",
    "        for kw_idx in kw_idxs:\n",
    "                \n",
    "            subset = case_content_str[kw_idx + len(keyword): kw_idx + 100] # subsetting to an arbitrary distance after the keyword location\n",
    "            subset = subset.split(\", \")[0].strip()\n",
    "\n",
    "            # removing \"member\" if applicable\n",
    "            if \"member\" in subset.lower():\n",
    "                memb_idx = subset.lower().find(\"member\")\n",
    "                subset = subset[: memb_idx].strip()\n",
    "\n",
    "            # removing \"vice chair\" if applicable\n",
    "            if \"vice chair\" in subset.lower():\n",
    "                memb_idx = subset.lower().find(\"vice chair\")\n",
    "                subset = subset[: memb_idx].strip()\n",
    "\n",
    "            # removing \"vice chair\" if applicable\n",
    "            if \"vice-chair\" in subset.lower():\n",
    "                memb_idx = subset.lower().find(\"vice-chair\")\n",
    "                subset = subset[: memb_idx].strip()\n",
    "\n",
    "            # return subset\n",
    "            adj_membs.append(subset)\n",
    "\n",
    "        return \", \".join(list(set([memb for memb in adj_membs if memb != \"\"]))) # removing empty and duplicate items\n",
    "    \n",
    "    ### If there's only one member found ###\n",
    "\n",
    "    kw_idx = case_content_str.lower().find(keyword)\n",
    "\n",
    "    subset = case_content_str[kw_idx + len(keyword): kw_idx + 100] # subsetting to an arbitrary distance after the keyword location\n",
    "    subset = subset.split(\", \")[0].strip()\n",
    "\n",
    "    # removing \"member\" if applicable\n",
    "    if \"member\" in subset.lower():\n",
    "        memb_idx = subset.lower().find(\"member\")\n",
    "        subset = subset[: memb_idx].strip()\n",
    "\n",
    "    # removing \"vice chair\" if applicable\n",
    "    if \"vice chair\" in subset.lower():\n",
    "        memb_idx = subset.lower().find(\"vice chair\")\n",
    "        subset = subset[: memb_idx].strip()\n",
    "\n",
    "    # removing \"vice chair\" if applicable\n",
    "    if \"vice-chair\" in subset.lower():\n",
    "        memb_idx = subset.lower().find(\"vice-chair\")\n",
    "        subset = subset[: memb_idx].strip()\n",
    "\n",
    "    return subset"
   ]
  },
  {
   "cell_type": "code",
   "execution_count": 58,
   "metadata": {},
   "outputs": [
    {
     "data": {
      "text/html": [
       "<div>\n",
       "<style scoped>\n",
       "    .dataframe tbody tr th:only-of-type {\n",
       "        vertical-align: middle;\n",
       "    }\n",
       "\n",
       "    .dataframe tbody tr th {\n",
       "        vertical-align: top;\n",
       "    }\n",
       "\n",
       "    .dataframe thead th {\n",
       "        text-align: right;\n",
       "    }\n",
       "</style>\n",
       "<table border=\"1\" class=\"dataframe\">\n",
       "  <thead>\n",
       "    <tr style=\"text-align: right;\">\n",
       "      <th></th>\n",
       "      <th>full_cleaned</th>\n",
       "      <th>metadata</th>\n",
       "      <th>content</th>\n",
       "      <th>citation</th>\n",
       "      <th>file_number</th>\n",
       "      <th>ltb_location</th>\n",
       "      <th>hearing_date</th>\n",
       "      <th>decision_date</th>\n",
       "      <th>adjudicating_member</th>\n",
       "    </tr>\n",
       "  </thead>\n",
       "  <tbody>\n",
       "    <tr>\n",
       "      <th>0</th>\n",
       "      <td>[Metadata:, Date: 2017-01-18, File number:, CE...</td>\n",
       "      <td>Date: 2017-01-18 File number: CEL-62600-16 CEL...</td>\n",
       "      <td>Arrears Worksheet File Number: CEL-62600-16 Ti...</td>\n",
       "      <td>CEL-62600-16 (Re), 2017 CanLII 9545 (ON LTB)</td>\n",
       "      <td>CEL-62600-16</td>\n",
       "      <td>Mississauga</td>\n",
       "      <td>1/5/2017</td>\n",
       "      <td>1/18/2017</td>\n",
       "      <td>Avril Cardoso</td>\n",
       "    </tr>\n",
       "  </tbody>\n",
       "</table>\n",
       "</div>"
      ],
      "text/plain": [
       "                                        full_cleaned  \\\n",
       "0  [Metadata:, Date: 2017-01-18, File number:, CE...   \n",
       "\n",
       "                                            metadata  \\\n",
       "0  Date: 2017-01-18 File number: CEL-62600-16 CEL...   \n",
       "\n",
       "                                             content  \\\n",
       "0  Arrears Worksheet File Number: CEL-62600-16 Ti...   \n",
       "\n",
       "                                       citation   file_number ltb_location  \\\n",
       "0  CEL-62600-16 (Re), 2017 CanLII 9545 (ON LTB)  CEL-62600-16  Mississauga   \n",
       "\n",
       "  hearing_date decision_date adjudicating_member  \n",
       "0     1/5/2017     1/18/2017       Avril Cardoso  "
      ]
     },
     "execution_count": 58,
     "metadata": {},
     "output_type": "execute_result"
    }
   ],
   "source": [
    "for row in silver_df.itertuples():\n",
    "\n",
    "    try:\n",
    "        silver_df.at[row.Index, 'adjudicating_member'] = get_adj_member(silver_df.loc[row.Index, 'content']).replace(\"Vice Chair\", \"\").replace(\"Vice-Chair\", \"\").strip()\n",
    "    except Exception as any_error:\n",
    "        silver_df.at[row.Index, 'adjudicating_member'] = \"MEMBER NOT FOUND\"\n",
    "\n",
    "silver_df.head(1)"
   ]
  },
  {
   "cell_type": "code",
   "execution_count": 59,
   "metadata": {},
   "outputs": [
    {
     "data": {
      "text/html": [
       "<div>\n",
       "<style scoped>\n",
       "    .dataframe tbody tr th:only-of-type {\n",
       "        vertical-align: middle;\n",
       "    }\n",
       "\n",
       "    .dataframe tbody tr th {\n",
       "        vertical-align: top;\n",
       "    }\n",
       "\n",
       "    .dataframe thead th {\n",
       "        text-align: right;\n",
       "    }\n",
       "</style>\n",
       "<table border=\"1\" class=\"dataframe\">\n",
       "  <thead>\n",
       "    <tr style=\"text-align: right;\">\n",
       "      <th></th>\n",
       "      <th>extraction</th>\n",
       "      <th>metric</th>\n",
       "      <th>score</th>\n",
       "    </tr>\n",
       "  </thead>\n",
       "  <tbody>\n",
       "    <tr>\n",
       "      <th>0</th>\n",
       "      <td>file number</td>\n",
       "      <td>accuracy</td>\n",
       "      <td>0.968750</td>\n",
       "    </tr>\n",
       "    <tr>\n",
       "      <th>1</th>\n",
       "      <td>file number</td>\n",
       "      <td>precision</td>\n",
       "      <td>1.000000</td>\n",
       "    </tr>\n",
       "    <tr>\n",
       "      <th>2</th>\n",
       "      <td>file number</td>\n",
       "      <td>recall</td>\n",
       "      <td>0.968750</td>\n",
       "    </tr>\n",
       "    <tr>\n",
       "      <th>3</th>\n",
       "      <td>file number</td>\n",
       "      <td>f1 score</td>\n",
       "      <td>0.968750</td>\n",
       "    </tr>\n",
       "    <tr>\n",
       "      <th>4</th>\n",
       "      <td>file number</td>\n",
       "      <td>Jaro-Winkler Similarity</td>\n",
       "      <td>0.997024</td>\n",
       "    </tr>\n",
       "    <tr>\n",
       "      <th>5</th>\n",
       "      <td>ltb location</td>\n",
       "      <td>accuracy</td>\n",
       "      <td>0.952381</td>\n",
       "    </tr>\n",
       "    <tr>\n",
       "      <th>6</th>\n",
       "      <td>ltb location</td>\n",
       "      <td>precision</td>\n",
       "      <td>0.982185</td>\n",
       "    </tr>\n",
       "    <tr>\n",
       "      <th>7</th>\n",
       "      <td>ltb location</td>\n",
       "      <td>recall</td>\n",
       "      <td>0.952381</td>\n",
       "    </tr>\n",
       "    <tr>\n",
       "      <th>8</th>\n",
       "      <td>ltb location</td>\n",
       "      <td>f1 score</td>\n",
       "      <td>0.951221</td>\n",
       "    </tr>\n",
       "    <tr>\n",
       "      <th>9</th>\n",
       "      <td>ltb location</td>\n",
       "      <td>Jaro-Winkler Similarity</td>\n",
       "      <td>0.953869</td>\n",
       "    </tr>\n",
       "    <tr>\n",
       "      <th>10</th>\n",
       "      <td>hearing date</td>\n",
       "      <td>accuracy</td>\n",
       "      <td>0.800595</td>\n",
       "    </tr>\n",
       "    <tr>\n",
       "      <th>11</th>\n",
       "      <td>hearing date</td>\n",
       "      <td>precision</td>\n",
       "      <td>0.923537</td>\n",
       "    </tr>\n",
       "    <tr>\n",
       "      <th>12</th>\n",
       "      <td>hearing date</td>\n",
       "      <td>recall</td>\n",
       "      <td>0.800595</td>\n",
       "    </tr>\n",
       "    <tr>\n",
       "      <th>13</th>\n",
       "      <td>hearing date</td>\n",
       "      <td>f1 score</td>\n",
       "      <td>0.806922</td>\n",
       "    </tr>\n",
       "    <tr>\n",
       "      <th>14</th>\n",
       "      <td>hearing date</td>\n",
       "      <td>Jaro-Winkler Similarity</td>\n",
       "      <td>0.973214</td>\n",
       "    </tr>\n",
       "    <tr>\n",
       "      <th>15</th>\n",
       "      <td>decision date</td>\n",
       "      <td>accuracy</td>\n",
       "      <td>0.892857</td>\n",
       "    </tr>\n",
       "    <tr>\n",
       "      <th>16</th>\n",
       "      <td>decision date</td>\n",
       "      <td>precision</td>\n",
       "      <td>0.967485</td>\n",
       "    </tr>\n",
       "    <tr>\n",
       "      <th>17</th>\n",
       "      <td>decision date</td>\n",
       "      <td>recall</td>\n",
       "      <td>0.892857</td>\n",
       "    </tr>\n",
       "    <tr>\n",
       "      <th>18</th>\n",
       "      <td>decision date</td>\n",
       "      <td>f1 score</td>\n",
       "      <td>0.894029</td>\n",
       "    </tr>\n",
       "    <tr>\n",
       "      <th>19</th>\n",
       "      <td>decision date</td>\n",
       "      <td>Jaro-Winkler Similarity</td>\n",
       "      <td>0.962798</td>\n",
       "    </tr>\n",
       "  </tbody>\n",
       "</table>\n",
       "</div>"
      ],
      "text/plain": [
       "       extraction                   metric     score\n",
       "0     file number                 accuracy  0.968750\n",
       "1     file number                precision  1.000000\n",
       "2     file number                   recall  0.968750\n",
       "3     file number                 f1 score  0.968750\n",
       "4     file number  Jaro-Winkler Similarity  0.997024\n",
       "5    ltb location                 accuracy  0.952381\n",
       "6    ltb location                precision  0.982185\n",
       "7    ltb location                   recall  0.952381\n",
       "8    ltb location                 f1 score  0.951221\n",
       "9    ltb location  Jaro-Winkler Similarity  0.953869\n",
       "10   hearing date                 accuracy  0.800595\n",
       "11   hearing date                precision  0.923537\n",
       "12   hearing date                   recall  0.800595\n",
       "13   hearing date                 f1 score  0.806922\n",
       "14   hearing date  Jaro-Winkler Similarity  0.973214\n",
       "15  decision date                 accuracy  0.892857\n",
       "16  decision date                precision  0.967485\n",
       "17  decision date                   recall  0.892857\n",
       "18  decision date                 f1 score  0.894029\n",
       "19  decision date  Jaro-Winkler Similarity  0.962798"
      ]
     },
     "execution_count": 59,
     "metadata": {},
     "output_type": "execute_result"
    }
   ],
   "source": [
    "gold_df['adjudicating_member'] = gold_df['adjudicating_member'].apply(lambda x: str(x))\n",
    "silver_df['adjudicating_member'] = silver_df['adjudicating_member'].apply(lambda x: str(x))\n",
    "\n",
    "# for metric in [\"accuracy\", \"precision\", \"recall\", \"f1 score\", \"Jaro-Winkler Similarity\"]:\n",
    "#     results[\"extraction\"].append(\"adjudicating member\")\n",
    "#     results['metric'].append(metric)\n",
    "#     results['score'].append(eval(y_pred = silver_df['adjudicating_member'], y_true = gold_df['adjudicating_member'], metric = metric))\n",
    "\n",
    "# results\n",
    "\n",
    "pd.DataFrame(results)"
   ]
  },
  {
   "cell_type": "code",
   "execution_count": 60,
   "metadata": {},
   "outputs": [
    {
     "data": {
      "text/html": [
       "<div>\n",
       "<style scoped>\n",
       "    .dataframe tbody tr th:only-of-type {\n",
       "        vertical-align: middle;\n",
       "    }\n",
       "\n",
       "    .dataframe tbody tr th {\n",
       "        vertical-align: top;\n",
       "    }\n",
       "\n",
       "    .dataframe thead th {\n",
       "        text-align: right;\n",
       "    }\n",
       "</style>\n",
       "<table border=\"1\" class=\"dataframe\">\n",
       "  <thead>\n",
       "    <tr style=\"text-align: right;\">\n",
       "      <th></th>\n",
       "      <th>Extraction</th>\n",
       "      <th>Metric</th>\n",
       "      <th>Score</th>\n",
       "    </tr>\n",
       "  </thead>\n",
       "  <tbody>\n",
       "    <tr>\n",
       "      <th>0</th>\n",
       "      <td>File Number</td>\n",
       "      <td>Accuracy</td>\n",
       "      <td>96.88</td>\n",
       "    </tr>\n",
       "    <tr>\n",
       "      <th>1</th>\n",
       "      <td>File Number</td>\n",
       "      <td>Precision</td>\n",
       "      <td>100.00</td>\n",
       "    </tr>\n",
       "    <tr>\n",
       "      <th>2</th>\n",
       "      <td>File Number</td>\n",
       "      <td>Recall</td>\n",
       "      <td>96.88</td>\n",
       "    </tr>\n",
       "    <tr>\n",
       "      <th>3</th>\n",
       "      <td>File Number</td>\n",
       "      <td>F1 Score</td>\n",
       "      <td>96.88</td>\n",
       "    </tr>\n",
       "    <tr>\n",
       "      <th>4</th>\n",
       "      <td>File Number</td>\n",
       "      <td>Jaro-Winkler Similarity</td>\n",
       "      <td>99.70</td>\n",
       "    </tr>\n",
       "    <tr>\n",
       "      <th>5</th>\n",
       "      <td>Ltb Location</td>\n",
       "      <td>Accuracy</td>\n",
       "      <td>95.24</td>\n",
       "    </tr>\n",
       "    <tr>\n",
       "      <th>6</th>\n",
       "      <td>Ltb Location</td>\n",
       "      <td>Precision</td>\n",
       "      <td>98.22</td>\n",
       "    </tr>\n",
       "    <tr>\n",
       "      <th>7</th>\n",
       "      <td>Ltb Location</td>\n",
       "      <td>Recall</td>\n",
       "      <td>95.24</td>\n",
       "    </tr>\n",
       "    <tr>\n",
       "      <th>8</th>\n",
       "      <td>Ltb Location</td>\n",
       "      <td>F1 Score</td>\n",
       "      <td>95.12</td>\n",
       "    </tr>\n",
       "    <tr>\n",
       "      <th>9</th>\n",
       "      <td>Ltb Location</td>\n",
       "      <td>Jaro-Winkler Similarity</td>\n",
       "      <td>95.39</td>\n",
       "    </tr>\n",
       "    <tr>\n",
       "      <th>10</th>\n",
       "      <td>Hearing Date</td>\n",
       "      <td>Accuracy</td>\n",
       "      <td>80.06</td>\n",
       "    </tr>\n",
       "    <tr>\n",
       "      <th>11</th>\n",
       "      <td>Hearing Date</td>\n",
       "      <td>Precision</td>\n",
       "      <td>92.35</td>\n",
       "    </tr>\n",
       "    <tr>\n",
       "      <th>12</th>\n",
       "      <td>Hearing Date</td>\n",
       "      <td>Recall</td>\n",
       "      <td>80.06</td>\n",
       "    </tr>\n",
       "    <tr>\n",
       "      <th>13</th>\n",
       "      <td>Hearing Date</td>\n",
       "      <td>F1 Score</td>\n",
       "      <td>80.69</td>\n",
       "    </tr>\n",
       "    <tr>\n",
       "      <th>14</th>\n",
       "      <td>Hearing Date</td>\n",
       "      <td>Jaro-Winkler Similarity</td>\n",
       "      <td>97.32</td>\n",
       "    </tr>\n",
       "    <tr>\n",
       "      <th>15</th>\n",
       "      <td>Decision Date</td>\n",
       "      <td>Accuracy</td>\n",
       "      <td>89.29</td>\n",
       "    </tr>\n",
       "    <tr>\n",
       "      <th>16</th>\n",
       "      <td>Decision Date</td>\n",
       "      <td>Precision</td>\n",
       "      <td>96.75</td>\n",
       "    </tr>\n",
       "    <tr>\n",
       "      <th>17</th>\n",
       "      <td>Decision Date</td>\n",
       "      <td>Recall</td>\n",
       "      <td>89.29</td>\n",
       "    </tr>\n",
       "    <tr>\n",
       "      <th>18</th>\n",
       "      <td>Decision Date</td>\n",
       "      <td>F1 Score</td>\n",
       "      <td>89.40</td>\n",
       "    </tr>\n",
       "    <tr>\n",
       "      <th>19</th>\n",
       "      <td>Decision Date</td>\n",
       "      <td>Jaro-Winkler Similarity</td>\n",
       "      <td>96.28</td>\n",
       "    </tr>\n",
       "  </tbody>\n",
       "</table>\n",
       "</div>"
      ],
      "text/plain": [
       "       Extraction                   Metric   Score\n",
       "0     File Number                 Accuracy   96.88\n",
       "1     File Number                Precision  100.00\n",
       "2     File Number                   Recall   96.88\n",
       "3     File Number                 F1 Score   96.88\n",
       "4     File Number  Jaro-Winkler Similarity   99.70\n",
       "5    Ltb Location                 Accuracy   95.24\n",
       "6    Ltb Location                Precision   98.22\n",
       "7    Ltb Location                   Recall   95.24\n",
       "8    Ltb Location                 F1 Score   95.12\n",
       "9    Ltb Location  Jaro-Winkler Similarity   95.39\n",
       "10   Hearing Date                 Accuracy   80.06\n",
       "11   Hearing Date                Precision   92.35\n",
       "12   Hearing Date                   Recall   80.06\n",
       "13   Hearing Date                 F1 Score   80.69\n",
       "14   Hearing Date  Jaro-Winkler Similarity   97.32\n",
       "15  Decision Date                 Accuracy   89.29\n",
       "16  Decision Date                Precision   96.75\n",
       "17  Decision Date                   Recall   89.29\n",
       "18  Decision Date                 F1 Score   89.40\n",
       "19  Decision Date  Jaro-Winkler Similarity   96.28"
      ]
     },
     "execution_count": 60,
     "metadata": {},
     "output_type": "execute_result"
    }
   ],
   "source": [
    "final_results_df = pd.DataFrame(results)\n",
    "final_results_df[\"Extraction\"] = final_results_df[\"extraction\"]\n",
    "final_results_df[\"Metric\"] = final_results_df[\"metric\"]\n",
    "final_results_df[\"Score\"] = final_results_df[\"score\"]\n",
    "\n",
    "final_results_df[\"Extraction\"] = final_results_df[\"extraction\"].apply(lambda x: x.title())\n",
    "final_results_df[\"Metric\"] = final_results_df[\"metric\"].apply(lambda x: x.title())\n",
    "final_results_df[\"Score\"] = final_results_df[\"score\"].apply(lambda x: round(x * 100, 2))\n",
    "\n",
    "final_results_df = final_results_df.drop(columns = ['extraction', 'metric', 'score'])\n",
    "final_results_df"
   ]
  },
  {
   "cell_type": "code",
   "execution_count": 63,
   "metadata": {},
   "outputs": [
    {
     "data": {
      "application/vnd.plotly.v1+json": {
       "config": {
        "plotlyServerURL": "https://plot.ly"
       },
       "data": [
        {
         "alignmentgroup": "True",
         "hovertemplate": "Metric=Accuracy<br>Extraction=%{x}<br>Score=%{text}<extra></extra>",
         "insidetextfont": {
          "color": "black",
          "family": "Times",
          "size": 13
         },
         "legendgroup": "Accuracy",
         "marker": {
          "color": "#f0f9e8",
          "pattern": {
           "shape": ""
          }
         },
         "name": "Accuracy",
         "offsetgroup": "Accuracy",
         "orientation": "v",
         "showlegend": true,
         "text": [
          96.88,
          95.24,
          80.06,
          89.29
         ],
         "textfont": {
          "color": "black",
          "family": "Times",
          "size": 10
         },
         "textposition": "inside",
         "type": "bar",
         "x": [
          "File Number",
          "Ltb Location",
          "Hearing Date",
          "Decision Date"
         ],
         "xaxis": "x",
         "y": [
          96.88,
          95.24,
          80.06,
          89.29
         ],
         "yaxis": "y"
        },
        {
         "alignmentgroup": "True",
         "hovertemplate": "Metric=Precision<br>Extraction=%{x}<br>Score=%{text}<extra></extra>",
         "insidetextfont": {
          "color": "black",
          "family": "Times",
          "size": 13
         },
         "legendgroup": "Precision",
         "marker": {
          "color": "#bae4bc",
          "pattern": {
           "shape": ""
          }
         },
         "name": "Precision",
         "offsetgroup": "Precision",
         "orientation": "v",
         "showlegend": true,
         "text": [
          100,
          98.22,
          92.35,
          96.75
         ],
         "textfont": {
          "color": "black",
          "family": "Times",
          "size": 10
         },
         "textposition": "inside",
         "type": "bar",
         "x": [
          "File Number",
          "Ltb Location",
          "Hearing Date",
          "Decision Date"
         ],
         "xaxis": "x",
         "y": [
          100,
          98.22,
          92.35,
          96.75
         ],
         "yaxis": "y"
        },
        {
         "alignmentgroup": "True",
         "hovertemplate": "Metric=Recall<br>Extraction=%{x}<br>Score=%{text}<extra></extra>",
         "insidetextfont": {
          "color": "black",
          "family": "Times",
          "size": 13
         },
         "legendgroup": "Recall",
         "marker": {
          "color": "#7bccc4",
          "pattern": {
           "shape": ""
          }
         },
         "name": "Recall",
         "offsetgroup": "Recall",
         "orientation": "v",
         "showlegend": true,
         "text": [
          96.88,
          95.24,
          80.06,
          89.29
         ],
         "textfont": {
          "color": "black",
          "family": "Times",
          "size": 10
         },
         "textposition": "inside",
         "type": "bar",
         "x": [
          "File Number",
          "Ltb Location",
          "Hearing Date",
          "Decision Date"
         ],
         "xaxis": "x",
         "y": [
          96.88,
          95.24,
          80.06,
          89.29
         ],
         "yaxis": "y"
        },
        {
         "alignmentgroup": "True",
         "hovertemplate": "Metric=F1 Score<br>Extraction=%{x}<br>Score=%{text}<extra></extra>",
         "insidetextfont": {
          "color": "black",
          "family": "Times",
          "size": 13
         },
         "legendgroup": "F1 Score",
         "marker": {
          "color": "#43a2ca",
          "pattern": {
           "shape": ""
          }
         },
         "name": "F1 Score",
         "offsetgroup": "F1 Score",
         "orientation": "v",
         "showlegend": true,
         "text": [
          96.88,
          95.12,
          80.69,
          89.4
         ],
         "textfont": {
          "color": "black",
          "family": "Times",
          "size": 10
         },
         "textposition": "inside",
         "type": "bar",
         "x": [
          "File Number",
          "Ltb Location",
          "Hearing Date",
          "Decision Date"
         ],
         "xaxis": "x",
         "y": [
          96.88,
          95.12,
          80.69,
          89.4
         ],
         "yaxis": "y"
        },
        {
         "alignmentgroup": "True",
         "hovertemplate": "Metric=Jaro-Winkler Similarity<br>Extraction=%{x}<br>Score=%{text}<extra></extra>",
         "insidetextfont": {
          "color": "black",
          "family": "Times",
          "size": 13
         },
         "legendgroup": "Jaro-Winkler Similarity",
         "marker": {
          "color": "#B2B1F6",
          "pattern": {
           "shape": ""
          }
         },
         "name": "Jaro-Winkler Similarity",
         "offsetgroup": "Jaro-Winkler Similarity",
         "orientation": "v",
         "showlegend": true,
         "text": [
          99.7,
          95.39,
          97.32,
          96.28
         ],
         "textfont": {
          "color": "black",
          "family": "Times",
          "size": 10
         },
         "textposition": "inside",
         "type": "bar",
         "x": [
          "File Number",
          "Ltb Location",
          "Hearing Date",
          "Decision Date"
         ],
         "xaxis": "x",
         "y": [
          99.7,
          95.39,
          97.32,
          96.28
         ],
         "yaxis": "y"
        }
       ],
       "layout": {
        "barmode": "group",
        "coloraxis": {
         "colorbar": {
          "tickfont": {
           "size": 15
          },
          "title": {
           "font": {
            "size": 20
           }
          }
         }
        },
        "legend": {
         "title": {
          "text": "Metric"
         },
         "tracegroupgap": 0
        },
        "template": {
         "data": {
          "bar": [
           {
            "error_x": {
             "color": "#2a3f5f"
            },
            "error_y": {
             "color": "#2a3f5f"
            },
            "marker": {
             "line": {
              "color": "#E5ECF6",
              "width": 0.5
             },
             "pattern": {
              "fillmode": "overlay",
              "size": 10,
              "solidity": 0.2
             }
            },
            "type": "bar"
           }
          ],
          "barpolar": [
           {
            "marker": {
             "line": {
              "color": "#E5ECF6",
              "width": 0.5
             },
             "pattern": {
              "fillmode": "overlay",
              "size": 10,
              "solidity": 0.2
             }
            },
            "type": "barpolar"
           }
          ],
          "carpet": [
           {
            "aaxis": {
             "endlinecolor": "#2a3f5f",
             "gridcolor": "white",
             "linecolor": "white",
             "minorgridcolor": "white",
             "startlinecolor": "#2a3f5f"
            },
            "baxis": {
             "endlinecolor": "#2a3f5f",
             "gridcolor": "white",
             "linecolor": "white",
             "minorgridcolor": "white",
             "startlinecolor": "#2a3f5f"
            },
            "type": "carpet"
           }
          ],
          "choropleth": [
           {
            "colorbar": {
             "outlinewidth": 0,
             "ticks": ""
            },
            "type": "choropleth"
           }
          ],
          "contour": [
           {
            "colorbar": {
             "outlinewidth": 0,
             "ticks": ""
            },
            "colorscale": [
             [
              0,
              "#0d0887"
             ],
             [
              0.1111111111111111,
              "#46039f"
             ],
             [
              0.2222222222222222,
              "#7201a8"
             ],
             [
              0.3333333333333333,
              "#9c179e"
             ],
             [
              0.4444444444444444,
              "#bd3786"
             ],
             [
              0.5555555555555556,
              "#d8576b"
             ],
             [
              0.6666666666666666,
              "#ed7953"
             ],
             [
              0.7777777777777778,
              "#fb9f3a"
             ],
             [
              0.8888888888888888,
              "#fdca26"
             ],
             [
              1,
              "#f0f921"
             ]
            ],
            "type": "contour"
           }
          ],
          "contourcarpet": [
           {
            "colorbar": {
             "outlinewidth": 0,
             "ticks": ""
            },
            "type": "contourcarpet"
           }
          ],
          "heatmap": [
           {
            "colorbar": {
             "outlinewidth": 0,
             "ticks": ""
            },
            "colorscale": [
             [
              0,
              "#0d0887"
             ],
             [
              0.1111111111111111,
              "#46039f"
             ],
             [
              0.2222222222222222,
              "#7201a8"
             ],
             [
              0.3333333333333333,
              "#9c179e"
             ],
             [
              0.4444444444444444,
              "#bd3786"
             ],
             [
              0.5555555555555556,
              "#d8576b"
             ],
             [
              0.6666666666666666,
              "#ed7953"
             ],
             [
              0.7777777777777778,
              "#fb9f3a"
             ],
             [
              0.8888888888888888,
              "#fdca26"
             ],
             [
              1,
              "#f0f921"
             ]
            ],
            "type": "heatmap"
           }
          ],
          "heatmapgl": [
           {
            "colorbar": {
             "outlinewidth": 0,
             "ticks": ""
            },
            "colorscale": [
             [
              0,
              "#0d0887"
             ],
             [
              0.1111111111111111,
              "#46039f"
             ],
             [
              0.2222222222222222,
              "#7201a8"
             ],
             [
              0.3333333333333333,
              "#9c179e"
             ],
             [
              0.4444444444444444,
              "#bd3786"
             ],
             [
              0.5555555555555556,
              "#d8576b"
             ],
             [
              0.6666666666666666,
              "#ed7953"
             ],
             [
              0.7777777777777778,
              "#fb9f3a"
             ],
             [
              0.8888888888888888,
              "#fdca26"
             ],
             [
              1,
              "#f0f921"
             ]
            ],
            "type": "heatmapgl"
           }
          ],
          "histogram": [
           {
            "marker": {
             "pattern": {
              "fillmode": "overlay",
              "size": 10,
              "solidity": 0.2
             }
            },
            "type": "histogram"
           }
          ],
          "histogram2d": [
           {
            "colorbar": {
             "outlinewidth": 0,
             "ticks": ""
            },
            "colorscale": [
             [
              0,
              "#0d0887"
             ],
             [
              0.1111111111111111,
              "#46039f"
             ],
             [
              0.2222222222222222,
              "#7201a8"
             ],
             [
              0.3333333333333333,
              "#9c179e"
             ],
             [
              0.4444444444444444,
              "#bd3786"
             ],
             [
              0.5555555555555556,
              "#d8576b"
             ],
             [
              0.6666666666666666,
              "#ed7953"
             ],
             [
              0.7777777777777778,
              "#fb9f3a"
             ],
             [
              0.8888888888888888,
              "#fdca26"
             ],
             [
              1,
              "#f0f921"
             ]
            ],
            "type": "histogram2d"
           }
          ],
          "histogram2dcontour": [
           {
            "colorbar": {
             "outlinewidth": 0,
             "ticks": ""
            },
            "colorscale": [
             [
              0,
              "#0d0887"
             ],
             [
              0.1111111111111111,
              "#46039f"
             ],
             [
              0.2222222222222222,
              "#7201a8"
             ],
             [
              0.3333333333333333,
              "#9c179e"
             ],
             [
              0.4444444444444444,
              "#bd3786"
             ],
             [
              0.5555555555555556,
              "#d8576b"
             ],
             [
              0.6666666666666666,
              "#ed7953"
             ],
             [
              0.7777777777777778,
              "#fb9f3a"
             ],
             [
              0.8888888888888888,
              "#fdca26"
             ],
             [
              1,
              "#f0f921"
             ]
            ],
            "type": "histogram2dcontour"
           }
          ],
          "mesh3d": [
           {
            "colorbar": {
             "outlinewidth": 0,
             "ticks": ""
            },
            "type": "mesh3d"
           }
          ],
          "parcoords": [
           {
            "line": {
             "colorbar": {
              "outlinewidth": 0,
              "ticks": ""
             }
            },
            "type": "parcoords"
           }
          ],
          "pie": [
           {
            "automargin": true,
            "type": "pie"
           }
          ],
          "scatter": [
           {
            "fillpattern": {
             "fillmode": "overlay",
             "size": 10,
             "solidity": 0.2
            },
            "type": "scatter"
           }
          ],
          "scatter3d": [
           {
            "line": {
             "colorbar": {
              "outlinewidth": 0,
              "ticks": ""
             }
            },
            "marker": {
             "colorbar": {
              "outlinewidth": 0,
              "ticks": ""
             }
            },
            "type": "scatter3d"
           }
          ],
          "scattercarpet": [
           {
            "marker": {
             "colorbar": {
              "outlinewidth": 0,
              "ticks": ""
             }
            },
            "type": "scattercarpet"
           }
          ],
          "scattergeo": [
           {
            "marker": {
             "colorbar": {
              "outlinewidth": 0,
              "ticks": ""
             }
            },
            "type": "scattergeo"
           }
          ],
          "scattergl": [
           {
            "marker": {
             "colorbar": {
              "outlinewidth": 0,
              "ticks": ""
             }
            },
            "type": "scattergl"
           }
          ],
          "scattermapbox": [
           {
            "marker": {
             "colorbar": {
              "outlinewidth": 0,
              "ticks": ""
             }
            },
            "type": "scattermapbox"
           }
          ],
          "scatterpolar": [
           {
            "marker": {
             "colorbar": {
              "outlinewidth": 0,
              "ticks": ""
             }
            },
            "type": "scatterpolar"
           }
          ],
          "scatterpolargl": [
           {
            "marker": {
             "colorbar": {
              "outlinewidth": 0,
              "ticks": ""
             }
            },
            "type": "scatterpolargl"
           }
          ],
          "scatterternary": [
           {
            "marker": {
             "colorbar": {
              "outlinewidth": 0,
              "ticks": ""
             }
            },
            "type": "scatterternary"
           }
          ],
          "surface": [
           {
            "colorbar": {
             "outlinewidth": 0,
             "ticks": ""
            },
            "colorscale": [
             [
              0,
              "#0d0887"
             ],
             [
              0.1111111111111111,
              "#46039f"
             ],
             [
              0.2222222222222222,
              "#7201a8"
             ],
             [
              0.3333333333333333,
              "#9c179e"
             ],
             [
              0.4444444444444444,
              "#bd3786"
             ],
             [
              0.5555555555555556,
              "#d8576b"
             ],
             [
              0.6666666666666666,
              "#ed7953"
             ],
             [
              0.7777777777777778,
              "#fb9f3a"
             ],
             [
              0.8888888888888888,
              "#fdca26"
             ],
             [
              1,
              "#f0f921"
             ]
            ],
            "type": "surface"
           }
          ],
          "table": [
           {
            "cells": {
             "fill": {
              "color": "#EBF0F8"
             },
             "line": {
              "color": "white"
             }
            },
            "header": {
             "fill": {
              "color": "#C8D4E3"
             },
             "line": {
              "color": "white"
             }
            },
            "type": "table"
           }
          ]
         },
         "layout": {
          "annotationdefaults": {
           "arrowcolor": "#2a3f5f",
           "arrowhead": 0,
           "arrowwidth": 1
          },
          "autotypenumbers": "strict",
          "coloraxis": {
           "colorbar": {
            "outlinewidth": 0,
            "ticks": ""
           }
          },
          "colorscale": {
           "diverging": [
            [
             0,
             "#8e0152"
            ],
            [
             0.1,
             "#c51b7d"
            ],
            [
             0.2,
             "#de77ae"
            ],
            [
             0.3,
             "#f1b6da"
            ],
            [
             0.4,
             "#fde0ef"
            ],
            [
             0.5,
             "#f7f7f7"
            ],
            [
             0.6,
             "#e6f5d0"
            ],
            [
             0.7,
             "#b8e186"
            ],
            [
             0.8,
             "#7fbc41"
            ],
            [
             0.9,
             "#4d9221"
            ],
            [
             1,
             "#276419"
            ]
           ],
           "sequential": [
            [
             0,
             "#0d0887"
            ],
            [
             0.1111111111111111,
             "#46039f"
            ],
            [
             0.2222222222222222,
             "#7201a8"
            ],
            [
             0.3333333333333333,
             "#9c179e"
            ],
            [
             0.4444444444444444,
             "#bd3786"
            ],
            [
             0.5555555555555556,
             "#d8576b"
            ],
            [
             0.6666666666666666,
             "#ed7953"
            ],
            [
             0.7777777777777778,
             "#fb9f3a"
            ],
            [
             0.8888888888888888,
             "#fdca26"
            ],
            [
             1,
             "#f0f921"
            ]
           ],
           "sequentialminus": [
            [
             0,
             "#0d0887"
            ],
            [
             0.1111111111111111,
             "#46039f"
            ],
            [
             0.2222222222222222,
             "#7201a8"
            ],
            [
             0.3333333333333333,
             "#9c179e"
            ],
            [
             0.4444444444444444,
             "#bd3786"
            ],
            [
             0.5555555555555556,
             "#d8576b"
            ],
            [
             0.6666666666666666,
             "#ed7953"
            ],
            [
             0.7777777777777778,
             "#fb9f3a"
            ],
            [
             0.8888888888888888,
             "#fdca26"
            ],
            [
             1,
             "#f0f921"
            ]
           ]
          },
          "colorway": [
           "#636efa",
           "#EF553B",
           "#00cc96",
           "#ab63fa",
           "#FFA15A",
           "#19d3f3",
           "#FF6692",
           "#B6E880",
           "#FF97FF",
           "#FECB52"
          ],
          "font": {
           "color": "#2a3f5f"
          },
          "geo": {
           "bgcolor": "white",
           "lakecolor": "white",
           "landcolor": "#E5ECF6",
           "showlakes": true,
           "showland": true,
           "subunitcolor": "white"
          },
          "hoverlabel": {
           "align": "left"
          },
          "hovermode": "closest",
          "mapbox": {
           "style": "light"
          },
          "paper_bgcolor": "white",
          "plot_bgcolor": "#E5ECF6",
          "polar": {
           "angularaxis": {
            "gridcolor": "white",
            "linecolor": "white",
            "ticks": ""
           },
           "bgcolor": "#E5ECF6",
           "radialaxis": {
            "gridcolor": "white",
            "linecolor": "white",
            "ticks": ""
           }
          },
          "scene": {
           "xaxis": {
            "backgroundcolor": "#E5ECF6",
            "gridcolor": "white",
            "gridwidth": 2,
            "linecolor": "white",
            "showbackground": true,
            "ticks": "",
            "zerolinecolor": "white"
           },
           "yaxis": {
            "backgroundcolor": "#E5ECF6",
            "gridcolor": "white",
            "gridwidth": 2,
            "linecolor": "white",
            "showbackground": true,
            "ticks": "",
            "zerolinecolor": "white"
           },
           "zaxis": {
            "backgroundcolor": "#E5ECF6",
            "gridcolor": "white",
            "gridwidth": 2,
            "linecolor": "white",
            "showbackground": true,
            "ticks": "",
            "zerolinecolor": "white"
           }
          },
          "shapedefaults": {
           "line": {
            "color": "#2a3f5f"
           }
          },
          "ternary": {
           "aaxis": {
            "gridcolor": "white",
            "linecolor": "white",
            "ticks": ""
           },
           "baxis": {
            "gridcolor": "white",
            "linecolor": "white",
            "ticks": ""
           },
           "bgcolor": "#E5ECF6",
           "caxis": {
            "gridcolor": "white",
            "linecolor": "white",
            "ticks": ""
           }
          },
          "title": {
           "x": 0.05
          },
          "xaxis": {
           "automargin": true,
           "gridcolor": "white",
           "linecolor": "white",
           "ticks": "",
           "title": {
            "standoff": 15
           },
           "zerolinecolor": "white",
           "zerolinewidth": 2
          },
          "yaxis": {
           "automargin": true,
           "gridcolor": "white",
           "linecolor": "white",
           "ticks": "",
           "title": {
            "standoff": 15
           },
           "zerolinecolor": "white",
           "zerolinewidth": 2
          }
         }
        },
        "title": {
         "font": {
          "size": 24
         },
         "text": "Evaluation of Rule-Based Extraction Methods on Labelled Dataset (672 cases)",
         "x": 0.5,
         "xanchor": "center",
         "y": 0.95
        },
        "xaxis": {
         "anchor": "y",
         "domain": [
          0,
          1
         ],
         "tickfont": {
          "size": 15
         },
         "title": {
          "font": {
           "size": 20
          },
          "text": "Extracted Information"
         }
        },
        "yaxis": {
         "anchor": "x",
         "domain": [
          0,
          1
         ],
         "tickfont": {
          "size": 15
         },
         "title": {
          "font": {
           "size": 20
          },
          "text": "Score (%)"
         }
        }
       }
      }
     },
     "metadata": {},
     "output_type": "display_data"
    }
   ],
   "source": [
    "color_palette = [\n",
    "    \"#f79256\",\n",
    "    \"#fbd1a2\",\n",
    "    \"#7dcfb6\",\n",
    "    \"#00b2ca\",\n",
    "    # \"#736FF6\", # darker purple\n",
    "    '#B2B1F6', # lighter purple\n",
    "    #\"#1d4e89\"] # my own custom\n",
    "    ]\n",
    "\n",
    "color_palette = [\n",
    "    \"#f0f9e8\",\n",
    "    \"#bae4bc\",\n",
    "    \"#7bccc4\",\n",
    "    \"#43a2ca\",\n",
    "    # \"#0868ac\"\n",
    "    \"#B2B1F6\"\n",
    "]\n",
    "\n",
    "# color_palette = ['#222222', '#AAAAAA', '#FFFFFF']  # Classic Neutrals\n",
    "# color_palette = ['#336699', '#6699CC', '#99CCFF']  # Corporate Blues\n",
    "# color_palette = ['#336633', '#66CC99', '#CCFFDD']  # Subtle Greens\n",
    "# color_palette = ['#333333', '#777777', '#CCCCCC']  # Sophisticated Grays\n",
    "# color_palette = ['#663399', '#9966CC', '#CC99FF']  # Professional Purples\n",
    "# color_palette = ['#444444', '#888888', '#DDDDDD']  # Elegant Monochrome\n",
    "\n",
    "# Create the bar chart with side-by-side bars and bar values\n",
    "fig = px.bar(final_results_df, x = 'Extraction', y = 'Score', color = 'Metric',\n",
    "             title = 'Bar Chart with Side-by-Side Bars', barmode = 'group',\n",
    "             text = 'Score',\n",
    "             color_discrete_sequence = color_palette)\n",
    "\n",
    "# Configure text position and format\n",
    "fig.update_traces(textposition = 'inside', textfont = dict(size = 10, color = 'black', family = 'Times'),\n",
    "                  insidetextfont = dict(size = 13, color = 'black', family = 'Times'))\n",
    "\n",
    "# updating title font \n",
    "fig.update_layout(\n",
    "    xaxis_title = \"Extracted Information\",\n",
    "    yaxis_title = \"Score (%)\", \n",
    "    title = {\n",
    "        'text': 'Evaluation of Rule-Based Extraction Methods on Labelled Dataset (672 cases)',\n",
    "        'font': {'size': 24},\n",
    "        'x': 0.5,  # Set x position to center\n",
    "        'xanchor': 'center',  # Set x anchor to center\n",
    "        'y': 0.95  # Adjust y position as needed\n",
    "    },\n",
    "    xaxis = {'title': 'Extraction', 'tickfont': {'size': 15}, 'title_font': {'size': 20}},\n",
    "    yaxis = {'title': 'Score', 'tickfont': {'size': 15}, 'title_font': {'size': 20}},\n",
    "    # coloraxis = {'colorbar': {'tickfont': {'family': 'times', 'weight': 'bold'}}}\n",
    "    coloraxis = {'colorbar': {'tickfont': {'size': 15}, 'title_font': {'size': 20}}}\n",
    ")\n",
    "\n",
    "# Display the chart\n",
    "fig.show()"
   ]
  },
  {
   "cell_type": "code",
   "execution_count": 64,
   "metadata": {},
   "outputs": [
    {
     "data": {
      "text/html": [
       "<div>\n",
       "<style scoped>\n",
       "    .dataframe tbody tr th:only-of-type {\n",
       "        vertical-align: middle;\n",
       "    }\n",
       "\n",
       "    .dataframe tbody tr th {\n",
       "        vertical-align: top;\n",
       "    }\n",
       "\n",
       "    .dataframe thead th {\n",
       "        text-align: right;\n",
       "    }\n",
       "</style>\n",
       "<table border=\"1\" class=\"dataframe\">\n",
       "  <thead>\n",
       "    <tr style=\"text-align: right;\">\n",
       "      <th></th>\n",
       "      <th>full_cleaned</th>\n",
       "      <th>metadata</th>\n",
       "      <th>content</th>\n",
       "      <th>citation</th>\n",
       "      <th>file_number</th>\n",
       "      <th>ltb_location</th>\n",
       "      <th>hearing_date</th>\n",
       "      <th>decision_date</th>\n",
       "      <th>adjudicating_member</th>\n",
       "    </tr>\n",
       "  </thead>\n",
       "  <tbody>\n",
       "    <tr>\n",
       "      <th>0</th>\n",
       "      <td>[Metadata:, Date: 2017-01-18, File number:, CE...</td>\n",
       "      <td>Date: 2017-01-18 File number: CEL-62600-16 CEL...</td>\n",
       "      <td>Arrears Worksheet File Number: CEL-62600-16 Ti...</td>\n",
       "      <td>CEL-62600-16 (Re), 2017 CanLII 9545 (ON LTB)</td>\n",
       "      <td>CEL-62600-16</td>\n",
       "      <td>Mississauga</td>\n",
       "      <td>1/5/2017</td>\n",
       "      <td>1/18/2017</td>\n",
       "      <td>Avril Cardoso</td>\n",
       "    </tr>\n",
       "    <tr>\n",
       "      <th>1</th>\n",
       "      <td>[Metadata:, Date: 2017-01-09, File number:, CE...</td>\n",
       "      <td>Date: 2017-01-09 File number: CEL-62852-16 CEL...</td>\n",
       "      <td>Arrears Worksheet File Number: CEL-62852-16 Ti...</td>\n",
       "      <td>CEL-62852-16 (Re), 2017 CanLII 9535 (ON LTB)</td>\n",
       "      <td>CEL-62852-16</td>\n",
       "      <td>Mississauga</td>\n",
       "      <td>12/14/2016</td>\n",
       "      <td>1/9/2017</td>\n",
       "      <td>Tiisetso Russell</td>\n",
       "    </tr>\n",
       "    <tr>\n",
       "      <th>2</th>\n",
       "      <td>[Metadata:, Date: 2017-01-09, File number:, CE...</td>\n",
       "      <td>Date: 2017-01-09 File number: CEL-63024-16 CEL...</td>\n",
       "      <td>Arrears Worksheet File Number: CEL-63024-16 Ti...</td>\n",
       "      <td>CEL-63024-16 (Re), 2017 CanLII 9543 (ON LTB)</td>\n",
       "      <td>CEL-63024-16</td>\n",
       "      <td>Mississauga</td>\n",
       "      <td>1/4/2017</td>\n",
       "      <td>1/9/2017</td>\n",
       "      <td>Tiisetso Russell</td>\n",
       "    </tr>\n",
       "    <tr>\n",
       "      <th>3</th>\n",
       "      <td>[Metadata:, Date: 2017-01-20, File number:, CE...</td>\n",
       "      <td>Date: 2017-01-20 File number: CEL-63056-16 CEL...</td>\n",
       "      <td>Arrears Worksheet File Number: CEL-63056-16 Ti...</td>\n",
       "      <td>CEL-63056-16 (Re), 2017 CanLII 9537 (ON LTB)</td>\n",
       "      <td>CEL-63056-16</td>\n",
       "      <td>Mississauga</td>\n",
       "      <td>1/4/2017</td>\n",
       "      <td>1/9/2017</td>\n",
       "      <td>Tiisetso Russell</td>\n",
       "    </tr>\n",
       "    <tr>\n",
       "      <th>4</th>\n",
       "      <td>[Metadata:, Date: 2017-02-03, File number:, CE...</td>\n",
       "      <td>Date: 2017-02-03 File number: CEL-63193-16 CEL...</td>\n",
       "      <td>Arrears Worksheet File Number: CEL-63193-16 Ti...</td>\n",
       "      <td>CEL-63193-16 (Re), 2017 CanLII 30828 (ON LTB)</td>\n",
       "      <td>CEL-63193-16</td>\n",
       "      <td>Mississauga</td>\n",
       "      <td>1/10/2017</td>\n",
       "      <td>2/3/2017</td>\n",
       "      <td>Karen Wallace</td>\n",
       "    </tr>\n",
       "    <tr>\n",
       "      <th>...</th>\n",
       "      <td>...</td>\n",
       "      <td>...</td>\n",
       "      <td>...</td>\n",
       "      <td>...</td>\n",
       "      <td>...</td>\n",
       "      <td>...</td>\n",
       "      <td>...</td>\n",
       "      <td>...</td>\n",
       "      <td>...</td>\n",
       "    </tr>\n",
       "    <tr>\n",
       "      <th>667</th>\n",
       "      <td>[Metadata:, Date: 2018-12-13, File number:, TS...</td>\n",
       "      <td>Date: 2018-12-13 File number: TSL-98918-18-RV ...</td>\n",
       "      <td>Order under Section 21.2 of the Statutory Powe...</td>\n",
       "      <td>TSL-98918-18-RV (Re), 2018 CanLII 141679 (ON LTB)</td>\n",
       "      <td>TSL-98918-18-RV</td>\n",
       "      <td>Toronto</td>\n",
       "      <td>11/8/2018</td>\n",
       "      <td>12/13/2018</td>\n",
       "      <td>Nancy Henderson</td>\n",
       "    </tr>\n",
       "    <tr>\n",
       "      <th>668</th>\n",
       "      <td>[Metadata:, Date: 2018-11-23, File number:, TS...</td>\n",
       "      <td>Date: 2018-11-23 File number: TSL-99691-18 TSL...</td>\n",
       "      <td>Order under Section 69 Residential Tenancies A...</td>\n",
       "      <td>TSL-99691-18 (Re), 2018 CanLII 141675 (ON LTB)</td>\n",
       "      <td>TSL-99691-18</td>\n",
       "      <td>Toronto</td>\n",
       "      <td>11/20/2018</td>\n",
       "      <td>11/23/2018</td>\n",
       "      <td>David Lee</td>\n",
       "    </tr>\n",
       "    <tr>\n",
       "      <th>669</th>\n",
       "      <td>[Metadata:, Date: 2018-11-29, File number:, TS...</td>\n",
       "      <td>Date: 2018-11-29 File number: TSL-99824-18 TSL...</td>\n",
       "      <td>Order under Section 69 Residential Tenancies A...</td>\n",
       "      <td>TSL-99824-18 (Re), 2018 CanLII 141673 (ON LTB)</td>\n",
       "      <td>TSL-99824-18</td>\n",
       "      <td>Toronto</td>\n",
       "      <td>11/23/2018</td>\n",
       "      <td>11/29/2018</td>\n",
       "      <td>Renée Lang</td>\n",
       "    </tr>\n",
       "    <tr>\n",
       "      <th>670</th>\n",
       "      <td>[Metadata:, Date: 2018-12-12, File number:, TS...</td>\n",
       "      <td>Date: 2018-12-12 File number: TSL-99900-18 TSL...</td>\n",
       "      <td>Order under Section 69 Residential Tenancies A...</td>\n",
       "      <td>TSL-99900-18 (Re), 2018 CanLII 140403 (ON LTB)</td>\n",
       "      <td>TSL-99900-18</td>\n",
       "      <td>Toronto</td>\n",
       "      <td>12/4/2018</td>\n",
       "      <td>12/12/2018</td>\n",
       "      <td>David Mungovan</td>\n",
       "    </tr>\n",
       "    <tr>\n",
       "      <th>671</th>\n",
       "      <td>[Metadata:, Date: 2018-11-20, File number:, TS...</td>\n",
       "      <td>Date: 2018-11-20 File number: TSL-99965-18 TSL...</td>\n",
       "      <td>Order under Section 69 Residential Tenancies A...</td>\n",
       "      <td>TSL-99965-18 (Re), 2018 CanLII 141672 (ON LTB)</td>\n",
       "      <td>TSL-99965-18</td>\n",
       "      <td>Toronto</td>\n",
       "      <td>11/2/2018</td>\n",
       "      <td>11/20/2018</td>\n",
       "      <td>David Lee</td>\n",
       "    </tr>\n",
       "  </tbody>\n",
       "</table>\n",
       "<p>672 rows × 9 columns</p>\n",
       "</div>"
      ],
      "text/plain": [
       "                                          full_cleaned  \\\n",
       "0    [Metadata:, Date: 2017-01-18, File number:, CE...   \n",
       "1    [Metadata:, Date: 2017-01-09, File number:, CE...   \n",
       "2    [Metadata:, Date: 2017-01-09, File number:, CE...   \n",
       "3    [Metadata:, Date: 2017-01-20, File number:, CE...   \n",
       "4    [Metadata:, Date: 2017-02-03, File number:, CE...   \n",
       "..                                                 ...   \n",
       "667  [Metadata:, Date: 2018-12-13, File number:, TS...   \n",
       "668  [Metadata:, Date: 2018-11-23, File number:, TS...   \n",
       "669  [Metadata:, Date: 2018-11-29, File number:, TS...   \n",
       "670  [Metadata:, Date: 2018-12-12, File number:, TS...   \n",
       "671  [Metadata:, Date: 2018-11-20, File number:, TS...   \n",
       "\n",
       "                                              metadata  \\\n",
       "0    Date: 2017-01-18 File number: CEL-62600-16 CEL...   \n",
       "1    Date: 2017-01-09 File number: CEL-62852-16 CEL...   \n",
       "2    Date: 2017-01-09 File number: CEL-63024-16 CEL...   \n",
       "3    Date: 2017-01-20 File number: CEL-63056-16 CEL...   \n",
       "4    Date: 2017-02-03 File number: CEL-63193-16 CEL...   \n",
       "..                                                 ...   \n",
       "667  Date: 2018-12-13 File number: TSL-98918-18-RV ...   \n",
       "668  Date: 2018-11-23 File number: TSL-99691-18 TSL...   \n",
       "669  Date: 2018-11-29 File number: TSL-99824-18 TSL...   \n",
       "670  Date: 2018-12-12 File number: TSL-99900-18 TSL...   \n",
       "671  Date: 2018-11-20 File number: TSL-99965-18 TSL...   \n",
       "\n",
       "                                               content  \\\n",
       "0    Arrears Worksheet File Number: CEL-62600-16 Ti...   \n",
       "1    Arrears Worksheet File Number: CEL-62852-16 Ti...   \n",
       "2    Arrears Worksheet File Number: CEL-63024-16 Ti...   \n",
       "3    Arrears Worksheet File Number: CEL-63056-16 Ti...   \n",
       "4    Arrears Worksheet File Number: CEL-63193-16 Ti...   \n",
       "..                                                 ...   \n",
       "667  Order under Section 21.2 of the Statutory Powe...   \n",
       "668  Order under Section 69 Residential Tenancies A...   \n",
       "669  Order under Section 69 Residential Tenancies A...   \n",
       "670  Order under Section 69 Residential Tenancies A...   \n",
       "671  Order under Section 69 Residential Tenancies A...   \n",
       "\n",
       "                                              citation      file_number  \\\n",
       "0         CEL-62600-16 (Re), 2017 CanLII 9545 (ON LTB)     CEL-62600-16   \n",
       "1         CEL-62852-16 (Re), 2017 CanLII 9535 (ON LTB)     CEL-62852-16   \n",
       "2         CEL-63024-16 (Re), 2017 CanLII 9543 (ON LTB)     CEL-63024-16   \n",
       "3         CEL-63056-16 (Re), 2017 CanLII 9537 (ON LTB)     CEL-63056-16   \n",
       "4        CEL-63193-16 (Re), 2017 CanLII 30828 (ON LTB)     CEL-63193-16   \n",
       "..                                                 ...              ...   \n",
       "667  TSL-98918-18-RV (Re), 2018 CanLII 141679 (ON LTB)  TSL-98918-18-RV   \n",
       "668     TSL-99691-18 (Re), 2018 CanLII 141675 (ON LTB)     TSL-99691-18   \n",
       "669     TSL-99824-18 (Re), 2018 CanLII 141673 (ON LTB)     TSL-99824-18   \n",
       "670     TSL-99900-18 (Re), 2018 CanLII 140403 (ON LTB)     TSL-99900-18   \n",
       "671     TSL-99965-18 (Re), 2018 CanLII 141672 (ON LTB)     TSL-99965-18   \n",
       "\n",
       "    ltb_location hearing_date decision_date adjudicating_member  \n",
       "0    Mississauga     1/5/2017     1/18/2017       Avril Cardoso  \n",
       "1    Mississauga   12/14/2016      1/9/2017    Tiisetso Russell  \n",
       "2    Mississauga     1/4/2017      1/9/2017    Tiisetso Russell  \n",
       "3    Mississauga     1/4/2017      1/9/2017    Tiisetso Russell  \n",
       "4    Mississauga    1/10/2017      2/3/2017       Karen Wallace  \n",
       "..           ...          ...           ...                 ...  \n",
       "667      Toronto    11/8/2018    12/13/2018     Nancy Henderson  \n",
       "668      Toronto   11/20/2018    11/23/2018           David Lee  \n",
       "669      Toronto   11/23/2018    11/29/2018          Renée Lang  \n",
       "670      Toronto    12/4/2018    12/12/2018      David Mungovan  \n",
       "671      Toronto    11/2/2018    11/20/2018           David Lee  \n",
       "\n",
       "[672 rows x 9 columns]"
      ]
     },
     "execution_count": 64,
     "metadata": {},
     "output_type": "execute_result"
    }
   ],
   "source": [
    "silver_df"
   ]
  },
  {
   "cell_type": "code",
   "execution_count": 66,
   "metadata": {},
   "outputs": [
    {
     "data": {
      "text/plain": [
       "[\"Arrears Worksheet File Number: CEL-62600-16 Time period for Arrears Owing From: September 1, 2016 to November 5, 2016 (From the commencement of arrears to the termination date in the notice, or the end of the rental period if the tenancy is not being terminated.) Part 1 - Calculations of Arrears Owing (A) Rent Period (monthly, weekly, etc.) (B) Rent Charged (C) Lawful Rent (if issue raised) (D) Lower of (B) and (C) (E) Rent Paid (F) Amount Owing (D-E) 01/09/2016 - 30/09/2016 $1,760.00 $1,760.00 $1,760.00 01/10/2016 - 31/10/2016 $1,760.00 $1,760.00 $1,760.00 01/11/2016 - 05/11/2016 $289.32 $289.32 $289.32 **Part Month ** To calculate the Rent for part of a month, use the following formula for columns (B), (C) and (D): Monthly Rent X 12 X # Days 365 (F) Total Rent Owing $3,809.32 (G1) Arrears Owing $3,809.32 [From (F)] (G2) Arrears Claimed $5,450.00 (G3) Include whichever is less when Calculation Total Arrears Owing $3,809.32 (H1) Payment to Landlord $5,280.00 (I) Total Amount Owing -$1,470.68 Part II - Calculation of Compensation (Use this part if the tenancy is being terminated) (J) (i) Lump Sum Compensation Start Date November 6, 2016 (Day after termination date in notice) (ii) Lump Sum Compensation End Date January 13, 2016 (Date of order) (K) Daily Compensation (Monthly Rent X 12) $57.86 365 (L) Number of Days for Lump Sum Compensation 0 day (# days between start date and order date - inclusive) (M) Total Lump Sum Compensation $0.00 [(K) X (L)] = Part IV - Total Amount Owing (Q) Terminating the tenancy [I+M-P] -$1,470.68 Order under Section 69 Residential Tenancies Act, 2006 File Number: CEL-62600-16 In the matter of: Between: M H Landlord and C K Tenant M H (the 'Landlord') applied for an order to terminate the tenancy and evict C K (the 'Tenant') because the Tenant did not pay the rent that the Tenant owes (L1 Application)\",\n",
       " \"The Landlord also applied for an order to terminate the tenancy and evict C K (the 'Tenant') because: 1) she, another occupant of the rental unit or someone she permitted in the residential complex has wilfully or negligently caused undue damage to the premises\",\n",
       " 'The Landlord has also applied for an order requiring the Tenant to compensate the Landlord for the damage; 2) she, another occupant of the rental unit or someone she permitted in the residential complex has substantially interfered with the reasonable enjoyment or lawful right, privilege or interest of the Landlord or another tenant; 3) she or another occupant of the rental unit has committed an illegal act or has carried out, in the rental unit or the residential complex (L2 Application)',\n",
       " 'The Landlord also claimed compensation for each day the Tenant remained in the unit after the termination date',\n",
       " 'These applications were heard in Mississauga on January 5, 2017',\n",
       " \"Only the Landlord and Landlord's Legal Representative, F\",\n",
       " 'O attended the hearing',\n",
       " 'L',\n",
       " 'de M (LD) was a Witness for the Landlord',\n",
       " 'Determinations and Reasons: Regarding L1 rent arrears application: 1',\n",
       " 'The Tenant has not paid the total rent she was required to pay for the period from September 1, 2016 to December 31, 2016',\n",
       " 'Because of the arrears, the Landlord served a Notice of Termination effective November 5, 2016',\n",
       " '2',\n",
       " 'The Tenant paid $5,280.00 after the application was filed',\n",
       " 'L2 Application: N5 Substantial Interference and Damages 3',\n",
       " 'There are two units in a semi-detached home',\n",
       " 'The Tenant lives on the main floor and another tenant rents the basement unit',\n",
       " 'The driveway is shared',\n",
       " '4',\n",
       " 'On October 27, 2016, the Landlord served the Tenant with a first N5 Notice to End your Tenancy for Interfering with Others, Damage or Overcrowding (N5 Notice) in accordance with section 64(1) of the Residential Tenancies Act, 2006 (the ‘Act’)',\n",
       " 'The N5 Notice has a termination date of November 17, 2016 and alleges that the conduct of the Tenant substantially interfered with the reasonable enjoyment of the residential complex and the Tenant has wilfully or negligently damaged the rental unit or residential complex',\n",
       " '5',\n",
       " 'The N5 Notice sets out the dates, times and specific allegations against the Tenant',\n",
       " '6',\n",
       " 'Because this is a first N5 Notice, the Tenant has an opportunity to void the notice in accordance with section 64(3) of the Act by correcting the identified problems within seven days of the date the notice was served',\n",
       " 'In this case, the seven day period begins the day following service of the N5 Notice, from October 28th to November 3rd, 2016',\n",
       " \"The Landlord's Legal Representative confirmed that the first N5 Notice was not voided because the conduct has not stopped since the notice was served and the Tenant has not paid $500.00 required to replace or replace the damaged property\",\n",
       " 'Window screens 7',\n",
       " 'The Tenant negligently caused undue damage to the rental unit and residential complex by damaging the screens on two windows and the patio door',\n",
       " 'The photos submitted into evidence support a finding of negligence because the screens were badly torn which did not occur from usual wear and tear',\n",
       " 'The Landlord is entitled to the cost claimed of $300.00 to repair the window screens',\n",
       " 'The Landlord provided an invoice to support this claim',\n",
       " 'Conduct issues 8',\n",
       " 'The conduct of the Tenant substantially interfered with the reasonable enjoyment of the Landlord and other tenant for the following reasons: 9',\n",
       " 'The City of Mississauga issued a Notice of Contravention in April 2016 regarding debris located on the property because of the Tenant’s failure to properly store her garbage',\n",
       " 'A copy of the Notice was submitted; 10',\n",
       " 'The City of Mississauga also informed the Landlord about a noise complaint because the Tenant’s dog was barking for hours while left unattended in the backyard disturbing the neighbours',\n",
       " 'The Landlord submitted a copy of this letter into evidence; 11',\n",
       " 'Based on the testimony of the Landlord, the Tenant parks in the adjacent neighbour’s driveway and the Landlord receives complaints from the neighbour; 12',\n",
       " 'On August 29th the Tenant left her dog unattended in a common area of the residential complex and the Landlord was unable to show the unit to prospective renters',\n",
       " 'The Tenant fails to respond to the Landlord’s requests to control her dog',\n",
       " 'The Landlord submitted a text message sent to the Tenant regarding this issue on October 27th; 13',\n",
       " 'The Tenant installed a lock on the gate to the shared backyard and refused to remove the lock',\n",
       " 'The Landlord submitted a text message sent to the Tenant on August 23rd requesting a key to which the Tenant responded with foul language to leave her alone',\n",
       " 'Consequently the Landlord changed the lock and provided the tenants with keys; 14',\n",
       " 'The Tenant changed the lock on the entry door to the basement unit without the Landlord’s consent',\n",
       " 'Section 35 of the Act specifies that a tenant shall not alter the locking system on a door giving entry to a rental unit or residential complex without the consent of the Landlord',\n",
       " 'The Landlord is entitled to her costs for installing a new lock of $200.00 which she supported with an invoice; 15',\n",
       " 'The Tenant leaves her clothes in the laundry room and leaves kitty litter under the sink such that it interferes with the use of the laundry room by the other tenant',\n",
       " 'The Landlord has received numerous complaints from the other tenant regarding inability to do laundry and despite the creation of a laundry schedule, the issue continues',\n",
       " 'Photos of the laundry room and text messages reporting the issues were submitted into evidence; 16',\n",
       " 'The Tenant plays loud music and makes excessive noise at late hours',\n",
       " 'These incidents occurred on November 21st, 25th and 29th and continue on a regular basis',\n",
       " 'The Tenant yells and swears at the Landlord and the downstairs tenant',\n",
       " 'In support of this testimony, the Landlord submitted text messages',\n",
       " 'The downstairs tenant, LD testified about the ongoing issues with interference with laundry, loud arguments with the tenant and the tenant’s threat to turn her dog loose on him',\n",
       " 'LD also played an audio of one of the arguments in which the Tenant was heard yelling loudly and aggressively',\n",
       " 'He said the Tenant also forced open the entry door to his unit in November and began screaming at him',\n",
       " 'LD called the police; 17',\n",
       " 'LD also testified that he complained to the City of Mississauga about the noise but the Tenant’s behaviour continues',\n",
       " 'He said he would move out if the Tenant continues to live at the rental unit',\n",
       " 'Illegal Act (N6) 18',\n",
       " 'On October 27, 2016, the Landlord served the Tenant with an N6 Notice to End your Tenancy for Illegal Acts in accordance with section 61(1) of the Act',\n",
       " 'The N6 Notice has a termination date of November 17, 2016 and alleges that the Tenant physically assaulted the downstairs tenant on October 22, 2016',\n",
       " '19',\n",
       " 'The Tenant committed an illegal act by placing her fingers on LD’s face and pushing him on September 17th, 2016 which constitutes assault',\n",
       " 'The police were called',\n",
       " 'While the notice specified that an assault occurred on October 22nd, 2016 the testimony was that the conduct complained of occurred on September 17th',\n",
       " 'However the notice provided the Tenant with sufficient details to understand the allegation',\n",
       " 'Relief from eviction 20',\n",
       " 'The Landlord seeks eviction as soon as possible',\n",
       " 'The other tenant intends to move because of the unrelenting issues he experiences on a daily basis because of the Tenant’s conduct',\n",
       " '21',\n",
       " 'No circumstances were disclosed in accordance with subsection 83(2) of the Act to consider relief from eviction pursuant to subsection 83(1) of the Act',\n",
       " 'It is ordered that: 1',\n",
       " 'The tenancy between the Landlord and the Tenant is terminated',\n",
       " 'The Tenant must move out of the rental unit on or before January 29, 2017',\n",
       " '2',\n",
       " 'The Tenant shall pay to the Landlord $1,012.21*, which represents the amount of rent owing and compensation up to January 18, 2017, less the rent deposit and interest the Landlord owes on the rent deposit',\n",
       " '3',\n",
       " 'The Tenant shall pay also to the Landlord $500.00, which represents the reasonable costs of repairing the damage and replacing the damaged property',\n",
       " '4',\n",
       " 'The Tenant shall also pay to the Landlord $170.00 for the cost of filing the application',\n",
       " '5',\n",
       " 'The Tenant shall also pay to the Landlord $57.86 per day for compensation for the use of the unit starting January 19, 2017 to the date she moves out of the unit',\n",
       " '6',\n",
       " 'If the Tenant does not pay the Landlord the full amount owing* on or before January 29, 2017, the Tenant will start to owe interest',\n",
       " 'This will be simple interest calculated from January 30, 2017 at 2.00% annually on the balance outstanding',\n",
       " '7',\n",
       " 'If the unit is not vacated on or before January 29, 2017, then starting January 30, 2017, the Landlord may file this order with the Court Enforcement Office (Sheriff) so that the eviction may be enforced',\n",
       " '8',\n",
       " 'Upon receipt of this order, the Court Enforcement Office (Sheriff) is directed to give vacant possession of the unit to the Landlord, on or after January 30, 2017',\n",
       " 'January 18, 2017 Date Issued Avril Cardoso Member, Landlord and Tenant Board Central-RO 3 Robert Speck Pkwy, 5th Floor Mississauga ON L4Z2G5 If you have any questions about this order, call 416-645-8080 or toll free at 1-888-332-3234',\n",
       " 'In accordance with section 81 of the Act, the part of this order relating to the eviction expires on July 30, 2017 if the order has not been filed on or before this date with the Court Enforcement Office (Sheriff) that has territorial jurisdiction where the rental unit is located',\n",
       " '* Refer to the attached Summary of Calculations',\n",
       " 'Schedule 1 SUMMARY OF CALCULATIONS File Number: CEL-62600-16 Reasons for amount owing Period Amount Arrears: (up to the termination date in the Notice of Termination) September 1, 2016 to November 5, 2016 $3,809.32 Less the amount the Tenant paid to the Landlord -$5,280.00 Plus compensation: (from the day after the termination date in the Notice to the date of the order) November 6, 2016 to January 18, 2017 $4,281.64 Less the rent deposit: -$1,760.00 Less the interest owing on the rent deposit: October 1, 2015 to November 5, 2016 -$38.75 Amount owing to the Landlord on the order date:(total of previous boxes) $1,012.21 Additional costs the Tenant must pay to the Landlord: $170.00 Plus daily compensation owing for each day of occupation starting January 19, 2017: $57.86 (per day) Total the Tenant must pay the Landlord as the tenancy is terminated: $1,182.21, + $57.86 per day starting January 19, 2017']"
      ]
     },
     "execution_count": 66,
     "metadata": {},
     "output_type": "execute_result"
    }
   ],
   "source": [
    "silver_df.loc[0, 'content'].split(\". \")"
   ]
  },
  {
   "cell_type": "code",
   "execution_count": 69,
   "metadata": {},
   "outputs": [
    {
     "data": {
      "text/plain": [
       "Index(['raw_file_text', 'raw_file_name', 'full_cleaned', 'metadata', 'content',\n",
       "       'case_citation', 'file_number', 'language', 'year', 'ltb_location',\n",
       "       'decision_date', 'hearing_date', 'url', 'adjudicating_member',\n",
       "       'new_case_outcome', 'new_hearing_date', 'new_decision_date'],\n",
       "      dtype='object')"
      ]
     },
     "execution_count": 69,
     "metadata": {},
     "output_type": "execute_result"
    }
   ],
   "source": [
    "gold_df.columns"
   ]
  },
  {
   "cell_type": "code",
   "execution_count": 75,
   "metadata": {},
   "outputs": [
    {
     "data": {
      "text/plain": [
       "2/12/2018     0.014881\n",
       "5/4/2018      0.010417\n",
       "3/22/2018     0.010417\n",
       "6/6/2018      0.010417\n",
       "5/16/2018     0.010417\n",
       "                ...   \n",
       "8/7/2020      0.001488\n",
       "6/25/2020     0.001488\n",
       "5/8/2020      0.001488\n",
       "1/16/2017     0.001488\n",
       "11/20/2018    0.001488\n",
       "Name: new_decision_date, Length: 353, dtype: float64"
      ]
     },
     "execution_count": 75,
     "metadata": {},
     "output_type": "execute_result"
    }
   ],
   "source": [
    "gold_df['new_decision_date'].value_counts(normalize = True)"
   ]
  }
 ],
 "metadata": {
  "kernelspec": {
   "display_name": "base",
   "language": "python",
   "name": "python3"
  },
  "language_info": {
   "codemirror_mode": {
    "name": "ipython",
    "version": 3
   },
   "file_extension": ".py",
   "mimetype": "text/x-python",
   "name": "python",
   "nbconvert_exporter": "python",
   "pygments_lexer": "ipython3",
   "version": "3.10.2"
  },
  "orig_nbformat": 4
 },
 "nbformat": 4,
 "nbformat_minor": 2
}
