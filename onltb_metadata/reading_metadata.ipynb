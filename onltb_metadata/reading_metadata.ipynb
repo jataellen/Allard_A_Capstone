{
 "cells": [
  {
   "cell_type": "markdown",
   "id": "bfb66a94-85cd-40c2-ab4f-50f7ad1ab0bc",
   "metadata": {},
   "source": [
    "The API call for the data: `https://api.canlii.org/v1/caseBrowse/en/onltb/?offset=50000&resultCount=10000&api_key=oPjUfEkjiL2FFv1YAfM4qabAC4VvUsVQ6w2ieso7`\n",
    "(`offset=50000` was changed from 0, 10000, 20000, 30000 and 40000)"
   ]
  },
  {
   "cell_type": "code",
   "execution_count": 1,
   "id": "aff40f9e-b457-48b6-bbd6-b6eee9d037aa",
   "metadata": {},
   "outputs": [],
   "source": [
    "import json"
   ]
  },
  {
   "cell_type": "code",
   "execution_count": 2,
   "id": "833c50af-83dd-4695-aaca-625f40de2f3f",
   "metadata": {},
   "outputs": [],
   "source": [
    "path = 'json_files/'"
   ]
  },
  {
   "cell_type": "code",
   "execution_count": 3,
   "id": "15744c6f-4a2d-498b-98d6-0c6562769eed",
   "metadata": {},
   "outputs": [],
   "source": [
    "def read_json(batch):\n",
    "    with open (path+f'ltb_cases_metadata_{batch}0000.json') as f:\n",
    "        meta = json.load(f)\n",
    "        print(len(meta['cases']))\n",
    "    return meta['cases']"
   ]
  },
  {
   "cell_type": "code",
   "execution_count": 4,
   "id": "20cc76c8-4f15-4176-9cec-07bb080d8bf7",
   "metadata": {},
   "outputs": [
    {
     "name": "stdout",
     "output_type": "stream",
     "text": [
      "10000\n",
      "10000\n",
      "10000\n",
      "10000\n",
      "5107\n"
     ]
    }
   ],
   "source": [
    "metadata = []\n",
    "for i in range(1,6):\n",
    "    batch_data = read_json(i)\n",
    "    metadata += batch_data"
   ]
  },
  {
   "cell_type": "code",
   "execution_count": 5,
   "id": "dd579278-2c6f-4ccd-b18f-64abf1889969",
   "metadata": {},
   "outputs": [
    {
     "data": {
      "text/plain": [
       "45107"
      ]
     },
     "execution_count": 5,
     "metadata": {},
     "output_type": "execute_result"
    }
   ],
   "source": [
    "len(metadata)"
   ]
  },
  {
   "cell_type": "code",
   "execution_count": 6,
   "id": "84a01656-8fea-4b66-8bb9-802dec2df6f1",
   "metadata": {},
   "outputs": [
    {
     "data": {
      "text/plain": [
       "{'databaseId': 'onltb',\n",
       " 'caseId': {'en': '2022canlii63754'},\n",
       " 'title': 'Hazelview Property Services Inc. v Terrell',\n",
       " 'citation': '2022 CanLII 63754 (ON LTB)'}"
      ]
     },
     "execution_count": 6,
     "metadata": {},
     "output_type": "execute_result"
    }
   ],
   "source": [
    "metadata[0]"
   ]
  },
  {
   "cell_type": "code",
   "execution_count": 7,
   "id": "c29d4074-8062-4e1d-b160-cf7b0b129a7e",
   "metadata": {},
   "outputs": [
    {
     "name": "stdout",
     "output_type": "stream",
     "text": [
      "45084 23\n",
      "No duplicate case is spotted!\n"
     ]
    }
   ],
   "source": [
    "# test if any duplicate\n",
    "caseids = set()\n",
    "non_en_num = 0\n",
    "non_en = []\n",
    "for d in metadata:\n",
    "    if list(d['caseId'].keys()) != ['en']:\n",
    "        non_en_num += 1\n",
    "        non_en.append(d)\n",
    "        pass\n",
    "    else:\n",
    "        caseids.add(d['caseId']['en'])\n",
    "print(len(caseids), non_en_num)\n",
    "assert len(caseids), non_en_num == len(metadata)\n",
    "print('No duplicate case is spotted!')"
   ]
  },
  {
   "cell_type": "code",
   "execution_count": 8,
   "id": "1eb929a8-b2e6-4930-a5f8-3c0427fb9a1b",
   "metadata": {},
   "outputs": [
    {
     "data": {
      "text/plain": [
       "[{'databaseId': 'onltb',\n",
       "  'caseId': {'fr': '2021canlii114717'},\n",
       "  'title': 'Muthurajah c Desjardins',\n",
       "  'citation': '2021 CanLII 114717 (ON LTB)'},\n",
       " {'databaseId': 'onltb',\n",
       "  'caseId': {'fr': '2021canlii70118'},\n",
       "  'title': 'Paredes c Carrejo',\n",
       "  'citation': '2021 CanLII 70118 (ON LTB)'},\n",
       " {'databaseId': 'onltb',\n",
       "  'caseId': {'fr': '2021canlii70007'},\n",
       "  'title': 'Société de logement communautaire d’Ottawa c Abakar',\n",
       "  'citation': '2021 CanLII 70007 (ON LTB)'},\n",
       " {'databaseId': 'onltb',\n",
       "  'caseId': {'fr': '2020canlii122218'},\n",
       "  'title': 'Nepean Housing Corporation v Sahabo',\n",
       "  'citation': '2020 CanLII 122218 (ON LTB)'},\n",
       " {'databaseId': 'onltb',\n",
       "  'caseId': {'fr': '2020canlii121910'},\n",
       "  'title': 'Logement Communautaire d’Ottawa c Alsina',\n",
       "  'citation': '2020 CanLII 121910 (ON LTB)'},\n",
       " {'databaseId': 'onltb',\n",
       "  'caseId': {'fr': '2020canlii116870'},\n",
       "  'title': 'Comtés unis de Prescott et Russell c  Stringer',\n",
       "  'citation': '2020 CanLII 116870 (ON LTB)'},\n",
       " {'databaseId': 'onltb',\n",
       "  'caseId': {'fr': '2020canlii116925'},\n",
       "  'title': 'Logement communautaire d’Ottawa v Rejouis',\n",
       "  'citation': '2020 CanLII 116925 (ON LTB)'},\n",
       " {'databaseId': 'onltb',\n",
       "  'caseId': {'fr': '2019canlii71099'},\n",
       "  'title': 'EAL-77504-18 (Re)',\n",
       "  'citation': '2019 CanLII 71099 (ON LTB)'},\n",
       " {'databaseId': 'onltb',\n",
       "  'caseId': {'fr': '2017canlii146591'},\n",
       "  'title': 'EAC-01537-17 (Re)',\n",
       "  'citation': '2017 CanLII 146591 (ON LTB)'},\n",
       " {'databaseId': 'onltb',\n",
       "  'caseId': {'fr': '2017canlii57761'},\n",
       "  'title': 'SOL-83720-17-RV-IN (Re)',\n",
       "  'citation': '2017 CanLII 57761 (ON LTB)'},\n",
       " {'databaseId': 'onltb',\n",
       "  'caseId': {'fr': '2017canlii146599'},\n",
       "  'title': 'EAC-01393-17 (Re)',\n",
       "  'citation': '2017 CanLII 146599 (ON LTB)'},\n",
       " {'databaseId': 'onltb',\n",
       "  'caseId': {'fr': '2017canlii57762'},\n",
       "  'title': 'SOL-83720-17-IN (Re)',\n",
       "  'citation': '2017 CanLII 57762 (ON LTB)'},\n",
       " {'databaseId': 'onltb',\n",
       "  'caseId': {'fr': '2017canlii4787'},\n",
       "  'title': 'SOL-73239-16-RV (Re)',\n",
       "  'citation': '2017 CanLII 4787 (ON LTB)'},\n",
       " {'databaseId': 'onltb',\n",
       "  'caseId': {'fr': '2016canlii52973'},\n",
       "  'title': 'TST-62859-15 (Re)',\n",
       "  'citation': '2016 CanLII 52973 (ON LTB)'},\n",
       " {'databaseId': 'onltb',\n",
       "  'caseId': {'fr': '2016canlii52974'},\n",
       "  'title': 'TET-65282-15 (Re)',\n",
       "  'citation': '2016 CanLII 52974 (ON LTB)'},\n",
       " {'databaseId': 'onltb',\n",
       "  'caseId': {'fr': '2016canlii46089'},\n",
       "  'title': 'EAL-54808-16-RV-2 (Re)',\n",
       "  'citation': '2016 CanLII 46089 (ON LTB)'},\n",
       " {'databaseId': 'onltb',\n",
       "  'caseId': {'fr': '2016canlii46092'},\n",
       "  'title': 'EAL-54808-16-RV-2 (Re)',\n",
       "  'citation': '2016 CanLII 46092 (ON LTB)'},\n",
       " {'databaseId': 'onltb',\n",
       "  'caseId': {'fr': '2016canlii98009'},\n",
       "  'title': 'SOL-65172-15-RV (Re)',\n",
       "  'citation': '2016 CanLII 98009 (ON LTB)'},\n",
       " {'databaseId': 'onltb',\n",
       "  'caseId': {'fr': '2016canlii46090'},\n",
       "  'title': 'EAL-54808-16 (Re)',\n",
       "  'citation': '2016 CanLII 46090 (ON LTB)'},\n",
       " {'databaseId': 'onltb',\n",
       "  'caseId': {'fr': '2016canlii98010'},\n",
       "  'title': 'SOL-63521-15-IN (Re)',\n",
       "  'citation': '2016 CanLII 98010 (ON LTB)'},\n",
       " {'databaseId': 'onltb',\n",
       "  'caseId': {'fr': '2013canlii41364'},\n",
       "  'title': 'EAL-32050-2013 (Re)',\n",
       "  'citation': '2013 CanLII 41364 (ON LTB)'},\n",
       " {'databaseId': 'onltb',\n",
       "  'caseId': {'fr': '2012canlii86928'},\n",
       "  'title': 'EAT-26232-12 (Re)',\n",
       "  'citation': '2012 CanLII 86928 (ON LTB)'},\n",
       " {'databaseId': 'onltb',\n",
       "  'caseId': {'fr': '2012canlii74747'},\n",
       "  'title': 'EAT-24087-12 (Re)',\n",
       "  'citation': '2012 CanLII 74747 (ON LTB)'}]"
      ]
     },
     "execution_count": 8,
     "metadata": {},
     "output_type": "execute_result"
    }
   ],
   "source": [
    "non_en"
   ]
  },
  {
   "cell_type": "code",
   "execution_count": null,
   "id": "289acf0c-149e-4104-baf2-54cb5868d73d",
   "metadata": {},
   "outputs": [],
   "source": []
  }
 ],
 "metadata": {
  "kernelspec": {
   "display_name": "Python 3 (ipykernel)",
   "language": "python",
   "name": "python3"
  },
  "language_info": {
   "codemirror_mode": {
    "name": "ipython",
    "version": 3
   },
   "file_extension": ".py",
   "mimetype": "text/x-python",
   "name": "python",
   "nbconvert_exporter": "python",
   "pygments_lexer": "ipython3",
   "version": "3.10.6"
  }
 },
 "nbformat": 4,
 "nbformat_minor": 5
}
