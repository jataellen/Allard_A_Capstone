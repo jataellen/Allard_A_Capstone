{
 "cells": [
  {
   "cell_type": "markdown",
   "id": "22cfc2b2-7d8b-41ab-8bfd-d9ccced161bb",
   "metadata": {},
   "source": [
    "### Imports"
   ]
  },
  {
   "cell_type": "code",
   "execution_count": 8,
   "id": "98602068-fd1d-4f79-b5c4-a0740878419a",
   "metadata": {},
   "outputs": [],
   "source": [
    "from bs4 import BeautifulSoup\n",
    "import os"
   ]
  },
  {
   "cell_type": "markdown",
   "id": "fe9fe5e0-48c6-4253-b766-f87b6b2ff9c7",
   "metadata": {},
   "source": [
    "### Directory Definitions"
   ]
  },
  {
   "cell_type": "code",
   "execution_count": 56,
   "id": "261843e7-a010-4bed-a700-5b18e334030f",
   "metadata": {},
   "outputs": [],
   "source": [
    "data_dir = \"html_files/\"\n",
    "formatted_data_dir = \"formatted_cases/\"\n",
    "\n",
    "# Create the directory if it doesn't exist\n",
    "if not os.path.exists(data_dir):\n",
    "    os.makedirs(data_dir)\n",
    "\n",
    "# Create the directory if it doesn't exist\n",
    "if not os.path.exists(formatted_data_dir):\n",
    "    os.makedirs(formatted_data_dir)"
   ]
  },
  {
   "cell_type": "markdown",
   "id": "6df366e9-9132-4b92-8919-06c7af2a31aa",
   "metadata": {},
   "source": [
    "### Scraping"
   ]
  },
  {
   "cell_type": "code",
   "execution_count": 55,
   "id": "8da52cb6-11f4-4305-8ea5-31baba1aeb76",
   "metadata": {},
   "outputs": [
    {
     "name": "stdout",
     "output_type": "stream",
     "text": [
      "Adding  CEL-87788-19.html ...\n",
      "TNL-22838-19.html already added, skipping...\n"
     ]
    }
   ],
   "source": [
    "for file in os.listdir(data_dir):\n",
    "    if os.path.isfile(data_dir + file):\n",
    "        if os.path.isfile(formatted_data_dir + os.path.splitext(file)[0] + \".txt\"):\n",
    "            print(file, \"already added, skipping...\")\n",
    "        else:\n",
    "            print(\"Adding \", file, \"...\")\n",
    "            with open(data_dir + file) as f:\n",
    "                html = f.read()\n",
    "            soup = BeautifulSoup(html, \"html.parser\")\n",
    "\n",
    "            # find metadata\n",
    "            document_meta = soup.find(\"div\", {\"id\": \"documentMeta\"}) \n",
    "            meta_items = document_meta.find_all(\"div\", {\"class\": \"row py-1\"})\n",
    "            meta_data = []\n",
    "            for meta_item in meta_items:\n",
    "                meta_data.append('\\t'.join([x.text for x in meta_item.findChildren()]))\n",
    "            # print(meta_data)\n",
    "            # find text\n",
    "            document_body = soup.find(\"div\", {\"class\": \"documentcontent\"}).get_text()\n",
    "\n",
    "            # write to file\n",
    "            with open(formatted_data_dir + os.path.splitext(file)[0] + '.txt', 'w') as file:\n",
    "                file.write('Metadata:\\n')\n",
    "                file.write('\\n'.join(meta_data))\n",
    "                file.write('Content:\\n')\n",
    "                file.write(document_body)"
   ]
  },
  {
   "cell_type": "code",
   "execution_count": null,
   "id": "e9345803-6f66-4013-a556-7f6b81295fdd",
   "metadata": {},
   "outputs": [],
   "source": []
  }
 ],
 "metadata": {
  "kernelspec": {
   "display_name": "Python 3 (ipykernel)",
   "language": "python",
   "name": "python3"
  },
  "language_info": {
   "codemirror_mode": {
    "name": "ipython",
    "version": 3
   },
   "file_extension": ".py",
   "mimetype": "text/x-python",
   "name": "python",
   "nbconvert_exporter": "python",
   "pygments_lexer": "ipython3",
   "version": "3.10.6"
  }
 },
 "nbformat": 4,
 "nbformat_minor": 5
}
