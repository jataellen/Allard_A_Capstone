{
 "cells": [
  {
   "cell_type": "markdown",
   "id": "ce6a25b8-d445-4a9d-930d-c39f1a5988de",
   "metadata": {},
   "source": [
    "# Data Cleaning and Test the Model before Fine-tuning"
   ]
  },
  {
   "cell_type": "markdown",
   "id": "9b833a29-baa2-4583-a8b3-f0a3f50132fa",
   "metadata": {},
   "source": [
    "## Imports"
   ]
  },
  {
   "cell_type": "code",
   "execution_count": 1,
   "id": "295b6c5d-3645-48e7-ba87-07d8a39b92e8",
   "metadata": {},
   "outputs": [
    {
     "name": "stderr",
     "output_type": "stream",
     "text": [
      "/Users/qmy/opt/miniconda3/lib/python3.10/site-packages/tqdm/auto.py:22: TqdmWarning: IProgress not found. Please update jupyter and ipywidgets. See https://ipywidgets.readthedocs.io/en/stable/user_install.html\n",
      "  from .autonotebook import tqdm as notebook_tqdm\n"
     ]
    }
   ],
   "source": [
    "import pandas as pd\n",
    "import requests\n",
    "from bs4 import BeautifulSoup\n",
    "import torch\n",
    "import os\n",
    "import re\n",
    "\n",
    "from wordcloud import WordCloud\n",
    "import matplotlib.pyplot as plt\n",
    "\n",
    "from transformers import AutoTokenizer, AutoModelForCausalLM\n",
    "from torch import cuda, nn, optim\n",
    "from tqdm import tqdm\n",
    "from torch.utils.data import Dataset, DataLoader\n",
    "from torch.nn.utils.rnn import pad_sequence\n",
    "from transformers import GPT2LMHeadModel, BertTokenizer\n",
    "from transformers import AutoTokenizer, AutoModelForSeq2SeqLM\n"
   ]
  },
  {
   "cell_type": "markdown",
   "id": "e2217266-5670-408e-9301-97fa82b52e8d",
   "metadata": {},
   "source": [
    "## Read and Clean the Data"
   ]
  },
  {
   "cell_type": "markdown",
   "id": "d04c15cd-896f-41fc-bcd4-5896d739b028",
   "metadata": {},
   "source": [
    "### Read and Clean the Annotated Data (Excel)"
   ]
  },
  {
   "cell_type": "code",
   "execution_count": 2,
   "id": "6f722990-f958-44f7-bcf6-c8e8be729990",
   "metadata": {},
   "outputs": [
    {
     "name": "stdout",
     "output_type": "stream",
     "text": [
      "(702, 54)\n"
     ]
    },
    {
     "data": {
      "text/html": [
       "<div>\n",
       "<style scoped>\n",
       "    .dataframe tbody tr th:only-of-type {\n",
       "        vertical-align: middle;\n",
       "    }\n",
       "\n",
       "    .dataframe tbody tr th {\n",
       "        vertical-align: top;\n",
       "    }\n",
       "\n",
       "    .dataframe thead th {\n",
       "        text-align: right;\n",
       "    }\n",
       "</style>\n",
       "<table border=\"1\" class=\"dataframe\">\n",
       "  <thead>\n",
       "    <tr style=\"text-align: right;\">\n",
       "      <th></th>\n",
       "      <th>Timestamp</th>\n",
       "      <th>Email Address</th>\n",
       "      <th>What is the file number of the case?</th>\n",
       "      <th>What was the date of the hearing? [mm/dd/yyyy]</th>\n",
       "      <th>What was the date of the decision? [mm/dd/yyyy]</th>\n",
       "      <th>Who was the member adjudicating the decision?</th>\n",
       "      <th>What was the location of the landlord tenant board?</th>\n",
       "      <th>Did the decision state the landlord was represented?</th>\n",
       "      <th>Did the decision state the landlord attended the hearing?</th>\n",
       "      <th>Did the decision state the tenant was represented?</th>\n",
       "      <th>...</th>\n",
       "      <th>Did the decision mention the tenant’s difficulty finding alternative housing for any reason e.g.physical limitations, reliance on social assistance, etc.?</th>\n",
       "      <th>If yes to the previous question, which of the following were applicable to the tenant?</th>\n",
       "      <th>Did the decision state the tenant was given prior notice for the eviction?</th>\n",
       "      <th>If the tenant was given prior notice for the eviction, how much notice was given?</th>\n",
       "      <th>Did the decisions state postponement would result in the tenant accruing additional arrears?</th>\n",
       "      <th>Which other specific applications of the landlord or the tenant were mentioned?</th>\n",
       "      <th>Did the decision mention the validity of an N4 eviction notice?</th>\n",
       "      <th>Were there detail(s) in the decision not captured by this questionnaire that should be included?</th>\n",
       "      <th>Exec Review</th>\n",
       "      <th>Review Status</th>\n",
       "    </tr>\n",
       "  </thead>\n",
       "  <tbody>\n",
       "    <tr>\n",
       "      <th>0</th>\n",
       "      <td>2020-11-18 00:31:40.706</td>\n",
       "      <td>dylan.juschko@mail.utoronto.ca</td>\n",
       "      <td>CEL-87788-19</td>\n",
       "      <td>2019-10-16 00:00:00</td>\n",
       "      <td>2020-06-04 00:00:00</td>\n",
       "      <td>Sonia Anwar-Ali</td>\n",
       "      <td>Toronto</td>\n",
       "      <td>Yes</td>\n",
       "      <td>NaN</td>\n",
       "      <td>No</td>\n",
       "      <td>...</td>\n",
       "      <td>No</td>\n",
       "      <td>NaN</td>\n",
       "      <td>No</td>\n",
       "      <td>NaN</td>\n",
       "      <td>No</td>\n",
       "      <td>L2: Application to End a Tenancy and Evict a T...</td>\n",
       "      <td>No</td>\n",
       "      <td>Tenant was a single mother with no support fro...</td>\n",
       "      <td>NaN</td>\n",
       "      <td>NaN</td>\n",
       "    </tr>\n",
       "    <tr>\n",
       "      <th>1</th>\n",
       "      <td>2020-11-18 19:26:29.581</td>\n",
       "      <td>dylan.juschko@mail.utoronto.ca</td>\n",
       "      <td>CEL-90549-19</td>\n",
       "      <td>2020-01-22 00:00:00</td>\n",
       "      <td>2020-01-10 00:00:00</td>\n",
       "      <td>Shelby Whittick</td>\n",
       "      <td>Mississauga</td>\n",
       "      <td>Yes</td>\n",
       "      <td>Yes</td>\n",
       "      <td>No</td>\n",
       "      <td>...</td>\n",
       "      <td>No</td>\n",
       "      <td>NaN</td>\n",
       "      <td>Yes</td>\n",
       "      <td>Not stated</td>\n",
       "      <td>Yes</td>\n",
       "      <td>No other specific applications were mentioned</td>\n",
       "      <td>No</td>\n",
       "      <td>NaN</td>\n",
       "      <td>AW</td>\n",
       "      <td>Complete</td>\n",
       "    </tr>\n",
       "    <tr>\n",
       "      <th>2</th>\n",
       "      <td>2020-12-24 09:19:21.479</td>\n",
       "      <td>kayly.machado@mail.utoronto.ca</td>\n",
       "      <td>TEL-94478-18</td>\n",
       "      <td>2018-10-31 00:00:00</td>\n",
       "      <td>2018-11-21 00:00:00</td>\n",
       "      <td>Ruth Carey (Vice Chair)</td>\n",
       "      <td>Toronto</td>\n",
       "      <td>Yes</td>\n",
       "      <td>Yes</td>\n",
       "      <td>No</td>\n",
       "      <td>...</td>\n",
       "      <td>No</td>\n",
       "      <td>NaN</td>\n",
       "      <td>Yes</td>\n",
       "      <td>Not stated</td>\n",
       "      <td>No</td>\n",
       "      <td>N13: Notice to End your Tenancy Because the La...</td>\n",
       "      <td>No</td>\n",
       "      <td>Previous decision TEL-92736-18 &lt; This decision...</td>\n",
       "      <td>AW</td>\n",
       "      <td>Complete</td>\n",
       "    </tr>\n",
       "    <tr>\n",
       "      <th>3</th>\n",
       "      <td>2020-12-24 06:13:17.400</td>\n",
       "      <td>kayly.machado@mail.utoronto.ca</td>\n",
       "      <td>TEL-94493-18</td>\n",
       "      <td>2018-10-31 00:00:00</td>\n",
       "      <td>2018-11-21 00:00:00</td>\n",
       "      <td>Ruth Carey (Vice Chair)</td>\n",
       "      <td>Toronto</td>\n",
       "      <td>Yes</td>\n",
       "      <td>Yes</td>\n",
       "      <td>No</td>\n",
       "      <td>...</td>\n",
       "      <td>No</td>\n",
       "      <td>NaN</td>\n",
       "      <td>Yes</td>\n",
       "      <td>Not stated</td>\n",
       "      <td>No</td>\n",
       "      <td>No other specific applications were mentioned</td>\n",
       "      <td>No</td>\n",
       "      <td>There were 7 previous application for non-paym...</td>\n",
       "      <td>AW</td>\n",
       "      <td>Complete</td>\n",
       "    </tr>\n",
       "    <tr>\n",
       "      <th>4</th>\n",
       "      <td>2020-11-19 17:02:36.702</td>\n",
       "      <td>joseph.galinsky@mail.utoronto.ca</td>\n",
       "      <td>CEL-72994-18</td>\n",
       "      <td>2018-03-07 00:00:00</td>\n",
       "      <td>2018-03-14 00:00:00</td>\n",
       "      <td>Avril Cardoso</td>\n",
       "      <td>Mississauga</td>\n",
       "      <td>Yes</td>\n",
       "      <td>No</td>\n",
       "      <td>Yes</td>\n",
       "      <td>...</td>\n",
       "      <td>No</td>\n",
       "      <td>NaN</td>\n",
       "      <td>Yes</td>\n",
       "      <td>Not stated</td>\n",
       "      <td>No</td>\n",
       "      <td>No other specific applications were mentioned</td>\n",
       "      <td>No</td>\n",
       "      <td>Third Application by Landlord in past 6 months...</td>\n",
       "      <td>AW</td>\n",
       "      <td>Complete</td>\n",
       "    </tr>\n",
       "    <tr>\n",
       "      <th>5</th>\n",
       "      <td>2020-11-19 17:14:22.294</td>\n",
       "      <td>joseph.galinsky@mail.utoronto.ca</td>\n",
       "      <td>CEL-73021-18</td>\n",
       "      <td>2018-06-15 00:00:00</td>\n",
       "      <td>2018-06-18 00:00:00</td>\n",
       "      <td>Avril Cardoso</td>\n",
       "      <td>Mississauga</td>\n",
       "      <td>Yes</td>\n",
       "      <td>No</td>\n",
       "      <td>No</td>\n",
       "      <td>...</td>\n",
       "      <td>No</td>\n",
       "      <td>NaN</td>\n",
       "      <td>Yes</td>\n",
       "      <td>Not stated</td>\n",
       "      <td>No</td>\n",
       "      <td>L1: Application to Evict a Tenant for Non-paym...</td>\n",
       "      <td>No</td>\n",
       "      <td>Tenant did not show up because hearing took pl...</td>\n",
       "      <td>AW</td>\n",
       "      <td>Complete</td>\n",
       "    </tr>\n",
       "  </tbody>\n",
       "</table>\n",
       "<p>6 rows × 54 columns</p>\n",
       "</div>"
      ],
      "text/plain": [
       "                Timestamp                     Email Address  \\\n",
       "0 2020-11-18 00:31:40.706    dylan.juschko@mail.utoronto.ca   \n",
       "1 2020-11-18 19:26:29.581    dylan.juschko@mail.utoronto.ca   \n",
       "2 2020-12-24 09:19:21.479    kayly.machado@mail.utoronto.ca   \n",
       "3 2020-12-24 06:13:17.400    kayly.machado@mail.utoronto.ca   \n",
       "4 2020-11-19 17:02:36.702  joseph.galinsky@mail.utoronto.ca   \n",
       "5 2020-11-19 17:14:22.294  joseph.galinsky@mail.utoronto.ca   \n",
       "\n",
       "  What is the file number of the case?  \\\n",
       "0                         CEL-87788-19   \n",
       "1                         CEL-90549-19   \n",
       "2                         TEL-94478-18   \n",
       "3                         TEL-94493-18   \n",
       "4                         CEL-72994-18   \n",
       "5                         CEL-73021-18   \n",
       "\n",
       "  What was the date of the hearing? [mm/dd/yyyy]  \\\n",
       "0                            2019-10-16 00:00:00   \n",
       "1                            2020-01-22 00:00:00   \n",
       "2                            2018-10-31 00:00:00   \n",
       "3                            2018-10-31 00:00:00   \n",
       "4                            2018-03-07 00:00:00   \n",
       "5                            2018-06-15 00:00:00   \n",
       "\n",
       "  What was the date of the decision? [mm/dd/yyyy]  \\\n",
       "0                             2020-06-04 00:00:00   \n",
       "1                             2020-01-10 00:00:00   \n",
       "2                             2018-11-21 00:00:00   \n",
       "3                             2018-11-21 00:00:00   \n",
       "4                             2018-03-14 00:00:00   \n",
       "5                             2018-06-18 00:00:00   \n",
       "\n",
       "  Who was the member adjudicating the decision?  \\\n",
       "0                               Sonia Anwar-Ali   \n",
       "1                               Shelby Whittick   \n",
       "2                       Ruth Carey (Vice Chair)   \n",
       "3                      Ruth Carey (Vice Chair)    \n",
       "4                                 Avril Cardoso   \n",
       "5                                 Avril Cardoso   \n",
       "\n",
       "  What was the location of the landlord tenant board?  \\\n",
       "0                                            Toronto    \n",
       "1                                        Mississauga    \n",
       "2                                            Toronto    \n",
       "3                                            Toronto    \n",
       "4                                        Mississauga    \n",
       "5                                        Mississauga    \n",
       "\n",
       "  Did the decision state the landlord was represented?  \\\n",
       "0                                                Yes     \n",
       "1                                                Yes     \n",
       "2                                                Yes     \n",
       "3                                                Yes     \n",
       "4                                                Yes     \n",
       "5                                                Yes     \n",
       "\n",
       "  Did the decision state the landlord attended the hearing?  \\\n",
       "0                                                NaN          \n",
       "1                                                Yes          \n",
       "2                                                Yes          \n",
       "3                                                Yes          \n",
       "4                                                 No          \n",
       "5                                                 No          \n",
       "\n",
       "  Did the decision state the tenant was represented?  ...  \\\n",
       "0                                                 No  ...   \n",
       "1                                                 No  ...   \n",
       "2                                                 No  ...   \n",
       "3                                                 No  ...   \n",
       "4                                                Yes  ...   \n",
       "5                                                 No  ...   \n",
       "\n",
       "  Did the decision mention the tenant’s difficulty finding alternative housing for any reason e.g.physical limitations, reliance on social assistance, etc.?  \\\n",
       "0                                                 No                                                                                                           \n",
       "1                                                 No                                                                                                           \n",
       "2                                                 No                                                                                                           \n",
       "3                                                 No                                                                                                           \n",
       "4                                                 No                                                                                                           \n",
       "5                                                 No                                                                                                           \n",
       "\n",
       "  If yes to the previous question, which of the following were applicable to the tenant?  \\\n",
       "0                                                NaN                                       \n",
       "1                                                NaN                                       \n",
       "2                                                NaN                                       \n",
       "3                                                NaN                                       \n",
       "4                                                NaN                                       \n",
       "5                                                NaN                                       \n",
       "\n",
       "  Did the decision state the tenant was given prior notice for the eviction?  \\\n",
       "0                                                 No                           \n",
       "1                                                Yes                           \n",
       "2                                                Yes                           \n",
       "3                                                Yes                           \n",
       "4                                                Yes                           \n",
       "5                                                Yes                           \n",
       "\n",
       "  If the tenant was given prior notice for the eviction, how much notice was given?  \\\n",
       "0                                                NaN                                  \n",
       "1                                         Not stated                                  \n",
       "2                                         Not stated                                  \n",
       "3                                         Not stated                                  \n",
       "4                                         Not stated                                  \n",
       "5                                         Not stated                                  \n",
       "\n",
       "  Did the decisions state postponement would result in the tenant accruing additional arrears?  \\\n",
       "0                                                 No                                             \n",
       "1                                                Yes                                             \n",
       "2                                                 No                                             \n",
       "3                                                 No                                             \n",
       "4                                                 No                                             \n",
       "5                                                 No                                             \n",
       "\n",
       "  Which other specific applications of the landlord or the tenant were mentioned?  \\\n",
       "0  L2: Application to End a Tenancy and Evict a T...                                \n",
       "1      No other specific applications were mentioned                                \n",
       "2  N13: Notice to End your Tenancy Because the La...                                \n",
       "3      No other specific applications were mentioned                                \n",
       "4      No other specific applications were mentioned                                \n",
       "5  L1: Application to Evict a Tenant for Non-paym...                                \n",
       "\n",
       "  Did the decision mention the validity of an N4 eviction notice?  \\\n",
       "0                                                 No                \n",
       "1                                                 No                \n",
       "2                                                 No                \n",
       "3                                                 No                \n",
       "4                                                 No                \n",
       "5                                                 No                \n",
       "\n",
       "  Were there detail(s) in the decision not captured by this questionnaire that should be included?  \\\n",
       "0  Tenant was a single mother with no support fro...                                                 \n",
       "1                                                NaN                                                 \n",
       "2  Previous decision TEL-92736-18 < This decision...                                                 \n",
       "3  There were 7 previous application for non-paym...                                                 \n",
       "4  Third Application by Landlord in past 6 months...                                                 \n",
       "5  Tenant did not show up because hearing took pl...                                                 \n",
       "\n",
       "  Exec Review Review Status  \n",
       "0         NaN           NaN  \n",
       "1          AW      Complete  \n",
       "2          AW      Complete  \n",
       "3          AW      Complete  \n",
       "4          AW      Complete  \n",
       "5          AW      Complete  \n",
       "\n",
       "[6 rows x 54 columns]"
      ]
     },
     "execution_count": 2,
     "metadata": {},
     "output_type": "execute_result"
    }
   ],
   "source": [
    "text_path = '../formatted_cases/'\n",
    "file = '../../annotated_data.xlsx'\n",
    "REGEX = r';+'\n",
    "df = pd.read_excel(file)\n",
    "df['What is the file number of the case?'] = df['What is the file number of the case?'].str.replace(' and ', ';')\n",
    "df['What is the file number of the case?'] = df['What is the file number of the case?'].str.replace(' ', ';')\n",
    "df['What is the file number of the case?'] = df['What is the file number of the case?'].str.replace('/', ';')\n",
    "df['What is the file number of the case?'] = df['What is the file number of the case?'].str.strip(';')\n",
    "df['What is the file number of the case?'] = df['What is the file number of the case?'].apply(lambda x: re.sub(REGEX, ';', x))\n",
    "df['What is the file number of the case?'] = df['What is the file number of the case?'].str.replace('File;number:;', '')\n",
    "df['What is the file number of the case?'] = df['What is the file number of the case?'].str.replace('TET-89650-18;TET-89650-18', 'TET-89650-18;TEL-90138-18')\n",
    "\n",
    "print(df.shape)\n",
    "df.head(6)"
   ]
  },
  {
   "cell_type": "markdown",
   "id": "b2e2fa96-0d2d-4f36-961d-67b7f177155c",
   "metadata": {},
   "source": [
    "### Print the Cases with Multiple Files in the Annotated Data"
   ]
  },
  {
   "cell_type": "code",
   "execution_count": 3,
   "id": "f7b3bbe1-10da-4af2-bc57-a1d3cf4a3051",
   "metadata": {},
   "outputs": [
    {
     "data": {
      "text/plain": [
       "['TET-89650-18;TEL-90138-18',\n",
       " 'TNL-00793-18;TNL-01183-18',\n",
       " 'TNL-03299-18;TNT-00589-17',\n",
       " 'TNL-04435-18;TNL-03907-18',\n",
       " 'HOL-02144-17;HOT-02146-17',\n",
       " 'TEL-87475-18;TET-86819-17;TET-88355-18',\n",
       " 'SWL-08112-17;SWL-08113-17',\n",
       " 'SWL-12547-18;SWL-12548-18',\n",
       " 'SWL-13901-18;SWT-14627-18',\n",
       " 'TEL-77442-17;TET-77790-17',\n",
       " 'TEL-77505-17-RV;TEL-77505-17',\n",
       " 'TNL-06025-18;TNL-06026-18',\n",
       " 'TEL-79519-17;TET-79366-17',\n",
       " 'TSL-93207-18-RV;TST-94747-18;TSL-00082-18',\n",
       " 'CEL-72209-17;CET-73173-18']"
      ]
     },
     "execution_count": 3,
     "metadata": {},
     "output_type": "execute_result"
    }
   ],
   "source": [
    "# to check if the data are well cleaned\n",
    "multi = []\n",
    "for i in df['What is the file number of the case?']:\n",
    "    if ';' in i:\n",
    "        # print(i)\n",
    "        multi.append(i)\n",
    "multi"
   ]
  },
  {
   "cell_type": "markdown",
   "id": "921e6e9b-edd7-4d8c-b879-3e8eef751e3c",
   "metadata": {},
   "source": [
    "### Create the WordCloud to Identify the Stop-words"
   ]
  },
  {
   "cell_type": "code",
   "execution_count": 4,
   "id": "7bf78ebd-bbe2-4f4b-b3ca-b2aa5f2b8603",
   "metadata": {},
   "outputs": [],
   "source": [
    "text = []\n",
    "for file_name in os.listdir(text_path):\n",
    "    if 'checkpoints' not in file_name and 'multiple_files' not in file_name:\n",
    "        with open (text_path+file_name, encoding='latin-1') as f:\n",
    "            text.append(f.read())"
   ]
  },
  {
   "cell_type": "code",
   "execution_count": 5,
   "id": "fde516b4-c49b-4fe1-b29a-aada7a0099a5",
   "metadata": {},
   "outputs": [
    {
     "data": {
      "text/plain": [
       "667"
      ]
     },
     "execution_count": 5,
     "metadata": {},
     "output_type": "execute_result"
    }
   ],
   "source": [
    "len(text)"
   ]
  },
  {
   "cell_type": "code",
   "execution_count": 6,
   "id": "65ef595d-2e07-4275-a1a5-f6f4c6eabf55",
   "metadata": {},
   "outputs": [],
   "source": [
    "stopwords = ['a', 'the', 'an', 'à', 'this', 'that']"
   ]
  },
  {
   "cell_type": "code",
   "execution_count": 7,
   "id": "c81c3cb7-ce29-400d-a37a-a5a6848b2da5",
   "metadata": {},
   "outputs": [
    {
     "data": {
      "image/png": "[encoded data removed]",
      "text/plain": [
       "<Figure size 640x480 with 1 Axes>"
      ]
     },
     "metadata": {},
     "output_type": "display_data"
    }
   ],
   "source": [
    "# annotated data wordcloud\n",
    "tokens = ' '.join(text).lower()\n",
    "wordcloud = WordCloud(\n",
    "    background_color = 'white',\n",
    "    # stopwords = stopwords\n",
    "    stopwords = []\n",
    ").generate(tokens)\n",
    "plt.figure()\n",
    "plt.imshow(wordcloud, interpolation=\"bilinear\")\n",
    "plt.axis(\"off\")\n",
    "plt.show()"
   ]
  },
  {
   "cell_type": "markdown",
   "id": "5f99844a-4541-4f46-a2f2-a771f8f43618",
   "metadata": {},
   "source": [
    "### Clean the Raw File Names to Match the Annotated Data"
   ]
  },
  {
   "cell_type": "code",
   "execution_count": 8,
   "id": "72b1275e-e8b4-422d-b7d7-601ffa8157d0",
   "metadata": {},
   "outputs": [],
   "source": [
    "for file_name in os.listdir(text_path):\n",
    "    file_no = file_name[:-4]\n",
    "    txt = file_name[-4:]\n",
    "    if ' and ' in file_no:\n",
    "        # print(file_name)\n",
    "        new_name = file_no.replace(' and ', ';') + txt\n",
    "        os.rename(text_path+file_name, text_path+new_name)\n",
    "        file_name = new_name\n",
    "        file_no = file_name[:-4]\n",
    "        # print(file_name)\n",
    "    if '/' in file_no:\n",
    "        # print(file_name)\n",
    "        new_name = file_no.replace('//', ';') + txt\n",
    "        os.rename(text_path+file_name, text_path+new_name)\n",
    "        file_name = new_name\n",
    "        file_no = file_name[:-4]\n",
    "        # print(file_name)\n",
    "    if ' ' in file_no:\n",
    "        # print(file_name)\n",
    "        new_name = file_no.replace(' ',';').strip(';') + txt\n",
    "        os.rename(text_path+file_name, text_path+new_name)\n",
    "        file_name = new_name\n",
    "        file_no = file_name[:-4]\n",
    "        # print(file_name)\n",
    "    if ';' in file_no:\n",
    "        # print(file_name)\n",
    "        new_name = re.sub(REGEX, ';', file_no) + txt\n",
    "        os.rename(text_path+file_name, text_path+new_name)\n",
    "        file_name = new_name\n",
    "        file_no = file_name[:-4]\n",
    "        # print(file_name)\n",
    "    if 'File;number:;' in file_no:\n",
    "        new_name = file_n.replace('File;number:;', '') + txt\n",
    "        os.rename(text_path+file_name, text_path+new_name)\n",
    "        file_name = new_name\n",
    "        file_no = file_name[:-4]     "
   ]
  },
  {
   "cell_type": "code",
   "execution_count": 9,
   "id": "ef8dcd38-465f-4711-83f3-39e54c09ccfe",
   "metadata": {},
   "outputs": [
    {
     "name": "stdout",
     "output_type": "stream",
     "text": [
      "multiple_files;2.zip\n"
     ]
    }
   ],
   "source": [
    "for file_name in os.listdir(text_path):\n",
    "    if ';' in file_name:\n",
    "        print(file_name)"
   ]
  },
  {
   "cell_type": "code",
   "execution_count": 10,
   "id": "54b268ba-67b3-4356-b406-3953643f9a7f",
   "metadata": {},
   "outputs": [],
   "source": [
    "# no need to scrape anymore\n",
    "# file_no = df['What is the file number of the case?']\n",
    "\n",
    "# canlii_search = 'https://www.canlii.org/en/#search/id='\n",
    "# response = requests.get(canlii_search+file_no[0])\n",
    "# soup = BeautifulSoup(response.content, 'html.parser')\n",
    "# judge = soup.find_all('script')"
   ]
  },
  {
   "cell_type": "code",
   "execution_count": 11,
   "id": "487290a1-6d2d-4beb-bb71-4edc460c8086",
   "metadata": {},
   "outputs": [
    {
     "data": {
      "text/plain": [
       "Index(['Timestamp', 'Email Address', 'What is the file number of the case?',\n",
       "       'What was the date of the hearing? [mm/dd/yyyy]',\n",
       "       'What was the date of the decision? [mm/dd/yyyy]',\n",
       "       'Who was the member adjudicating the decision?',\n",
       "       'What was the location of the landlord tenant board?',\n",
       "       'Did the decision state the landlord was represented?',\n",
       "       'Did the decision state the landlord attended the hearing?',\n",
       "       'Did the decision state the tenant was represented?',\n",
       "       'Did the decision state the tenant attended the hearing?',\n",
       "       'Did the decision state the landlord was a not-for-profit landlord (e.g. Toronto Community Housing)?',\n",
       "       'Did the decision state the tenant was collecting a subsidy?',\n",
       "       'What was the outcome of the case?',\n",
       "       'What was the length of the tenancy, or in other words, how long had the tenants lived at the residence in question? ',\n",
       "       'What was the monthly rent?',\n",
       "       'What was the amount of the rental deposit? ',\n",
       "       'If any rent increases occurred, what was the rent after the increase(s)?',\n",
       "       'If any rent increases occurred, when did the rent increase(s) come into effect? ',\n",
       "       'What was the total amount of arrears?',\n",
       "       'Over how many months did the arrears accumulate? ',\n",
       "       'If the tenant made a payment on the arrears after the eviction notice was served and/or prior to the hearing, what was the amount of the payment? ',\n",
       "       'Did the decision mention a history of arrears by the tenant separate from the arrears in the current claim (more than one period of arrears, recurrently coming in and out of arrears, arrears with previous landlord, etc.)?',\n",
       "       'If the tenant had a history of arrears, did the decision mention a history of the tenant making payments on those arrears (separate from any payments made in response to the present eviction notice/hearing)?',\n",
       "       'How frequently were rent payments made late?',\n",
       "       'Did the member find the tenant had or seemed to have the ability to pay rent, but chose not do so?',\n",
       "       'What were the specific mental, medical, or physical conditions of the tenant, if any? ',\n",
       "       'Did the decision state that the tenant had children living with them?',\n",
       "       'How many total children did the tenant have living with them? ',\n",
       "       'How many total children aged 17 or younger did the tenant have living with them?',\n",
       "       'How many total children aged 13 or younger did the tenant have living with them? ',\n",
       "       'How many total children aged 4 or younger did the tenant have living with them?',\n",
       "       'Did the decision state any of the children had mental, medical or physical conditions?',\n",
       "       'If yes to the previous question, did the decision state these conditions would make moving particularly burdensome?',\n",
       "       'Was the tenant employed at the time of the hearing?',\n",
       "       'If the tenant was not employed, did the decision state the tenant was receiving any form of government assistance (e.g. OW, childcare benefits, ODSP, OSAP)?',\n",
       "       'If the tenant was employed, did the decision state any doubts about the stability of employment e.g. lack of guaranteed hours, contract work, etc.?',\n",
       "       'Did the member find the tenant had sufficient income to pay rent?',\n",
       "       'What was the total income of the tenant’s household? ',\n",
       "       'Did the decision mention the tenant lost their job leading up to or during the period of the hearing?',\n",
       "       'Did the decision mention any other extenuating circumstances experienced by the tenant leading up to or during the period of the claim (e.g. hospitalization, death in the family, etc.)?',\n",
       "       'Did the tenant propose a payment plan?',\n",
       "       'If the tenant did propose a payment plan, did the member accept the proposed payment plan?',\n",
       "       'If a payment plan was ordered, what was the length of the payment plan? ',\n",
       "       'Did the decision mention the tenant’s difficulty finding alternative housing for any reason e.g.physical limitations, reliance on social assistance, etc.?',\n",
       "       'If yes to the previous question, which of the following were applicable to the tenant?',\n",
       "       'Did the decision state the tenant was given prior notice for the eviction?',\n",
       "       'If the tenant was given prior notice for the eviction, how much notice was given?',\n",
       "       'Did the decisions state postponement would result in the tenant accruing additional arrears?',\n",
       "       'Which other specific applications of the landlord or the tenant were mentioned?',\n",
       "       'Did the decision mention the validity of an N4 eviction notice?',\n",
       "       'Were there detail(s) in the decision not captured by this questionnaire that should be included?',\n",
       "       'Exec Review', 'Review Status'],\n",
       "      dtype='object')"
      ]
     },
     "execution_count": 11,
     "metadata": {},
     "output_type": "execute_result"
    }
   ],
   "source": [
    "df.columns   #`Timestamp` is not the time of the case"
   ]
  },
  {
   "cell_type": "code",
   "execution_count": 12,
   "id": "e1dbba90-2b4d-4867-93b3-2491fe0e578b",
   "metadata": {},
   "outputs": [],
   "source": [
    "info_lst = df.columns[2:]"
   ]
  },
  {
   "cell_type": "markdown",
   "id": "28c57066-c08e-4e22-b1e2-3cdf1dc167a2",
   "metadata": {},
   "source": [
    "### Identify and Supplement the Missing Cases"
   ]
  },
  {
   "cell_type": "code",
   "execution_count": 13,
   "id": "d8afb3f4-e6e9-446c-b52c-017d0dd4f8cc",
   "metadata": {},
   "outputs": [
    {
     "name": "stdout",
     "output_type": "stream",
     "text": [
      "The case with file number \"TET-89650-18;TEL-90138-18\" does not exist. Skipping...\n",
      "The case with file number \"TNL-00793-18;TNL-01183-18\" does not exist. Skipping...\n",
      "The case with file number \"TNL-03299-18;TNT-00589-17\" does not exist. Skipping...\n",
      "The case with file number \"TNL-04435-18;TNL-03907-18\" does not exist. Skipping...\n",
      "The case with file number \"HOL-02144-17;HOT-02146-17\" does not exist. Skipping...\n",
      "The case with file number \"TEL-87475-18;TET-86819-17;TET-88355-18\" does not exist. Skipping...\n",
      "The case with file number \"SWL-08112-17;SWL-08113-17\" does not exist. Skipping...\n",
      "The case with file number \"SWL-12547-18;SWL-12548-18\" does not exist. Skipping...\n",
      "The case with file number \"SWL-13901-18;SWT-14627-18\" does not exist. Skipping...\n",
      "The case with file number \"TEL-77442-17;TET-77790-17\" does not exist. Skipping...\n",
      "The case with file number \"TEL-77505-17-RV;TEL-77505-17\" does not exist. Skipping...\n",
      "The case with file number \"TNL-06025-18;TNL-06026-18\" does not exist. Skipping...\n",
      "The case with file number \"TEL-79519-17;TET-79366-17\" does not exist. Skipping...\n",
      "The case with file number \"TSL-07666-19-RV\" does not exist. Skipping...\n",
      "The case with file number \"TSL-93207-18-RV;TST-94747-18;TSL-00082-18\" does not exist. Skipping...\n",
      "The case with file number \"CEL-72209-17;CET-73173-18\" does not exist. Skipping...\n",
      "['TET-89650-18;TEL-90138-18', 'TNL-00793-18;TNL-01183-18', 'TNL-03299-18;TNT-00589-17', 'TNL-04435-18;TNL-03907-18', 'HOL-02144-17;HOT-02146-17', 'TEL-87475-18;TET-86819-17;TET-88355-18', 'SWL-08112-17;SWL-08113-17', 'SWL-12547-18;SWL-12548-18', 'SWL-13901-18;SWT-14627-18', 'TEL-77442-17;TET-77790-17', 'TEL-77505-17-RV;TEL-77505-17', 'TNL-06025-18;TNL-06026-18', 'TEL-79519-17;TET-79366-17', 'TSL-07666-19-RV', 'TSL-93207-18-RV;TST-94747-18;TSL-00082-18', 'CEL-72209-17;CET-73173-18']\n"
     ]
    },
    {
     "data": {
      "text/plain": [
       "16"
      ]
     },
     "execution_count": 13,
     "metadata": {},
     "output_type": "execute_result"
    }
   ],
   "source": [
    "cases_info = []\n",
    "passed_cases = []\n",
    "for i in range(len(df)):\n",
    "    cases_info.append({})\n",
    "    answers = df.iloc[i,2:]\n",
    "    # to complete the scraping function\n",
    "    # text = scraping(file_no)\n",
    "    file_no = answers[0]\n",
    "    if not os.path.isfile(text_path+file_no+'.txt'):\n",
    "        print(f'The case with file number \"{file_no}\" does not exist. Skipping...')\n",
    "        passed_cases.append(file_no)\n",
    "    else:\n",
    "        with open (text_path+file_no+'.txt') as t:\n",
    "            cases_info[-1]['text'] = t.read()\n",
    "    for j in range(len(answers)):\n",
    "        q = info_lst[j]\n",
    "        a = answers[j]\n",
    "        cases_info[-1][q] = a\n",
    "print(passed_cases)\n",
    "len(passed_cases)"
   ]
  },
  {
   "cell_type": "code",
   "execution_count": 14,
   "id": "0368665d-dc17-4cf2-8303-239fd5077c8f",
   "metadata": {},
   "outputs": [],
   "source": [
    "sup_path = '../annotated_sup/'\n",
    "if not os.path.exists(sup_path):\n",
    "    os.makedirs(sup_path)\n",
    "sup_urls = ['https://www.canlii.org/en/on/onltb/doc/2018/2018canlii113792/2018canlii113792.html?resultIndex=1',\n",
    "            'https://www.canlii.org/en/on/onltb/doc/2018/2018canlii113807/2018canlii113807.html?resultIndex=1',\n",
    "            'https://www.canlii.org/en/on/onltb/doc/2018/2018canlii111686/2018canlii111686.html?resultIndex=1',\n",
    "            'https://www.canlii.org/en/on/onltb/doc/2018/2018canlii42485/2018canlii42485.html?resultIndex=1',\n",
    "            'https://www.canlii.org/en/on/onltb/doc/2018/2018canlii88630/2018canlii88630.html?resultIndex=1',\n",
    "            'https://www.canlii.org/en/on/onltb/doc/2019/2019canlii134569/2019canlii134569.html?resultIndex=1'          \n",
    "           ]"
   ]
  },
  {
   "cell_type": "code",
   "execution_count": 15,
   "id": "39793605-9932-48c8-86a8-fa3f63cd684c",
   "metadata": {},
   "outputs": [
    {
     "name": "stdout",
     "output_type": "stream",
     "text": [
      "case_0.html already added, skipping...\n",
      "case_1.html already added, skipping...\n",
      "case_2.html already added, skipping...\n",
      "case_3.html already added, skipping...\n",
      "case_4.html already added, skipping...\n",
      "case_5.html already added, skipping...\n"
     ]
    }
   ],
   "source": [
    "from selenium import webdriver\n",
    "sup_html_path = '../annotated_sup_html/'\n",
    "if not os.path.exists(sup_html_path):\n",
    "    os.makedirs(sup_html_path)\n",
    "    \n",
    "driver = webdriver.Chrome()\n",
    "# Loop through the case IDs and URLs\n",
    "for i, url in enumerate(sup_urls):\n",
    "    # Generate a file name based on the case ID\n",
    "    filename = f\"case_{i}.html\"\n",
    "    if os.path.isfile(os.path.join(sup_html_path, filename)):\n",
    "        print(filename, \"already added, skipping...\")\n",
    "    else:\n",
    "        # Navigate to the URL\n",
    "        driver.get(url)\n",
    "\n",
    "        # Get the page source\n",
    "        html_content = driver.page_source\n",
    "\n",
    "        # Save the HTML content to a file\n",
    "        with open(os.path.join(sup_html_path, filename), \"w\", encoding=\"utf-8\") as file:\n",
    "            file.write(html_content)\n",
    "\n",
    "        print(f\"Saved HTML content for case ID {i}.\")\n",
    "\n",
    "# Close the WebDriver\n",
    "driver.quit()"
   ]
  },
  {
   "cell_type": "code",
   "execution_count": 16,
   "id": "2dbe64ad-d811-4d61-a050-4dcd3f941f06",
   "metadata": {},
   "outputs": [
    {
     "name": "stdout",
     "output_type": "stream",
     "text": [
      "Adding  case_6.html ...\n",
      "Adding  case_0.html ...\n",
      "Adding  case_1.html ...\n",
      "Adding  case_2.html ...\n",
      "Adding  case_3.html ...\n",
      "Adding  case_4.html ...\n",
      "Adding  case_5.html ...\n"
     ]
    }
   ],
   "source": [
    "for file in os.listdir(sup_html_path):\n",
    "    # print(sup_html_path + file)\n",
    "    try:\n",
    "        if os.path.isfile(sup_html_path + file) and not file.startswith('.'):\n",
    "            print(\"Adding \", file, \"...\")\n",
    "            with open(sup_html_path + file) as f:\n",
    "                html = f.read()\n",
    "            soup = BeautifulSoup(html, \"html.parser\")\n",
    "\n",
    "            # find metadata\n",
    "            document_meta = soup.find(\"div\", {\"id\": \"documentMeta\"}) \n",
    "            meta_items = document_meta.find_all(\"div\", {\"class\": \"row py-1\"})\n",
    "\n",
    "            case_ID = \"\"\n",
    "            meta_data = []\n",
    "            for meta_item in meta_items:\n",
    "                children_text = []\n",
    "                for x in meta_item.findChildren()[:2]:\n",
    "                    children_text.append(x.text)\n",
    "                child_string = '\\t'.join(children_text)\n",
    "                if \"file number\" in child_string.lower():\n",
    "                    case_ID = child_string.split(\"\\t\")[1].strip()\n",
    "                    # print(case_ID)\n",
    "                meta_data.append(child_string)\n",
    "\n",
    "            # print(meta_data)\n",
    "            # find text\n",
    "            document_body = soup.find(\"div\", {\"class\": \"documentcontent\"}).get_text()\n",
    "\n",
    "            # write to file\n",
    "            with open(sup_path + case_ID + '.txt', 'w') as file:\n",
    "                file.write('Metadata:\\n')\n",
    "                file.write('\\n'.join(meta_data))\n",
    "                file.write('Content:\\n')\n",
    "                file.write(document_body)\n",
    "    except:\n",
    "        print(\"Error with:\", file)"
   ]
  },
  {
   "cell_type": "code",
   "execution_count": 17,
   "id": "763754e1-5d09-4e80-8eef-0324e3b6731a",
   "metadata": {},
   "outputs": [
    {
     "data": {
      "text/plain": [
       "682"
      ]
     },
     "execution_count": 17,
     "metadata": {},
     "output_type": "execute_result"
    }
   ],
   "source": [
    "len(set(df['What is the file number of the case?']))"
   ]
  },
  {
   "cell_type": "code",
   "execution_count": 18,
   "id": "cff41e32-f71a-4a35-a6f5-4e9c30c46927",
   "metadata": {},
   "outputs": [
    {
     "data": {
      "text/plain": [
       "pandas.core.series.Series"
      ]
     },
     "execution_count": 18,
     "metadata": {},
     "output_type": "execute_result"
    }
   ],
   "source": [
    "type(df['What is the file number of the case?'])"
   ]
  },
  {
   "cell_type": "markdown",
   "id": "508bc065-442e-4575-b7c8-efcf5cd2f74e",
   "metadata": {},
   "source": [
    "### Remove the Duplicated Annotations"
   ]
  },
  {
   "cell_type": "code",
   "execution_count": 19,
   "id": "a2dc12db-901e-4f19-9ef9-538b97949f5e",
   "metadata": {},
   "outputs": [
    {
     "data": {
      "text/plain": [
       "(['CEL-90549-19',\n",
       "  'CEL-90549-19',\n",
       "  'SWL-17145-18',\n",
       "  'TEL-85406-17',\n",
       "  'CEL-77276-18',\n",
       "  'TEL-94512-18',\n",
       "  'CEL-87788-19',\n",
       "  'HOL-02330-18',\n",
       "  'HOL-02425-18-RV',\n",
       "  'HOL-02707-18',\n",
       "  'TEL-89165-18',\n",
       "  'TEL-89446-18',\n",
       "  'CEL-90549-19',\n",
       "  'TEL-75638-16',\n",
       "  'TEL-88533-18',\n",
       "  'TEL-88767-18',\n",
       "  'TEL-88799-18',\n",
       "  'TEL-88801-18',\n",
       "  'TSL-03695-19',\n",
       "  'TSL-03695-19'],\n",
       " 20)"
      ]
     },
     "execution_count": 19,
     "metadata": {},
     "output_type": "execute_result"
    }
   ],
   "source": [
    "file_nums = list(df['What is the file number of the case?'])\n",
    "dup = []\n",
    "for i in range(len(file_nums)):\n",
    "    if file_nums[i] in file_nums[:i]:\n",
    "        dup.append(file_nums[i])\n",
    "dup, len(dup)"
   ]
  },
  {
   "cell_type": "markdown",
   "id": "26ea03d1-0829-4f21-8791-0b86d7664733",
   "metadata": {},
   "source": [
    "### Add Raw File Texts and Raw File Names to the Dataframe"
   ]
  },
  {
   "cell_type": "code",
   "execution_count": 20,
   "id": "387feac8-937a-479f-8e54-0ece4130903a",
   "metadata": {},
   "outputs": [],
   "source": [
    "# Remove duplicate rows based on column 'A'\n",
    "df_unique = df.drop_duplicates(subset=['What is the file number of the case?'])"
   ]
  },
  {
   "cell_type": "code",
   "execution_count": 21,
   "id": "36ec2ce9-d028-4cf9-9860-d7360e5b40fa",
   "metadata": {},
   "outputs": [],
   "source": [
    "multi_path = text_path + 'multiple_files/'\n",
    "# This directory was created manually"
   ]
  },
  {
   "cell_type": "code",
   "execution_count": 22,
   "id": "c9b019d1-21dc-47cb-b8ea-4b388d3c94ca",
   "metadata": {},
   "outputs": [
    {
     "name": "stdout",
     "output_type": "stream",
     "text": [
      "TET-89650-18;TEL-90138-18 not found. Going to the supplement directory.\n",
      "TNL-00793-18;TNL-01183-18 not found. Going to the supplement directory.\n",
      "TNL-00793-18;TNL-01183-18 not found. Going to the multiple directory.\n",
      "TNL-03299-18;TNT-00589-17 not found. Going to the supplement directory.\n",
      "TNL-03299-18;TNT-00589-17 not found. Going to the multiple directory.\n",
      "TNL-04435-18;TNL-03907-18 not found. Going to the supplement directory.\n",
      "HOL-02144-17;HOT-02146-17 not found. Going to the supplement directory.\n",
      "TEL-87475-18;TET-86819-17;TET-88355-18 not found. Going to the supplement directory.\n",
      "TEL-87475-18;TET-86819-17;TET-88355-18 not found. Going to the multiple directory.\n",
      "SWL-08112-17;SWL-08113-17 not found. Going to the supplement directory.\n",
      "SWL-12547-18;SWL-12548-18 not found. Going to the supplement directory.\n",
      "SWL-12547-18;SWL-12548-18 not found. Going to the multiple directory.\n",
      "SWL-13901-18;SWT-14627-18 not found. Going to the supplement directory.\n",
      "TEL-77442-17;TET-77790-17 not found. Going to the supplement directory.\n",
      "TEL-77442-17;TET-77790-17 not found. Going to the multiple directory.\n",
      "TEL-77505-17-RV;TEL-77505-17 not found. Going to the supplement directory.\n",
      "TEL-77505-17-RV;TEL-77505-17 not found. Going to the multiple directory.\n",
      "TNL-06025-18;TNL-06026-18 not found. Going to the supplement directory.\n",
      "TNL-06025-18;TNL-06026-18 not found. Going to the multiple directory.\n",
      "TEL-79519-17;TET-79366-17 not found. Going to the supplement directory.\n",
      "TEL-79519-17;TET-79366-17 not found. Going to the multiple directory.\n",
      "TSL-07666-19-RV not found. Going to the supplement directory.\n",
      "TSL-93207-18-RV;TST-94747-18;TSL-00082-18 not found. Going to the supplement directory.\n",
      "TSL-93207-18-RV;TST-94747-18;TSL-00082-18 not found. Going to the multiple directory.\n",
      "CEL-72209-17;CET-73173-18 not found. Going to the supplement directory.\n",
      "CEL-72209-17;CET-73173-18 not found. Going to the multiple directory.\n",
      "682 682\n"
     ]
    }
   ],
   "source": [
    "info_lst = df_unique.columns[2:]\n",
    "\n",
    "raw_file_text = []\n",
    "cases_info = []\n",
    "passed_cases = []\n",
    "raw_file_name = []\n",
    "\n",
    "for i in range(len(df_unique)):\n",
    "    cases_info.append({})\n",
    "    answers = df_unique.iloc[i,2:]\n",
    "    # to complete the scraping function\n",
    "    # text = scraping(file_no)\n",
    "    file_no = answers[0]\n",
    "    if not os.path.isfile(text_path+file_no+'.txt'):\n",
    "        print(f'{file_no} not found. Going to the supplement directory.')\n",
    "        # passed_cases.append(file_no)\n",
    "        if not os.path.isfile(sup_path+file_no+'.txt'):\n",
    "            print(f'{file_no} not found. Going to the multiple directory.')\n",
    "            with open (multi_path+file_no+'.txt') as t:\n",
    "                # print(t.read())\n",
    "                # cases_info[-1]['text'] = t.read()\n",
    "                raw_file_text.append(t.read())\n",
    "                raw_file_name.append(file_no+'.txt')\n",
    "        else:\n",
    "            with open (sup_path+file_no+'.txt') as t:\n",
    "                # cases_info[-1]['text'] = t.read()\n",
    "                raw_file_text.append(t.read())\n",
    "                raw_file_name.append(file_no+'.txt')\n",
    "    else:\n",
    "        with open (text_path+file_no+'.txt') as t:\n",
    "            # cases_info[-1]['text'] = t.read()\n",
    "            raw_file_text.append(t.read())\n",
    "            raw_file_name.append(file_no+'.txt')\n",
    "    for j in range(len(answers)):\n",
    "        q = info_lst[j]\n",
    "        a = answers[j]\n",
    "        cases_info[-1][q] = a\n",
    "print(len(raw_file_text), len(raw_file_name))"
   ]
  },
  {
   "cell_type": "code",
   "execution_count": 23,
   "id": "af6785a8-35df-48c0-9851-d687b94413bf",
   "metadata": {},
   "outputs": [
    {
     "data": {
      "text/plain": [
       "\"Metadata:\\nDate:\\t2020-06-04\\nFile number:\\t\\nCEL-87788-19\\n\\tCEL-87788-19\\nCitation:\\tCEL-87788-19 (Re), 2020 CanLII 61226 (ON LTB), <https://canlii.ca/t/j9dqj>, retrieved on 2023-05-15\\thttps://canlii.ca/t/j9dqj\\nContent:\\n\\n\\nOrder under Section 69\\nResidential Tenancies\\nAct, 2006\\n\\xa0\\nFile Number: CEL-87788-19\\n\\xa0\\n\\n\\n\\n\\n\\n\\n\\n\\n\\n\\n\\n\\xa0\\n\\xa0\\n\\xa0\\n\\nM.C. (the 'Landlord') applied for an order to\\nterminate the tenancy and evict M.K. (the 'Tenant') because he has been\\npersistently late in paying his rent. The Landlord also claimed compensation\\nfor each day the Tenant remained in the unit after the termination date.\\n\\xa0\\nThis application was heard in Toronto on October 16,\\n2019.\\n\\xa0\\nThe Landlord and the Tenant\\nattended the hearing. The Landlord was represented by S.K. \\n\\xa0\\nAlso in attendance was the Landlord’s property manager,\\nB.A. \\n\\xa0\\nDeterminations:\\n\\xa0\\n1.\\xa0\\xa0 \\xa0\\xa0\\nBy way of background, this is\\na month to month tenancy in which rent is due on the first of the month in the amount\\nof $1398.79. This tenancy commenced on June 1, 2012. \\n2\""
      ]
     },
     "execution_count": 23,
     "metadata": {},
     "output_type": "execute_result"
    }
   ],
   "source": [
    "raw_file_text[0][:1000]"
   ]
  },
  {
   "cell_type": "code",
   "execution_count": 24,
   "id": "7273ef0d-cd2f-4089-9cc8-540b7d90a03c",
   "metadata": {},
   "outputs": [
    {
     "name": "stderr",
     "output_type": "stream",
     "text": [
      "/var/folders/qk/z8sxk5x56mx_814stxf4bx7c0000gn/T/ipykernel_64121/421566289.py:1: SettingWithCopyWarning: \n",
      "A value is trying to be set on a copy of a slice from a DataFrame.\n",
      "Try using .loc[row_indexer,col_indexer] = value instead\n",
      "\n",
      "See the caveats in the documentation: https://pandas.pydata.org/pandas-docs/stable/user_guide/indexing.html#returning-a-view-versus-a-copy\n",
      "  df_unique['raw_file_text'] = raw_file_text\n",
      "/var/folders/qk/z8sxk5x56mx_814stxf4bx7c0000gn/T/ipykernel_64121/421566289.py:2: SettingWithCopyWarning: \n",
      "A value is trying to be set on a copy of a slice from a DataFrame.\n",
      "Try using .loc[row_indexer,col_indexer] = value instead\n",
      "\n",
      "See the caveats in the documentation: https://pandas.pydata.org/pandas-docs/stable/user_guide/indexing.html#returning-a-view-versus-a-copy\n",
      "  df_unique['raw_file_name'] = raw_file_name\n"
     ]
    }
   ],
   "source": [
    "df_unique['raw_file_text'] = raw_file_text\n",
    "df_unique['raw_file_name'] = raw_file_name"
   ]
  },
  {
   "cell_type": "code",
   "execution_count": 25,
   "id": "d27bb44a-0e3a-43d0-ab7b-14c3582ac977",
   "metadata": {},
   "outputs": [
    {
     "name": "stdout",
     "output_type": "stream",
     "text": [
      "(682, 56)\n"
     ]
    },
    {
     "data": {
      "text/html": [
       "<div>\n",
       "<style scoped>\n",
       "    .dataframe tbody tr th:only-of-type {\n",
       "        vertical-align: middle;\n",
       "    }\n",
       "\n",
       "    .dataframe tbody tr th {\n",
       "        vertical-align: top;\n",
       "    }\n",
       "\n",
       "    .dataframe thead th {\n",
       "        text-align: right;\n",
       "    }\n",
       "</style>\n",
       "<table border=\"1\" class=\"dataframe\">\n",
       "  <thead>\n",
       "    <tr style=\"text-align: right;\">\n",
       "      <th></th>\n",
       "      <th>Timestamp</th>\n",
       "      <th>Email Address</th>\n",
       "      <th>What is the file number of the case?</th>\n",
       "      <th>What was the date of the hearing? [mm/dd/yyyy]</th>\n",
       "      <th>What was the date of the decision? [mm/dd/yyyy]</th>\n",
       "      <th>Who was the member adjudicating the decision?</th>\n",
       "      <th>What was the location of the landlord tenant board?</th>\n",
       "      <th>Did the decision state the landlord was represented?</th>\n",
       "      <th>Did the decision state the landlord attended the hearing?</th>\n",
       "      <th>Did the decision state the tenant was represented?</th>\n",
       "      <th>...</th>\n",
       "      <th>Did the decision state the tenant was given prior notice for the eviction?</th>\n",
       "      <th>If the tenant was given prior notice for the eviction, how much notice was given?</th>\n",
       "      <th>Did the decisions state postponement would result in the tenant accruing additional arrears?</th>\n",
       "      <th>Which other specific applications of the landlord or the tenant were mentioned?</th>\n",
       "      <th>Did the decision mention the validity of an N4 eviction notice?</th>\n",
       "      <th>Were there detail(s) in the decision not captured by this questionnaire that should be included?</th>\n",
       "      <th>Exec Review</th>\n",
       "      <th>Review Status</th>\n",
       "      <th>raw_file_text</th>\n",
       "      <th>raw_file_name</th>\n",
       "    </tr>\n",
       "  </thead>\n",
       "  <tbody>\n",
       "    <tr>\n",
       "      <th>0</th>\n",
       "      <td>2020-11-18 00:31:40.706</td>\n",
       "      <td>dylan.juschko@mail.utoronto.ca</td>\n",
       "      <td>CEL-87788-19</td>\n",
       "      <td>2019-10-16 00:00:00</td>\n",
       "      <td>2020-06-04 00:00:00</td>\n",
       "      <td>Sonia Anwar-Ali</td>\n",
       "      <td>Toronto</td>\n",
       "      <td>Yes</td>\n",
       "      <td>NaN</td>\n",
       "      <td>No</td>\n",
       "      <td>...</td>\n",
       "      <td>No</td>\n",
       "      <td>NaN</td>\n",
       "      <td>No</td>\n",
       "      <td>L2: Application to End a Tenancy and Evict a T...</td>\n",
       "      <td>No</td>\n",
       "      <td>Tenant was a single mother with no support fro...</td>\n",
       "      <td>NaN</td>\n",
       "      <td>NaN</td>\n",
       "      <td>Metadata:\\nDate:\\t2020-06-04\\nFile number:\\t\\n...</td>\n",
       "      <td>CEL-87788-19.txt</td>\n",
       "    </tr>\n",
       "    <tr>\n",
       "      <th>1</th>\n",
       "      <td>2020-11-18 19:26:29.581</td>\n",
       "      <td>dylan.juschko@mail.utoronto.ca</td>\n",
       "      <td>CEL-90549-19</td>\n",
       "      <td>2020-01-22 00:00:00</td>\n",
       "      <td>2020-01-10 00:00:00</td>\n",
       "      <td>Shelby Whittick</td>\n",
       "      <td>Mississauga</td>\n",
       "      <td>Yes</td>\n",
       "      <td>Yes</td>\n",
       "      <td>No</td>\n",
       "      <td>...</td>\n",
       "      <td>Yes</td>\n",
       "      <td>Not stated</td>\n",
       "      <td>Yes</td>\n",
       "      <td>No other specific applications were mentioned</td>\n",
       "      <td>No</td>\n",
       "      <td>NaN</td>\n",
       "      <td>AW</td>\n",
       "      <td>Complete</td>\n",
       "      <td>Metadata:\\nDate:\\t2020-01-10\\nFile number:\\t\\n...</td>\n",
       "      <td>CEL-90549-19.txt</td>\n",
       "    </tr>\n",
       "    <tr>\n",
       "      <th>2</th>\n",
       "      <td>2020-12-24 09:19:21.479</td>\n",
       "      <td>kayly.machado@mail.utoronto.ca</td>\n",
       "      <td>TEL-94478-18</td>\n",
       "      <td>2018-10-31 00:00:00</td>\n",
       "      <td>2018-11-21 00:00:00</td>\n",
       "      <td>Ruth Carey (Vice Chair)</td>\n",
       "      <td>Toronto</td>\n",
       "      <td>Yes</td>\n",
       "      <td>Yes</td>\n",
       "      <td>No</td>\n",
       "      <td>...</td>\n",
       "      <td>Yes</td>\n",
       "      <td>Not stated</td>\n",
       "      <td>No</td>\n",
       "      <td>N13: Notice to End your Tenancy Because the La...</td>\n",
       "      <td>No</td>\n",
       "      <td>Previous decision TEL-92736-18 &lt; This decision...</td>\n",
       "      <td>AW</td>\n",
       "      <td>Complete</td>\n",
       "      <td>Metadata:\\nDate:\\t2018-11-21\\nFile number:\\t\\n...</td>\n",
       "      <td>TEL-94478-18.txt</td>\n",
       "    </tr>\n",
       "    <tr>\n",
       "      <th>3</th>\n",
       "      <td>2020-12-24 06:13:17.400</td>\n",
       "      <td>kayly.machado@mail.utoronto.ca</td>\n",
       "      <td>TEL-94493-18</td>\n",
       "      <td>2018-10-31 00:00:00</td>\n",
       "      <td>2018-11-21 00:00:00</td>\n",
       "      <td>Ruth Carey (Vice Chair)</td>\n",
       "      <td>Toronto</td>\n",
       "      <td>Yes</td>\n",
       "      <td>Yes</td>\n",
       "      <td>No</td>\n",
       "      <td>...</td>\n",
       "      <td>Yes</td>\n",
       "      <td>Not stated</td>\n",
       "      <td>No</td>\n",
       "      <td>No other specific applications were mentioned</td>\n",
       "      <td>No</td>\n",
       "      <td>There were 7 previous application for non-paym...</td>\n",
       "      <td>AW</td>\n",
       "      <td>Complete</td>\n",
       "      <td>Metadata:\\nDate:\\t2018-11-21\\nFile number:\\t\\n...</td>\n",
       "      <td>TEL-94493-18.txt</td>\n",
       "    </tr>\n",
       "    <tr>\n",
       "      <th>4</th>\n",
       "      <td>2020-11-19 17:02:36.702</td>\n",
       "      <td>joseph.galinsky@mail.utoronto.ca</td>\n",
       "      <td>CEL-72994-18</td>\n",
       "      <td>2018-03-07 00:00:00</td>\n",
       "      <td>2018-03-14 00:00:00</td>\n",
       "      <td>Avril Cardoso</td>\n",
       "      <td>Mississauga</td>\n",
       "      <td>Yes</td>\n",
       "      <td>No</td>\n",
       "      <td>Yes</td>\n",
       "      <td>...</td>\n",
       "      <td>Yes</td>\n",
       "      <td>Not stated</td>\n",
       "      <td>No</td>\n",
       "      <td>No other specific applications were mentioned</td>\n",
       "      <td>No</td>\n",
       "      <td>Third Application by Landlord in past 6 months...</td>\n",
       "      <td>AW</td>\n",
       "      <td>Complete</td>\n",
       "      <td>Metadata:\\nDate:\\t2018-03-14\\nFile number:\\t\\n...</td>\n",
       "      <td>CEL-72994-18.txt</td>\n",
       "    </tr>\n",
       "    <tr>\n",
       "      <th>5</th>\n",
       "      <td>2020-11-19 17:14:22.294</td>\n",
       "      <td>joseph.galinsky@mail.utoronto.ca</td>\n",
       "      <td>CEL-73021-18</td>\n",
       "      <td>2018-06-15 00:00:00</td>\n",
       "      <td>2018-06-18 00:00:00</td>\n",
       "      <td>Avril Cardoso</td>\n",
       "      <td>Mississauga</td>\n",
       "      <td>Yes</td>\n",
       "      <td>No</td>\n",
       "      <td>No</td>\n",
       "      <td>...</td>\n",
       "      <td>Yes</td>\n",
       "      <td>Not stated</td>\n",
       "      <td>No</td>\n",
       "      <td>L1: Application to Evict a Tenant for Non-paym...</td>\n",
       "      <td>No</td>\n",
       "      <td>Tenant did not show up because hearing took pl...</td>\n",
       "      <td>AW</td>\n",
       "      <td>Complete</td>\n",
       "      <td>Metadata:\\nDate:\\t2018-06-18\\nFile number:\\t\\n...</td>\n",
       "      <td>CEL-73021-18.txt</td>\n",
       "    </tr>\n",
       "  </tbody>\n",
       "</table>\n",
       "<p>6 rows × 56 columns</p>\n",
       "</div>"
      ],
      "text/plain": [
       "                Timestamp                     Email Address  \\\n",
       "0 2020-11-18 00:31:40.706    dylan.juschko@mail.utoronto.ca   \n",
       "1 2020-11-18 19:26:29.581    dylan.juschko@mail.utoronto.ca   \n",
       "2 2020-12-24 09:19:21.479    kayly.machado@mail.utoronto.ca   \n",
       "3 2020-12-24 06:13:17.400    kayly.machado@mail.utoronto.ca   \n",
       "4 2020-11-19 17:02:36.702  joseph.galinsky@mail.utoronto.ca   \n",
       "5 2020-11-19 17:14:22.294  joseph.galinsky@mail.utoronto.ca   \n",
       "\n",
       "  What is the file number of the case?  \\\n",
       "0                         CEL-87788-19   \n",
       "1                         CEL-90549-19   \n",
       "2                         TEL-94478-18   \n",
       "3                         TEL-94493-18   \n",
       "4                         CEL-72994-18   \n",
       "5                         CEL-73021-18   \n",
       "\n",
       "  What was the date of the hearing? [mm/dd/yyyy]  \\\n",
       "0                            2019-10-16 00:00:00   \n",
       "1                            2020-01-22 00:00:00   \n",
       "2                            2018-10-31 00:00:00   \n",
       "3                            2018-10-31 00:00:00   \n",
       "4                            2018-03-07 00:00:00   \n",
       "5                            2018-06-15 00:00:00   \n",
       "\n",
       "  What was the date of the decision? [mm/dd/yyyy]  \\\n",
       "0                             2020-06-04 00:00:00   \n",
       "1                             2020-01-10 00:00:00   \n",
       "2                             2018-11-21 00:00:00   \n",
       "3                             2018-11-21 00:00:00   \n",
       "4                             2018-03-14 00:00:00   \n",
       "5                             2018-06-18 00:00:00   \n",
       "\n",
       "  Who was the member adjudicating the decision?  \\\n",
       "0                               Sonia Anwar-Ali   \n",
       "1                               Shelby Whittick   \n",
       "2                       Ruth Carey (Vice Chair)   \n",
       "3                      Ruth Carey (Vice Chair)    \n",
       "4                                 Avril Cardoso   \n",
       "5                                 Avril Cardoso   \n",
       "\n",
       "  What was the location of the landlord tenant board?  \\\n",
       "0                                            Toronto    \n",
       "1                                        Mississauga    \n",
       "2                                            Toronto    \n",
       "3                                            Toronto    \n",
       "4                                        Mississauga    \n",
       "5                                        Mississauga    \n",
       "\n",
       "  Did the decision state the landlord was represented?  \\\n",
       "0                                                Yes     \n",
       "1                                                Yes     \n",
       "2                                                Yes     \n",
       "3                                                Yes     \n",
       "4                                                Yes     \n",
       "5                                                Yes     \n",
       "\n",
       "  Did the decision state the landlord attended the hearing?  \\\n",
       "0                                                NaN          \n",
       "1                                                Yes          \n",
       "2                                                Yes          \n",
       "3                                                Yes          \n",
       "4                                                 No          \n",
       "5                                                 No          \n",
       "\n",
       "  Did the decision state the tenant was represented?  ...  \\\n",
       "0                                                 No  ...   \n",
       "1                                                 No  ...   \n",
       "2                                                 No  ...   \n",
       "3                                                 No  ...   \n",
       "4                                                Yes  ...   \n",
       "5                                                 No  ...   \n",
       "\n",
       "  Did the decision state the tenant was given prior notice for the eviction?  \\\n",
       "0                                                 No                           \n",
       "1                                                Yes                           \n",
       "2                                                Yes                           \n",
       "3                                                Yes                           \n",
       "4                                                Yes                           \n",
       "5                                                Yes                           \n",
       "\n",
       "  If the tenant was given prior notice for the eviction, how much notice was given?  \\\n",
       "0                                                NaN                                  \n",
       "1                                         Not stated                                  \n",
       "2                                         Not stated                                  \n",
       "3                                         Not stated                                  \n",
       "4                                         Not stated                                  \n",
       "5                                         Not stated                                  \n",
       "\n",
       "  Did the decisions state postponement would result in the tenant accruing additional arrears?  \\\n",
       "0                                                 No                                             \n",
       "1                                                Yes                                             \n",
       "2                                                 No                                             \n",
       "3                                                 No                                             \n",
       "4                                                 No                                             \n",
       "5                                                 No                                             \n",
       "\n",
       "  Which other specific applications of the landlord or the tenant were mentioned?  \\\n",
       "0  L2: Application to End a Tenancy and Evict a T...                                \n",
       "1      No other specific applications were mentioned                                \n",
       "2  N13: Notice to End your Tenancy Because the La...                                \n",
       "3      No other specific applications were mentioned                                \n",
       "4      No other specific applications were mentioned                                \n",
       "5  L1: Application to Evict a Tenant for Non-paym...                                \n",
       "\n",
       "  Did the decision mention the validity of an N4 eviction notice?  \\\n",
       "0                                                 No                \n",
       "1                                                 No                \n",
       "2                                                 No                \n",
       "3                                                 No                \n",
       "4                                                 No                \n",
       "5                                                 No                \n",
       "\n",
       "  Were there detail(s) in the decision not captured by this questionnaire that should be included?  \\\n",
       "0  Tenant was a single mother with no support fro...                                                 \n",
       "1                                                NaN                                                 \n",
       "2  Previous decision TEL-92736-18 < This decision...                                                 \n",
       "3  There were 7 previous application for non-paym...                                                 \n",
       "4  Third Application by Landlord in past 6 months...                                                 \n",
       "5  Tenant did not show up because hearing took pl...                                                 \n",
       "\n",
       "  Exec Review Review Status  \\\n",
       "0         NaN           NaN   \n",
       "1          AW      Complete   \n",
       "2          AW      Complete   \n",
       "3          AW      Complete   \n",
       "4          AW      Complete   \n",
       "5          AW      Complete   \n",
       "\n",
       "                                       raw_file_text     raw_file_name  \n",
       "0  Metadata:\\nDate:\\t2020-06-04\\nFile number:\\t\\n...  CEL-87788-19.txt  \n",
       "1  Metadata:\\nDate:\\t2020-01-10\\nFile number:\\t\\n...  CEL-90549-19.txt  \n",
       "2  Metadata:\\nDate:\\t2018-11-21\\nFile number:\\t\\n...  TEL-94478-18.txt  \n",
       "3  Metadata:\\nDate:\\t2018-11-21\\nFile number:\\t\\n...  TEL-94493-18.txt  \n",
       "4  Metadata:\\nDate:\\t2018-03-14\\nFile number:\\t\\n...  CEL-72994-18.txt  \n",
       "5  Metadata:\\nDate:\\t2018-06-18\\nFile number:\\t\\n...  CEL-73021-18.txt  \n",
       "\n",
       "[6 rows x 56 columns]"
      ]
     },
     "execution_count": 25,
     "metadata": {},
     "output_type": "execute_result"
    }
   ],
   "source": [
    "print(df_unique.shape)\n",
    "df_unique[:6]"
   ]
  },
  {
   "cell_type": "markdown",
   "id": "e4e9a23f-6106-43f8-940c-91dd8bdc2e52",
   "metadata": {},
   "source": [
    "### Print the Multiple-file Cases"
   ]
  },
  {
   "cell_type": "code",
   "execution_count": 26,
   "id": "15418880-cb05-4211-95d7-59ed136ab67a",
   "metadata": {},
   "outputs": [
    {
     "name": "stdout",
     "output_type": "stream",
     "text": [
      "SWL-08112-17;SWL-08113-17\n",
      "TNL-06025-18;TNL-06026-18\n",
      "TSL-93207-18-RV;TST-94747-18;TSL-00082-18\n",
      ".DS_S\n",
      "CEL-72209-17;CET-73173-18\n",
      "TNL-00793-18;TNL-01183-18\n",
      "SWL-12547-18;SWL-12548-18\n",
      "TET-89650-18;TEL-90138-18\n",
      "TEL-77505-17-RV;TEL-77505-17\n",
      "HOL-02144-17;HOT-02146-17\n",
      "TNL-03299-18;TNT-00589-17\n",
      "TEL-79519-17;TET-79366-17\n",
      "TEL-77442-17;TET-77790-17\n",
      "SWL-13901-18;SWT-14627-18\n",
      "TNL-04435-18;TNL-03907-18\n",
      "TEL-87475-18;TET-86819-17;TET-88355-18\n"
     ]
    }
   ],
   "source": [
    "for file in os.listdir(multi_path):\n",
    "    print(file[:-4])"
   ]
  },
  {
   "cell_type": "markdown",
   "id": "23f4b719-2e2e-4958-aa16-380cc4d7c995",
   "metadata": {},
   "source": [
    "## Create the CSV File of the Cleaned Unique Data"
   ]
  },
  {
   "cell_type": "markdown",
   "id": "417b2a53-8197-462c-acad-10a7ec35fc55",
   "metadata": {},
   "source": [
    "**The csv file can be read inappropriately because of the commas in the data, so this is only for reference.*"
   ]
  },
  {
   "cell_type": "code",
   "execution_count": 27,
   "id": "aa5cf775-d0ae-4aae-be27-4d50fbfbaf85",
   "metadata": {},
   "outputs": [],
   "source": [
    "df_unique.to_csv('matched_data.csv', index=False)"
   ]
  },
  {
   "cell_type": "markdown",
   "id": "b2d90084-437e-4a69-bdf9-acf26c4f9fba",
   "metadata": {},
   "source": [
    "## A Test before Fine-tuning"
   ]
  },
  {
   "cell_type": "markdown",
   "id": "94fc1804-a63d-4705-a1d6-00c31922792e",
   "metadata": {},
   "source": [
    "### Initialize the Tokenizer and the Model"
   ]
  },
  {
   "cell_type": "code",
   "execution_count": 28,
   "id": "4e7f1519-d6c3-428e-b7db-43dddd0e4828",
   "metadata": {},
   "outputs": [],
   "source": [
    "tokenizer = AutoTokenizer.from_pretrained(\"gpt2\")\n",
    "\n",
    "model = AutoModelForCausalLM.from_pretrained(\"gpt2\")"
   ]
  },
  {
   "cell_type": "code",
   "execution_count": 29,
   "id": "357c8730-879a-4941-9a45-ffd8561ffc4e",
   "metadata": {},
   "outputs": [],
   "source": [
    "stop_words = [\n",
    "    \"a\", \"an\", \"and\", \"are\", \"as\", \"at\", \"be\", \"but\", \"by\", \"for\", \"if\", \"in\",\n",
    "    \"into\", \"is\", \"it\",# \"no\", \"not\",\n",
    "    \"of\", \"on\", \"or\", \"such\", \"that\", \"the\",\n",
    "    \"their\", \"then\", \"there\", \"these\", \"they\", \"this\", \"to\", \"was\", \"will\", \"with\",\n",
    "    \"about\", \"all\", \"also\", \"any\", \"can\", \"could\", \"do\", \"does\", \"from\", \"has\",\n",
    "    \"have\", \"how\", \"however\", \"i\", \"if\", \"may\", \"might\", \"my\", \"need\", \"our\",\n",
    "    \"should\", \"so\", \"some\", \"than\", \"their\", \"them\", \"there\", \"these\", \"thing\",\n",
    "    \"things\", \"think\", \"us\", \"want\", \"way\", \"we\", \"what\", \"when\", \"where\", \"which\",\n",
    "    \"who\", \"why\", \"would\", \"you\",\n",
    "    'canlii'\n",
    "]"
   ]
  },
  {
   "cell_type": "markdown",
   "id": "bdf1da9d-088f-4a5c-8d1d-06973de4a540",
   "metadata": {},
   "source": [
    "### Test the Output of GPT-2 before Fine-tuning"
   ]
  },
  {
   "cell_type": "code",
   "execution_count": 30,
   "id": "71b5ee5c-a0ee-4eea-aa12-dc96fefc8b16",
   "metadata": {},
   "outputs": [],
   "source": [
    "text = cases_info[55]['What is the file number of the case?']\n",
    "with open (text_path+text+'.txt') as t:\n",
    "    text = t.read()\n",
    "text = text[text.find('Content:')+8:]\n",
    "text = text.replace('\\n', ' ')[:8000]\n",
    "text = text.replace('\\xa0', ' ')\n",
    "text = text.replace('\\t', ' ')\n",
    "text = text.replace('   ', ' ').replace('  ', ' ').replace('  ', ' ').replace('  ', ' ')\n",
    "# text\n",
    "for word in stop_words:\n",
    "    text = text.replace(' '+word+' ', ' ')[:5000]\n",
    "# print(text)"
   ]
  },
  {
   "cell_type": "code",
   "execution_count": 31,
   "id": "d5c62358-2197-41e0-8eb8-b3e0ba62d92d",
   "metadata": {},
   "outputs": [
    {
     "data": {
      "text/plain": [
       "3398"
      ]
     },
     "execution_count": 31,
     "metadata": {},
     "output_type": "execute_result"
    }
   ],
   "source": [
    "len(text)"
   ]
  },
  {
   "cell_type": "code",
   "execution_count": 32,
   "id": "6cd22e05-0f8e-4cf2-b872-9b42c37b07ce",
   "metadata": {},
   "outputs": [],
   "source": [
    "toks = tokenizer(text)"
   ]
  },
  {
   "cell_type": "code",
   "execution_count": 33,
   "id": "07d7ed53-78f5-44e5-8ef1-45d9587875b7",
   "metadata": {},
   "outputs": [
    {
     "data": {
      "text/plain": [
       "dict_keys(['input_ids', 'attention_mask'])"
      ]
     },
     "execution_count": 33,
     "metadata": {},
     "output_type": "execute_result"
    }
   ],
   "source": [
    "toks.keys()"
   ]
  },
  {
   "cell_type": "code",
   "execution_count": 34,
   "id": "e4e503de-636b-489b-809d-c3fa1c2af292",
   "metadata": {},
   "outputs": [],
   "source": [
    "q1 = list(cases_info[55].keys())[0]\n",
    "q2 = list(cases_info[55].keys())[1]"
   ]
  },
  {
   "cell_type": "code",
   "execution_count": 35,
   "id": "62aa2a6c-c1fd-47ba-b938-1f9269cf733e",
   "metadata": {},
   "outputs": [],
   "source": [
    "a1 = cases_info[55][q1]\n",
    "a2 = cases_info[55][q1]\n",
    "a1_toks = tokenizer(a1)\n",
    "a2_toks = tokenizer(a2)"
   ]
  },
  {
   "cell_type": "code",
   "execution_count": 36,
   "id": "cd201ddd-6e41-49a6-97a3-907cac0b71bd",
   "metadata": {},
   "outputs": [],
   "source": [
    "q1 = text + list(cases_info[0].keys())[0]\n",
    "q2 = text + list(cases_info[0].keys())[1]\n",
    "q1_toks = tokenizer(q1)\n",
    "q2_toks = tokenizer(q2)"
   ]
  },
  {
   "cell_type": "code",
   "execution_count": 37,
   "id": "14ca0721-8885-4c5a-8bdc-37be5bbd95b1",
   "metadata": {},
   "outputs": [],
   "source": [
    "input_ids = torch.tensor([\n",
    "    # q1_toks['input_ids'],\n",
    "    q2_toks['input_ids']\n",
    "])\n",
    "attn_mask = torch.tensor([\n",
    "    # q1_toks['attention_mask'],\n",
    "    q2_toks['attention_mask']\n",
    "])\n",
    "label = torch.tensor([\n",
    "    # a1_toks['input_ids'],\n",
    "    a2_toks['input_ids']\n",
    "])\n",
    "tokenizer.pad_token_id = tokenizer.eos_token_id"
   ]
  },
  {
   "cell_type": "code",
   "execution_count": 38,
   "id": "45488a37-1f75-4977-85b6-d82c10332a10",
   "metadata": {},
   "outputs": [
    {
     "name": "stderr",
     "output_type": "stream",
     "text": [
      "Setting `pad_token_id` to `eos_token_id`:50256 for open-end generation.\n"
     ]
    },
    {
     "data": {
      "text/plain": [
       "[' Order under Section 69 Residential Tenancies Act, 2006 File Number: TEL-84192-17      K.P.M. (the \\'Landlord\\') applied order terminate tenancy evict D.T. M. M. T. (the \\'Tenants\\') because Tenants did not pay rent Tenants owe. L1 application And The Landlord applied order terminate tenancy evict Tenants because been persistently late paying rent. The Landlord claimed compensation each day Tenants remained unit after termination date. L2 application This combined application heard Toronto January 31, 2018. The Landlord’s representative, C.K. Tenant D.T. attended hearing. It determined that: L1 application 1. The Tenants not paid $818.99 total rent Tenants were required pay period November 1, 2015 January 31, 2018. Because arrears, Landlord served Notice Termination. 2. The Tenants owe Landlord $190.00 cost filing application. 3. The total amount owing $1,008.99($818.99 + $190.00). 4. The Tenant hearing proposed pay $125.00 every month along monthly rent pay rent arrears. The Tenant made post hearing submission pay $150.00 every month along monthly rent pay rent arrears. 5. The Landlord did not accept Tenant’s payment plan seeking eviction. 6. I find Tenants made effort paid $4,000.00 Landlord after application filed. I find Tenant motivated shall given chance pay rent arrears. 7. I considered disclosed circumstances accordance subsection 83(2) Residential Tenancies Act, 2006 (the \\'Act\\'), find not unfair grant relief eviction subject conditions set out order pursuant subsection 83(1)(a) 204(1) Act. L2 application 8. The Tenants persistently failed pay rent date due. 9. I considered disclosed circumstances accordance subsection 83(2) Residential Tenancies Act, 2006 (the \\'Act\\'), find not unfair grant relief eviction subject conditions set out order pursuant subsection 83(1)(a) 204(1) Act. It ordered that: L1 application 1. The Tenants shall pay Landlord rent month February 2018, no later February 25, 2018. 2. The Tenants shall pay Landlord $1,008.99 follows: a) On before March 1, 2018  $150.00 b) On before April 1, 2018  $150.00 c) On before May 1, 2018  $150.00 d) On before June 1, 2018  $150.00 e) On before July 1, 2018  $150.00 f) On before August 1, 2018  $150.00 g) On before September 1, 2018 $108.99   3. The Tenants shall pay Landlord rent owing months March, April, May, June, July, August September 2018, no later 1st day each month. 4. If Tenants fails make one payments accordance order, outstanding balance arrears rent costs paid Tenants Landlord pursuant paragraph 1 order shall become immediately due owing Landlord may, without notice Tenants apply Board pursuant section 78 Act order terminating tenancy evicting Tenants requiring Tenants pay new arrears, NSF fees related charges became owing day after breach. L2 application 5. If Tenants void part order relating L1 application set out order, Tenants shall pay monthly rent before 1st day each month, starting October 1, 2018 continuing up including September 1, 2019. 6. If Tenants fail make payments set out paragraphs 5 above, Landlord apply under section 78 Act, within 30 days breach, without notice Tenants, order terminating tenancy evicting Tenants. February 15, 2018   _______________________ Date Issued   Gobinder Randhawa      Member, Landlord Tenant Board Toronto East-RO 2275 Midland Avenue, Unit 2 Toronto ON M1P3E7 If questions order, call 416-645-8080 toll free 1-888-332-3234. What was the date of the hearing? [mm/dd/yyyy] December 28th 2016\\nThe Tribunal found in favour and dismissed all claims against this landlord by Judge Jules Atherton on Dec 29 2014 based upon an amended complaint dated 12 Mar 2017 at http://www0e096b9d5c49fdf08bb55beaaabcd06cfba35674590_jr01221138. In his opinion Justice Breen held it would be \"unusual\" for such proceedings to proceed as long time periods are involved if there is any delay or inconvenience caused during which further action should take place; but he noted some limitations regarding where these matters might have occurred had they taken into account other aspects relevant generally when assessing whether certain actions could reasonably occur from various points outside their respective areas - namely housing disputes between tenants who live together with others living separately, rental']"
      ]
     },
     "execution_count": 38,
     "metadata": {},
     "output_type": "execute_result"
    }
   ],
   "source": [
    "out = model.generate(input_ids=input_ids, \n",
    "                     attention_mask=attn_mask, \n",
    "                     return_dict_in_generate=True, \n",
    "                     output_scores=False, \n",
    "                     max_length=1024,\n",
    "                     temperature=0.5,\n",
    "                     do_sample=True,\n",
    "                     repetition_penalty=3.0,\n",
    "                     top_k=10)\n",
    "result = tokenizer.batch_decode(out[\"sequences\"], skip_special_tokens=True)\n",
    "result"
   ]
  },
  {
   "cell_type": "code",
   "execution_count": null,
   "id": "c0adb40c-c292-4889-bcf6-604bd50eb57f",
   "metadata": {},
   "outputs": [],
   "source": []
  }
 ],
 "metadata": {
  "kernelspec": {
   "display_name": "Python 3 (ipykernel)",
   "language": "python",
   "name": "python3"
  },
  "language_info": {
   "codemirror_mode": {
    "name": "ipython",
    "version": 3
   },
   "file_extension": ".py",
   "mimetype": "text/x-python",
   "name": "python",
   "nbconvert_exporter": "python",
   "pygments_lexer": "ipython3",
   "version": "3.10.6"
  }
 },
 "nbformat": 4,
 "nbformat_minor": 5
}
