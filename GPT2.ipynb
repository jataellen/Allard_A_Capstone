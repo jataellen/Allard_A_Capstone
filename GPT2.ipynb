{
 "cells": [
  {
   "cell_type": "markdown",
   "id": "9b833a29-baa2-4583-a8b3-f0a3f50132fa",
   "metadata": {},
   "source": [
    "## Imports"
   ]
  },
  {
   "cell_type": "code",
   "execution_count": 1,
   "id": "295b6c5d-3645-48e7-ba87-07d8a39b92e8",
   "metadata": {},
   "outputs": [
    {
     "name": "stderr",
     "output_type": "stream",
     "text": [
      "/Users/qmy/opt/miniconda3/lib/python3.10/site-packages/tqdm/auto.py:22: TqdmWarning: IProgress not found. Please update jupyter and ipywidgets. See https://ipywidgets.readthedocs.io/en/stable/user_install.html\n",
      "  from .autonotebook import tqdm as notebook_tqdm\n"
     ]
    }
   ],
   "source": [
    "import pandas as pd\n",
    "import requests\n",
    "from bs4 import BeautifulSoup\n",
    "import torch\n",
    "import os\n",
    "import re\n",
    "\n",
    "from wordcloud import WordCloud\n",
    "import matplotlib.pyplot as plt\n",
    "\n",
    "from transformers import AutoTokenizer, AutoModelForCausalLM\n"
   ]
  },
  {
   "cell_type": "markdown",
   "id": "e2217266-5670-408e-9301-97fa82b52e8d",
   "metadata": {},
   "source": [
    "## Data Reading and Cleaning"
   ]
  },
  {
   "cell_type": "code",
   "execution_count": 2,
   "id": "6f722990-f958-44f7-bcf6-c8e8be729990",
   "metadata": {},
   "outputs": [
    {
     "name": "stdout",
     "output_type": "stream",
     "text": [
      "(702, 54)\n"
     ]
    },
    {
     "data": {
      "text/html": [
       "<div>\n",
       "<style scoped>\n",
       "    .dataframe tbody tr th:only-of-type {\n",
       "        vertical-align: middle;\n",
       "    }\n",
       "\n",
       "    .dataframe tbody tr th {\n",
       "        vertical-align: top;\n",
       "    }\n",
       "\n",
       "    .dataframe thead th {\n",
       "        text-align: right;\n",
       "    }\n",
       "</style>\n",
       "<table border=\"1\" class=\"dataframe\">\n",
       "  <thead>\n",
       "    <tr style=\"text-align: right;\">\n",
       "      <th></th>\n",
       "      <th>Timestamp</th>\n",
       "      <th>Email Address</th>\n",
       "      <th>What is the file number of the case?</th>\n",
       "      <th>What was the date of the hearing? [mm/dd/yyyy]</th>\n",
       "      <th>What was the date of the decision? [mm/dd/yyyy]</th>\n",
       "      <th>Who was the member adjudicating the decision?</th>\n",
       "      <th>What was the location of the landlord tenant board?</th>\n",
       "      <th>Did the decision state the landlord was represented?</th>\n",
       "      <th>Did the decision state the landlord attended the hearing?</th>\n",
       "      <th>Did the decision state the tenant was represented?</th>\n",
       "      <th>...</th>\n",
       "      <th>Did the decision mention the tenant’s difficulty finding alternative housing for any reason e.g.physical limitations, reliance on social assistance, etc.?</th>\n",
       "      <th>If yes to the previous question, which of the following were applicable to the tenant?</th>\n",
       "      <th>Did the decision state the tenant was given prior notice for the eviction?</th>\n",
       "      <th>If the tenant was given prior notice for the eviction, how much notice was given?</th>\n",
       "      <th>Did the decisions state postponement would result in the tenant accruing additional arrears?</th>\n",
       "      <th>Which other specific applications of the landlord or the tenant were mentioned?</th>\n",
       "      <th>Did the decision mention the validity of an N4 eviction notice?</th>\n",
       "      <th>Were there detail(s) in the decision not captured by this questionnaire that should be included?</th>\n",
       "      <th>Exec Review</th>\n",
       "      <th>Review Status</th>\n",
       "    </tr>\n",
       "  </thead>\n",
       "  <tbody>\n",
       "    <tr>\n",
       "      <th>0</th>\n",
       "      <td>2020-11-18 00:31:40.706</td>\n",
       "      <td>dylan.juschko@mail.utoronto.ca</td>\n",
       "      <td>CEL-87788-19</td>\n",
       "      <td>2019-10-16 00:00:00</td>\n",
       "      <td>2020-06-04 00:00:00</td>\n",
       "      <td>Sonia Anwar-Ali</td>\n",
       "      <td>Toronto</td>\n",
       "      <td>Yes</td>\n",
       "      <td>NaN</td>\n",
       "      <td>No</td>\n",
       "      <td>...</td>\n",
       "      <td>No</td>\n",
       "      <td>NaN</td>\n",
       "      <td>No</td>\n",
       "      <td>NaN</td>\n",
       "      <td>No</td>\n",
       "      <td>L2: Application to End a Tenancy and Evict a T...</td>\n",
       "      <td>No</td>\n",
       "      <td>Tenant was a single mother with no support fro...</td>\n",
       "      <td>NaN</td>\n",
       "      <td>NaN</td>\n",
       "    </tr>\n",
       "    <tr>\n",
       "      <th>1</th>\n",
       "      <td>2020-11-18 19:26:29.581</td>\n",
       "      <td>dylan.juschko@mail.utoronto.ca</td>\n",
       "      <td>CEL-90549-19</td>\n",
       "      <td>2020-01-22 00:00:00</td>\n",
       "      <td>2020-01-10 00:00:00</td>\n",
       "      <td>Shelby Whittick</td>\n",
       "      <td>Mississauga</td>\n",
       "      <td>Yes</td>\n",
       "      <td>Yes</td>\n",
       "      <td>No</td>\n",
       "      <td>...</td>\n",
       "      <td>No</td>\n",
       "      <td>NaN</td>\n",
       "      <td>Yes</td>\n",
       "      <td>Not stated</td>\n",
       "      <td>Yes</td>\n",
       "      <td>No other specific applications were mentioned</td>\n",
       "      <td>No</td>\n",
       "      <td>NaN</td>\n",
       "      <td>AW</td>\n",
       "      <td>Complete</td>\n",
       "    </tr>\n",
       "    <tr>\n",
       "      <th>2</th>\n",
       "      <td>2020-12-24 09:19:21.479</td>\n",
       "      <td>kayly.machado@mail.utoronto.ca</td>\n",
       "      <td>TEL-94478-18</td>\n",
       "      <td>2018-10-31 00:00:00</td>\n",
       "      <td>2018-11-21 00:00:00</td>\n",
       "      <td>Ruth Carey (Vice Chair)</td>\n",
       "      <td>Toronto</td>\n",
       "      <td>Yes</td>\n",
       "      <td>Yes</td>\n",
       "      <td>No</td>\n",
       "      <td>...</td>\n",
       "      <td>No</td>\n",
       "      <td>NaN</td>\n",
       "      <td>Yes</td>\n",
       "      <td>Not stated</td>\n",
       "      <td>No</td>\n",
       "      <td>N13: Notice to End your Tenancy Because the La...</td>\n",
       "      <td>No</td>\n",
       "      <td>Previous decision TEL-92736-18 &lt; This decision...</td>\n",
       "      <td>AW</td>\n",
       "      <td>Complete</td>\n",
       "    </tr>\n",
       "    <tr>\n",
       "      <th>3</th>\n",
       "      <td>2020-12-24 06:13:17.400</td>\n",
       "      <td>kayly.machado@mail.utoronto.ca</td>\n",
       "      <td>TEL-94493-18</td>\n",
       "      <td>2018-10-31 00:00:00</td>\n",
       "      <td>2018-11-21 00:00:00</td>\n",
       "      <td>Ruth Carey (Vice Chair)</td>\n",
       "      <td>Toronto</td>\n",
       "      <td>Yes</td>\n",
       "      <td>Yes</td>\n",
       "      <td>No</td>\n",
       "      <td>...</td>\n",
       "      <td>No</td>\n",
       "      <td>NaN</td>\n",
       "      <td>Yes</td>\n",
       "      <td>Not stated</td>\n",
       "      <td>No</td>\n",
       "      <td>No other specific applications were mentioned</td>\n",
       "      <td>No</td>\n",
       "      <td>There were 7 previous application for non-paym...</td>\n",
       "      <td>AW</td>\n",
       "      <td>Complete</td>\n",
       "    </tr>\n",
       "    <tr>\n",
       "      <th>4</th>\n",
       "      <td>2020-11-19 17:02:36.702</td>\n",
       "      <td>joseph.galinsky@mail.utoronto.ca</td>\n",
       "      <td>CEL-72994-18</td>\n",
       "      <td>2018-03-07 00:00:00</td>\n",
       "      <td>2018-03-14 00:00:00</td>\n",
       "      <td>Avril Cardoso</td>\n",
       "      <td>Mississauga</td>\n",
       "      <td>Yes</td>\n",
       "      <td>No</td>\n",
       "      <td>Yes</td>\n",
       "      <td>...</td>\n",
       "      <td>No</td>\n",
       "      <td>NaN</td>\n",
       "      <td>Yes</td>\n",
       "      <td>Not stated</td>\n",
       "      <td>No</td>\n",
       "      <td>No other specific applications were mentioned</td>\n",
       "      <td>No</td>\n",
       "      <td>Third Application by Landlord in past 6 months...</td>\n",
       "      <td>AW</td>\n",
       "      <td>Complete</td>\n",
       "    </tr>\n",
       "    <tr>\n",
       "      <th>5</th>\n",
       "      <td>2020-11-19 17:14:22.294</td>\n",
       "      <td>joseph.galinsky@mail.utoronto.ca</td>\n",
       "      <td>CEL-73021-18</td>\n",
       "      <td>2018-06-15 00:00:00</td>\n",
       "      <td>2018-06-18 00:00:00</td>\n",
       "      <td>Avril Cardoso</td>\n",
       "      <td>Mississauga</td>\n",
       "      <td>Yes</td>\n",
       "      <td>No</td>\n",
       "      <td>No</td>\n",
       "      <td>...</td>\n",
       "      <td>No</td>\n",
       "      <td>NaN</td>\n",
       "      <td>Yes</td>\n",
       "      <td>Not stated</td>\n",
       "      <td>No</td>\n",
       "      <td>L1: Application to Evict a Tenant for Non-paym...</td>\n",
       "      <td>No</td>\n",
       "      <td>Tenant did not show up because hearing took pl...</td>\n",
       "      <td>AW</td>\n",
       "      <td>Complete</td>\n",
       "    </tr>\n",
       "  </tbody>\n",
       "</table>\n",
       "<p>6 rows × 54 columns</p>\n",
       "</div>"
      ],
      "text/plain": [
       "                Timestamp                     Email Address  \\\n",
       "0 2020-11-18 00:31:40.706    dylan.juschko@mail.utoronto.ca   \n",
       "1 2020-11-18 19:26:29.581    dylan.juschko@mail.utoronto.ca   \n",
       "2 2020-12-24 09:19:21.479    kayly.machado@mail.utoronto.ca   \n",
       "3 2020-12-24 06:13:17.400    kayly.machado@mail.utoronto.ca   \n",
       "4 2020-11-19 17:02:36.702  joseph.galinsky@mail.utoronto.ca   \n",
       "5 2020-11-19 17:14:22.294  joseph.galinsky@mail.utoronto.ca   \n",
       "\n",
       "  What is the file number of the case?  \\\n",
       "0                         CEL-87788-19   \n",
       "1                         CEL-90549-19   \n",
       "2                         TEL-94478-18   \n",
       "3                         TEL-94493-18   \n",
       "4                         CEL-72994-18   \n",
       "5                         CEL-73021-18   \n",
       "\n",
       "  What was the date of the hearing? [mm/dd/yyyy]  \\\n",
       "0                            2019-10-16 00:00:00   \n",
       "1                            2020-01-22 00:00:00   \n",
       "2                            2018-10-31 00:00:00   \n",
       "3                            2018-10-31 00:00:00   \n",
       "4                            2018-03-07 00:00:00   \n",
       "5                            2018-06-15 00:00:00   \n",
       "\n",
       "  What was the date of the decision? [mm/dd/yyyy]  \\\n",
       "0                             2020-06-04 00:00:00   \n",
       "1                             2020-01-10 00:00:00   \n",
       "2                             2018-11-21 00:00:00   \n",
       "3                             2018-11-21 00:00:00   \n",
       "4                             2018-03-14 00:00:00   \n",
       "5                             2018-06-18 00:00:00   \n",
       "\n",
       "  Who was the member adjudicating the decision?  \\\n",
       "0                               Sonia Anwar-Ali   \n",
       "1                               Shelby Whittick   \n",
       "2                       Ruth Carey (Vice Chair)   \n",
       "3                      Ruth Carey (Vice Chair)    \n",
       "4                                 Avril Cardoso   \n",
       "5                                 Avril Cardoso   \n",
       "\n",
       "  What was the location of the landlord tenant board?  \\\n",
       "0                                            Toronto    \n",
       "1                                        Mississauga    \n",
       "2                                            Toronto    \n",
       "3                                            Toronto    \n",
       "4                                        Mississauga    \n",
       "5                                        Mississauga    \n",
       "\n",
       "  Did the decision state the landlord was represented?  \\\n",
       "0                                                Yes     \n",
       "1                                                Yes     \n",
       "2                                                Yes     \n",
       "3                                                Yes     \n",
       "4                                                Yes     \n",
       "5                                                Yes     \n",
       "\n",
       "  Did the decision state the landlord attended the hearing?  \\\n",
       "0                                                NaN          \n",
       "1                                                Yes          \n",
       "2                                                Yes          \n",
       "3                                                Yes          \n",
       "4                                                 No          \n",
       "5                                                 No          \n",
       "\n",
       "  Did the decision state the tenant was represented?  ...  \\\n",
       "0                                                 No  ...   \n",
       "1                                                 No  ...   \n",
       "2                                                 No  ...   \n",
       "3                                                 No  ...   \n",
       "4                                                Yes  ...   \n",
       "5                                                 No  ...   \n",
       "\n",
       "  Did the decision mention the tenant’s difficulty finding alternative housing for any reason e.g.physical limitations, reliance on social assistance, etc.?  \\\n",
       "0                                                 No                                                                                                           \n",
       "1                                                 No                                                                                                           \n",
       "2                                                 No                                                                                                           \n",
       "3                                                 No                                                                                                           \n",
       "4                                                 No                                                                                                           \n",
       "5                                                 No                                                                                                           \n",
       "\n",
       "  If yes to the previous question, which of the following were applicable to the tenant?  \\\n",
       "0                                                NaN                                       \n",
       "1                                                NaN                                       \n",
       "2                                                NaN                                       \n",
       "3                                                NaN                                       \n",
       "4                                                NaN                                       \n",
       "5                                                NaN                                       \n",
       "\n",
       "  Did the decision state the tenant was given prior notice for the eviction?  \\\n",
       "0                                                 No                           \n",
       "1                                                Yes                           \n",
       "2                                                Yes                           \n",
       "3                                                Yes                           \n",
       "4                                                Yes                           \n",
       "5                                                Yes                           \n",
       "\n",
       "  If the tenant was given prior notice for the eviction, how much notice was given?  \\\n",
       "0                                                NaN                                  \n",
       "1                                         Not stated                                  \n",
       "2                                         Not stated                                  \n",
       "3                                         Not stated                                  \n",
       "4                                         Not stated                                  \n",
       "5                                         Not stated                                  \n",
       "\n",
       "  Did the decisions state postponement would result in the tenant accruing additional arrears?  \\\n",
       "0                                                 No                                             \n",
       "1                                                Yes                                             \n",
       "2                                                 No                                             \n",
       "3                                                 No                                             \n",
       "4                                                 No                                             \n",
       "5                                                 No                                             \n",
       "\n",
       "  Which other specific applications of the landlord or the tenant were mentioned?  \\\n",
       "0  L2: Application to End a Tenancy and Evict a T...                                \n",
       "1      No other specific applications were mentioned                                \n",
       "2  N13: Notice to End your Tenancy Because the La...                                \n",
       "3      No other specific applications were mentioned                                \n",
       "4      No other specific applications were mentioned                                \n",
       "5  L1: Application to Evict a Tenant for Non-paym...                                \n",
       "\n",
       "  Did the decision mention the validity of an N4 eviction notice?  \\\n",
       "0                                                 No                \n",
       "1                                                 No                \n",
       "2                                                 No                \n",
       "3                                                 No                \n",
       "4                                                 No                \n",
       "5                                                 No                \n",
       "\n",
       "  Were there detail(s) in the decision not captured by this questionnaire that should be included?  \\\n",
       "0  Tenant was a single mother with no support fro...                                                 \n",
       "1                                                NaN                                                 \n",
       "2  Previous decision TEL-92736-18 < This decision...                                                 \n",
       "3  There were 7 previous application for non-paym...                                                 \n",
       "4  Third Application by Landlord in past 6 months...                                                 \n",
       "5  Tenant did not show up because hearing took pl...                                                 \n",
       "\n",
       "  Exec Review Review Status  \n",
       "0         NaN           NaN  \n",
       "1          AW      Complete  \n",
       "2          AW      Complete  \n",
       "3          AW      Complete  \n",
       "4          AW      Complete  \n",
       "5          AW      Complete  \n",
       "\n",
       "[6 rows x 54 columns]"
      ]
     },
     "execution_count": 2,
     "metadata": {},
     "output_type": "execute_result"
    }
   ],
   "source": [
    "text_path = 'formatted_cases/'\n",
    "file = '../annotated_data.xlsx'\n",
    "REGEX = r';+'\n",
    "df = pd.read_excel(file)\n",
    "df['What is the file number of the case?'] = df['What is the file number of the case?'].str.replace(' and ', ';')\n",
    "df['What is the file number of the case?'] = df['What is the file number of the case?'].str.replace(' ', ';')\n",
    "df['What is the file number of the case?'] = df['What is the file number of the case?'].str.replace('/', ';')\n",
    "df['What is the file number of the case?'] = df['What is the file number of the case?'].str.strip(';')\n",
    "df['What is the file number of the case?'] = df['What is the file number of the case?'].apply(lambda x: re.sub(REGEX, ';', x))\n",
    "df['What is the file number of the case?'] = df['What is the file number of the case?'].str.replace('File;number:;', '')\n",
    "print(df.shape)\n",
    "df.head(6)"
   ]
  },
  {
   "cell_type": "code",
   "execution_count": 54,
   "id": "f7b3bbe1-10da-4af2-bc57-a1d3cf4a3051",
   "metadata": {},
   "outputs": [
    {
     "name": "stdout",
     "output_type": "stream",
     "text": [
      "TET-89650-18;TET-89650-18\n",
      "TNL-00793-18;TNL-01183-18\n",
      "TNL-03299-18;TNT-00589-17\n",
      "TNL-04435-18;TNL-03907-18\n",
      "HOL-02144-17;HOT-02146-17\n",
      "TEL-87475-18;TET-86819-17;TET-88355-18\n",
      "SWL-08112-17;SWL-08113-17\n",
      "SWL-12547-18;SWL-12548-18\n",
      "SWL-13901-18;SWT-14627-18\n",
      "TEL-77442-17;TET-77790-17\n",
      "TEL-77505-17-RV;TEL-77505-17\n",
      "TNL-06025-18;TNL-06026-18\n",
      "TEL-79519-17;TET-79366-17\n",
      "TSL-93207-18-RV;TST-94747-18;TSL-00082-18\n",
      "CEL-72209-17;CET-73173-18\n"
     ]
    },
    {
     "data": {
      "text/plain": [
       "15"
      ]
     },
     "execution_count": 54,
     "metadata": {},
     "output_type": "execute_result"
    }
   ],
   "source": [
    "# to check if the data are well cleaned\n",
    "multi = 0\n",
    "for i in df['What is the file number of the case?']:\n",
    "    if ';' in i:\n",
    "        print(i)\n",
    "        multi += 1\n",
    "multi"
   ]
  },
  {
   "cell_type": "code",
   "execution_count": 4,
   "id": "7bf78ebd-bbe2-4f4b-b3ca-b2aa5f2b8603",
   "metadata": {},
   "outputs": [],
   "source": [
    "text = []\n",
    "for file_name in os.listdir(text_path):\n",
    "    if 'checkpoints' not in file_name:\n",
    "        with open (text_path+file_name, encoding='latin-1') as f:\n",
    "            text.append(f.read())"
   ]
  },
  {
   "cell_type": "code",
   "execution_count": 5,
   "id": "fde516b4-c49b-4fe1-b29a-aada7a0099a5",
   "metadata": {},
   "outputs": [
    {
     "data": {
      "text/plain": [
       "680"
      ]
     },
     "execution_count": 5,
     "metadata": {},
     "output_type": "execute_result"
    }
   ],
   "source": [
    "len(text)"
   ]
  },
  {
   "cell_type": "code",
   "execution_count": 6,
   "id": "65ef595d-2e07-4275-a1a5-f6f4c6eabf55",
   "metadata": {},
   "outputs": [],
   "source": [
    "stopwords = ['a', 'the', 'an', 'à', 'this', 'that']"
   ]
  },
  {
   "cell_type": "code",
   "execution_count": 7,
   "id": "c81c3cb7-ce29-400d-a37a-a5a6848b2da5",
   "metadata": {},
   "outputs": [
    {
     "data": {
      "image/png": "[encoded data removed]",
      "text/plain": [
       "<Figure size 640x480 with 1 Axes>"
      ]
     },
     "metadata": {},
     "output_type": "display_data"
    }
   ],
   "source": [
    "# annotated data wordcloud\n",
    "tokens = ' '.join(text).lower()\n",
    "wordcloud = WordCloud(\n",
    "    background_color = 'white',\n",
    "    stopwords = stopwords\n",
    ").generate(tokens)\n",
    "plt.figure()\n",
    "plt.imshow(wordcloud, interpolation=\"bilinear\")\n",
    "plt.axis(\"off\")\n",
    "plt.show()"
   ]
  },
  {
   "cell_type": "code",
   "execution_count": 25,
   "id": "72b1275e-e8b4-422d-b7d7-601ffa8157d0",
   "metadata": {},
   "outputs": [
    {
     "name": "stdout",
     "output_type": "stream",
     "text": [
      "CEL-72209-17;;CET-73173-18.txt\n",
      "CEL-72209-17;CET-73173-18.txt\n",
      "TEL-77442-17;;TET-77790-17.txt\n",
      "TEL-77442-17;TET-77790-17.txt\n",
      "TSL-93207-18-RV;;TST-94747-18;;TSL-00082-18.txt\n",
      "TSL-93207-18-RV;TST-94747-18;TSL-00082-18.txt\n",
      "TNL-06025-18;;TNL-06026-18.txt\n",
      "TNL-06025-18;TNL-06026-18.txt\n",
      "TEL-77505-17-RV;;TEL-77505-17.txt\n",
      "TEL-77505-17-RV;TEL-77505-17.txt\n",
      "SWL-12547-18;SWL-12548-18.txt\n",
      "SWL-12547-18;SWL-12548-18.txt\n",
      "TNL-03299-18;;TNT-00589-17.txt\n",
      "TNL-03299-18;TNT-00589-17.txt\n",
      "TEL-79519-17;;TET-79366-17.txt\n",
      "TEL-79519-17;TET-79366-17.txt\n",
      "TEL-87475-18;;TET-86819-17;;TET-88355-18.txt\n",
      "TEL-87475-18;TET-86819-17;TET-88355-18.txt\n",
      "TNL-00793-18;;TNL-01183-18.txt\n",
      "TNL-00793-18;TNL-01183-18.txt\n"
     ]
    }
   ],
   "source": [
    "for file_name in os.listdir(text_path):\n",
    "    file_no = file_name[:-4]\n",
    "    txt = file_name[-4:]\n",
    "    if ' and ' in file_no:\n",
    "        # print(file_name)\n",
    "        new_name = file_no.replace(' and ', ';') + txt\n",
    "        os.rename(text_path+file_name, text_path+new_name)\n",
    "        file_name = new_name\n",
    "        file_no = file_name[:-4]\n",
    "        # print(file_name)\n",
    "    if '/' in file_no:\n",
    "        # print(file_name)\n",
    "        new_name = file_no.replace('//', ';') + txt\n",
    "        os.rename(text_path+file_name, text_path+new_name)\n",
    "        file_name = new_name\n",
    "        file_no = file_name[:-4]\n",
    "        # print(file_name)\n",
    "    if ' ' in file_no:\n",
    "        # print(file_name)\n",
    "        new_name = file_no.replace(' ',';').strip(';') + txt\n",
    "        os.rename(text_path+file_name, text_path+new_name)\n",
    "        file_name = new_name\n",
    "        file_no = file_name[:-4]\n",
    "        # print(file_name)\n",
    "    if ';' in file_no:\n",
    "        # print(file_name)\n",
    "        new_name = re.sub(REGEX, ';', file_no) + txt\n",
    "        os.rename(text_path+file_name, text_path+new_name)\n",
    "        file_name = new_name\n",
    "        file_no = file_name[:-4]\n",
    "        # print(file_name)\n",
    "    if 'File;number:;' in file_no:\n",
    "        new_name = file_n.replace('File;number:;', '') + txt\n",
    "        os.rename(text_path+file_name, text_path+new_name)\n",
    "        file_name = new_name\n",
    "        file_no = file_name[:-4]     "
   ]
  },
  {
   "cell_type": "code",
   "execution_count": 30,
   "id": "ef8dcd38-465f-4711-83f3-39e54c09ccfe",
   "metadata": {},
   "outputs": [],
   "source": [
    "for file_name in os.listdir(text_path):\n",
    "    if ';' in file_name:\n",
    "        print(file_name)"
   ]
  },
  {
   "cell_type": "code",
   "execution_count": 9,
   "id": "54b268ba-67b3-4356-b406-3953643f9a7f",
   "metadata": {},
   "outputs": [],
   "source": [
    "# no need to scrape anymore\n",
    "# file_no = df['What is the file number of the case?']\n",
    "\n",
    "# canlii_search = 'https://www.canlii.org/en/#search/id='\n",
    "# response = requests.get(canlii_search+file_no[0])\n",
    "# soup = BeautifulSoup(response.content, 'html.parser')\n",
    "# judge = soup.find_all('script')"
   ]
  },
  {
   "cell_type": "code",
   "execution_count": 10,
   "id": "487290a1-6d2d-4beb-bb71-4edc460c8086",
   "metadata": {},
   "outputs": [
    {
     "data": {
      "text/plain": [
       "Index(['Timestamp', 'Email Address', 'What is the file number of the case?',\n",
       "       'What was the date of the hearing? [mm/dd/yyyy]',\n",
       "       'What was the date of the decision? [mm/dd/yyyy]',\n",
       "       'Who was the member adjudicating the decision?',\n",
       "       'What was the location of the landlord tenant board?',\n",
       "       'Did the decision state the landlord was represented?',\n",
       "       'Did the decision state the landlord attended the hearing?',\n",
       "       'Did the decision state the tenant was represented?',\n",
       "       'Did the decision state the tenant attended the hearing?',\n",
       "       'Did the decision state the landlord was a not-for-profit landlord (e.g. Toronto Community Housing)?',\n",
       "       'Did the decision state the tenant was collecting a subsidy?',\n",
       "       'What was the outcome of the case?',\n",
       "       'What was the length of the tenancy, or in other words, how long had the tenants lived at the residence in question? ',\n",
       "       'What was the monthly rent?',\n",
       "       'What was the amount of the rental deposit? ',\n",
       "       'If any rent increases occurred, what was the rent after the increase(s)?',\n",
       "       'If any rent increases occurred, when did the rent increase(s) come into effect? ',\n",
       "       'What was the total amount of arrears?',\n",
       "       'Over how many months did the arrears accumulate? ',\n",
       "       'If the tenant made a payment on the arrears after the eviction notice was served and/or prior to the hearing, what was the amount of the payment? ',\n",
       "       'Did the decision mention a history of arrears by the tenant separate from the arrears in the current claim (more than one period of arrears, recurrently coming in and out of arrears, arrears with previous landlord, etc.)?',\n",
       "       'If the tenant had a history of arrears, did the decision mention a history of the tenant making payments on those arrears (separate from any payments made in response to the present eviction notice/hearing)?',\n",
       "       'How frequently were rent payments made late?',\n",
       "       'Did the member find the tenant had or seemed to have the ability to pay rent, but chose not do so?',\n",
       "       'What were the specific mental, medical, or physical conditions of the tenant, if any? ',\n",
       "       'Did the decision state that the tenant had children living with them?',\n",
       "       'How many total children did the tenant have living with them? ',\n",
       "       'How many total children aged 17 or younger did the tenant have living with them?',\n",
       "       'How many total children aged 13 or younger did the tenant have living with them? ',\n",
       "       'How many total children aged 4 or younger did the tenant have living with them?',\n",
       "       'Did the decision state any of the children had mental, medical or physical conditions?',\n",
       "       'If yes to the previous question, did the decision state these conditions would make moving particularly burdensome?',\n",
       "       'Was the tenant employed at the time of the hearing?',\n",
       "       'If the tenant was not employed, did the decision state the tenant was receiving any form of government assistance (e.g. OW, childcare benefits, ODSP, OSAP)?',\n",
       "       'If the tenant was employed, did the decision state any doubts about the stability of employment e.g. lack of guaranteed hours, contract work, etc.?',\n",
       "       'Did the member find the tenant had sufficient income to pay rent?',\n",
       "       'What was the total income of the tenant’s household? ',\n",
       "       'Did the decision mention the tenant lost their job leading up to or during the period of the hearing?',\n",
       "       'Did the decision mention any other extenuating circumstances experienced by the tenant leading up to or during the period of the claim (e.g. hospitalization, death in the family, etc.)?',\n",
       "       'Did the tenant propose a payment plan?',\n",
       "       'If the tenant did propose a payment plan, did the member accept the proposed payment plan?',\n",
       "       'If a payment plan was ordered, what was the length of the payment plan? ',\n",
       "       'Did the decision mention the tenant’s difficulty finding alternative housing for any reason e.g.physical limitations, reliance on social assistance, etc.?',\n",
       "       'If yes to the previous question, which of the following were applicable to the tenant?',\n",
       "       'Did the decision state the tenant was given prior notice for the eviction?',\n",
       "       'If the tenant was given prior notice for the eviction, how much notice was given?',\n",
       "       'Did the decisions state postponement would result in the tenant accruing additional arrears?',\n",
       "       'Which other specific applications of the landlord or the tenant were mentioned?',\n",
       "       'Did the decision mention the validity of an N4 eviction notice?',\n",
       "       'Were there detail(s) in the decision not captured by this questionnaire that should be included?',\n",
       "       'Exec Review', 'Review Status'],\n",
       "      dtype='object')"
      ]
     },
     "execution_count": 10,
     "metadata": {},
     "output_type": "execute_result"
    }
   ],
   "source": [
    "df.columns   #`Timestamp` is not the time of the case"
   ]
  },
  {
   "cell_type": "code",
   "execution_count": 11,
   "id": "e1dbba90-2b4d-4867-93b3-2491fe0e578b",
   "metadata": {},
   "outputs": [],
   "source": [
    "info_lst = df.columns[2:]"
   ]
  },
  {
   "cell_type": "code",
   "execution_count": 27,
   "id": "d8afb3f4-e6e9-446c-b52c-017d0dd4f8cc",
   "metadata": {},
   "outputs": [
    {
     "name": "stdout",
     "output_type": "stream",
     "text": [
      "The case with file number \"TET-89650-18;TET-89650-18\" does not exist. Skipping...\n",
      "The case with file number \"TNL-04435-18;TNL-03907-18\" does not exist. Skipping...\n",
      "The case with file number \"HOL-02144-17;HOT-02146-17\" does not exist. Skipping...\n",
      "The case with file number \"SWL-08112-17;SWL-08113-17\" does not exist. Skipping...\n",
      "The case with file number \"SWL-13901-18;SWT-14627-18\" does not exist. Skipping...\n",
      "The case with file number \"TSL-07666-19-RV\" does not exist. Skipping...\n",
      "['TET-89650-18;TET-89650-18', 'TNL-04435-18;TNL-03907-18', 'HOL-02144-17;HOT-02146-17', 'SWL-08112-17;SWL-08113-17', 'SWL-13901-18;SWT-14627-18', 'TSL-07666-19-RV']\n"
     ]
    }
   ],
   "source": [
    "cases_info = []\n",
    "passed_cases = []\n",
    "for i in range(len(df)):\n",
    "    cases_info.append({})\n",
    "    answers = df.iloc[i,2:]\n",
    "    # to complete the scraping function\n",
    "    # text = scraping(file_no)\n",
    "    file_no = answers[0]\n",
    "    if not os.path.isfile(text_path+file_no+'.txt'):\n",
    "        print(f'The case with file number \"{file_no}\" does not exist. Skipping...')\n",
    "        passed_cases.append(file_no)\n",
    "    else:\n",
    "        with open (text_path+file_no+'.txt') as t:\n",
    "            cases_info[-1]['text'] = t.read()\n",
    "    for j in range(len(answers)):\n",
    "        q = info_lst[j]\n",
    "        a = answers[j]\n",
    "        cases_info[-1][q] = a\n",
    "print(passed_cases)"
   ]
  },
  {
   "cell_type": "code",
   "execution_count": 49,
   "id": "0368665d-dc17-4cf2-8303-239fd5077c8f",
   "metadata": {},
   "outputs": [],
   "source": [
    "sup_path = 'annotated_sup/'\n",
    "if not os.path.exists(sup_path):\n",
    "    os.makedirs(sup_path)\n",
    "sup_urls = ['https://www.canlii.org/en/on/onltb/doc/2018/2018canlii113792/2018canlii113792.html?resultIndex=1',\n",
    "            'https://www.canlii.org/en/on/onltb/doc/2018/2018canlii113807/2018canlii113807.html?resultIndex=1',\n",
    "            'https://www.canlii.org/en/on/onltb/doc/2018/2018canlii111686/2018canlii111686.html?resultIndex=1',\n",
    "            'https://www.canlii.org/en/on/onltb/doc/2018/2018canlii42485/2018canlii42485.html?resultIndex=1',\n",
    "            'https://www.canlii.org/en/on/onltb/doc/2018/2018canlii88630/2018canlii88630.html?resultIndex=1',\n",
    "            'https://www.canlii.org/en/on/onltb/doc/2019/2019canlii134569/2019canlii134569.html?resultIndex=1'\n",
    "           ]"
   ]
  },
  {
   "cell_type": "code",
   "execution_count": 50,
   "id": "39793605-9932-48c8-86a8-fa3f63cd684c",
   "metadata": {},
   "outputs": [
    {
     "name": "stdout",
     "output_type": "stream",
     "text": [
      "Saved HTML content for case ID 0.\n",
      "Saved HTML content for case ID 1.\n",
      "Saved HTML content for case ID 2.\n",
      "Saved HTML content for case ID 3.\n",
      "Saved HTML content for case ID 4.\n",
      "Saved HTML content for case ID 5.\n"
     ]
    }
   ],
   "source": [
    "from selenium import webdriver\n",
    "sup_html_path = 'annotated_sup_html/'\n",
    "if not os.path.exists(sup_html_path):\n",
    "    os.makedirs(sup_html_path)\n",
    "    \n",
    "driver = webdriver.Chrome()\n",
    "# Loop through the case IDs and URLs\n",
    "for i, url in enumerate(sup_urls):\n",
    "    # Generate a file name based on the case ID\n",
    "    filename = f\"case_{i}.html\"\n",
    "    if os.path.isfile(os.path.join(sup_html_path, filename)):\n",
    "        print(filename, \"already added, skipping...\")\n",
    "    else:\n",
    "        # Navigate to the URL\n",
    "        driver.get(url)\n",
    "\n",
    "        # Get the page source\n",
    "        html_content = driver.page_source\n",
    "\n",
    "        # Save the HTML content to a file\n",
    "        with open(os.path.join(sup_html_path, filename), \"w\", encoding=\"utf-8\") as file:\n",
    "            file.write(html_content)\n",
    "\n",
    "        print(f\"Saved HTML content for case ID {i}.\")\n",
    "\n",
    "# Close the WebDriver\n",
    "driver.quit()"
   ]
  },
  {
   "cell_type": "code",
   "execution_count": 51,
   "id": "2dbe64ad-d811-4d61-a050-4dcd3f941f06",
   "metadata": {},
   "outputs": [
    {
     "name": "stdout",
     "output_type": "stream",
     "text": [
      "Adding  case_0.html ...\n",
      "Adding  case_1.html ...\n",
      "Adding  case_2.html ...\n",
      "Adding  case_3.html ...\n",
      "Adding  case_4.html ...\n",
      "Adding  case_5.html ...\n"
     ]
    }
   ],
   "source": [
    "for file in os.listdir(sup_html_path):\n",
    "    # print(sup_html_path + file)\n",
    "    try:\n",
    "        if os.path.isfile(sup_html_path + file) and not file.startswith('.'):\n",
    "            print(\"Adding \", file, \"...\")\n",
    "            with open(sup_html_path + file) as f:\n",
    "                html = f.read()\n",
    "            soup = BeautifulSoup(html, \"html.parser\")\n",
    "\n",
    "            # find metadata\n",
    "            document_meta = soup.find(\"div\", {\"id\": \"documentMeta\"}) \n",
    "            meta_items = document_meta.find_all(\"div\", {\"class\": \"row py-1\"})\n",
    "\n",
    "            case_ID = \"\"\n",
    "            meta_data = []\n",
    "            for meta_item in meta_items:\n",
    "                children_text = []\n",
    "                for x in meta_item.findChildren()[:2]:\n",
    "                    children_text.append(x.text)\n",
    "                child_string = '\\t'.join(children_text)\n",
    "                if \"file number\" in child_string.lower():\n",
    "                    case_ID = child_string.split(\"\\t\")[1].strip()\n",
    "                    # print(case_ID)\n",
    "                meta_data.append(child_string)\n",
    "\n",
    "            # print(meta_data)\n",
    "            # find text\n",
    "            document_body = soup.find(\"div\", {\"class\": \"documentcontent\"}).get_text()\n",
    "\n",
    "            # write to file\n",
    "            with open(sup_path + case_ID + '.txt', 'w') as file:\n",
    "                file.write('Metadata:\\n')\n",
    "                file.write('\\n'.join(meta_data))\n",
    "                file.write('Content:\\n')\n",
    "                file.write(document_body)\n",
    "    except:\n",
    "        print(\"Error with:\", file)"
   ]
  },
  {
   "cell_type": "code",
   "execution_count": 53,
   "id": "15418880-cb05-4211-95d7-59ed136ab67a",
   "metadata": {},
   "outputs": [
    {
     "name": "stdout",
     "output_type": "stream",
     "text": [
      "SWL-08112-17;SWL-08113-17\n",
      "TNL-06025-18;TNL-06026-18\n",
      "TSL-93207-18-RV;TST-94747-18;TSL-00082-18\n",
      ".DS_S\n",
      "CEL-72209-17;CET-73173-18\n",
      "TNL-00793-18;TNL-01183-18\n",
      "SWL-12547-18;SWL-12548-18\n",
      "TET-89650-18;TEL-90138-18\n",
      "TEL-77505-17-RV;TEL-77505-17\n",
      "HOL-02144-17;HOT-02146-17\n",
      "TNL-03299-18;TNT-00589-17\n",
      "TEL-79519-17;TET-79366-17\n",
      "TEL-77442-17;TET-77790-17\n",
      "SWL-13901-18;SWT-14627-18\n",
      "TEL-87475-18;TET-86819-17;TET-88355-18\n"
     ]
    }
   ],
   "source": [
    "multi_path = text_path + 'multiple_files'\n",
    "for file in os.listdir(multi_path):\n",
    "    print(file[:-4])"
   ]
  },
  {
   "cell_type": "code",
   "execution_count": null,
   "id": "477d1898-84d2-4304-b113-41eab24fe6b9",
   "metadata": {},
   "outputs": [],
   "source": []
  },
  {
   "cell_type": "code",
   "execution_count": 28,
   "id": "4e7f1519-d6c3-428e-b7db-43dddd0e4828",
   "metadata": {},
   "outputs": [],
   "source": [
    "\n",
    "tokenizer = AutoTokenizer.from_pretrained(\"gpt2\")\n",
    "\n",
    "model = AutoModelForCausalLM.from_pretrained(\"gpt2\")"
   ]
  },
  {
   "cell_type": "code",
   "execution_count": null,
   "id": "357c8730-879a-4941-9a45-ffd8561ffc4e",
   "metadata": {},
   "outputs": [],
   "source": [
    "stop_words = [\n",
    "    \"a\", \"an\", \"and\", \"are\", \"as\", \"at\", \"be\", \"but\", \"by\", \"for\", \"if\", \"in\",\n",
    "    \"into\", \"is\", \"it\",# \"no\", \"not\",\n",
    "    \"of\", \"on\", \"or\", \"such\", \"that\", \"the\",\n",
    "    \"their\", \"then\", \"there\", \"these\", \"they\", \"this\", \"to\", \"was\", \"will\", \"with\",\n",
    "    \"about\", \"all\", \"also\", \"any\", \"can\", \"could\", \"do\", \"does\", \"from\", \"has\",\n",
    "    \"have\", \"how\", \"however\", \"i\", \"if\", \"may\", \"might\", \"my\", \"need\", \"our\",\n",
    "    \"should\", \"so\", \"some\", \"than\", \"their\", \"them\", \"there\", \"these\", \"thing\",\n",
    "    \"things\", \"think\", \"us\", \"want\", \"way\", \"we\", \"what\", \"when\", \"where\", \"which\",\n",
    "    \"who\", \"why\", \"would\", \"you\"]"
   ]
  },
  {
   "cell_type": "markdown",
   "id": "bdf1da9d-088f-4a5c-8d1d-06973de4a540",
   "metadata": {},
   "source": [
    "## A test before fine-tuning"
   ]
  },
  {
   "cell_type": "code",
   "execution_count": 64,
   "id": "71b5ee5c-a0ee-4eea-aa12-dc96fefc8b16",
   "metadata": {},
   "outputs": [],
   "source": [
    "text = cases_info[55]['What is the file number of the case?']\n",
    "with open (text_path+text+'.txt') as t:\n",
    "    text = t.read()\n",
    "text = text.replace('\\n\\n', '\\n')[:1000]"
   ]
  },
  {
   "cell_type": "code",
   "execution_count": 61,
   "id": "6cd22e05-0f8e-4cf2-b872-9b42c37b07ce",
   "metadata": {},
   "outputs": [],
   "source": [
    "toks = tokenizer(text)"
   ]
  },
  {
   "cell_type": "code",
   "execution_count": null,
   "id": "07d7ed53-78f5-44e5-8ef1-45d9587875b7",
   "metadata": {},
   "outputs": [],
   "source": [
    "toks.keys()"
   ]
  },
  {
   "cell_type": "code",
   "execution_count": 65,
   "id": "e4e503de-636b-489b-809d-c3fa1c2af292",
   "metadata": {},
   "outputs": [],
   "source": [
    "q1 = list(cases_info[55].keys())[0]\n",
    "q2 = list(cases_info[55].keys())[1]"
   ]
  },
  {
   "cell_type": "code",
   "execution_count": 66,
   "id": "62aa2a6c-c1fd-47ba-b938-1f9269cf733e",
   "metadata": {},
   "outputs": [],
   "source": [
    "a1 = cases_info[55][q1]\n",
    "a2 = cases_info[55][q1]\n",
    "a1_toks = tokenizer(a1)\n",
    "a2_toks = tokenizer(a2)"
   ]
  },
  {
   "cell_type": "code",
   "execution_count": 67,
   "id": "cd201ddd-6e41-49a6-97a3-907cac0b71bd",
   "metadata": {},
   "outputs": [],
   "source": [
    "q1 = text + list(cases_info[0].keys())[0]\n",
    "q2 = text + list(cases_info[0].keys())[1]\n",
    "q1_toks = tokenizer(q1)\n",
    "q2_toks = tokenizer(q2)"
   ]
  },
  {
   "cell_type": "code",
   "execution_count": 84,
   "id": "14ca0721-8885-4c5a-8bdc-37be5bbd95b1",
   "metadata": {},
   "outputs": [],
   "source": [
    "input_ids = torch.tensor([\n",
    "    # q1_toks['input_ids'],\n",
    "    q2_toks['input_ids']\n",
    "])\n",
    "attn_mask = torch.tensor([\n",
    "    # q1_toks['attention_mask'],\n",
    "    q2_toks['attention_mask']\n",
    "])\n",
    "label = torch.tensor([\n",
    "    # a1_toks['input_ids'],\n",
    "    a2_toks['input_ids']\n",
    "])\n",
    "tokenizer.pad_token_id = tokenizer.eos_token_id"
   ]
  },
  {
   "cell_type": "code",
   "execution_count": 85,
   "id": "45488a37-1f75-4977-85b6-d82c10332a10",
   "metadata": {},
   "outputs": [
    {
     "name": "stderr",
     "output_type": "stream",
     "text": [
      "Setting `pad_token_id` to `eos_token_id`:50256 for open-end generation.\n"
     ]
    }
   ],
   "source": [
    "out = model.generate(input_ids=input_ids, \n",
    "                     attention_mask=attn_mask, \n",
    "                     return_dict_in_generate=True, \n",
    "                     output_scores=False, \n",
    "                     max_length=512,\n",
    "                     temperature=0.5,\n",
    "                     do_sample=True,\n",
    "                     repetition_penalty=3.0,\n",
    "                     top_k=10)\n",
    "result = tokenizer.batch_decode(out[\"sequences\"], skip_special_tokens=True)"
   ]
  },
  {
   "cell_type": "code",
   "execution_count": 86,
   "id": "bc715421-a7a5-40df-8a09-fa824a47bd82",
   "metadata": {},
   "outputs": [
    {
     "data": {
      "text/plain": [
       "[\"Metadata:\\nDate:\\t2018-03-22\\nFile number:\\t\\nTEL-81897-17\\n\\tTEL-81897-17\\nCitation:\\tTEL-81897-17 (Re), 2018 CanLII 42843 (ON LTB), <https://canlii.ca/t/hs1c6>, retrieved on 2023-05-16\\thttps://canlii.ca/t/hs1c6\\nContent:\\n\\nOrder under Section 69\\nResidential Tenancies Act, 2006\\n\\xa0\\nFile Number: TEL-81897-17\\n\\xa0\\n\\n\\n\\n\\n\\n\\xa0\\n\\xa0\\nO.I.\\n(the 'Landlord') applied for an order to terminate the tenancy and evict M.L.\\n(the 'Tenant') because the Tenant did not pay the rent that the Tenant owes.\\n\\xa0\\nThis\\napplication was heard in Lindsay on December 5, 2017, and March 19, 2018.\\n\\xa0\\nThe Landlord’s corporate owner, D.V., the Landlord’s\\nrepresentative, L.W., and the Tenant attended the hearing. The Tenant’s\\nrepresentative, M.P., also attended the second day of the hearing. S.C.\\ntestified on behalf of the Landlord. \\n\\xa0\\nPreliminary Issue:\\n\\xa0\\nBy\\n     way of background, the residential complex is a mobile home park and the\\n     Tenant rents three separate units in the complex. The applications and\\n     issues for the three units arWhat is the file number of the case? \\xa0 I have no idea what this means but it seems like there are four cases where both tenants had their own land or were given one by either tenant as well. There's another third application which relates back up all these different claims from each other so we can get some sense how much they're related! We'll look at those later :)\"]"
      ]
     },
     "execution_count": 86,
     "metadata": {},
     "output_type": "execute_result"
    }
   ],
   "source": [
    "result"
   ]
  },
  {
   "cell_type": "code",
   "execution_count": 74,
   "id": "7c0e84e5-6d90-4551-961c-a0d60d46f5ba",
   "metadata": {},
   "outputs": [
    {
     "name": "stderr",
     "output_type": "stream",
     "text": [
      "Setting `pad_token_id` to `eos_token_id`:50256 for open-end generation.\n"
     ]
    },
    {
     "ename": "AttributeError",
     "evalue": "'list' object has no attribute 'shape'",
     "output_type": "error",
     "traceback": [
      "\u001b[0;31m---------------------------------------------------------------------------\u001b[0m",
      "\u001b[0;31mAttributeError\u001b[0m                            Traceback (most recent call last)",
      "Input \u001b[0;32mIn [74]\u001b[0m, in \u001b[0;36m<cell line: 3>\u001b[0;34m()\u001b[0m\n\u001b[1;32m      1\u001b[0m tokenizer\u001b[38;5;241m.\u001b[39mpad_token_id \u001b[38;5;241m=\u001b[39m tokenizer\u001b[38;5;241m.\u001b[39meos_token_id\n\u001b[0;32m----> 3\u001b[0m out \u001b[38;5;241m=\u001b[39m \u001b[43mmodel\u001b[49m\u001b[38;5;241;43m.\u001b[39;49m\u001b[43mgenerate\u001b[49m\u001b[43m(\u001b[49m\n\u001b[1;32m      4\u001b[0m \u001b[43m    \u001b[49m\u001b[43minput_ids\u001b[49m\u001b[38;5;241;43m=\u001b[39;49m\u001b[43minput_ids\u001b[49m\u001b[43m,\u001b[49m\n\u001b[1;32m      5\u001b[0m \u001b[43m    \u001b[49m\u001b[43mattention_mask\u001b[49m\u001b[38;5;241;43m=\u001b[39;49m\u001b[43mattn_mask\u001b[49m\u001b[43m,\u001b[49m\n\u001b[1;32m      6\u001b[0m \u001b[43m    \u001b[49m\u001b[43mreturn_dict_in_generate\u001b[49m\u001b[38;5;241;43m=\u001b[39;49m\u001b[38;5;28;43;01mTrue\u001b[39;49;00m\u001b[43m,\u001b[49m\n\u001b[1;32m      7\u001b[0m \u001b[43m    \u001b[49m\u001b[43moutput_scores\u001b[49m\u001b[38;5;241;43m=\u001b[39;49m\u001b[38;5;28;43;01mFalse\u001b[39;49;00m\u001b[43m,\u001b[49m\n\u001b[1;32m      8\u001b[0m \u001b[43m    \u001b[49m\u001b[43mmax_length\u001b[49m\u001b[38;5;241;43m=\u001b[39;49m\u001b[38;5;241;43m512\u001b[39;49m\u001b[43m,\u001b[49m\n\u001b[1;32m      9\u001b[0m \u001b[43m    \u001b[49m\u001b[43mtemperature\u001b[49m\u001b[38;5;241;43m=\u001b[39;49m\u001b[38;5;241;43m0.5\u001b[39;49m\u001b[43m,\u001b[49m\n\u001b[1;32m     10\u001b[0m \u001b[43m    \u001b[49m\u001b[43mdo_sample\u001b[49m\u001b[38;5;241;43m=\u001b[39;49m\u001b[38;5;28;43;01mTrue\u001b[39;49;00m\u001b[43m,\u001b[49m\n\u001b[1;32m     11\u001b[0m \u001b[43m    \u001b[49m\u001b[43mrepetition_penalty\u001b[49m\u001b[38;5;241;43m=\u001b[39;49m\u001b[38;5;241;43m3.0\u001b[39;49m\u001b[43m,\u001b[49m\n\u001b[1;32m     12\u001b[0m \u001b[43m    \u001b[49m\u001b[43mtop_k\u001b[49m\u001b[38;5;241;43m=\u001b[39;49m\u001b[38;5;241;43m10\u001b[39;49m\n\u001b[1;32m     13\u001b[0m \u001b[43m)\u001b[49m\n\u001b[1;32m     15\u001b[0m result \u001b[38;5;241m=\u001b[39m tokenizer\u001b[38;5;241m.\u001b[39mbatch_decode(out[\u001b[38;5;124m\"\u001b[39m\u001b[38;5;124msequences\u001b[39m\u001b[38;5;124m\"\u001b[39m], skip_special_tokens\u001b[38;5;241m=\u001b[39m\u001b[38;5;28;01mTrue\u001b[39;00m)\n",
      "File \u001b[0;32m~/opt/miniconda3/lib/python3.10/site-packages/torch/autograd/grad_mode.py:27\u001b[0m, in \u001b[0;36m_DecoratorContextManager.__call__.<locals>.decorate_context\u001b[0;34m(*args, **kwargs)\u001b[0m\n\u001b[1;32m     24\u001b[0m \u001b[38;5;129m@functools\u001b[39m\u001b[38;5;241m.\u001b[39mwraps(func)\n\u001b[1;32m     25\u001b[0m \u001b[38;5;28;01mdef\u001b[39;00m \u001b[38;5;21mdecorate_context\u001b[39m(\u001b[38;5;241m*\u001b[39margs, \u001b[38;5;241m*\u001b[39m\u001b[38;5;241m*\u001b[39mkwargs):\n\u001b[1;32m     26\u001b[0m     \u001b[38;5;28;01mwith\u001b[39;00m \u001b[38;5;28mself\u001b[39m\u001b[38;5;241m.\u001b[39mclone():\n\u001b[0;32m---> 27\u001b[0m         \u001b[38;5;28;01mreturn\u001b[39;00m \u001b[43mfunc\u001b[49m\u001b[43m(\u001b[49m\u001b[38;5;241;43m*\u001b[39;49m\u001b[43margs\u001b[49m\u001b[43m,\u001b[49m\u001b[43m \u001b[49m\u001b[38;5;241;43m*\u001b[39;49m\u001b[38;5;241;43m*\u001b[39;49m\u001b[43mkwargs\u001b[49m\u001b[43m)\u001b[49m\n",
      "File \u001b[0;32m~/opt/miniconda3/lib/python3.10/site-packages/transformers/generation/utils.py:1257\u001b[0m, in \u001b[0;36mGenerationMixin.generate\u001b[0;34m(self, inputs, generation_config, logits_processor, stopping_criteria, prefix_allowed_tokens_fn, synced_gpus, streamer, **kwargs)\u001b[0m\n\u001b[1;32m   1249\u001b[0m \u001b[38;5;66;03m# 3. Define model inputs\u001b[39;00m\n\u001b[1;32m   1250\u001b[0m \u001b[38;5;66;03m# inputs_tensor has to be defined\u001b[39;00m\n\u001b[1;32m   1251\u001b[0m \u001b[38;5;66;03m# model_input_name is defined if model-specific keyword input is passed\u001b[39;00m\n\u001b[1;32m   1252\u001b[0m \u001b[38;5;66;03m# otherwise model_input_name is None\u001b[39;00m\n\u001b[1;32m   1253\u001b[0m \u001b[38;5;66;03m# all model-specific keyword inputs are removed from `model_kwargs`\u001b[39;00m\n\u001b[1;32m   1254\u001b[0m inputs_tensor, model_input_name, model_kwargs \u001b[38;5;241m=\u001b[39m \u001b[38;5;28mself\u001b[39m\u001b[38;5;241m.\u001b[39m_prepare_model_inputs(\n\u001b[1;32m   1255\u001b[0m     inputs, generation_config\u001b[38;5;241m.\u001b[39mbos_token_id, model_kwargs\n\u001b[1;32m   1256\u001b[0m )\n\u001b[0;32m-> 1257\u001b[0m batch_size \u001b[38;5;241m=\u001b[39m \u001b[43minputs_tensor\u001b[49m\u001b[38;5;241;43m.\u001b[39;49m\u001b[43mshape\u001b[49m[\u001b[38;5;241m0\u001b[39m]\n\u001b[1;32m   1259\u001b[0m \u001b[38;5;66;03m# 4. Define other model kwargs\u001b[39;00m\n\u001b[1;32m   1260\u001b[0m model_kwargs[\u001b[38;5;124m\"\u001b[39m\u001b[38;5;124moutput_attentions\u001b[39m\u001b[38;5;124m\"\u001b[39m] \u001b[38;5;241m=\u001b[39m generation_config\u001b[38;5;241m.\u001b[39moutput_attentions\n",
      "\u001b[0;31mAttributeError\u001b[0m: 'list' object has no attribute 'shape'"
     ]
    }
   ],
   "source": [
    "tokenizer.pad_token_id = tokenizer.eos_token_id\n",
    "\n",
    "out = model.generate(\n",
    "    input_ids=input_ids,\n",
    "    attention_mask=attn_mask,\n",
    "    return_dict_in_generate=True,\n",
    "    output_scores=False,\n",
    "    max_length=512,\n",
    "    temperature=0.5,\n",
    "    do_sample=True,\n",
    "    repetition_penalty=3.0,\n",
    "    top_k=10\n",
    ")\n",
    "\n",
    "result = tokenizer.batch_decode(out[\"sequences\"], skip_special_tokens=True)\n"
   ]
  },
  {
   "cell_type": "code",
   "execution_count": null,
   "id": "fbe76cb6-6523-4b0f-a0df-26034a88e476",
   "metadata": {},
   "outputs": [],
   "source": [
    "@torch.no_grad()\n",
    "def answer(model, loader):\n",
    "    all_preds = []\n",
    "    all_labels = []\n",
    "    model.eval()\n",
    "    for batch in loader:   \n",
    "        batch = to_device(batch, device)\n",
    "        input_ids = batch[\"input_ids\"]\n",
    "        attention_mask = batch[\"attention_mask\"]\n",
    "        # pos_ids = batch[\"position_ids\"]\n",
    "        labels = batch[\"labels\"]\n",
    "        outputs = model.generate(input_ids=input_ids, attention_mask=attention_mask, return_dict_in_generate=True, pad_token_id=50256, max_length=512, top_k=10, stopping_criteria=stop_criteria_list)\n",
    "        pred_start = torch.nonzero(input_ids==tokenizer.sep_token_id, as_tuple=True)[1][0] + 1\n",
    "        truncated_outputs = []\n",
    "        for out in outputs[\"sequences\"]:\n",
    "            sep_idxs = torch.nonzero(out==tokenizer.sep_token_id, as_tuple=True)[0]\n",
    "            if len(sep_idxs) == 1:\n",
    "                end_idx = -1\n",
    "            else:\n",
    "                end_idx = sep_idxs[1]\n",
    "            truncated_outputs.append(out[pred_start:end_idx])\n",
    "        decode_texts = tokenizer.batch_decode(truncated_outputs)\n",
    "        gold_texts = tokenizer.batch_decode([l[l != -100][:-1] for l in labels])\n",
    "\n",
    "        for gold, decode in zip(gold_texts, decode_texts):\n",
    "            l = set(gold.replace(\" \", \"\").split(\"、\"))\n",
    "            p = set(decode.replace(\" \", \"\").split(\"、\"))\n",
    "            all_labels.append(l)\n",
    "            all_preds.append(p)\n",
    "        \n",
    "        all_preds = process_sys(all_preds)\n",
    "    \n",
    "    return all_preds, all_labels\n",
    "\n",
    "\n",
    "def f1_score(sys, gold):\n",
    "    tp = 0\n",
    "    t = 0\n",
    "    p = 0\n",
    "    for s, g in zip(sys, gold):\n",
    "        t += len(g)\n",
    "        p += len(s)\n",
    "        tp += len(g & s)\n",
    "    precision = tp / p if p != 0 else 0\n",
    "    recall = tp / t if t != 0 else 0\n",
    "    f1 = (2 * precision * recall) / (precision + recall) if (precision + recall) != 0 else 0\n",
    "    return precision, recall, f1, tp, t, p\n",
    "\n",
    "\n",
    "def left_pad_sequence(sequence, batch_first, padding_value=0):\n",
    "    padded = []\n",
    "    max_len = max(len(each) for each in sequence)\n",
    "    for each in sequence:\n",
    "        if not isinstance(each, torch.LongTensor):\n",
    "            each = torch.LongTensor(each)\n",
    "        pad = torch.full((max_len-len(each),), fill_value=padding_value,dtype=each.dtype)\n",
    "        padded.append(torch.cat([pad, each]))\n",
    "    padded = torch.vstack(padded)\n",
    "    if not batch_first:\n",
    "        padded = padded.permute(1, 0, 2)\n",
    "    return padded\n",
    "        \n",
    "def inference_colate_fn(batch):\n",
    "    batch_input_ids = [torch.LongTensor(each[\"input_ids\"]) for each in batch]\n",
    "    batch_att_mask = [torch.LongTensor(each[\"attention_mask\"]) for each in batch]\n",
    "    batch_label = [torch.LongTensor(each[\"labels\"]) for each in batch]\n",
    "    batch_position_ids = [torch.arange(len(each[\"input_ids\"]), dtype=torch.long) for each in batch]\n",
    "    \n",
    "    padded_batch_input_ids = left_pad_sequence(batch_input_ids, batch_first=True, padding_value=tokenizer.pad_token_id)\n",
    "    padded_batch_att_mask = left_pad_sequence(batch_att_mask, batch_first=True, padding_value=0)\n",
    "    padded_batch_label = pad_sequence(batch_label, batch_first=True, padding_value=-100)\n",
    "    # padded_batch_position_ids = left_pad_sequence(batch_position_ids, batch_first=True, padding_value=0)\n",
    "    # return {\"input_ids\": padded_batch_input_ids, \"attention_mask\": padded_batch_att_mask, \"position_ids\":padded_batch_position_ids, \"labels\": padded_batch_label}   \n",
    "    return {\"input_ids\": padded_batch_input_ids, \"attention_mask\": padded_batch_att_mask, \"labels\": padded_batch_label}    \n",
    "\n",
    "val_dataset.inference()\n",
    "inf_loader = DataLoader(val_dataset, batch_size=64, collate_fn=inference_colate_fn)"
   ]
  },
  {
   "cell_type": "code",
   "execution_count": null,
   "id": "63fc9d77-5dd0-45a6-b700-9d7920170d83",
   "metadata": {},
   "outputs": [],
   "source": [
    "a = torch.tensor([[1.,2.,3.],[4.,5.,6.]])\n",
    "a"
   ]
  },
  {
   "cell_type": "code",
   "execution_count": null,
   "id": "da38fb90-8e2a-4594-b8c1-1968ed695dd2",
   "metadata": {},
   "outputs": [],
   "source": [
    "# a.norm(dim=0, keepdim=True)"
   ]
  },
  {
   "cell_type": "code",
   "execution_count": null,
   "id": "b6c43062-5813-452d-a245-2b54e2dc4b08",
   "metadata": {},
   "outputs": [],
   "source": [
    "a.norm(dim=-1, keepdim=True)"
   ]
  },
  {
   "cell_type": "code",
   "execution_count": null,
   "id": "4deb5959-e128-4407-af09-476d49911b68",
   "metadata": {},
   "outputs": [],
   "source": [
    "a /= a.norm(dim=-1, keepdim=True)\n",
    "a"
   ]
  },
  {
   "cell_type": "code",
   "execution_count": null,
   "id": "e1df3c8c-14fe-47ee-aa78-d70aeee922b3",
   "metadata": {},
   "outputs": [],
   "source": [
    "0.2673 + 0.5345 + 0.8018"
   ]
  },
  {
   "cell_type": "code",
   "execution_count": null,
   "id": "b827eac6-9ec7-4537-8640-a633b2011f0a",
   "metadata": {},
   "outputs": [],
   "source": [
    "dists = torch.tensor([[2.,1.,3.],[4.,5.,6.]])\n",
    "\n",
    "# Define number of nearest neighbors to find\n",
    "n_neighbors = 2\n",
    "\n",
    "# Compute top-k indices and values\n",
    "top_k_values, top_k_indices = torch.topk(dists, n_neighbors, largest=False, dim=-1)\n",
    "\n",
    "# Output top-k indices and values\n",
    "print(top_k_indices)\n",
    "print(top_k_values)"
   ]
  },
  {
   "cell_type": "code",
   "execution_count": null,
   "id": "61786580-d9bb-4de4-96ad-963cb2a6e164",
   "metadata": {},
   "outputs": [],
   "source": [
    "gs = df.groupby('Who was the member adjudicating the decision?')"
   ]
  },
  {
   "cell_type": "code",
   "execution_count": null,
   "id": "9fd3117d-9a3d-43d8-acbf-f6847ed87e31",
   "metadata": {},
   "outputs": [],
   "source": [
    "for g in gs:\n",
    "    if g[0] == 'Sonia Anwar-Ali':\n",
    "        for _, r in g[1].iterrows():\n",
    "            print(r.Timestamp)"
   ]
  },
  {
   "cell_type": "code",
   "execution_count": null,
   "id": "445c8e9e-88c0-44f9-ae83-38a7d4c223ee",
   "metadata": {},
   "outputs": [],
   "source": []
  }
 ],
 "metadata": {
  "kernelspec": {
   "display_name": "Python 3 (ipykernel)",
   "language": "python",
   "name": "python3"
  },
  "language_info": {
   "codemirror_mode": {
    "name": "ipython",
    "version": 3
   },
   "file_extension": ".py",
   "mimetype": "text/x-python",
   "name": "python",
   "nbconvert_exporter": "python",
   "pygments_lexer": "ipython3",
   "version": "3.10.6"
  }
 },
 "nbformat": 4,
 "nbformat_minor": 5
}
