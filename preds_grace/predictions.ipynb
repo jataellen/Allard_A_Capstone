{
 "cells": [
  {
   "cell_type": "markdown",
   "id": "a2222579-9a7b-4f27-8ec8-aec7e6efd80a",
   "metadata": {
    "id": "a2222579-9a7b-4f27-8ec8-aec7e6efd80a"
   },
   "source": [
    "## Imports and Device"
   ]
  },
  {
   "cell_type": "code",
   "execution_count": 23,
   "id": "3b77b39f-323f-45f9-8f03-f06c2f55ad10",
   "metadata": {
    "colab": {
     "base_uri": "https://localhost:8080/"
    },
    "id": "3b77b39f-323f-45f9-8f03-f06c2f55ad10",
    "outputId": "30e2902b-6e4f-4369-b6f0-25f8fedb1998"
   },
   "outputs": [],
   "source": [
    "# ! pip install transformers\n",
    "\n",
    "import pandas as pd\n",
    "import numpy as np\n",
    "import torch\n",
    "import os, gc\n",
    "import re\n",
    "\n",
    "from transformers import AutoTokenizer\n",
    "from transformers import AutoModelForSeq2SeqLM\n",
    "\n",
    "from torch import cuda, nn, optim\n",
    "# from tqdm import tqdm\n",
    "from torch.utils.data import Dataset, DataLoader\n",
    "from torch.nn.utils.rnn import pad_sequence\n"
   ]
  },
  {
   "cell_type": "code",
   "execution_count": 24,
   "id": "25f49cd5-8dc0-4c85-bdc5-83d71e7371cd",
   "metadata": {
    "colab": {
     "base_uri": "https://localhost:8080/"
    },
    "id": "25f49cd5-8dc0-4c85-bdc5-83d71e7371cd",
    "outputId": "907c4324-5854-4b1d-c7c0-c0dd215fe8fe"
   },
   "outputs": [
    {
     "name": "stdout",
     "output_type": "stream",
     "text": [
      "cpu\n"
     ]
    }
   ],
   "source": [
    "manual_seed = 595\n",
    "torch.manual_seed(manual_seed)\n",
    "device = torch.device(\"cuda\" if torch.cuda.is_available() else \"cpu\")\n",
    "print(device)"
   ]
  },
  {
   "cell_type": "markdown",
   "id": "dbc84a4d-7204-4466-95ee-9907cbba2107",
   "metadata": {
    "id": "dbc84a4d-7204-4466-95ee-9907cbba2107"
   },
   "source": [
    "## Read the Cleaned Data"
   ]
  },
  {
   "cell_type": "markdown",
   "id": "8f48d661-5ec8-4851-b510-c9ef877d8d38",
   "metadata": {
    "id": "8f48d661-5ec8-4851-b510-c9ef877d8d38"
   },
   "source": [
    "### Define the paths"
   ]
  },
  {
   "cell_type": "code",
   "execution_count": 25,
   "id": "08f955f6-045d-4453-ad45-39e67216ef59",
   "metadata": {
    "id": "08f955f6-045d-4453-ad45-39e67216ef59"
   },
   "outputs": [],
   "source": [
    "# run locally\n",
    "text_path = '../../to_annotate/'\n",
    "file = '../../annotated_data.xlsx'"
   ]
  },
  {
   "cell_type": "code",
   "execution_count": 26,
   "id": "46377399-e3a0-4a2a-9325-d86d5f0b6939",
   "metadata": {
    "colab": {
     "base_uri": "https://localhost:8080/"
    },
    "id": "46377399-e3a0-4a2a-9325-d86d5f0b6939",
    "outputId": "15780b06-f083-4404-cd7c-a414b0132b26"
   },
   "outputs": [],
   "source": [
    "# # run on Google Colab\n",
    "# from google.colab import drive\n",
    "# drive.mount('/content/gdrive')\n",
    "# text_path = '/content/gdrive/My Drive/595/formatted_cases/'\n",
    "# file = '/content/gdrive/My Drive/595/annotated_data.xlsx'\n",
    "# REGEX = r';+'\n",
    "# sup_path = '/content/gdrive/My Drive/595/annotated_sup/'\n",
    "# multi_path = text_path + 'multiple_files/'"
   ]
  },
  {
   "cell_type": "markdown",
   "id": "f5846c80-5bf1-4118-90d0-b7d9a2f5b4a5",
   "metadata": {
    "id": "f5846c80-5bf1-4118-90d0-b7d9a2f5b4a5"
   },
   "source": [
    "### Clean the Dataframe"
   ]
  },
  {
   "cell_type": "code",
   "execution_count": 27,
   "id": "b773cee8-0f30-48b5-a78b-c8482bb76e49",
   "metadata": {
    "colab": {
     "base_uri": "https://localhost:8080/",
     "height": 921
    },
    "id": "b773cee8-0f30-48b5-a78b-c8482bb76e49",
    "outputId": "0e0aabce-64bf-4ab5-8037-57978eca0861"
   },
   "outputs": [
    {
     "name": "stdout",
     "output_type": "stream",
     "text": [
      "(702, 50)\n"
     ]
    }
   ],
   "source": [
    "df = pd.read_excel(file)\n",
    "df.rename(columns={\n",
    "    'If yes to the previous question, did the decision state these conditions would make moving particularly burdensome?':\n",
    "    'If any of the children had mental, medical or physical conditions, did the decision state these conditions would make moving particularly burdensome?',\n",
    "    'If yes to the previous question, which of the following were applicable to the tenant?':\n",
    "    'If the tenant had difficulty finding alternative housing for any reason, which of the following were applicable to the tenant?'    \n",
    "}, inplace=True)\n",
    "\n",
    "df = df.iloc[:, 2:-2]\n",
    "\n",
    "print(df.shape)\n",
    "# df.head(6)"
   ]
  },
  {
   "cell_type": "code",
   "execution_count": 28,
   "id": "3c843c20-c7ea-495a-a031-e436f556d200",
   "metadata": {
    "id": "3c843c20-c7ea-495a-a031-e436f556d200"
   },
   "outputs": [
    {
     "data": {
      "text/plain": [
       "Index(['What is the file number of the case?',\n",
       "       'What was the date of the hearing? [mm/dd/yyyy]',\n",
       "       'What was the date of the decision? [mm/dd/yyyy]',\n",
       "       'Who was the member adjudicating the decision?',\n",
       "       'What was the location of the landlord tenant board?',\n",
       "       'Did the decision state the landlord was represented?',\n",
       "       'Did the decision state the landlord attended the hearing?',\n",
       "       'Did the decision state the tenant was represented?',\n",
       "       'Did the decision state the tenant attended the hearing?',\n",
       "       'Did the decision state the landlord was a not-for-profit landlord (e.g. Toronto Community Housing)?',\n",
       "       'Did the decision state the tenant was collecting a subsidy?',\n",
       "       'What was the outcome of the case?',\n",
       "       'What was the length of the tenancy, or in other words, how long had the tenants lived at the residence in question? ',\n",
       "       'What was the monthly rent?',\n",
       "       'What was the amount of the rental deposit? ',\n",
       "       'If any rent increases occurred, what was the rent after the increase(s)?',\n",
       "       'If any rent increases occurred, when did the rent increase(s) come into effect? ',\n",
       "       'What was the total amount of arrears?',\n",
       "       'Over how many months did the arrears accumulate? ',\n",
       "       'If the tenant made a payment on the arrears after the eviction notice was served and/or prior to the hearing, what was the amount of the payment? ',\n",
       "       'Did the decision mention a history of arrears by the tenant separate from the arrears in the current claim (more than one period of arrears, recurrently coming in and out of arrears, arrears with previous landlord, etc.)?',\n",
       "       'If the tenant had a history of arrears, did the decision mention a history of the tenant making payments on those arrears (separate from any payments made in response to the present eviction notice/hearing)?',\n",
       "       'How frequently were rent payments made late?',\n",
       "       'Did the member find the tenant had or seemed to have the ability to pay rent, but chose not do so?',\n",
       "       'What were the specific mental, medical, or physical conditions of the tenant, if any? ',\n",
       "       'Did the decision state that the tenant had children living with them?',\n",
       "       'How many total children did the tenant have living with them? ',\n",
       "       'How many total children aged 17 or younger did the tenant have living with them?',\n",
       "       'How many total children aged 13 or younger did the tenant have living with them? ',\n",
       "       'How many total children aged 4 or younger did the tenant have living with them?',\n",
       "       'Did the decision state any of the children had mental, medical or physical conditions?',\n",
       "       'If any of the children had mental, medical or physical conditions, did the decision state these conditions would make moving particularly burdensome?',\n",
       "       'Was the tenant employed at the time of the hearing?',\n",
       "       'If the tenant was not employed, did the decision state the tenant was receiving any form of government assistance (e.g. OW, childcare benefits, ODSP, OSAP)?',\n",
       "       'If the tenant was employed, did the decision state any doubts about the stability of employment e.g. lack of guaranteed hours, contract work, etc.?',\n",
       "       'Did the member find the tenant had sufficient income to pay rent?',\n",
       "       'What was the total income of the tenant’s household? ',\n",
       "       'Did the decision mention the tenant lost their job leading up to or during the period of the hearing?',\n",
       "       'Did the decision mention any other extenuating circumstances experienced by the tenant leading up to or during the period of the claim (e.g. hospitalization, death in the family, etc.)?',\n",
       "       'Did the tenant propose a payment plan?',\n",
       "       'If the tenant did propose a payment plan, did the member accept the proposed payment plan?',\n",
       "       'If a payment plan was ordered, what was the length of the payment plan? ',\n",
       "       'Did the decision mention the tenant’s difficulty finding alternative housing for any reason e.g.physical limitations, reliance on social assistance, etc.?',\n",
       "       'If the tenant had difficulty finding alternative housing for any reason, which of the following were applicable to the tenant?',\n",
       "       'Did the decision state the tenant was given prior notice for the eviction?',\n",
       "       'If the tenant was given prior notice for the eviction, how much notice was given?',\n",
       "       'Did the decisions state postponement would result in the tenant accruing additional arrears?',\n",
       "       'Which other specific applications of the landlord or the tenant were mentioned?',\n",
       "       'Did the decision mention the validity of an N4 eviction notice?',\n",
       "       'Were there detail(s) in the decision not captured by this questionnaire that should be included?'],\n",
       "      dtype='object')"
      ]
     },
     "execution_count": 28,
     "metadata": {},
     "output_type": "execute_result"
    }
   ],
   "source": [
    "df.columns"
   ]
  },
  {
   "cell_type": "code",
   "execution_count": 29,
   "id": "c2a92989-199d-4664-af29-f688d8a99d17",
   "metadata": {
    "colab": {
     "base_uri": "https://localhost:8080/"
    },
    "id": "c2a92989-199d-4664-af29-f688d8a99d17",
    "outputId": "7bcdaffd-4b6c-4eed-864d-288b9a2bbd36"
   },
   "outputs": [
    {
     "data": {
      "text/plain": [
       "['If any rent increases occurred, what was the rent after the increase(s)?',\n",
       " 'If any rent increases occurred, when did the rent increase(s) come into effect? ',\n",
       " 'How many total children did the tenant have living with them? ',\n",
       " 'How many total children aged 17 or younger did the tenant have living with them?',\n",
       " 'How many total children aged 13 or younger did the tenant have living with them? ',\n",
       " 'How many total children aged 4 or younger did the tenant have living with them?',\n",
       " 'Did the decision state any of the children had mental, medical or physical conditions?',\n",
       " 'If any of the children had mental, medical or physical conditions, did the decision state these conditions would make moving particularly burdensome?',\n",
       " 'If a payment plan was ordered, what was the length of the payment plan? ',\n",
       " 'If the tenant had difficulty finding alternative housing for any reason, which of the following were applicable to the tenant?',\n",
       " 'If the tenant was given prior notice for the eviction, how much notice was given?']"
      ]
     },
     "execution_count": 29,
     "metadata": {},
     "output_type": "execute_result"
    }
   ],
   "source": [
    "# remove columns that have too little information\n",
    "little_info_col = [15, 16, 26, 27, 28, 29, 30, 31, 41, 43, 45]\n",
    "to_del = [df.columns[i] for i in little_info_col]\n",
    "for col in to_del:\n",
    "    del df[col]\n",
    "to_del"
   ]
  },
  {
   "cell_type": "code",
   "execution_count": 30,
   "id": "yiJ4hO2i4FEa",
   "metadata": {
    "colab": {
     "base_uri": "https://localhost:8080/"
    },
    "id": "yiJ4hO2i4FEa",
    "outputId": "a01ccc54-8e1c-460b-c94b-3666563b0049"
   },
   "outputs": [
    {
     "name": "stdout",
     "output_type": "stream",
     "text": [
      "(702, 39)\n"
     ]
    },
    {
     "data": {
      "text/plain": [
       "1756"
      ]
     },
     "execution_count": 30,
     "metadata": {},
     "output_type": "execute_result"
    }
   ],
   "source": [
    "print(df.shape)\n",
    "del to_del\n",
    "gc.collect()"
   ]
  },
  {
   "cell_type": "code",
   "execution_count": 31,
   "id": "863b4fbb-003b-4102-a6d4-2769f298a445",
   "metadata": {},
   "outputs": [
    {
     "data": {
      "text/plain": [
       "['What is the file number of the case?',\n",
       " 'What was the date of the hearing? [mm/dd/yyyy]',\n",
       " 'What was the date of the decision? [mm/dd/yyyy]',\n",
       " 'Who was the member adjudicating the decision?',\n",
       " 'What was the location of the landlord tenant board?',\n",
       " 'Did the decision state the landlord was represented?',\n",
       " 'Did the decision state the landlord attended the hearing?',\n",
       " 'Did the decision state the tenant was represented?',\n",
       " 'Did the decision state the tenant attended the hearing?',\n",
       " 'Did the decision state the landlord was a not-for-profit landlord (e.g. Toronto Community Housing)?',\n",
       " 'Did the decision state the tenant was collecting a subsidy?',\n",
       " 'What was the outcome of the case?',\n",
       " 'What was the length of the tenancy, or in other words, how long had the tenants lived at the residence in question? ',\n",
       " 'What was the monthly rent?',\n",
       " 'What was the amount of the rental deposit? ',\n",
       " 'What was the total amount of arrears?',\n",
       " 'Over how many months did the arrears accumulate? ',\n",
       " 'If the tenant made a payment on the arrears after the eviction notice was served and/or prior to the hearing, what was the amount of the payment? ',\n",
       " 'Did the decision mention a history of arrears by the tenant separate from the arrears in the current claim (more than one period of arrears, recurrently coming in and out of arrears, arrears with previous landlord, etc.)?',\n",
       " 'If the tenant had a history of arrears, did the decision mention a history of the tenant making payments on those arrears (separate from any payments made in response to the present eviction notice/hearing)?',\n",
       " 'How frequently were rent payments made late?',\n",
       " 'Did the member find the tenant had or seemed to have the ability to pay rent, but chose not do so?',\n",
       " 'What were the specific mental, medical, or physical conditions of the tenant, if any? ',\n",
       " 'Did the decision state that the tenant had children living with them?',\n",
       " 'Was the tenant employed at the time of the hearing?',\n",
       " 'If the tenant was not employed, did the decision state the tenant was receiving any form of government assistance (e.g. OW, childcare benefits, ODSP, OSAP)?',\n",
       " 'If the tenant was employed, did the decision state any doubts about the stability of employment e.g. lack of guaranteed hours, contract work, etc.?',\n",
       " 'Did the member find the tenant had sufficient income to pay rent?',\n",
       " 'What was the total income of the tenant’s household? ',\n",
       " 'Did the decision mention the tenant lost their job leading up to or during the period of the hearing?',\n",
       " 'Did the decision mention any other extenuating circumstances experienced by the tenant leading up to or during the period of the claim (e.g. hospitalization, death in the family, etc.)?',\n",
       " 'Did the tenant propose a payment plan?',\n",
       " 'If the tenant did propose a payment plan, did the member accept the proposed payment plan?',\n",
       " 'Did the decision mention the tenant’s difficulty finding alternative housing for any reason e.g.physical limitations, reliance on social assistance, etc.?',\n",
       " 'Did the decision state the tenant was given prior notice for the eviction?',\n",
       " 'Did the decisions state postponement would result in the tenant accruing additional arrears?',\n",
       " 'Which other specific applications of the landlord or the tenant were mentioned?',\n",
       " 'Did the decision mention the validity of an N4 eviction notice?',\n",
       " 'Were there detail(s) in the decision not captured by this questionnaire that should be included?']"
      ]
     },
     "execution_count": 31,
     "metadata": {},
     "output_type": "execute_result"
    }
   ],
   "source": [
    "questions = list(df.columns)\n",
    "questions"
   ]
  },
  {
   "cell_type": "code",
   "execution_count": 33,
   "id": "f88ecdf6-58b8-4a55-afab-deea056b93d5",
   "metadata": {},
   "outputs": [],
   "source": [
    "led3_qs = ['What was the location of the landlord tenant board?',\n",
    "           'Did the decision state the landlord was represented?',\n",
    "           'Did the decision state that the tenant had children living with them?',\n",
    "           'Was the tenant employed at the time of the hearing?',\n",
    "           'Did the tenant propose a payment plan?',\n",
    "           'If the tenant did propose a payment plan, did the member accept the proposed payment plan?'\n",
    "          ]\n",
    "\n",
    "led2_qs = []\n",
    "\n",
    "longt5_qs = ['Did the decision state the tenant was represented?',\n",
    "             'If the tenant was not employed, did the decision state the tenant was receiving any form of government assistance (e.g. OW, childcare benefits, ODSP, OSAP)?',\n",
    "             'If the tenant was employed, did the decision state any doubts about the stability of employment e.g. lack of guaranteed hours, contract work, etc.?',\n",
    "             'Did the member find the tenant had sufficient income to pay rent?']\n"
   ]
  },
  {
   "cell_type": "code",
   "execution_count": 34,
   "id": "0a7196a4-5ea6-444a-ac38-d9674505156f",
   "metadata": {},
   "outputs": [],
   "source": [
    "file_names = os.listdir(text_path)\n",
    "raw_file_text = []\n",
    "for file in file_names:\n",
    "    with open(text_path+file) as t:\n",
    "        raw_file_text.append(t.read())"
   ]
  },
  {
   "cell_type": "markdown",
   "id": "3c6b48eb-461e-4095-ac93-6ac04bfe3a7a",
   "metadata": {
    "id": "3c6b48eb-461e-4095-ac93-6ac04bfe3a7a"
   },
   "source": [
    "## Initialize the Tokenizers and Load the Models"
   ]
  },
  {
   "cell_type": "code",
   "execution_count": 35,
   "id": "71a21b6e-9a0b-40ef-962c-c06aa39e3e1a",
   "metadata": {
    "colab": {
     "base_uri": "https://localhost:8080/"
    },
    "id": "71a21b6e-9a0b-40ef-962c-c06aa39e3e1a",
    "outputId": "5a920e96-871a-4890-c495-74c5df5fb605"
   },
   "outputs": [
    {
     "data": {
      "text/plain": [
       "<All keys matched successfully>"
      ]
     },
     "execution_count": 35,
     "metadata": {},
     "output_type": "execute_result"
    }
   ],
   "source": [
    "# @article{Beltagy2020Longformer,\n",
    "#   title={Longformer: The Long-Document Transformer},\n",
    "#   author={Iz Beltagy and Matthew E. Peters and Arman Cohan},\n",
    "#   journal={arXiv:2004.05150},\n",
    "#   year={2020},\n",
    "# }\n",
    "\n",
    "led_tokenizer = AutoTokenizer.from_pretrained(\"allenai/led-base-16384\")\n",
    "led3 = AutoModelForSeq2SeqLM.from_pretrained(\"allenai/led-base-16384\", \n",
    "                                              gradient_checkpointing=True, use_cache=False)\n",
    "led3.load_state_dict(torch.load('led_3epoch_law_allqs.pt', map_location=device))\n",
    "led3.to(device)\n",
    "\n",
    "# LED (2 epochs), and it share the `led_tokenizer`\n",
    "led2 = AutoModelForSeq2SeqLM.from_pretrained(\"allenai/led-base-16384\", \n",
    "                                              gradient_checkpointing=True, use_cache=False)\n",
    "led2.load_state_dict(torch.load('led_2epoch_law_allqs.pt', map_location=device))\n",
    "led2.to(device)\n",
    "\n",
    "# LongT5\n",
    "longt5_tokenizer = AutoTokenizer.from_pretrained(\"google/long-t5-local-base\")\n",
    "longt5 = AutoModelForSeq2SeqLM.from_pretrained(\"google/long-t5-local-base\")\n",
    "longt5.load_state_dict(torch.load('longT5_2epoch_law_allqs.pt', map_location=device))\n",
    "longt5.to(device)\n"
   ]
  },
  {
   "cell_type": "markdown",
   "id": "2mPN5OlclwZd",
   "metadata": {
    "id": "2mPN5OlclwZd"
   },
   "source": [
    "## Prepare the Prediction Input"
   ]
  },
  {
   "cell_type": "code",
   "execution_count": 38,
   "id": "-33bFiWCnBQs",
   "metadata": {
    "id": "-33bFiWCnBQs"
   },
   "outputs": [],
   "source": [
    "def q_prompt(raw_texts, q_lst, q_no):\n",
    "    input_texts = []\n",
    "    \n",
    "    for i in range(len(raw_texts)):\n",
    "        full_text = raw_texts[i]\n",
    "       \n",
    "        text = full_text[full_text.find('Content:')+len('Content:'):]\n",
    "\n",
    "        text = text.replace('\\n', ' ')\n",
    "        text = text.replace('\\xa0', ' ')\n",
    "        text = text.replace('\\t', ' ')\n",
    "        text = text.replace('   ', ' ').replace('  ', ' ').replace('  ', ' ').replace('  ', ' ')\n",
    "        # text\n",
    "        # for word in stop_words:\n",
    "        #     text = text.replace(' '+word+' ', ' ')\n",
    "\n",
    "        if 'Schedule 1' in text:\n",
    "            s_idx = text.find('Schedule 1')\n",
    "            text = text[:s_idx]\n",
    "\n",
    "        input_text = f'Question: {q_lst[q_no]} Text: {text}'  \n",
    "        input_texts.append(input_text)\n",
    "\n",
    "    # print(len(input_texts), len(outputs))\n",
    "    # print(input_texts[0], outputs[0]) \n",
    "    # print(long_cases)\n",
    "    return input_texts\n",
    "\n",
    "\n",
    "def q_preprocess(raw_texts, q_lst, q_no, tokenizer):\n",
    "    input_texts = q_prompt(raw_texts, q_lst, q_no)   \n",
    "    \n",
    "    input_toks = tokenizer.batch_encode_plus(input_texts,\n",
    "                                             add_special_tokens=False, \n",
    "                                             return_token_type_ids=False)\n",
    "    \n",
    "    return input_toks\n",
    "    "
   ]
  },
  {
   "cell_type": "markdown",
   "id": "b35e16a7-ebb9-4656-8af7-543c1e90a717",
   "metadata": {
    "id": "b35e16a7-ebb9-4656-8af7-543c1e90a717"
   },
   "source": [
    "## Create the Dataset"
   ]
  },
  {
   "cell_type": "code",
   "execution_count": 39,
   "id": "a0129cf5-ec8a-4792-a1a2-6da338a99b4c",
   "metadata": {
    "colab": {
     "base_uri": "https://localhost:8080/"
    },
    "id": "a0129cf5-ec8a-4792-a1a2-6da338a99b4c",
    "outputId": "9c2b60a2-a67f-42d6-ca2b-60f6ae52b1d7"
   },
   "outputs": [
    {
     "data": {
      "text/plain": [
       "(1, 2)"
      ]
     },
     "execution_count": 39,
     "metadata": {},
     "output_type": "execute_result"
    }
   ],
   "source": [
    "PAD = tokenizer.pad_token_id\n",
    "SEP = tokenizer.sep_token_id\n",
    "PAD, SEP"
   ]
  },
  {
   "cell_type": "code",
   "execution_count": 52,
   "id": "9827de32-c0fa-4591-886d-11270507e4b7",
   "metadata": {
    "id": "9827de32-c0fa-4591-886d-11270507e4b7"
   },
   "outputs": [],
   "source": [
    "class CaseDataset(Dataset):\n",
    "\n",
    "    def __init__(self, inputs):\n",
    "        self.inputs = inputs\n",
    "        # self.outputs = outputs\n",
    "\n",
    "    def __len__(self):\n",
    "        return len(self.inputs[\"input_ids\"])\n",
    "\n",
    "    def __getitem__(self, idx):\n",
    "        input_ids = self.inputs['input_ids'][idx]\n",
    "        attention_mask = self.inputs['attention_mask'][idx]\n",
    "\n",
    "        # target_ids = self.outputs['input_ids'][idx]\n",
    "        # target_attention_mask = self.outputs['attention_mask'][idx]\n",
    "        return {\"input_ids\": input_ids, \"attention_mask\":attention_mask}#, \"output_ids\":target_ids}\n",
    "\n",
    "\n",
    "def collate_fn(batch):\n",
    "    batch_input = [torch.LongTensor(example['input_ids']) for example in batch]\n",
    "    # batch_output = [torch.LongTensor(example['output_ids']) for example in batch]\n",
    "    batch_mask = [torch.LongTensor(example['attention_mask']) for example in batch]\n",
    "\n",
    "    padded_batch_input_ids = pad_sequence(batch_input, batch_first=True, padding_value=tokenizer.pad_token_id)\n",
    "    # padded_batch_label = pad_sequence(batch_output, batch_first=True, padding_value=tokenizer.pad_token_id)\n",
    "    padded_batch_att_mask = pad_sequence(batch_mask, batch_first=True, padding_value=-100)\n",
    "\n",
    "    return {\"input_ids\": padded_batch_input_ids, \"attention_mask\": padded_batch_att_mask}#, \"labels\": padded_batch_label}\n",
    "\n",
    "\n",
    "def to_device(data, device):\n",
    "    new_data = {}\n",
    "    for k in data:\n",
    "        new_data[k] = data[k].to(device)\n",
    "    return new_data"
   ]
  },
  {
   "cell_type": "markdown",
   "id": "51g7EdVXFSsA",
   "metadata": {
    "id": "51g7EdVXFSsA"
   },
   "source": [
    "## Prepare the Functions for Evaluation"
   ]
  },
  {
   "cell_type": "code",
   "execution_count": 53,
   "id": "I5aO_Z5aFfXd",
   "metadata": {
    "id": "I5aO_Z5aFfXd"
   },
   "outputs": [],
   "source": [
    "@torch.no_grad()\n",
    "def answer(model, loader):\n",
    "    all_preds = []\n",
    "    all_labels = []\n",
    "    model.eval()\n",
    "    for batch in loader:\n",
    "        batch = to_device(batch, device)\n",
    "        input_ids = batch[\"input_ids\"]\n",
    "        attention_mask = batch[\"attention_mask\"]\n",
    "        # labels = batch[\"labels\"]\n",
    "        outputs = model.generate(input_ids=input_ids, \n",
    "                                 attention_mask=attention_mask, \n",
    "                                 return_dict_in_generate=True, \n",
    "                                 pad_token_id=tokenizer.pad_token_id, \n",
    "                                 max_length=512, \n",
    "                                 top_k=15)\n",
    "        \n",
    "        decode_texts = tokenizer.batch_decode([l[l != 0] for l in outputs['sequences']])\n",
    "        # gold_texts = tokenizer.batch_decode([l[l != 0] for l in labels])\n",
    "        # print(decode_texts, gold_texts)\n",
    "        for decode in decode_texts:\n",
    "            # l = gold.replace('</s>', '').replace('<pad>','').replace('<s>', '')\n",
    "            p = decode.replace('</s>', '').replace('<pad>','').replace('<s>', '')\n",
    "\n",
    "            # if '<pad>' in gold:\n",
    "            #     l_pad_idx = gold.index('<pad>')\n",
    "            #     l = gold[:l_pad_idx].replace(' ', '').replace('</s>', '').replace('<pad>','').replace('<s>', '')\n",
    "            # else:\n",
    "            #     l = gold.replace(' ', '').replace('</s>', '').replace('<pad>','').replace('<s>', '')\n",
    "            \n",
    "            # if '<pad>' in decode:\n",
    "            #     p_pad_idx = decode.index('<pad>')\n",
    "            #     p = decode[:p_pad_idx].replace(' ', '').replace('</s>', '').replace('<pad>','').replace('<s>', '')\n",
    "            # else:\n",
    "            #     p = decode.replace(' ', '').replace('</s>', '').replace('<pad>','').replace('<s>', '')\n",
    "\n",
    "            # print(l, p)\n",
    "            # all_labels.append(l)\n",
    "            all_preds.append(p)\n",
    "    \n",
    "    return all_preds\n"
   ]
  },
  {
   "cell_type": "markdown",
   "id": "2f08715d-09c9-498c-b462-6fc8bdeaaef9",
   "metadata": {
    "id": "2f08715d-09c9-498c-b462-6fc8bdeaaef9"
   },
   "source": [
    "## Predict the Answers"
   ]
  },
  {
   "cell_type": "code",
   "execution_count": 54,
   "id": "4d06cafb-044f-4ee4-9e1b-02cd524eb48a",
   "metadata": {
    "id": "4d06cafb-044f-4ee4-9e1b-02cd524eb48a"
   },
   "outputs": [],
   "source": [
    "def get_pred_dataloader(raw_texts, q_lst, q_no, tokenizer):\n",
    "    input_toks = q_preprocess(raw_texts, q_lst, q_no, tokenizer)\n",
    "    dataset = CaseDataset(input_toks)\n",
    "    dataloader = DataLoader(dataset, \n",
    "                            batch_size=8, \n",
    "                            collate_fn=collate_fn, \n",
    "                            shuffle=False)\n",
    "    return dataloader"
   ]
  },
  {
   "cell_type": "code",
   "execution_count": 55,
   "id": "0171ba31-1819-40f3-81bb-982876ee0490",
   "metadata": {
    "id": "0171ba31-1819-40f3-81bb-982876ee0490"
   },
   "outputs": [],
   "source": [
    "def answer_qs(raw_texts, q_lst, q_no, tokenizer, model):\n",
    "    loader = get_pred_dataloader(raw_texts, q_lst, q_no, tokenizer)\n",
    "    # print(len(loader))\n",
    "    \n",
    "    print(f'Q{q_no+1}: {q_lst[q_no]}')\n",
    "    \n",
    "    preds = answer(model, loader)\n",
    "    # acc, correct, total = accuracy(preds, golds)\n",
    "    # acc = round(acc, 5)\n",
    "    \n",
    "    # print(f\"Accuracy for this question is: {acc*100}%\")\n",
    "    # print('')\n",
    "    \n",
    "    return preds"
   ]
  },
  {
   "cell_type": "code",
   "execution_count": 56,
   "id": "JJ-PNbF8C9ao",
   "metadata": {
    "id": "JJ-PNbF8C9ao"
   },
   "outputs": [],
   "source": [
    "# del train_df, train_loader, count_parameters\n",
    "# gc.collect()"
   ]
  },
  {
   "cell_type": "code",
   "execution_count": 59,
   "id": "d56c1325-9996-469d-bb01-87075649b759",
   "metadata": {},
   "outputs": [],
   "source": [
    "preds_dict = {}"
   ]
  },
  {
   "cell_type": "code",
   "execution_count": 62,
   "id": "6ee55176-006d-4d7e-8f22-d923b07dcab8",
   "metadata": {},
   "outputs": [],
   "source": [
    "for i in range(len(led3_qs)):\n",
    "    preds_dict[led3_qs[i]] = answer_qs(\n",
    "        raw_file_text, led3_qs, i, led_tokenizer, led3\n",
    "    )\n",
    "    "
   ]
  },
  {
   "cell_type": "code",
   "execution_count": 62,
   "id": "cc236708-a92d-4bd7-9e96-a3dd118e1613",
   "metadata": {},
   "outputs": [],
   "source": [
    "for i in range(len(led2_qs)):\n",
    "    preds_dict[led2_qs[i]] = answer_qs(\n",
    "        raw_file_text, led2_qs, i, led_tokenizer, led2\n",
    "    ) "
   ]
  },
  {
   "cell_type": "code",
   "execution_count": 62,
   "id": "ac9368e9-8d4c-47b5-93a7-63157963fdea",
   "metadata": {},
   "outputs": [],
   "source": [
    "for i in range(len(led3_qs)):\n",
    "    preds_dict[led3_qs[i]] = answer_qs(\n",
    "        raw_file_text, longt5_qs, i, longt5_tokenizer, longt5\n",
    "    )"
   ]
  },
  {
   "cell_type": "code",
   "execution_count": 61,
   "id": "30a93460-4a3f-44ff-995d-29cee94cb087",
   "metadata": {},
   "outputs": [
    {
     "data": {
      "text/plain": [
       "{}"
      ]
     },
     "execution_count": 61,
     "metadata": {},
     "output_type": "execute_result"
    }
   ],
   "source": [
    "preds_dict"
   ]
  },
  {
   "cell_type": "code",
   "execution_count": 64,
   "id": "32064956-aa32-4a2f-84ba-538fd84297fd",
   "metadata": {},
   "outputs": [
    {
     "data": {
      "text/html": [
       "<div>\n",
       "<style scoped>\n",
       "    .dataframe tbody tr th:only-of-type {\n",
       "        vertical-align: middle;\n",
       "    }\n",
       "\n",
       "    .dataframe tbody tr th {\n",
       "        vertical-align: top;\n",
       "    }\n",
       "\n",
       "    .dataframe thead th {\n",
       "        text-align: right;\n",
       "    }\n",
       "</style>\n",
       "<table border=\"1\" class=\"dataframe\">\n",
       "  <thead>\n",
       "    <tr style=\"text-align: right;\">\n",
       "      <th></th>\n",
       "    </tr>\n",
       "  </thead>\n",
       "  <tbody>\n",
       "  </tbody>\n",
       "</table>\n",
       "</div>"
      ],
      "text/plain": [
       "Empty DataFrame\n",
       "Columns: []\n",
       "Index: []"
      ]
     },
     "execution_count": 64,
     "metadata": {},
     "output_type": "execute_result"
    }
   ],
   "source": [
    "df = pd.DataFrame(preds_dict)\n",
    "df"
   ]
  }
 ],
 "metadata": {
  "accelerator": "GPU",
  "colab": {
   "gpuType": "T4",
   "machine_shape": "hm",
   "provenance": []
  },
  "kernelspec": {
   "display_name": "Python 3 (ipykernel)",
   "language": "python",
   "name": "python3"
  },
  "language_info": {
   "codemirror_mode": {
    "name": "ipython",
    "version": 3
   },
   "file_extension": ".py",
   "mimetype": "text/x-python",
   "name": "python",
   "nbconvert_exporter": "python",
   "pygments_lexer": "ipython3",
   "version": "3.10.6"
  }
 },
 "nbformat": 4,
 "nbformat_minor": 5
}
