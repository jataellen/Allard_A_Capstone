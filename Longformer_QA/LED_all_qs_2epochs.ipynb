{
 "cells": [
  {
   "cell_type": "markdown",
   "id": "a2222579-9a7b-4f27-8ec8-aec7e6efd80a",
   "metadata": {
    "id": "a2222579-9a7b-4f27-8ec8-aec7e6efd80a"
   },
   "source": [
    "## Imports and Device"
   ]
  },
  {
   "cell_type": "code",
   "execution_count": 1,
   "id": "3b77b39f-323f-45f9-8f03-f06c2f55ad10",
   "metadata": {
    "colab": {
     "base_uri": "https://localhost:8080/"
    },
    "id": "3b77b39f-323f-45f9-8f03-f06c2f55ad10",
    "outputId": "d28f0cde-c176-4a06-b6b6-1fc0fbf7f089"
   },
   "outputs": [
    {
     "name": "stdout",
     "output_type": "stream",
     "text": [
      "/bin/bash: pip: command not found\n"
     ]
    },
    {
     "name": "stderr",
     "output_type": "stream",
     "text": [
      "/usr/local/miniconda3/lib/python3.8/site-packages/tqdm/auto.py:21: TqdmWarning: IProgress not found. Please update jupyter and ipywidgets. See https://ipywidgets.readthedocs.io/en/stable/user_install.html\n",
      "  from .autonotebook import tqdm as notebook_tqdm\n"
     ]
    }
   ],
   "source": [
    "# ! pip install transformers\n",
    "# ! pip3 install wandb\n",
    "# ! pip install rouge_score\n",
    "\n",
    "import pandas as pd\n",
    "import numpy as np\n",
    "import torch\n",
    "import os, gc\n",
    "import re\n",
    "\n",
    "from transformers import AutoTokenizer, LongformerTokenizer, RobertaTokenizer\n",
    "from transformers import LongformerForQuestionAnswering, AutoModelForSeq2SeqLM\n",
    "\n",
    "from torch import cuda, nn, optim\n",
    "# from tqdm import tqdm\n",
    "from torch.utils.data import Dataset, DataLoader\n",
    "from torch.nn.utils.rnn import pad_sequence\n",
    "# import rouge_score\n",
    "# import wandb\n"
   ]
  },
  {
   "cell_type": "code",
   "execution_count": 2,
   "id": "25f49cd5-8dc0-4c85-bdc5-83d71e7371cd",
   "metadata": {
    "colab": {
     "base_uri": "https://localhost:8080/"
    },
    "id": "25f49cd5-8dc0-4c85-bdc5-83d71e7371cd",
    "outputId": "d75ae265-e8d6-4387-b1b5-60fdeb1fba17"
   },
   "outputs": [
    {
     "name": "stdout",
     "output_type": "stream",
     "text": [
      "cuda\n"
     ]
    }
   ],
   "source": [
    "manual_seed = 595\n",
    "torch.manual_seed(manual_seed)\n",
    "device = torch.device(\"cuda\" if torch.cuda.is_available() else \"cpu\")\n",
    "print(device)"
   ]
  },
  {
   "cell_type": "markdown",
   "id": "dbc84a4d-7204-4466-95ee-9907cbba2107",
   "metadata": {
    "id": "dbc84a4d-7204-4466-95ee-9907cbba2107"
   },
   "source": [
    "## Read the Cleaned Data"
   ]
  },
  {
   "cell_type": "markdown",
   "id": "8f48d661-5ec8-4851-b510-c9ef877d8d38",
   "metadata": {
    "id": "8f48d661-5ec8-4851-b510-c9ef877d8d38"
   },
   "source": [
    "### Define the paths"
   ]
  },
  {
   "cell_type": "code",
   "execution_count": 3,
   "id": "08f955f6-045d-4453-ad45-39e67216ef59",
   "metadata": {
    "id": "08f955f6-045d-4453-ad45-39e67216ef59"
   },
   "outputs": [],
   "source": [
    "# run locally\n",
    "text_path = '../formatted_cases/'\n",
    "file = '../../annotated_data.xlsx'\n",
    "REGEX = r';+'\n",
    "sup_path = '../annotated_sup/'\n",
    "multi_path = text_path + 'multiple_files/'"
   ]
  },
  {
   "cell_type": "code",
   "execution_count": 4,
   "id": "46377399-e3a0-4a2a-9325-d86d5f0b6939",
   "metadata": {
    "colab": {
     "base_uri": "https://localhost:8080/"
    },
    "id": "46377399-e3a0-4a2a-9325-d86d5f0b6939",
    "outputId": "ebaa4b2b-d510-49e2-923e-ca13da3362be"
   },
   "outputs": [],
   "source": [
    "# # run on Google Colab\n",
    "# from google.colab import drive\n",
    "# drive.mount('/content/gdrive')\n",
    "# text_path = '/content/gdrive/My Drive/595/formatted_cases/'\n",
    "# file = '/content/gdrive/My Drive/595/annotated_data.xlsx'\n",
    "# REGEX = r';+'\n",
    "# sup_path = '/content/gdrive/My Drive/595/annotated_sup/'\n",
    "# multi_path = text_path + 'multiple_files/'"
   ]
  },
  {
   "cell_type": "code",
   "execution_count": 5,
   "id": "kmLgbrAaYPLO",
   "metadata": {
    "id": "kmLgbrAaYPLO"
   },
   "outputs": [],
   "source": [
    "# wandb.login()\n",
    "# wandb.init(project=\"RTB_Cases\", entity=\"qmygrace\")"
   ]
  },
  {
   "cell_type": "markdown",
   "id": "f5846c80-5bf1-4118-90d0-b7d9a2f5b4a5",
   "metadata": {
    "id": "f5846c80-5bf1-4118-90d0-b7d9a2f5b4a5"
   },
   "source": [
    "### Clean the Dataframe"
   ]
  },
  {
   "cell_type": "code",
   "execution_count": 6,
   "id": "b773cee8-0f30-48b5-a78b-c8482bb76e49",
   "metadata": {
    "colab": {
     "base_uri": "https://localhost:8080/",
     "height": 921
    },
    "id": "b773cee8-0f30-48b5-a78b-c8482bb76e49",
    "outputId": "e2c06d39-abd4-4140-d27d-d4ee52237aa2"
   },
   "outputs": [
    {
     "name": "stdout",
     "output_type": "stream",
     "text": [
      "(702, 50)\n"
     ]
    },
    {
     "data": {
      "text/html": [
       "<div>\n",
       "<style scoped>\n",
       "    .dataframe tbody tr th:only-of-type {\n",
       "        vertical-align: middle;\n",
       "    }\n",
       "\n",
       "    .dataframe tbody tr th {\n",
       "        vertical-align: top;\n",
       "    }\n",
       "\n",
       "    .dataframe thead th {\n",
       "        text-align: right;\n",
       "    }\n",
       "</style>\n",
       "<table border=\"1\" class=\"dataframe\">\n",
       "  <thead>\n",
       "    <tr style=\"text-align: right;\">\n",
       "      <th></th>\n",
       "      <th>What is the file number of the case?</th>\n",
       "      <th>What was the date of the hearing? [mm/dd/yyyy]</th>\n",
       "      <th>What was the date of the decision? [mm/dd/yyyy]</th>\n",
       "      <th>Who was the member adjudicating the decision?</th>\n",
       "      <th>What was the location of the landlord tenant board?</th>\n",
       "      <th>Did the decision state the landlord was represented?</th>\n",
       "      <th>Did the decision state the landlord attended the hearing?</th>\n",
       "      <th>Did the decision state the tenant was represented?</th>\n",
       "      <th>Did the decision state the tenant attended the hearing?</th>\n",
       "      <th>Did the decision state the landlord was a not-for-profit landlord (e.g. Toronto Community Housing)?</th>\n",
       "      <th>...</th>\n",
       "      <th>If the tenant did propose a payment plan, did the member accept the proposed payment plan?</th>\n",
       "      <th>If a payment plan was ordered, what was the length of the payment plan?</th>\n",
       "      <th>Did the decision mention the tenant’s difficulty finding alternative housing for any reason e.g.physical limitations, reliance on social assistance, etc.?</th>\n",
       "      <th>If the tenant had difficulty finding alternative housing for any reason, which of the following were applicable to the tenant?</th>\n",
       "      <th>Did the decision state the tenant was given prior notice for the eviction?</th>\n",
       "      <th>If the tenant was given prior notice for the eviction, how much notice was given?</th>\n",
       "      <th>Did the decisions state postponement would result in the tenant accruing additional arrears?</th>\n",
       "      <th>Which other specific applications of the landlord or the tenant were mentioned?</th>\n",
       "      <th>Did the decision mention the validity of an N4 eviction notice?</th>\n",
       "      <th>Were there detail(s) in the decision not captured by this questionnaire that should be included?</th>\n",
       "    </tr>\n",
       "  </thead>\n",
       "  <tbody>\n",
       "    <tr>\n",
       "      <th>0</th>\n",
       "      <td>CEL-87788-19</td>\n",
       "      <td>2019-10-16 00:00:00</td>\n",
       "      <td>2020-06-04 00:00:00</td>\n",
       "      <td>Sonia Anwar-Ali</td>\n",
       "      <td>Toronto</td>\n",
       "      <td>Yes</td>\n",
       "      <td>Not stated</td>\n",
       "      <td>No</td>\n",
       "      <td>Not stated</td>\n",
       "      <td>No</td>\n",
       "      <td>...</td>\n",
       "      <td>Not stated</td>\n",
       "      <td>12</td>\n",
       "      <td>No</td>\n",
       "      <td>Not stated</td>\n",
       "      <td>No</td>\n",
       "      <td>Not stated</td>\n",
       "      <td>No</td>\n",
       "      <td>L2: Application to End a Tenancy and Evict a T...</td>\n",
       "      <td>No</td>\n",
       "      <td>Tenant was a single mother with no support fro...</td>\n",
       "    </tr>\n",
       "    <tr>\n",
       "      <th>1</th>\n",
       "      <td>CEL-90549-19</td>\n",
       "      <td>2020-01-22 00:00:00</td>\n",
       "      <td>2020-01-10 00:00:00</td>\n",
       "      <td>Shelby Whittick</td>\n",
       "      <td>Mississauga</td>\n",
       "      <td>Yes</td>\n",
       "      <td>Yes</td>\n",
       "      <td>No</td>\n",
       "      <td>Yes</td>\n",
       "      <td>No</td>\n",
       "      <td>...</td>\n",
       "      <td>No</td>\n",
       "      <td>Not stated</td>\n",
       "      <td>No</td>\n",
       "      <td>Not stated</td>\n",
       "      <td>Yes</td>\n",
       "      <td>Not stated</td>\n",
       "      <td>Yes</td>\n",
       "      <td>No other specific applications were mentioned</td>\n",
       "      <td>No</td>\n",
       "      <td>Not stated</td>\n",
       "    </tr>\n",
       "    <tr>\n",
       "      <th>2</th>\n",
       "      <td>TEL-94478-18</td>\n",
       "      <td>2018-10-31 00:00:00</td>\n",
       "      <td>2018-11-21 00:00:00</td>\n",
       "      <td>Ruth Carey (Vice Chair)</td>\n",
       "      <td>Toronto</td>\n",
       "      <td>Yes</td>\n",
       "      <td>Yes</td>\n",
       "      <td>No</td>\n",
       "      <td>Yes</td>\n",
       "      <td>No</td>\n",
       "      <td>...</td>\n",
       "      <td>Not stated</td>\n",
       "      <td>Not stated</td>\n",
       "      <td>No</td>\n",
       "      <td>Not stated</td>\n",
       "      <td>Yes</td>\n",
       "      <td>Not stated</td>\n",
       "      <td>No</td>\n",
       "      <td>N13: Notice to End your Tenancy Because the La...</td>\n",
       "      <td>No</td>\n",
       "      <td>Previous decision TEL-92736-18 &lt; This decision...</td>\n",
       "    </tr>\n",
       "    <tr>\n",
       "      <th>3</th>\n",
       "      <td>TEL-94493-18</td>\n",
       "      <td>2018-10-31 00:00:00</td>\n",
       "      <td>2018-11-21 00:00:00</td>\n",
       "      <td>Ruth Carey (Vice Chair)</td>\n",
       "      <td>Toronto</td>\n",
       "      <td>Yes</td>\n",
       "      <td>Yes</td>\n",
       "      <td>No</td>\n",
       "      <td>Yes</td>\n",
       "      <td>No</td>\n",
       "      <td>...</td>\n",
       "      <td>Yes</td>\n",
       "      <td>1</td>\n",
       "      <td>No</td>\n",
       "      <td>Not stated</td>\n",
       "      <td>Yes</td>\n",
       "      <td>Not stated</td>\n",
       "      <td>No</td>\n",
       "      <td>No other specific applications were mentioned</td>\n",
       "      <td>No</td>\n",
       "      <td>There were 7 previous application for non-paym...</td>\n",
       "    </tr>\n",
       "    <tr>\n",
       "      <th>4</th>\n",
       "      <td>CEL-72994-18</td>\n",
       "      <td>2018-03-07 00:00:00</td>\n",
       "      <td>2018-03-14 00:00:00</td>\n",
       "      <td>Avril Cardoso</td>\n",
       "      <td>Mississauga</td>\n",
       "      <td>Yes</td>\n",
       "      <td>No</td>\n",
       "      <td>Yes</td>\n",
       "      <td>No</td>\n",
       "      <td>No</td>\n",
       "      <td>...</td>\n",
       "      <td>No</td>\n",
       "      <td>Not stated</td>\n",
       "      <td>No</td>\n",
       "      <td>Not stated</td>\n",
       "      <td>Yes</td>\n",
       "      <td>Not stated</td>\n",
       "      <td>No</td>\n",
       "      <td>No other specific applications were mentioned</td>\n",
       "      <td>No</td>\n",
       "      <td>Third Application by Landlord in past 6 months...</td>\n",
       "    </tr>\n",
       "    <tr>\n",
       "      <th>5</th>\n",
       "      <td>CEL-73021-18</td>\n",
       "      <td>2018-06-15 00:00:00</td>\n",
       "      <td>2018-06-18 00:00:00</td>\n",
       "      <td>Avril Cardoso</td>\n",
       "      <td>Mississauga</td>\n",
       "      <td>Yes</td>\n",
       "      <td>No</td>\n",
       "      <td>No</td>\n",
       "      <td>No</td>\n",
       "      <td>No</td>\n",
       "      <td>...</td>\n",
       "      <td>Not stated</td>\n",
       "      <td>Not stated</td>\n",
       "      <td>No</td>\n",
       "      <td>Not stated</td>\n",
       "      <td>Yes</td>\n",
       "      <td>Not stated</td>\n",
       "      <td>No</td>\n",
       "      <td>L1: Application to Evict a Tenant for Non-paym...</td>\n",
       "      <td>No</td>\n",
       "      <td>Tenant did not show up because hearing took pl...</td>\n",
       "    </tr>\n",
       "  </tbody>\n",
       "</table>\n",
       "<p>6 rows × 50 columns</p>\n",
       "</div>"
      ],
      "text/plain": [
       "  What is the file number of the case?  \\\n",
       "0                         CEL-87788-19   \n",
       "1                         CEL-90549-19   \n",
       "2                         TEL-94478-18   \n",
       "3                         TEL-94493-18   \n",
       "4                         CEL-72994-18   \n",
       "5                         CEL-73021-18   \n",
       "\n",
       "  What was the date of the hearing? [mm/dd/yyyy]  \\\n",
       "0                            2019-10-16 00:00:00   \n",
       "1                            2020-01-22 00:00:00   \n",
       "2                            2018-10-31 00:00:00   \n",
       "3                            2018-10-31 00:00:00   \n",
       "4                            2018-03-07 00:00:00   \n",
       "5                            2018-06-15 00:00:00   \n",
       "\n",
       "  What was the date of the decision? [mm/dd/yyyy]  \\\n",
       "0                             2020-06-04 00:00:00   \n",
       "1                             2020-01-10 00:00:00   \n",
       "2                             2018-11-21 00:00:00   \n",
       "3                             2018-11-21 00:00:00   \n",
       "4                             2018-03-14 00:00:00   \n",
       "5                             2018-06-18 00:00:00   \n",
       "\n",
       "  Who was the member adjudicating the decision?  \\\n",
       "0                               Sonia Anwar-Ali   \n",
       "1                               Shelby Whittick   \n",
       "2                       Ruth Carey (Vice Chair)   \n",
       "3                      Ruth Carey (Vice Chair)    \n",
       "4                                 Avril Cardoso   \n",
       "5                                 Avril Cardoso   \n",
       "\n",
       "  What was the location of the landlord tenant board?  \\\n",
       "0                                            Toronto    \n",
       "1                                        Mississauga    \n",
       "2                                            Toronto    \n",
       "3                                            Toronto    \n",
       "4                                        Mississauga    \n",
       "5                                        Mississauga    \n",
       "\n",
       "  Did the decision state the landlord was represented?  \\\n",
       "0                                                Yes     \n",
       "1                                                Yes     \n",
       "2                                                Yes     \n",
       "3                                                Yes     \n",
       "4                                                Yes     \n",
       "5                                                Yes     \n",
       "\n",
       "  Did the decision state the landlord attended the hearing?  \\\n",
       "0                                         Not stated          \n",
       "1                                                Yes          \n",
       "2                                                Yes          \n",
       "3                                                Yes          \n",
       "4                                                 No          \n",
       "5                                                 No          \n",
       "\n",
       "  Did the decision state the tenant was represented?  \\\n",
       "0                                                 No   \n",
       "1                                                 No   \n",
       "2                                                 No   \n",
       "3                                                 No   \n",
       "4                                                Yes   \n",
       "5                                                 No   \n",
       "\n",
       "  Did the decision state the tenant attended the hearing?  \\\n",
       "0                                         Not stated        \n",
       "1                                                Yes        \n",
       "2                                                Yes        \n",
       "3                                                Yes        \n",
       "4                                                 No        \n",
       "5                                                 No        \n",
       "\n",
       "  Did the decision state the landlord was a not-for-profit landlord (e.g. Toronto Community Housing)?  \\\n",
       "0                                                 No                                                    \n",
       "1                                                 No                                                    \n",
       "2                                                 No                                                    \n",
       "3                                                 No                                                    \n",
       "4                                                 No                                                    \n",
       "5                                                 No                                                    \n",
       "\n",
       "   ...  \\\n",
       "0  ...   \n",
       "1  ...   \n",
       "2  ...   \n",
       "3  ...   \n",
       "4  ...   \n",
       "5  ...   \n",
       "\n",
       "  If the tenant did propose a payment plan, did the member accept the proposed payment plan?  \\\n",
       "0                                         Not stated                                           \n",
       "1                                                 No                                           \n",
       "2                                         Not stated                                           \n",
       "3                                                Yes                                           \n",
       "4                                                 No                                           \n",
       "5                                         Not stated                                           \n",
       "\n",
       "  If a payment plan was ordered, what was the length of the payment plan?   \\\n",
       "0                                                 12                         \n",
       "1                                         Not stated                         \n",
       "2                                         Not stated                         \n",
       "3                                                  1                         \n",
       "4                                         Not stated                         \n",
       "5                                         Not stated                         \n",
       "\n",
       "  Did the decision mention the tenant’s difficulty finding alternative housing for any reason e.g.physical limitations, reliance on social assistance, etc.?  \\\n",
       "0                                                 No                                                                                                           \n",
       "1                                                 No                                                                                                           \n",
       "2                                                 No                                                                                                           \n",
       "3                                                 No                                                                                                           \n",
       "4                                                 No                                                                                                           \n",
       "5                                                 No                                                                                                           \n",
       "\n",
       "  If the tenant had difficulty finding alternative housing for any reason, which of the following were applicable to the tenant?  \\\n",
       "0                                         Not stated                                                                               \n",
       "1                                         Not stated                                                                               \n",
       "2                                         Not stated                                                                               \n",
       "3                                         Not stated                                                                               \n",
       "4                                         Not stated                                                                               \n",
       "5                                         Not stated                                                                               \n",
       "\n",
       "  Did the decision state the tenant was given prior notice for the eviction?  \\\n",
       "0                                                 No                           \n",
       "1                                                Yes                           \n",
       "2                                                Yes                           \n",
       "3                                                Yes                           \n",
       "4                                                Yes                           \n",
       "5                                                Yes                           \n",
       "\n",
       "  If the tenant was given prior notice for the eviction, how much notice was given?  \\\n",
       "0                                         Not stated                                  \n",
       "1                                         Not stated                                  \n",
       "2                                         Not stated                                  \n",
       "3                                         Not stated                                  \n",
       "4                                         Not stated                                  \n",
       "5                                         Not stated                                  \n",
       "\n",
       "  Did the decisions state postponement would result in the tenant accruing additional arrears?  \\\n",
       "0                                                 No                                             \n",
       "1                                                Yes                                             \n",
       "2                                                 No                                             \n",
       "3                                                 No                                             \n",
       "4                                                 No                                             \n",
       "5                                                 No                                             \n",
       "\n",
       "  Which other specific applications of the landlord or the tenant were mentioned?  \\\n",
       "0  L2: Application to End a Tenancy and Evict a T...                                \n",
       "1      No other specific applications were mentioned                                \n",
       "2  N13: Notice to End your Tenancy Because the La...                                \n",
       "3      No other specific applications were mentioned                                \n",
       "4      No other specific applications were mentioned                                \n",
       "5  L1: Application to Evict a Tenant for Non-paym...                                \n",
       "\n",
       "  Did the decision mention the validity of an N4 eviction notice?  \\\n",
       "0                                                 No                \n",
       "1                                                 No                \n",
       "2                                                 No                \n",
       "3                                                 No                \n",
       "4                                                 No                \n",
       "5                                                 No                \n",
       "\n",
       "  Were there detail(s) in the decision not captured by this questionnaire that should be included?  \n",
       "0  Tenant was a single mother with no support fro...                                                \n",
       "1                                         Not stated                                                \n",
       "2  Previous decision TEL-92736-18 < This decision...                                                \n",
       "3  There were 7 previous application for non-paym...                                                \n",
       "4  Third Application by Landlord in past 6 months...                                                \n",
       "5  Tenant did not show up because hearing took pl...                                                \n",
       "\n",
       "[6 rows x 50 columns]"
      ]
     },
     "execution_count": 6,
     "metadata": {},
     "output_type": "execute_result"
    }
   ],
   "source": [
    "df = pd.read_excel(file)\n",
    "df['What is the file number of the case?'] = df['What is the file number of the case?'].str.replace(' and ', ';')\n",
    "df['What is the file number of the case?'] = df['What is the file number of the case?'].str.replace(' ', ';')\n",
    "df['What is the file number of the case?'] = df['What is the file number of the case?'].str.replace('/', ';')\n",
    "df['What is the file number of the case?'] = df['What is the file number of the case?'].str.strip(';')\n",
    "df['What is the file number of the case?'] = df['What is the file number of the case?'].apply(lambda x: re.sub(REGEX, ';', x))\n",
    "df['What is the file number of the case?'] = df['What is the file number of the case?'].str.replace('File;number:;', '')\n",
    "df['What is the file number of the case?'] = df['What is the file number of the case?'].str.replace('TET-89650-18;TET-89650-18', 'TET-89650-18;TEL-90138-18')\n",
    "df = df.fillna('Not stated')\n",
    "df = df.replace('Not applicable', 'Not stated')\n",
    "df.rename(columns={\n",
    "    'If yes to the previous question, did the decision state these conditions would make moving particularly burdensome?':\n",
    "    'If any of the children had mental, medical or physical conditions, did the decision state these conditions would make moving particularly burdensome?',\n",
    "    'If yes to the previous question, which of the following were applicable to the tenant?':\n",
    "    'If the tenant had difficulty finding alternative housing for any reason, which of the following were applicable to the tenant?'    \n",
    "}, inplace=True)\n",
    "\n",
    "df = df.iloc[:, 2:-2]\n",
    "\n",
    "print(df.shape)\n",
    "df.head(6)"
   ]
  },
  {
   "cell_type": "code",
   "execution_count": 7,
   "id": "3c843c20-c7ea-495a-a031-e436f556d200",
   "metadata": {
    "id": "3c843c20-c7ea-495a-a031-e436f556d200"
   },
   "outputs": [],
   "source": [
    "# df.columns   #`Timestamp` is not the time of the case"
   ]
  },
  {
   "cell_type": "code",
   "execution_count": 8,
   "id": "8789c210-18b6-46d6-a990-29fce2add302",
   "metadata": {
    "colab": {
     "base_uri": "https://localhost:8080/",
     "height": 921
    },
    "id": "8789c210-18b6-46d6-a990-29fce2add302",
    "outputId": "88783df1-9b67-4bce-a091-945f0623cd72"
   },
   "outputs": [
    {
     "name": "stdout",
     "output_type": "stream",
     "text": [
      "(682, 50)\n"
     ]
    },
    {
     "data": {
      "text/html": [
       "<div>\n",
       "<style scoped>\n",
       "    .dataframe tbody tr th:only-of-type {\n",
       "        vertical-align: middle;\n",
       "    }\n",
       "\n",
       "    .dataframe tbody tr th {\n",
       "        vertical-align: top;\n",
       "    }\n",
       "\n",
       "    .dataframe thead th {\n",
       "        text-align: right;\n",
       "    }\n",
       "</style>\n",
       "<table border=\"1\" class=\"dataframe\">\n",
       "  <thead>\n",
       "    <tr style=\"text-align: right;\">\n",
       "      <th></th>\n",
       "      <th>What is the file number of the case?</th>\n",
       "      <th>What was the date of the hearing? [mm/dd/yyyy]</th>\n",
       "      <th>What was the date of the decision? [mm/dd/yyyy]</th>\n",
       "      <th>Who was the member adjudicating the decision?</th>\n",
       "      <th>What was the location of the landlord tenant board?</th>\n",
       "      <th>Did the decision state the landlord was represented?</th>\n",
       "      <th>Did the decision state the landlord attended the hearing?</th>\n",
       "      <th>Did the decision state the tenant was represented?</th>\n",
       "      <th>Did the decision state the tenant attended the hearing?</th>\n",
       "      <th>Did the decision state the landlord was a not-for-profit landlord (e.g. Toronto Community Housing)?</th>\n",
       "      <th>...</th>\n",
       "      <th>If the tenant did propose a payment plan, did the member accept the proposed payment plan?</th>\n",
       "      <th>If a payment plan was ordered, what was the length of the payment plan?</th>\n",
       "      <th>Did the decision mention the tenant’s difficulty finding alternative housing for any reason e.g.physical limitations, reliance on social assistance, etc.?</th>\n",
       "      <th>If the tenant had difficulty finding alternative housing for any reason, which of the following were applicable to the tenant?</th>\n",
       "      <th>Did the decision state the tenant was given prior notice for the eviction?</th>\n",
       "      <th>If the tenant was given prior notice for the eviction, how much notice was given?</th>\n",
       "      <th>Did the decisions state postponement would result in the tenant accruing additional arrears?</th>\n",
       "      <th>Which other specific applications of the landlord or the tenant were mentioned?</th>\n",
       "      <th>Did the decision mention the validity of an N4 eviction notice?</th>\n",
       "      <th>Were there detail(s) in the decision not captured by this questionnaire that should be included?</th>\n",
       "    </tr>\n",
       "  </thead>\n",
       "  <tbody>\n",
       "    <tr>\n",
       "      <th>0</th>\n",
       "      <td>CEL-87788-19</td>\n",
       "      <td>2019-10-16 00:00:00</td>\n",
       "      <td>2020-06-04 00:00:00</td>\n",
       "      <td>Sonia Anwar-Ali</td>\n",
       "      <td>Toronto</td>\n",
       "      <td>Yes</td>\n",
       "      <td>Not stated</td>\n",
       "      <td>No</td>\n",
       "      <td>Not stated</td>\n",
       "      <td>No</td>\n",
       "      <td>...</td>\n",
       "      <td>Not stated</td>\n",
       "      <td>12</td>\n",
       "      <td>No</td>\n",
       "      <td>Not stated</td>\n",
       "      <td>No</td>\n",
       "      <td>Not stated</td>\n",
       "      <td>No</td>\n",
       "      <td>L2: Application to End a Tenancy and Evict a T...</td>\n",
       "      <td>No</td>\n",
       "      <td>Tenant was a single mother with no support fro...</td>\n",
       "    </tr>\n",
       "    <tr>\n",
       "      <th>1</th>\n",
       "      <td>CEL-90549-19</td>\n",
       "      <td>2020-01-22 00:00:00</td>\n",
       "      <td>2020-01-10 00:00:00</td>\n",
       "      <td>Shelby Whittick</td>\n",
       "      <td>Mississauga</td>\n",
       "      <td>Yes</td>\n",
       "      <td>Yes</td>\n",
       "      <td>No</td>\n",
       "      <td>Yes</td>\n",
       "      <td>No</td>\n",
       "      <td>...</td>\n",
       "      <td>No</td>\n",
       "      <td>Not stated</td>\n",
       "      <td>No</td>\n",
       "      <td>Not stated</td>\n",
       "      <td>Yes</td>\n",
       "      <td>Not stated</td>\n",
       "      <td>Yes</td>\n",
       "      <td>No other specific applications were mentioned</td>\n",
       "      <td>No</td>\n",
       "      <td>Not stated</td>\n",
       "    </tr>\n",
       "    <tr>\n",
       "      <th>2</th>\n",
       "      <td>TEL-94478-18</td>\n",
       "      <td>2018-10-31 00:00:00</td>\n",
       "      <td>2018-11-21 00:00:00</td>\n",
       "      <td>Ruth Carey (Vice Chair)</td>\n",
       "      <td>Toronto</td>\n",
       "      <td>Yes</td>\n",
       "      <td>Yes</td>\n",
       "      <td>No</td>\n",
       "      <td>Yes</td>\n",
       "      <td>No</td>\n",
       "      <td>...</td>\n",
       "      <td>Not stated</td>\n",
       "      <td>Not stated</td>\n",
       "      <td>No</td>\n",
       "      <td>Not stated</td>\n",
       "      <td>Yes</td>\n",
       "      <td>Not stated</td>\n",
       "      <td>No</td>\n",
       "      <td>N13: Notice to End your Tenancy Because the La...</td>\n",
       "      <td>No</td>\n",
       "      <td>Previous decision TEL-92736-18 &lt; This decision...</td>\n",
       "    </tr>\n",
       "    <tr>\n",
       "      <th>3</th>\n",
       "      <td>TEL-94493-18</td>\n",
       "      <td>2018-10-31 00:00:00</td>\n",
       "      <td>2018-11-21 00:00:00</td>\n",
       "      <td>Ruth Carey (Vice Chair)</td>\n",
       "      <td>Toronto</td>\n",
       "      <td>Yes</td>\n",
       "      <td>Yes</td>\n",
       "      <td>No</td>\n",
       "      <td>Yes</td>\n",
       "      <td>No</td>\n",
       "      <td>...</td>\n",
       "      <td>Yes</td>\n",
       "      <td>1</td>\n",
       "      <td>No</td>\n",
       "      <td>Not stated</td>\n",
       "      <td>Yes</td>\n",
       "      <td>Not stated</td>\n",
       "      <td>No</td>\n",
       "      <td>No other specific applications were mentioned</td>\n",
       "      <td>No</td>\n",
       "      <td>There were 7 previous application for non-paym...</td>\n",
       "    </tr>\n",
       "    <tr>\n",
       "      <th>4</th>\n",
       "      <td>CEL-72994-18</td>\n",
       "      <td>2018-03-07 00:00:00</td>\n",
       "      <td>2018-03-14 00:00:00</td>\n",
       "      <td>Avril Cardoso</td>\n",
       "      <td>Mississauga</td>\n",
       "      <td>Yes</td>\n",
       "      <td>No</td>\n",
       "      <td>Yes</td>\n",
       "      <td>No</td>\n",
       "      <td>No</td>\n",
       "      <td>...</td>\n",
       "      <td>No</td>\n",
       "      <td>Not stated</td>\n",
       "      <td>No</td>\n",
       "      <td>Not stated</td>\n",
       "      <td>Yes</td>\n",
       "      <td>Not stated</td>\n",
       "      <td>No</td>\n",
       "      <td>No other specific applications were mentioned</td>\n",
       "      <td>No</td>\n",
       "      <td>Third Application by Landlord in past 6 months...</td>\n",
       "    </tr>\n",
       "    <tr>\n",
       "      <th>5</th>\n",
       "      <td>CEL-73021-18</td>\n",
       "      <td>2018-06-15 00:00:00</td>\n",
       "      <td>2018-06-18 00:00:00</td>\n",
       "      <td>Avril Cardoso</td>\n",
       "      <td>Mississauga</td>\n",
       "      <td>Yes</td>\n",
       "      <td>No</td>\n",
       "      <td>No</td>\n",
       "      <td>No</td>\n",
       "      <td>No</td>\n",
       "      <td>...</td>\n",
       "      <td>Not stated</td>\n",
       "      <td>Not stated</td>\n",
       "      <td>No</td>\n",
       "      <td>Not stated</td>\n",
       "      <td>Yes</td>\n",
       "      <td>Not stated</td>\n",
       "      <td>No</td>\n",
       "      <td>L1: Application to Evict a Tenant for Non-paym...</td>\n",
       "      <td>No</td>\n",
       "      <td>Tenant did not show up because hearing took pl...</td>\n",
       "    </tr>\n",
       "  </tbody>\n",
       "</table>\n",
       "<p>6 rows × 50 columns</p>\n",
       "</div>"
      ],
      "text/plain": [
       "  What is the file number of the case?  \\\n",
       "0                         CEL-87788-19   \n",
       "1                         CEL-90549-19   \n",
       "2                         TEL-94478-18   \n",
       "3                         TEL-94493-18   \n",
       "4                         CEL-72994-18   \n",
       "5                         CEL-73021-18   \n",
       "\n",
       "  What was the date of the hearing? [mm/dd/yyyy]  \\\n",
       "0                            2019-10-16 00:00:00   \n",
       "1                            2020-01-22 00:00:00   \n",
       "2                            2018-10-31 00:00:00   \n",
       "3                            2018-10-31 00:00:00   \n",
       "4                            2018-03-07 00:00:00   \n",
       "5                            2018-06-15 00:00:00   \n",
       "\n",
       "  What was the date of the decision? [mm/dd/yyyy]  \\\n",
       "0                             2020-06-04 00:00:00   \n",
       "1                             2020-01-10 00:00:00   \n",
       "2                             2018-11-21 00:00:00   \n",
       "3                             2018-11-21 00:00:00   \n",
       "4                             2018-03-14 00:00:00   \n",
       "5                             2018-06-18 00:00:00   \n",
       "\n",
       "  Who was the member adjudicating the decision?  \\\n",
       "0                               Sonia Anwar-Ali   \n",
       "1                               Shelby Whittick   \n",
       "2                       Ruth Carey (Vice Chair)   \n",
       "3                      Ruth Carey (Vice Chair)    \n",
       "4                                 Avril Cardoso   \n",
       "5                                 Avril Cardoso   \n",
       "\n",
       "  What was the location of the landlord tenant board?  \\\n",
       "0                                            Toronto    \n",
       "1                                        Mississauga    \n",
       "2                                            Toronto    \n",
       "3                                            Toronto    \n",
       "4                                        Mississauga    \n",
       "5                                        Mississauga    \n",
       "\n",
       "  Did the decision state the landlord was represented?  \\\n",
       "0                                                Yes     \n",
       "1                                                Yes     \n",
       "2                                                Yes     \n",
       "3                                                Yes     \n",
       "4                                                Yes     \n",
       "5                                                Yes     \n",
       "\n",
       "  Did the decision state the landlord attended the hearing?  \\\n",
       "0                                         Not stated          \n",
       "1                                                Yes          \n",
       "2                                                Yes          \n",
       "3                                                Yes          \n",
       "4                                                 No          \n",
       "5                                                 No          \n",
       "\n",
       "  Did the decision state the tenant was represented?  \\\n",
       "0                                                 No   \n",
       "1                                                 No   \n",
       "2                                                 No   \n",
       "3                                                 No   \n",
       "4                                                Yes   \n",
       "5                                                 No   \n",
       "\n",
       "  Did the decision state the tenant attended the hearing?  \\\n",
       "0                                         Not stated        \n",
       "1                                                Yes        \n",
       "2                                                Yes        \n",
       "3                                                Yes        \n",
       "4                                                 No        \n",
       "5                                                 No        \n",
       "\n",
       "  Did the decision state the landlord was a not-for-profit landlord (e.g. Toronto Community Housing)?  \\\n",
       "0                                                 No                                                    \n",
       "1                                                 No                                                    \n",
       "2                                                 No                                                    \n",
       "3                                                 No                                                    \n",
       "4                                                 No                                                    \n",
       "5                                                 No                                                    \n",
       "\n",
       "   ...  \\\n",
       "0  ...   \n",
       "1  ...   \n",
       "2  ...   \n",
       "3  ...   \n",
       "4  ...   \n",
       "5  ...   \n",
       "\n",
       "  If the tenant did propose a payment plan, did the member accept the proposed payment plan?  \\\n",
       "0                                         Not stated                                           \n",
       "1                                                 No                                           \n",
       "2                                         Not stated                                           \n",
       "3                                                Yes                                           \n",
       "4                                                 No                                           \n",
       "5                                         Not stated                                           \n",
       "\n",
       "  If a payment plan was ordered, what was the length of the payment plan?   \\\n",
       "0                                                 12                         \n",
       "1                                         Not stated                         \n",
       "2                                         Not stated                         \n",
       "3                                                  1                         \n",
       "4                                         Not stated                         \n",
       "5                                         Not stated                         \n",
       "\n",
       "  Did the decision mention the tenant’s difficulty finding alternative housing for any reason e.g.physical limitations, reliance on social assistance, etc.?  \\\n",
       "0                                                 No                                                                                                           \n",
       "1                                                 No                                                                                                           \n",
       "2                                                 No                                                                                                           \n",
       "3                                                 No                                                                                                           \n",
       "4                                                 No                                                                                                           \n",
       "5                                                 No                                                                                                           \n",
       "\n",
       "  If the tenant had difficulty finding alternative housing for any reason, which of the following were applicable to the tenant?  \\\n",
       "0                                         Not stated                                                                               \n",
       "1                                         Not stated                                                                               \n",
       "2                                         Not stated                                                                               \n",
       "3                                         Not stated                                                                               \n",
       "4                                         Not stated                                                                               \n",
       "5                                         Not stated                                                                               \n",
       "\n",
       "  Did the decision state the tenant was given prior notice for the eviction?  \\\n",
       "0                                                 No                           \n",
       "1                                                Yes                           \n",
       "2                                                Yes                           \n",
       "3                                                Yes                           \n",
       "4                                                Yes                           \n",
       "5                                                Yes                           \n",
       "\n",
       "  If the tenant was given prior notice for the eviction, how much notice was given?  \\\n",
       "0                                         Not stated                                  \n",
       "1                                         Not stated                                  \n",
       "2                                         Not stated                                  \n",
       "3                                         Not stated                                  \n",
       "4                                         Not stated                                  \n",
       "5                                         Not stated                                  \n",
       "\n",
       "  Did the decisions state postponement would result in the tenant accruing additional arrears?  \\\n",
       "0                                                 No                                             \n",
       "1                                                Yes                                             \n",
       "2                                                 No                                             \n",
       "3                                                 No                                             \n",
       "4                                                 No                                             \n",
       "5                                                 No                                             \n",
       "\n",
       "  Which other specific applications of the landlord or the tenant were mentioned?  \\\n",
       "0  L2: Application to End a Tenancy and Evict a T...                                \n",
       "1      No other specific applications were mentioned                                \n",
       "2  N13: Notice to End your Tenancy Because the La...                                \n",
       "3      No other specific applications were mentioned                                \n",
       "4      No other specific applications were mentioned                                \n",
       "5  L1: Application to Evict a Tenant for Non-paym...                                \n",
       "\n",
       "  Did the decision mention the validity of an N4 eviction notice?  \\\n",
       "0                                                 No                \n",
       "1                                                 No                \n",
       "2                                                 No                \n",
       "3                                                 No                \n",
       "4                                                 No                \n",
       "5                                                 No                \n",
       "\n",
       "  Were there detail(s) in the decision not captured by this questionnaire that should be included?  \n",
       "0  Tenant was a single mother with no support fro...                                                \n",
       "1                                         Not stated                                                \n",
       "2  Previous decision TEL-92736-18 < This decision...                                                \n",
       "3  There were 7 previous application for non-paym...                                                \n",
       "4  Third Application by Landlord in past 6 months...                                                \n",
       "5  Tenant did not show up because hearing took pl...                                                \n",
       "\n",
       "[6 rows x 50 columns]"
      ]
     },
     "execution_count": 8,
     "metadata": {},
     "output_type": "execute_result"
    }
   ],
   "source": [
    "df_unique = df.drop_duplicates(subset=['What is the file number of the case?'])\n",
    "df_unique = df_unique.reset_index(drop=True)\n",
    "\n",
    "print(df_unique.shape)\n",
    "df_unique.head(6)"
   ]
  },
  {
   "cell_type": "code",
   "execution_count": 9,
   "id": "bdce484c-64bf-465b-b5d5-205159a25ea8",
   "metadata": {
    "colab": {
     "base_uri": "https://localhost:8080/"
    },
    "id": "bdce484c-64bf-465b-b5d5-205159a25ea8",
    "outputId": "d9e2a7ef-c23c-4be4-bf4a-5d7e5d03d586"
   },
   "outputs": [
    {
     "name": "stdout",
     "output_type": "stream",
     "text": [
      "TET-89650-18;TEL-90138-18 not found. Going to the supplement directory.\n",
      "TNL-00793-18;TNL-01183-18 not found. Going to the supplement directory.\n",
      "TNL-00793-18;TNL-01183-18 not found. Going to the multiple directory.\n",
      "TNL-03299-18;TNT-00589-17 not found. Going to the supplement directory.\n",
      "TNL-03299-18;TNT-00589-17 not found. Going to the multiple directory.\n",
      "TNL-04435-18;TNL-03907-18 not found. Going to the supplement directory.\n",
      "HOL-02144-17;HOT-02146-17 not found. Going to the supplement directory.\n",
      "TEL-87475-18;TET-86819-17;TET-88355-18 not found. Going to the supplement directory.\n",
      "TEL-87475-18;TET-86819-17;TET-88355-18 not found. Going to the multiple directory.\n",
      "SWL-08112-17;SWL-08113-17 not found. Going to the supplement directory.\n",
      "SWL-12547-18;SWL-12548-18 not found. Going to the supplement directory.\n",
      "SWL-12547-18;SWL-12548-18 not found. Going to the multiple directory.\n",
      "SWL-13901-18;SWT-14627-18 not found. Going to the supplement directory.\n",
      "TEL-77442-17;TET-77790-17 not found. Going to the supplement directory.\n",
      "TEL-77442-17;TET-77790-17 not found. Going to the multiple directory.\n",
      "TEL-77505-17-RV;TEL-77505-17 not found. Going to the supplement directory.\n",
      "TEL-77505-17-RV;TEL-77505-17 not found. Going to the multiple directory.\n",
      "TNL-06025-18;TNL-06026-18 not found. Going to the supplement directory.\n",
      "TNL-06025-18;TNL-06026-18 not found. Going to the multiple directory.\n",
      "TEL-79519-17;TET-79366-17 not found. Going to the supplement directory.\n",
      "TEL-79519-17;TET-79366-17 not found. Going to the multiple directory.\n",
      "TSL-07666-19-RV not found. Going to the supplement directory.\n",
      "TSL-93207-18-RV;TST-94747-18;TSL-00082-18 not found. Going to the supplement directory.\n",
      "TSL-93207-18-RV;TST-94747-18;TSL-00082-18 not found. Going to the multiple directory.\n",
      "CEL-72209-17;CET-73173-18 not found. Going to the supplement directory.\n",
      "CEL-72209-17;CET-73173-18 not found. Going to the multiple directory.\n"
     ]
    }
   ],
   "source": [
    "info_lst = df_unique.columns[2:-2]\n",
    "\n",
    "raw_file_text = []\n",
    "\n",
    "for i in range(len(df_unique)):\n",
    "    file_no = df_unique.iloc[i,0]\n",
    "    if not os.path.isfile(text_path+file_no+'.txt'):\n",
    "        print(f'{file_no} not found. Going to the supplement directory.')\n",
    "        # passed_cases.append(file_no)\n",
    "        if not os.path.isfile(sup_path+file_no+'.txt'):\n",
    "            print(f'{file_no} not found. Going to the multiple directory.')\n",
    "            with open (multi_path+file_no+'.txt') as t:\n",
    "                # file_no_lst = file_no.split(';')\n",
    "                # print(file_no_lst)\n",
    "                raw_file_text.append(t.read())\n",
    "        else:\n",
    "            with open (sup_path+file_no+'.txt') as t:\n",
    "                raw_file_text.append(t.read())\n",
    "    else:\n",
    "        with open (text_path+file_no+'.txt') as t:\n",
    "            # cases_info[-1]['text'] = t.read()\n",
    "            raw_file_text.append(t.read())\n",
    "            # raw_file_name.append(file_no+'.txt')"
   ]
  },
  {
   "cell_type": "code",
   "execution_count": 10,
   "id": "c2a92989-199d-4664-af29-f688d8a99d17",
   "metadata": {
    "colab": {
     "base_uri": "https://localhost:8080/"
    },
    "id": "c2a92989-199d-4664-af29-f688d8a99d17",
    "outputId": "22853555-52e6-4235-93b1-daa9f7ba2a17"
   },
   "outputs": [
    {
     "data": {
      "text/plain": [
       "['If any rent increases occurred, what was the rent after the increase(s)?',\n",
       " 'If any rent increases occurred, when did the rent increase(s) come into effect? ',\n",
       " 'How many total children did the tenant have living with them? ',\n",
       " 'How many total children aged 17 or younger did the tenant have living with them?',\n",
       " 'How many total children aged 13 or younger did the tenant have living with them? ',\n",
       " 'How many total children aged 4 or younger did the tenant have living with them?',\n",
       " 'Did the decision state any of the children had mental, medical or physical conditions?',\n",
       " 'If any of the children had mental, medical or physical conditions, did the decision state these conditions would make moving particularly burdensome?',\n",
       " 'If a payment plan was ordered, what was the length of the payment plan? ',\n",
       " 'If the tenant had difficulty finding alternative housing for any reason, which of the following were applicable to the tenant?',\n",
       " 'If the tenant was given prior notice for the eviction, how much notice was given?']"
      ]
     },
     "execution_count": 10,
     "metadata": {},
     "output_type": "execute_result"
    }
   ],
   "source": [
    "# remove columns that have too little information\n",
    "little_info_col = [15, 16, 26, 27, 28, 29, 30, 31, 41, 43, 45]\n",
    "to_del = [df_unique.columns[i] for i in little_info_col]\n",
    "for col in to_del:\n",
    "    del df_unique[col]\n",
    "to_del"
   ]
  },
  {
   "cell_type": "code",
   "execution_count": 11,
   "id": "yiJ4hO2i4FEa",
   "metadata": {
    "colab": {
     "base_uri": "https://localhost:8080/"
    },
    "id": "yiJ4hO2i4FEa",
    "outputId": "b26e1bce-0b18-4772-d8b3-9880621117cf"
   },
   "outputs": [
    {
     "data": {
      "text/plain": [
       "1075"
      ]
     },
     "execution_count": 11,
     "metadata": {},
     "output_type": "execute_result"
    }
   ],
   "source": [
    "del to_del\n",
    "gc.collect()"
   ]
  },
  {
   "cell_type": "markdown",
   "id": "5d30e6a8-89c4-4054-9e7c-7251d0b27b19",
   "metadata": {
    "id": "5d30e6a8-89c4-4054-9e7c-7251d0b27b19"
   },
   "source": [
    "### Split the Train Dataframe and Validation Dataframe"
   ]
  },
  {
   "cell_type": "code",
   "execution_count": 12,
   "id": "11770ff6-28de-4898-9fd9-6d1a61ceec49",
   "metadata": {
    "colab": {
     "base_uri": "https://localhost:8080/"
    },
    "id": "11770ff6-28de-4898-9fd9-6d1a61ceec49",
    "outputId": "6878e2a7-4004-4727-e3cd-756d37d32abb"
   },
   "outputs": [
    {
     "data": {
      "text/plain": [
       "((620, 39), (62, 39))"
      ]
     },
     "execution_count": 12,
     "metadata": {},
     "output_type": "execute_result"
    }
   ],
   "source": [
    "train_df = df_unique.iloc[:620, :]\n",
    "val_df = df_unique.iloc[620:, :].reset_index(drop=True)\n",
    "train_df.shape, val_df.shape"
   ]
  },
  {
   "cell_type": "code",
   "execution_count": 13,
   "id": "8bccb57b-0a13-46e4-8683-667c6012728b",
   "metadata": {
    "colab": {
     "base_uri": "https://localhost:8080/"
    },
    "id": "8bccb57b-0a13-46e4-8683-667c6012728b",
    "outputId": "7b0dae6e-578a-46a4-db09-ba14588a3741"
   },
   "outputs": [
    {
     "name": "stdout",
     "output_type": "stream",
     "text": [
      "0 What is the file number of the case?\n",
      "1 What was the date of the hearing? [mm/dd/yyyy]\n",
      "2 What was the date of the decision? [mm/dd/yyyy]\n",
      "3 Who was the member adjudicating the decision?\n",
      "4 What was the location of the landlord tenant board?\n",
      "5 Did the decision state the landlord was represented?\n",
      "6 Did the decision state the landlord attended the hearing?\n",
      "7 Did the decision state the tenant was represented?\n",
      "8 Did the decision state the tenant attended the hearing?\n",
      "9 Did the decision state the landlord was a not-for-profit landlord (e.g. Toronto Community Housing)?\n",
      "10 Did the decision state the tenant was collecting a subsidy?\n",
      "11 What was the outcome of the case?\n",
      "12 What was the length of the tenancy, or in other words, how long had the tenants lived at the residence in question? \n",
      "13 What was the monthly rent?\n",
      "14 What was the amount of the rental deposit? \n",
      "15 What was the total amount of arrears?\n",
      "16 Over how many months did the arrears accumulate? \n",
      "17 If the tenant made a payment on the arrears after the eviction notice was served and/or prior to the hearing, what was the amount of the payment? \n",
      "18 Did the decision mention a history of arrears by the tenant separate from the arrears in the current claim (more than one period of arrears, recurrently coming in and out of arrears, arrears with previous landlord, etc.)?\n",
      "19 If the tenant had a history of arrears, did the decision mention a history of the tenant making payments on those arrears (separate from any payments made in response to the present eviction notice/hearing)?\n",
      "20 How frequently were rent payments made late?\n",
      "21 Did the member find the tenant had or seemed to have the ability to pay rent, but chose not do so?\n",
      "22 What were the specific mental, medical, or physical conditions of the tenant, if any? \n",
      "23 Did the decision state that the tenant had children living with them?\n",
      "24 Was the tenant employed at the time of the hearing?\n",
      "25 If the tenant was not employed, did the decision state the tenant was receiving any form of government assistance (e.g. OW, childcare benefits, ODSP, OSAP)?\n",
      "26 If the tenant was employed, did the decision state any doubts about the stability of employment e.g. lack of guaranteed hours, contract work, etc.?\n",
      "27 Did the member find the tenant had sufficient income to pay rent?\n",
      "28 What was the total income of the tenant’s household? \n",
      "29 Did the decision mention the tenant lost their job leading up to or during the period of the hearing?\n",
      "30 Did the decision mention any other extenuating circumstances experienced by the tenant leading up to or during the period of the claim (e.g. hospitalization, death in the family, etc.)?\n",
      "31 Did the tenant propose a payment plan?\n",
      "32 If the tenant did propose a payment plan, did the member accept the proposed payment plan?\n",
      "33 Did the decision mention the tenant’s difficulty finding alternative housing for any reason e.g.physical limitations, reliance on social assistance, etc.?\n",
      "34 Did the decision state the tenant was given prior notice for the eviction?\n",
      "35 Did the decisions state postponement would result in the tenant accruing additional arrears?\n",
      "36 Which other specific applications of the landlord or the tenant were mentioned?\n",
      "37 Did the decision mention the validity of an N4 eviction notice?\n",
      "38 Were there detail(s) in the decision not captured by this questionnaire that should be included?\n"
     ]
    }
   ],
   "source": [
    "for i, q in enumerate(train_df.columns):\n",
    "    print(i, q)"
   ]
  },
  {
   "cell_type": "markdown",
   "id": "3c6b48eb-461e-4095-ac93-6ac04bfe3a7a",
   "metadata": {
    "id": "3c6b48eb-461e-4095-ac93-6ac04bfe3a7a"
   },
   "source": [
    "## Initialize the Tokenizer and the Model"
   ]
  },
  {
   "cell_type": "code",
   "execution_count": 14,
   "id": "71a21b6e-9a0b-40ef-962c-c06aa39e3e1a",
   "metadata": {
    "colab": {
     "base_uri": "https://localhost:8080/"
    },
    "id": "71a21b6e-9a0b-40ef-962c-c06aa39e3e1a",
    "outputId": "8f043566-20a5-4632-831a-f2cba9f2332a"
   },
   "outputs": [
    {
     "name": "stderr",
     "output_type": "stream",
     "text": [
      "Some weights of the model checkpoint at allenai/longformer-base-4096 were not used when initializing LongformerForQuestionAnswering: ['lm_head.dense.weight', 'lm_head.dense.bias', 'lm_head.bias', 'lm_head.decoder.weight', 'lm_head.layer_norm.weight', 'lm_head.layer_norm.bias']\n",
      "- This IS expected if you are initializing LongformerForQuestionAnswering from the checkpoint of a model trained on another task or with another architecture (e.g. initializing a BertForSequenceClassification model from a BertForPreTraining model).\n",
      "- This IS NOT expected if you are initializing LongformerForQuestionAnswering from the checkpoint of a model that you expect to be exactly identical (initializing a BertForSequenceClassification model from a BertForSequenceClassification model).\n",
      "Some weights of LongformerForQuestionAnswering were not initialized from the model checkpoint at allenai/longformer-base-4096 and are newly initialized: ['qa_outputs.bias', 'qa_outputs.weight']\n",
      "You should probably TRAIN this model on a down-stream task to be able to use it for predictions and inference.\n"
     ]
    }
   ],
   "source": [
    "# @article{Beltagy2020Longformer,\n",
    "#   title={Longformer: The Long-Document Transformer},\n",
    "#   author={Iz Beltagy and Matthew E. Peters and Arman Cohan},\n",
    "#   journal={arXiv:2004.05150},\n",
    "#   year={2020},\n",
    "# }\n",
    "tokenizer1 = LongformerTokenizer.from_pretrained('allenai/longformer-base-4096')\n",
    "model1 = LongformerForQuestionAnswering.from_pretrained('allenai/longformer-base-4096', gradient_checkpointing=True)\n",
    "\n",
    "tokenizer = AutoTokenizer.from_pretrained(\"allenai/led-base-16384\")\n",
    "model = AutoModelForSeq2SeqLM.from_pretrained(\"allenai/led-base-16384\", gradient_checkpointing=True, use_cache=False)\n",
    "\n",
    "# ref: https://colab.research.google.com/github/patrickvonplaten/notebooks/blob/master/Fine_tune_Longformer_Encoder_Decoder_(LED)_for_Summarization_on_pubmed.ipynb#scrollTo=jpUr9QeebZ-n"
   ]
  },
  {
   "cell_type": "markdown",
   "id": "7074c9d3-c565-428b-9fcb-c65962fd4fa7",
   "metadata": {
    "id": "7074c9d3-c565-428b-9fcb-c65962fd4fa7"
   },
   "source": [
    "## A Test before Finetuning"
   ]
  },
  {
   "cell_type": "code",
   "execution_count": 15,
   "id": "54b8e886-5018-4924-9b6e-9dc7c85f5b17",
   "metadata": {
    "id": "54b8e886-5018-4924-9b6e-9dc7c85f5b17"
   },
   "outputs": [],
   "source": [
    "def prompt(dataframe, raw_texts):\n",
    "    input_texts = []\n",
    "    outputs = []\n",
    "    # long_cases = 0\n",
    "    \n",
    "    questions = dataframe.columns\n",
    "    \n",
    "    for q_no in range(len(questions)):\n",
    "        answers = dataframe.iloc[:,q_no]\n",
    "        # print(len(raw_texts), len(answers))\n",
    "        assert len(raw_texts) == len(answers)\n",
    "\n",
    "        for i in range(len(answers)):\n",
    "            full_text = raw_texts[i]\n",
    "            text = full_text[full_text.find('Content:')+len('Content:'):]\n",
    "\n",
    "            # if len(text) > 26000:\n",
    "            #     # print(len(text))\n",
    "            #     text = text[:26000]\n",
    "            #     long_cases += 1\n",
    "\n",
    "            text = text.replace('\\n', ' ')\n",
    "            text = text.replace('\\xa0', ' ')\n",
    "            text = text.replace('\\t', ' ')\n",
    "            text = text.replace('   ', ' ').replace('  ', ' ').replace('  ', ' ').replace('  ', ' ')\n",
    "            # text\n",
    "            # for word in stop_words:\n",
    "            #     text = text.replace(' '+word+' ', ' ')\n",
    "\n",
    "            if 'Schedule 1' in text:\n",
    "                s_idx = text.find('Schedule 1')\n",
    "                text = text[:s_idx]\n",
    "\n",
    "            input_text = f'Question: {questions[q_no]} Text: {text}'  \n",
    "            input_texts.append(input_text)\n",
    "\n",
    "            output = str(answers[i])\n",
    "            outputs.append(output)\n",
    "        \n",
    "    # print(len(input_texts), len(outputs))\n",
    "    # print(input_texts[0], outputs[0]) \n",
    "    # print(long_cases)\n",
    "    return input_texts, outputs"
   ]
  },
  {
   "cell_type": "markdown",
   "id": "68c815b4-b341-4a6f-a183-9f6a3071342e",
   "metadata": {
    "id": "68c815b4-b341-4a6f-a183-9f6a3071342e"
   },
   "source": [
    "### Longformer for Question Answering"
   ]
  },
  {
   "cell_type": "code",
   "execution_count": 16,
   "id": "1124a45e-2dcc-4b1a-8a4a-8786d106a29b",
   "metadata": {
    "colab": {
     "base_uri": "https://localhost:8080/",
     "height": 52
    },
    "id": "1124a45e-2dcc-4b1a-8a4a-8786d106a29b",
    "outputId": "1ed0d28e-0b8e-4b90-9953-6e80621fe62b"
   },
   "outputs": [
    {
     "name": "stdout",
     "output_type": "stream",
     "text": [
      "CEL-87788-19\n"
     ]
    },
    {
     "data": {
      "text/plain": [
       "''"
      ]
     },
     "execution_count": 16,
     "metadata": {},
     "output_type": "execute_result"
    }
   ],
   "source": [
    "q1_lst, a1_lst = prompt(df_unique, raw_file_text)\n",
    "q1 = q1_lst[0]\n",
    "a1 = a1_lst[0]\n",
    "# # print(q1)\n",
    "print(a1)\n",
    "encoding = tokenizer1.encode_plus(text=q1,\n",
    "                                  text_pair=a1) \n",
    "                                 # add_special=True)\n",
    "inputs = torch.LongTensor(encoding['input_ids']).unsqueeze(0)  #Token embeddings\n",
    "attention_mask = torch.LongTensor(encoding['attention_mask']).unsqueeze(0)\n",
    "# print(len(attention_mask))\n",
    "\n",
    "# sentence_embedding = encoding['token_type_ids']  #Segment embeddings\n",
    "tokens = tokenizer.convert_ids_to_tokens(encoding['input_ids']) #input tokens\n",
    "outputs = model1(input_ids=inputs, \n",
    "                attention_mask=attention_mask)\n",
    "start_scores, end_scores = outputs[0], outputs[1]\n",
    "answer_tokens = tokens[torch.argmax(start_scores):torch.argmax(end_scores)+1]\n",
    "answer = tokenizer1.decode(tokenizer1.convert_tokens_to_ids(answer_tokens))\n",
    "answer"
   ]
  },
  {
   "cell_type": "code",
   "execution_count": 17,
   "id": "73690cd1-d7b3-4769-8c45-14c9bb46b7d8",
   "metadata": {
    "colab": {
     "base_uri": "https://localhost:8080/"
    },
    "id": "73690cd1-d7b3-4769-8c45-14c9bb46b7d8",
    "outputId": "38df7ffc-3d2e-4f9e-eed7-4114ab139a68"
   },
   "outputs": [
    {
     "data": {
      "text/plain": [
       "(tensor(999), tensor(655))"
      ]
     },
     "execution_count": 17,
     "metadata": {},
     "output_type": "execute_result"
    }
   ],
   "source": [
    "torch.argmax(start_scores),torch.argmax(end_scores)"
   ]
  },
  {
   "cell_type": "markdown",
   "id": "32dc7330-7248-4199-95d5-dc8c4377fd70",
   "metadata": {
    "id": "32dc7330-7248-4199-95d5-dc8c4377fd70"
   },
   "source": [
    "It shows that the encoder models can not really get what we need for most columns. Therefore we will"
   ]
  },
  {
   "cell_type": "code",
   "execution_count": 18,
   "id": "2En5ikSpz2Ja",
   "metadata": {
    "colab": {
     "base_uri": "https://localhost:8080/"
    },
    "id": "2En5ikSpz2Ja",
    "outputId": "e95e7231-aa59-417b-a289-f2fffde195f3"
   },
   "outputs": [
    {
     "data": {
      "text/plain": [
       "21"
      ]
     },
     "execution_count": 18,
     "metadata": {},
     "output_type": "execute_result"
    }
   ],
   "source": [
    "del tokenizer1, model1#, answer\n",
    "gc.collect()"
   ]
  },
  {
   "cell_type": "markdown",
   "id": "90024f6b-527e-48a3-8d04-d4e3440dae7f",
   "metadata": {
    "id": "90024f6b-527e-48a3-8d04-d4e3440dae7f"
   },
   "source": [
    "###  Longformer Encoder-Decoder (LED) "
   ]
  },
  {
   "cell_type": "code",
   "execution_count": 19,
   "id": "c3d7ce61-f8f2-49ea-83fd-658a992b28d8",
   "metadata": {
    "colab": {
     "base_uri": "https://localhost:8080/"
    },
    "id": "c3d7ce61-f8f2-49ea-83fd-658a992b28d8",
    "outputId": "e0f88eb2-ec57-451e-b2f7-fb70d2f33ca6"
   },
   "outputs": [
    {
     "name": "stdout",
     "output_type": "stream",
     "text": [
      "torch.Size([1, 1364]) torch.Size([1, 1364])\n"
     ]
    },
    {
     "name": "stderr",
     "output_type": "stream",
     "text": [
      "/usr/local/miniconda3/lib/python3.8/site-packages/transformers/generation/utils.py:1259: UserWarning: You have modified the pretrained model configuration to control generation. This is a deprecated strategy to control generation and will be removed soon, in a future version. Please use a generation configuration file (see https://huggingface.co/docs/transformers/main_classes/text_generation)\n",
      "  warnings.warn(\n"
     ]
    }
   ],
   "source": [
    "q1_lst, a1_lst = prompt(df_unique, raw_file_text)\n",
    "q1 = q1_lst[0]\n",
    "a1 = a1_lst[0]\n",
    "# # print(q1)\n",
    "input_encoding = tokenizer(q1)\n",
    "output_encoding = tokenizer(a1)\n",
    "input_ids = torch.LongTensor(encoding['input_ids']).unsqueeze(0)  # batch of size 1\n",
    "attention_mask = torch.LongTensor(encoding['attention_mask']).unsqueeze(0)\n",
    "# attention_mask[:, [1, 4, 21,]] =  2  # Set global attention based on the task. For example,\n",
    "                                     # classification: the <s> token\n",
    "                                     # QA: question tokens\n",
    "print(input_ids.shape, attention_mask.shape)\n",
    "# input_ids, attention_mask = pad_to_window_size(\n",
    "#         input_ids, attention_mask, config.attention_window[0], tokenizer.pad_token_id)\n",
    "\n",
    "output = model.generate(\n",
    "    input_ids=input_ids, \n",
    "    attention_mask=attention_mask,\n",
    "    return_dict_in_generate=True, \n",
    "    output_scores=False, \n",
    "    max_length=512,\n",
    "    temperature=0.5,\n",
    "    do_sample=True,\n",
    "    repetition_penalty=3.0,\n",
    "    top_k=10)\n"
   ]
  },
  {
   "cell_type": "code",
   "execution_count": 20,
   "id": "2fe6927d-8529-4c5f-9e10-1093bc3b4af0",
   "metadata": {
    "colab": {
     "base_uri": "https://localhost:8080/"
    },
    "id": "2fe6927d-8529-4c5f-9e10-1093bc3b4af0",
    "outputId": "580cdc8b-1054-4055-a350-6ca1919e61ea"
   },
   "outputs": [
    {
     "data": {
      "text/plain": [
       "[\"</s><s>Question: What is the file number of this case? Text.  Order under Section 69 Residential Tenancies Act, 2006 File Number (a) CEL-87788 and a copy for use in an application to terminate tenancy The Landlord may apply at any time on or compositional basis that he/she has been persistently late paying his rent since 2012. 1 Pertinently subjecting her tenant(s), M., K.(the 'Tenant') could not be convicted by reason thereof; it would have required him as proof otherwise than evidence before me if I was permitted against my will with respect thereto whereupon there were no documentary evidences presented during trial proceedings relating only one point after each day until such period expires from June 30th 2017 through September 29’ 2018 which shall also require compensation when due but do so prior notice being made within three months following payment date thereafter unless further notices are issued pursuantto section 78). 2 BUDGETTY THE LEGAL ORDER TO END ANTIENSION 3 In accordance wit all other terms described above herein we propose applying jointly without delay while continuing our review process whereby these acts take effect immediately upon receipt… 4Budgetty applies directly towards payment Amount owing $190 per month till December 31st 2019The amount owed amounts payable include interest taken out along portion five days later including those deducted over six weeks between March 16 & April 24, 2020 accordingly listed below : This term consists solely consistingof payments received once every 6months beginning May 15 – July 14–20 respectively plus accrued interests calculated annually based off year zero sum paid up excepted unearned Interest calculate From August 17 - February 18Â 2022andInterest calculation derived monthly average rates assessed yearly On account applicable tax rate computed daily ) Date Issued …June 10 January 2031January 25,, 2021DateIssuing today Ms Anwar Ali Case issuled Today's Notice To Endorsements For Sale TENANT NOTICE OF REASON FOR RELIEF Listening Period begins hereinheretending order ‘I am sorry you cannot continue your lease' list includes information about why she did what She testified earlier said….TENDERARY LETTER ONCE HER TERM OFFICE SHE alleges That Her total annual income does NOT COMPARED WITH ANY OTHER INFORMATION 5A2E3 If found guilty because You can prove No Evidence Before Me Is Not Required By Lawany Other matters related unto thee Court Objective Hearing continues...She submitted written testimony regarding how much money neededBy law i findthat [Act] requires minimum\"]"
      ]
     },
     "execution_count": 20,
     "metadata": {},
     "output_type": "execute_result"
    }
   ],
   "source": [
    "tokenizer.batch_decode(output['sequences'])"
   ]
  },
  {
   "cell_type": "markdown",
   "id": "6187bfc0-e4a0-4e75-a160-927a01a238fd",
   "metadata": {
    "id": "6187bfc0-e4a0-4e75-a160-927a01a238fd"
   },
   "source": [
    "## Preprocess the Data"
   ]
  },
  {
   "cell_type": "code",
   "execution_count": 21,
   "id": "ec29c7d3-df9c-4dad-85e3-1f41d9509f55",
   "metadata": {
    "id": "ec29c7d3-df9c-4dad-85e3-1f41d9509f55"
   },
   "outputs": [],
   "source": [
    "def preprocess(dataframe, tokenizer, raw_texts):\n",
    "    input_texts, outputs = prompt(dataframe, raw_texts)   \n",
    "    \n",
    "    input_toks = tokenizer.batch_encode_plus(input_texts,\n",
    "                                             add_special_tokens=False, \n",
    "                                             return_token_type_ids=False)\n",
    "    output_toks = tokenizer.batch_encode_plus(outputs, \n",
    "                                              add_special_tokens=False,\n",
    "                                              return_token_type_ids=False)\n",
    "    # print(len(q1_train_input['input_ids']), len(q1_train_output['input_ids']))\n",
    "    return input_toks, output_toks\n",
    "    "
   ]
  },
  {
   "cell_type": "code",
   "execution_count": 22,
   "id": "a9af30ba-541e-4354-9959-3ce2d6180b3b",
   "metadata": {
    "id": "a9af30ba-541e-4354-9959-3ce2d6180b3b"
   },
   "outputs": [],
   "source": [
    "train_raw_texts = raw_file_text[:620]\n",
    "val_raw_texts = raw_file_text[620:]"
   ]
  },
  {
   "cell_type": "code",
   "execution_count": 23,
   "id": "17862bd4-1c23-4844-af6e-4d60697bad20",
   "metadata": {
    "id": "17862bd4-1c23-4844-af6e-4d60697bad20"
   },
   "outputs": [],
   "source": [
    "train_input, train_output = preprocess(train_df, tokenizer, train_raw_texts)\n",
    "val_input, val_output = preprocess(val_df, tokenizer, val_raw_texts)"
   ]
  },
  {
   "cell_type": "code",
   "execution_count": 24,
   "id": "418537eb-6804-4d9e-88ec-47ddb4acc13a",
   "metadata": {
    "id": "418537eb-6804-4d9e-88ec-47ddb4acc13a"
   },
   "outputs": [],
   "source": [
    "# len(q1_train_input['input_ids']), len(q1_train_output['input_ids'])"
   ]
  },
  {
   "cell_type": "code",
   "execution_count": 25,
   "id": "622c1563-5d3a-4b8a-8378-db1f08f51c89",
   "metadata": {
    "colab": {
     "base_uri": "https://localhost:8080/"
    },
    "id": "622c1563-5d3a-4b8a-8378-db1f08f51c89",
    "outputId": "ddd361cc-da9b-4f43-ccc4-95f19867138e"
   },
   "outputs": [
    {
     "name": "stdout",
     "output_type": "stream",
     "text": [
      "Input length: 2\n",
      "Input example:\n",
      " ct, 2006 File Number: CEL-87788-19 M.C. (the 'Landlord') applied for an order to terminate the tenancy and evict M.K. (the 'Tenant') because he has been persistently late in paying his rent. The Landlord also claimed compensation for each day the Tenant remained in the unit after the termination date. This application was heard in Toronto on October 16, 2019. The Landlord and the Tenant attended the hearing. The Landlord was represented by S.K. Also in attendance was the Landlord’s property manager, B.A. Determinations: 1. By way of background, this is a month to month tenancy in which rent is due on the first of the month in the amount of $1398.79. This tenancy commenced on June 1, 2012. 2. The Landlord’s L2 application is based on a N8 notice of termination served to the Tenant on April 24, 2019 with a termination date of June 30, 2019 alleging that the Tenant has been persistently late in paying the rent since January 2018. 3. Since the N8 notice of termination was served to the Tenant, the Tenant has continued to pay the rent late for the months of May through to October 2019. 4. The Landlord seeks a termination of the tenancy and reimbursement of the $190.00 application filing fee. TENANT’S REQUEST FOR RELIEF 5. The Tenant does not dispute that the rent has been late for the period alleged by the Landlord. She testified that she is a single mother with one income to support her household as she is not receiving support from her children’s father. She explains that the reason she has been late in paying her rent for the past two months is because she was sick. She also suffers from depression and has been for the past nine years. 6. She testified that she has a fulltime job at Scotiabank and relies on her income as well as her Child Tax Benefit payments to meet her financial obligations. She testified that her total monthly income is $2,878.00 and her total monthly expenses are $2,883.79 which is inclusive of her son’s braces debt, car insurance, internet and phone, rent, fuel, credit card payment, debt to a friend, laundry and grocery bills. She testified that when she fell short in cash, she would borrow from her mother who has been helping her; however, her financial circumstances have improved now as she has paid off her son’s braces and has more income as of next month. 7. The Tenant seeks to preserve her tenancy and is okay with a conditional order requiring her to pay the rent on the first of every month for the next twelve months. She says she has lived in the rental unit since 2012 and lives there with her two children. She agrees that she has been served a N8 notice of termination before; she is also able to pay the filing fee immediately. She testified that she had no where else to go. 8. On cross-examination, the Tenant confirmed she lived with her mother before she moved into the rental unit. 9. The Landlord opposes the Tenant’s request for relief as the Tenant has been late in paying the rent since the beginning of her tenancy and has received at least 30 N4 notices of termination for the rent arrears; a previous N8 notice of termination was served to the Tenant but the Landlord did not proceed with the L2 application at that time. Since then, the Tenant’s behaviour has not changed, even after receiving the most recent N8 notice of termination. Moreover, there was no documentary evidence before the Board suggesting that the Tenant’s circumstances have actually changed. ANALYSIS 10. Based on the evidence before me, I find that the Tenant has been persistently late in paying her rent. I say this based on the Tenant ’s admission that she has been paying her rent late for the period outlined by the Landlord. 11. While I share the concern of the Landlord, in that the Tenant has received more than one N8 notice of termination within her seven-year tenancy, the Tenant ’s evidence (testimony) suggests that her financial circumstances are improving effective November 2019; so, to give her the benefit of the doubt and allow her the opportunity to preserve her tenancy, a conditional order shall issue. 12. I have considered all of the disclosed circumstances in accordance with subsection 83(2) of the Residential Tenancies Act, 2006 (the 'Act'), and find that it would not be unfair to grant relief from eviction subject to the condition(s) set out in this order pursuant to subsection 83(1)(a) and 204(1) of the Act. 13. This order contains all of the reasons for my decision within it. No further reasons shall be issued. It is ordered that: 1. If the Tenant has not already done so, the Tenant shall pay to the Landlord the rent for the months of November 2019 through to June 2020 in full and no later than June 20, 2020. 2. The Tenant shall also pay the monthly rent on or before the first day of every month beginning July 1, 2020 through to June 30, 2021. 3. If the Tenant fails to make any one of the payments in accordance with this order, the Landlord may, without notice to the Tenant and within 30 days of the breach, apply to the Board pursuant to section 78 of the Act for an order terminating the tenancy and evicting the Tenant. 4. The Tenant shall also pay to the Landlord $190.00 for the cost of filing the application. 5. If the Tenant does not pay the Landlord the full amount owing in paragraph 4 on or before June 15, 2020, the Tenant will start to owe interest. This will be simple interest calculated from June 16, 2020 at 3.00% annually on the balance outstanding.     June 4, 2020   _______________________ Date Issued   Sonia Anwar-Ali      Member, Landlord and Tenant Board Toronto East-RO 2275 Midland Avenue, Unit 2 Toronto ON M1P3E7 If you have any questions about this order, call 416-645-8080 or toll free at 1-888-332-3234. \n",
      " \n",
      "Input ID example:\n",
      " [1317, 11, 2177, 15, 779, 545, 6, 954, 4, 20, 3192, 30669, 8, 5, 4527, 927, 2922, 5, 1576, 4, 20, 3192, 30669, 21, 4625, 30, 208, 4, 530, 4, 1578, 11, 6856, 21, 5, 3192, 30669, 17, 27, 29, 1038, 1044, 6, 163, 4, 250, 4, 211, 39938, 1635, 35, 112, 4, 870, 169, 9, 3618, 6, 42, 16, 10, 353, 7, 353, 43921, 11, 61, 5956, 16, 528, 15, 5, 78, 9, 5, 353, 11, 5, 1280, 9, 68, 1558, 5208, 4, 5220, 4, 152, 43921, 20290, 15, 502, 112, 6, 1125, 4, 132, 4, 20, 3192, 30669, 17, 27, 29, 226, 176, 2502, 16, 716, 15, 10, 234, 398, 3120, 9, 17829, 1665, 7, 5, 4527, 927, 15, 587, 706, 6, 954, 19, 10, 17829, 1248, 9, 502, 389, 6, 954, 11537, 14, 5, 4527, 927, 34, 57, 16403, 7240, 628, 11, 2746, 5, 5956, 187, 644, 199, 4, 155, 4, 1773, 5, 234, 398, 3120, 9, 17829, 21, 1665, 7, 5, 4527, 927, 6, 5, 4527, 927, 34, 1143, 7, 582, 5, 5956, 628, 13, 5, 377, 9, 392, 149, 7, 779, 954, 4, 204, 4, 20, 3192, 30669, 6330, 10, 17829, 9, 5, 43921, 8, 22507, 9, 5, 68, 20109, 4, 612, 2502, 3386, 4029, 4, 255, 2796, 11088, 17, 27, 104, 4979, 46392, 5089, 5698, 7720, 597, 195, 4, 20, 4527, 927, 473, 45, 4464, 14, 5, 5956, 34, 57, 628, 13, 5, 675, 1697, 30, 5, 3192, 30669, 4, 264, 8147, 14, 79, 16, 10, 881, 985, 19, 65, 1425, 7, 323, 69, 6028, 25, 79, 16, 45, 2806, 323, 31, 69, 408, 17, 27, 29, 1150, 4, 264, 4529, 14, 5, 1219, 79, 34, 57, 628, 11, 2746, 69, 5956, 13, 5, 375, 80, 377, 16, 142, 79, 21, 4736, 4, 264, 67, 16061, 31, 6943, 8, 34, 57, 13, 5, 375, 1117, 107, 4, 231, 4, 264, 8147, 14, 79, 34, 10, 455, 958, 633, 23, 2741, 10939, 873, 3153, 8, 12438, 15, 69, 1425, 25, 157, 25, 69, 7442, 6394, 28474, 3081, 7, 972, 69, 613, 9333, 4, 264, 8147, 14, 69, 746, 3708, 1425, 16, 68, 176, 6, 398, 5479, 4, 612, 8, 69, 746, 3708, 4068, 32, 68, 176, 6, 40714, 4, 5220, 61, 16, 10510, 9, 69, 979, 17, 27, 29, 37706, 1126, 6, 512, 1911, 6, 2888, 8, 1028, 6, 5956, 6, 2423, 6, 1361, 1886, 3207, 6, 1126, 7, 10, 1441, 6, 16937, 8, 8290, 4033, 4, 264, 8147, 14, 77, 79, 1064, 765, 11, 1055, 6, 79, 74, 12152, 31, 69, 985, 54, 34, 57, 1903, 69, 131, 959, 6, 69, 613, 4215, 33, 2782, 122, 25, 79, 34, 1199, 160, 69, 979, 17, 27, 29, 37706, 8, 34, 55, 1425, 25, 9, 220, 353, 4, 262, 4, 20, 4527, 927, 6330, 7, 8415, 69, 43921, 8, 16, 8578, 19, 10, 23431, 645, 7980, 69, 7, 582, 5, 5956, 15, 5, 78, 9, 358, 353, 13, 5, 220, 11971, 377, 4, 264, 161, 79, 34, 3033, 11, 5, 7582, 1933, 187, 1125, 8, 1074, 89, 19, 69, 80, 408, 4, 264, 11687, 14, 79, 34, 57, 1665, 10, 234, 398, 3120, 9, 17829, 137, 131, 79, 16, 67, 441, 7, 582, 5, 3386, 4029, 1320, 4, 264, 8147, 14, 79, 56, 117, 147, 1493, 7, 213, 4, 290, 4, 374, 2116, 12, 33198, 6, 5, 4527, 927, 1474, 79, 3033, 19, 69, 985, 137, 79, 1410, 88, 5, 7582, 1933, 4, 361, 4, 20, 3192, 30669, 20408, 5, 4527, 927, 17, 27, 29, 2069, 13, 3500, 25, 5, 4527, 927, 34, 57, 628, 11, 2746, 5, 5956, 187, 5, 1786, 9, 69, 43921, 8, 34, 829, 23, 513, 389, 234, 306, 16081, 9, 17829, 13, 5, 5956, 4709, 241, 2726, 131, 10, 986, 234, 398, 3120, 9, 17829, 21, 1665, 7, 5, 4527, 927, 53, 5, 3192, 30669, 222, 45, 9073, 19, 5, 226, 176, 2502, 23, 14, 86, 4, 1773, 172, 6, 5, 4527, 927, 17, 27, 29, 5759, 34, 45, 1714, 6, 190, 71, 2806, 5, 144, 485, 234, 398, 3120, 9, 17829, 4, 7905, 6, 89, 21, 117, 6717, 1283, 137, 5, 1785, 5542, 14, 5, 4527, 927, 17, 27, 29, 4215, 33, 888, 1714, 4, 5102, 2118, 14780, 1729, 158, 4, 7253, 15, 5, 1283, 137, 162, 6, 38, 465, 14, 5, 4527, 927, 34, 57, 16403, 7240, 628, 11, 2746, 69, 5956, 4, 38, 224, 42, 716, 15, 5, 4527, 927, 44, 27, 29, 7988, 14, 79, 34, 57, 2746, 69, 5956, 628, 13, 5, 675, 10634, 30, 5, 3192, 30669, 4, 365, 4, 616, 38, 458, 5, 2212, 9, 5, 3192, 30669, 6, 11, 14, 5, 4527, 927, 34, 829, 55, 87, 65, 234, 398, 3120, 9, 17829, 624, 69, 707, 12, 180, 43921, 6, 5, 4527, 927, 44, 27, 29, 1283, 36, 21959, 36828, 43, 3649, 14, 69, 613, 4215, 32, 3927, 2375, 759, 954, 131, 98, 6, 7, 492, 69, 5, 1796, 9, 5, 2980, 8, 1157, 69, 5, 945, 7, 8415, 69, 43921, 6, 10, 23431, 645, 5658, 696, 4, 316, 4, 38, 33, 1687, 70, 9, 5, 4638, 4215, 11, 10753, 19, 45845, 8101, 1640, 176, 43, 9, 5, 21796, 4527, 27661, 1783, 6, 3503, 36, 627, 128, 26880, 41734, 8, 465, 14, 24, 74, 45, 28, 8544, 7, 4470, 3500, 31, 26950, 2087, 7, 5, 1881, 1640, 29, 43, 278, 66, 11, 42, 645, 22918, 7, 45845, 8101, 1640, 134, 21704, 102, 43, 8, 28325, 1640, 134, 43, 9, 5, 1783, 4, 508, 4, 152, 645, 6308, 70, 9, 5, 2188, 13, 127, 568, 624, 24, 4, 440, 617, 2188, 5658, 28, 1167, 4, 85, 16, 2740, 14, 35, 112, 4, 318, 5, 4527, 927, 34, 45, 416, 626, 98, 6, 5, 4527, 927, 5658, 582, 7, 5, 3192, 30669, 5, 5956, 13, 5, 377, 9, 759, 954, 149, 7, 502, 2760, 11, 455, 8, 117, 423, 87, 502, 291, 6, 2760, 4, 132, 4, 20, 4527, 927, 5658, 67, 582, 5, 3708, 5956, 15, 50, 137, 5, 78, 183, 9, 358, 353, 1786, 550, 112, 6, 2760, 149, 7, 502, 389, 6, 8835, 4, 155, 4, 318, 5, 4527, 927, 10578, 7, 146, 143, 65, 9, 5, 3081, 11, 10753, 19, 42, 645, 6, 5, 3192, 30669, 189, 6, 396, 3120, 7, 5, 4527, 927, 8, 624, 389, 360, 9, 5, 6999, 6, 3253, 7, 5, 1785, 22918, 7, 2810, 7004, 9, 5, 1783, 13, 41, 645, 38700, 5, 43921, 8, 39369, 154, 5, 4527, 927, 4, 204, 4, 20, 4527, 927, 5658, 67, 582, 7, 5, 3192, 30669, 68, 20109, 4, 612, 13, 5, 701, 9, 3386, 5, 2502, 4, 195, 4, 318, 5, 4527, 927, 473, 45, 582, 5, 3192, 30669, 5, 455, 1280, 14395, 11, 17818, 204, 15, 50, 137, 502, 379, 6, 2760, 6, 5, 4527, 927, 40, 386, 7, 14866, 773, 4, 152, 40, 28, 2007, 773, 9658, 31, 502, 545, 6, 2760, 23, 155, 4, 612, 207, 6333, 15, 5, 2394, 3973, 4, 1437, 1437, 1437, 1437, 502, 204, 6, 2760, 1437, 1437, 1437, 42199, 43401, 10566, 19285, 6796, 1437, 1437, 23961, 660, 5557, 12, 37358, 1437, 1437, 1437, 1437, 1437, 10153, 6, 3192, 30669, 8, 4527, 927, 1785, 2177, 953, 12, 8727, 132, 21138, 4079, 1245, 2666, 6, 7545, 132, 2177, 5121, 256, 134, 510, 246, 717, 406, 318, 47, 33, 143, 1142, 59, 42, 645, 6, 486, 34509, 12, 33611, 12, 2940, 2940, 50, 5831, 481, 23, 112, 12, 22410, 12, 33911, 12, 246, 28621, 4, 1437]\n",
      " \n",
      "Tokens:\n",
      " ['Ġheard', 'Ġin', 'ĠToronto', 'Ġon', 'ĠOctober', 'Ġ16', ',', 'Ġ2019', '.', 'ĠThe', 'ĠLand', 'lord', 'Ġand', 'Ġthe', 'ĠTen', 'ant', 'Ġattended', 'Ġthe', 'Ġhearing', '.', 'ĠThe', 'ĠLand', 'lord', 'Ġwas', 'Ġrepresented', 'Ġby', 'ĠS', '.', 'K', '.', 'ĠAlso', 'Ġin', 'Ġattendance', 'Ġwas', 'Ġthe', 'ĠLand', 'lord', 'âĢ', 'Ļ', 's', 'Ġproperty', 'Ġmanager', ',', 'ĠB', '.', 'A', '.', 'ĠD', 'etermin', 'ations', ':', 'Ġ1', '.', 'ĠBy', 'Ġway', 'Ġof', 'Ġbackground', ',', 'Ġthis', 'Ġis', 'Ġa', 'Ġmonth', 'Ġto', 'Ġmonth', 'Ġtenancy', 'Ġin', 'Ġwhich', 'Ġrent', 'Ġis', 'Ġdue', 'Ġon', 'Ġthe', 'Ġfirst', 'Ġof', 'Ġthe', 'Ġmonth', 'Ġin', 'Ġthe', 'Ġamount', 'Ġof', 'Ġ$', '13', '98', '.', '79', '.', 'ĠThis', 'Ġtenancy', 'Ġcommenced', 'Ġon', 'ĠJune', 'Ġ1', ',', 'Ġ2012', '.', 'Ġ2', '.', 'ĠThe', 'ĠLand', 'lord', 'âĢ', 'Ļ', 's', 'ĠL', '2', 'Ġapplication', 'Ġis', 'Ġbased', 'Ġon', 'Ġa', 'ĠN', '8', 'Ġnotice', 'Ġof', 'Ġtermination', 'Ġserved', 'Ġto', 'Ġthe', 'ĠTen', 'ant', 'Ġon', 'ĠApril', 'Ġ24', ',', 'Ġ2019', 'Ġwith', 'Ġa', 'Ġtermination', 'Ġdate', 'Ġof', 'ĠJune', 'Ġ30', ',', 'Ġ2019', 'Ġalleging', 'Ġthat', 'Ġthe', 'ĠTen', 'ant', 'Ġhas', 'Ġbeen', 'Ġpersist', 'ently', 'Ġlate', 'Ġin', 'Ġpaying', 'Ġthe', 'Ġrent', 'Ġsince', 'ĠJanuary', 'Ġ2018', '.', 'Ġ3', '.', 'ĠSince', 'Ġthe', 'ĠN', '8', 'Ġnotice', 'Ġof', 'Ġtermination', 'Ġwas', 'Ġserved', 'Ġto', 'Ġthe', 'ĠTen', 'ant', ',', 'Ġthe', 'ĠTen', 'ant', 'Ġhas', 'Ġcontinued', 'Ġto', 'Ġpay', 'Ġthe', 'Ġrent', 'Ġlate', 'Ġfor', 'Ġthe', 'Ġmonths', 'Ġof', 'ĠMay', 'Ġthrough', 'Ġto', 'ĠOctober', 'Ġ2019', '.', 'Ġ4', '.', 'ĠThe', 'ĠLand', 'lord', 'Ġseeks', 'Ġa', 'Ġtermination', 'Ġof', 'Ġthe', 'Ġtenancy', 'Ġand', 'Ġreimbursement', 'Ġof', 'Ġthe', 'Ġ$', '190', '.', '00', 'Ġapplication', 'Ġfiling', 'Ġfee', '.', 'ĠT', 'EN', 'ANT', 'âĢ', 'Ļ', 'S', 'ĠRE', 'QUEST', 'ĠFOR', 'ĠREL', 'IE', 'F', 'Ġ5', '.', 'ĠThe', 'ĠTen', 'ant', 'Ġdoes', 'Ġnot', 'Ġdispute', 'Ġthat', 'Ġthe', 'Ġrent', 'Ġhas', 'Ġbeen', 'Ġlate', 'Ġfor', 'Ġthe', 'Ġperiod', 'Ġalleged', 'Ġby', 'Ġthe', 'ĠLand', 'lord', '.', 'ĠShe', 'Ġtestified', 'Ġthat', 'Ġshe', 'Ġis', 'Ġa', 'Ġsingle', 'Ġmother', 'Ġwith', 'Ġone', 'Ġincome', 'Ġto', 'Ġsupport', 'Ġher', 'Ġhousehold', 'Ġas', 'Ġshe', 'Ġis', 'Ġnot', 'Ġreceiving', 'Ġsupport', 'Ġfrom', 'Ġher', 'Ġchildren', 'âĢ', 'Ļ', 's', 'Ġfather', '.', 'ĠShe', 'Ġexplains', 'Ġthat', 'Ġthe', 'Ġreason', 'Ġshe', 'Ġhas', 'Ġbeen', 'Ġlate', 'Ġin', 'Ġpaying', 'Ġher', 'Ġrent', 'Ġfor', 'Ġthe', 'Ġpast', 'Ġtwo', 'Ġmonths', 'Ġis', 'Ġbecause', 'Ġshe', 'Ġwas', 'Ġsick', '.', 'ĠShe', 'Ġalso', 'Ġsuffers', 'Ġfrom', 'Ġdepression', 'Ġand', 'Ġhas', 'Ġbeen', 'Ġfor', 'Ġthe', 'Ġpast', 'Ġnine', 'Ġyears', '.', 'Ġ6', '.', 'ĠShe', 'Ġtestified', 'Ġthat', 'Ġshe', 'Ġhas', 'Ġa', 'Ġfull', 'time', 'Ġjob', 'Ġat', 'ĠSc', 'oti', 'ab', 'ank', 'Ġand', 'Ġrelies', 'Ġon', 'Ġher', 'Ġincome', 'Ġas', 'Ġwell', 'Ġas', 'Ġher', 'ĠChild', 'ĠTax', 'ĠBenefit', 'Ġpayments', 'Ġto', 'Ġmeet', 'Ġher', 'Ġfinancial', 'Ġobligations', '.', 'ĠShe', 'Ġtestified', 'Ġthat', 'Ġher', 'Ġtotal', 'Ġmonthly', 'Ġincome', 'Ġis', 'Ġ$', '2', ',', '8', '78', '.', '00', 'Ġand', 'Ġher', 'Ġtotal', 'Ġmonthly', 'Ġexpenses', 'Ġare', 'Ġ$', '2', ',', '883', '.', '79', 'Ġwhich', 'Ġis', 'Ġinclusive', 'Ġof', 'Ġher', 'Ġson', 'âĢ', 'Ļ', 's', 'Ġbraces', 'Ġdebt', ',', 'Ġcar', 'Ġinsurance', ',', 'Ġinternet', 'Ġand', 'Ġphone', ',', 'Ġrent', ',', 'Ġfuel', ',', 'Ġcredit', 'Ġcard', 'Ġpayment', ',', 'Ġdebt', 'Ġto', 'Ġa', 'Ġfriend', ',', 'Ġlaundry', 'Ġand', 'Ġgrocery', 'Ġbills', '.', 'ĠShe', 'Ġtestified', 'Ġthat', 'Ġwhen', 'Ġshe', 'Ġfell', 'Ġshort', 'Ġin', 'Ġcash', ',', 'Ġshe', 'Ġwould', 'Ġborrow', 'Ġfrom', 'Ġher', 'Ġmother', 'Ġwho', 'Ġhas', 'Ġbeen', 'Ġhelping', 'Ġher', ';', 'Ġhowever', ',', 'Ġher', 'Ġfinancial', 'Ġcircumstances', 'Ġhave', 'Ġimproved', 'Ġnow', 'Ġas', 'Ġshe', 'Ġhas', 'Ġpaid', 'Ġoff', 'Ġher', 'Ġson', 'âĢ', 'Ļ', 's', 'Ġbraces', 'Ġand', 'Ġhas', 'Ġmore', 'Ġincome', 'Ġas', 'Ġof', 'Ġnext', 'Ġmonth', '.', 'Ġ7', '.', 'ĠThe', 'ĠTen', 'ant', 'Ġseeks', 'Ġto', 'Ġpreserve', 'Ġher', 'Ġtenancy', 'Ġand', 'Ġis', 'Ġokay', 'Ġwith', 'Ġa', 'Ġconditional', 'Ġorder', 'Ġrequiring', 'Ġher', 'Ġto', 'Ġpay', 'Ġthe', 'Ġrent', 'Ġon', 'Ġthe', 'Ġfirst', 'Ġof', 'Ġevery', 'Ġmonth', 'Ġfor', 'Ġthe', 'Ġnext', 'Ġtwelve', 'Ġmonths', '.', 'ĠShe', 'Ġsays', 'Ġshe', 'Ġhas', 'Ġlived', 'Ġin', 'Ġthe', 'Ġrental', 'Ġunit', 'Ġsince', 'Ġ2012', 'Ġand', 'Ġlives', 'Ġthere', 'Ġwith', 'Ġher', 'Ġtwo', 'Ġchildren', '.', 'ĠShe', 'Ġagrees', 'Ġthat', 'Ġshe', 'Ġhas', 'Ġbeen', 'Ġserved', 'Ġa', 'ĠN', '8', 'Ġnotice', 'Ġof', 'Ġtermination', 'Ġbefore', ';', 'Ġshe', 'Ġis', 'Ġalso', 'Ġable', 'Ġto', 'Ġpay', 'Ġthe', 'Ġfiling', 'Ġfee', 'Ġimmediately', '.', 'ĠShe', 'Ġtestified', 'Ġthat', 'Ġshe', 'Ġhad', 'Ġno', 'Ġwhere', 'Ġelse', 'Ġto', 'Ġgo', '.', 'Ġ8', '.', 'ĠOn', 'Ġcross', '-', 'examination', ',', 'Ġthe', 'ĠTen', 'ant', 'Ġconfirmed', 'Ġshe', 'Ġlived', 'Ġwith', 'Ġher', 'Ġmother', 'Ġbefore', 'Ġshe', 'Ġmoved', 'Ġinto', 'Ġthe', 'Ġrental', 'Ġunit', '.', 'Ġ9', '.', 'ĠThe', 'ĠLand', 'lord', 'Ġopposes', 'Ġthe', 'ĠTen', 'ant', 'âĢ', 'Ļ', 's', 'Ġrequest', 'Ġfor', 'Ġrelief', 'Ġas', 'Ġthe', 'ĠTen', 'ant', 'Ġhas', 'Ġbeen', 'Ġlate', 'Ġin', 'Ġpaying', 'Ġthe', 'Ġrent', 'Ġsince', 'Ġthe', 'Ġbeginning', 'Ġof', 'Ġher', 'Ġtenancy', 'Ġand', 'Ġhas', 'Ġreceived', 'Ġat', 'Ġleast', 'Ġ30', 'ĠN', '4', 'Ġnotices', 'Ġof', 'Ġtermination', 'Ġfor', 'Ġthe', 'Ġrent', 'Ġar', 're', 'ars', ';', 'Ġa', 'Ġprevious', 'ĠN', '8', 'Ġnotice', 'Ġof', 'Ġtermination', 'Ġwas', 'Ġserved', 'Ġto', 'Ġthe', 'ĠTen', 'ant', 'Ġbut', 'Ġthe', 'ĠLand', 'lord', 'Ġdid', 'Ġnot', 'Ġproceed', 'Ġwith', 'Ġthe', 'ĠL', '2', 'Ġapplication', 'Ġat', 'Ġthat', 'Ġtime', '.', 'ĠSince', 'Ġthen', ',', 'Ġthe', 'ĠTen', 'ant', 'âĢ', 'Ļ', 's', 'Ġbehaviour', 'Ġhas', 'Ġnot', 'Ġchanged', ',', 'Ġeven', 'Ġafter', 'Ġreceiving', 'Ġthe', 'Ġmost', 'Ġrecent', 'ĠN', '8', 'Ġnotice', 'Ġof', 'Ġtermination', '.', 'ĠMoreover', ',', 'Ġthere', 'Ġwas', 'Ġno', 'Ġdocumentary', 'Ġevidence', 'Ġbefore', 'Ġthe', 'ĠBoard', 'Ġsuggesting', 'Ġthat', 'Ġthe', 'ĠTen', 'ant', 'âĢ', 'Ļ', 's', 'Ġcircumstances', 'Ġhave', 'Ġactually', 'Ġchanged', '.', 'ĠAN', 'AL', 'YS', 'IS', 'Ġ10', '.', 'ĠBased', 'Ġon', 'Ġthe', 'Ġevidence', 'Ġbefore', 'Ġme', ',', 'ĠI', 'Ġfind', 'Ġthat', 'Ġthe', 'ĠTen', 'ant', 'Ġhas', 'Ġbeen', 'Ġpersist', 'ently', 'Ġlate', 'Ġin', 'Ġpaying', 'Ġher', 'Ġrent', '.', 'ĠI', 'Ġsay', 'Ġthis', 'Ġbased', 'Ġon', 'Ġthe', 'ĠTen', 'ant', 'ĠâĢ', 'Ļ', 's', 'Ġadmission', 'Ġthat', 'Ġshe', 'Ġhas', 'Ġbeen', 'Ġpaying', 'Ġher', 'Ġrent', 'Ġlate', 'Ġfor', 'Ġthe', 'Ġperiod', 'Ġoutlined', 'Ġby', 'Ġthe', 'ĠLand', 'lord', '.', 'Ġ11', '.', 'ĠWhile', 'ĠI', 'Ġshare', 'Ġthe', 'Ġconcern', 'Ġof', 'Ġthe', 'ĠLand', 'lord', ',', 'Ġin', 'Ġthat', 'Ġthe', 'ĠTen', 'ant', 'Ġhas', 'Ġreceived', 'Ġmore', 'Ġthan', 'Ġone', 'ĠN', '8', 'Ġnotice', 'Ġof', 'Ġtermination', 'Ġwithin', 'Ġher', 'Ġseven', '-', 'year', 'Ġtenancy', ',', 'Ġthe', 'ĠTen', 'ant', 'ĠâĢ', 'Ļ', 's', 'Ġevidence', 'Ġ(', 'test', 'imony', ')', 'Ġsuggests', 'Ġthat', 'Ġher', 'Ġfinancial', 'Ġcircumstances', 'Ġare', 'Ġimproving', 'Ġeffective', 'ĠNovember', 'Ġ2019', ';', 'Ġso', ',', 'Ġto', 'Ġgive', 'Ġher', 'Ġthe', 'Ġbenefit', 'Ġof', 'Ġthe', 'Ġdoubt', 'Ġand', 'Ġallow', 'Ġher', 'Ġthe', 'Ġopportunity', 'Ġto', 'Ġpreserve', 'Ġher', 'Ġtenancy', ',', 'Ġa', 'Ġconditional', 'Ġorder', 'Ġshall', 'Ġissue', '.', 'Ġ12', '.', 'ĠI', 'Ġhave', 'Ġconsidered', 'Ġall', 'Ġof', 'Ġthe', 'Ġdisclosed', 'Ġcircumstances', 'Ġin', 'Ġaccordance', 'Ġwith', 'Ġsubsection', 'Ġ83', '(', '2', ')', 'Ġof', 'Ġthe', 'ĠResidential', 'ĠTen', 'ancies', 'ĠAct', ',', 'Ġ2006', 'Ġ(', 'the', \"Ġ'\", 'Act', \"'),\", 'Ġand', 'Ġfind', 'Ġthat', 'Ġit', 'Ġwould', 'Ġnot', 'Ġbe', 'Ġunfair', 'Ġto', 'Ġgrant', 'Ġrelief', 'Ġfrom', 'Ġeviction', 'Ġsubject', 'Ġto', 'Ġthe', 'Ġcondition', '(', 's', ')', 'Ġset', 'Ġout', 'Ġin', 'Ġthis', 'Ġorder', 'Ġpursuant', 'Ġto', 'Ġsubsection', 'Ġ83', '(', '1', ')(', 'a', ')', 'Ġand', 'Ġ204', '(', '1', ')', 'Ġof', 'Ġthe', 'ĠAct', '.', 'Ġ13', '.', 'ĠThis', 'Ġorder', 'Ġcontains', 'Ġall', 'Ġof', 'Ġthe', 'Ġreasons', 'Ġfor', 'Ġmy', 'Ġdecision', 'Ġwithin', 'Ġit', '.', 'ĠNo', 'Ġfurther', 'Ġreasons', 'Ġshall', 'Ġbe', 'Ġissued', '.', 'ĠIt', 'Ġis', 'Ġordered', 'Ġthat', ':', 'Ġ1', '.', 'ĠIf', 'Ġthe', 'ĠTen', 'ant', 'Ġhas', 'Ġnot', 'Ġalready', 'Ġdone', 'Ġso', ',', 'Ġthe', 'ĠTen', 'ant', 'Ġshall', 'Ġpay', 'Ġto', 'Ġthe', 'ĠLand', 'lord', 'Ġthe', 'Ġrent', 'Ġfor', 'Ġthe', 'Ġmonths', 'Ġof', 'ĠNovember', 'Ġ2019', 'Ġthrough', 'Ġto', 'ĠJune', 'Ġ2020', 'Ġin', 'Ġfull', 'Ġand', 'Ġno', 'Ġlater', 'Ġthan', 'ĠJune', 'Ġ20', ',', 'Ġ2020', '.', 'Ġ2', '.', 'ĠThe', 'ĠTen', 'ant', 'Ġshall', 'Ġalso', 'Ġpay', 'Ġthe', 'Ġmonthly', 'Ġrent', 'Ġon', 'Ġor', 'Ġbefore', 'Ġthe', 'Ġfirst', 'Ġday', 'Ġof', 'Ġevery', 'Ġmonth', 'Ġbeginning', 'ĠJuly', 'Ġ1', ',', 'Ġ2020', 'Ġthrough', 'Ġto', 'ĠJune', 'Ġ30', ',', 'Ġ2021', '.', 'Ġ3', '.', 'ĠIf', 'Ġthe', 'ĠTen', 'ant', 'Ġfails', 'Ġto', 'Ġmake', 'Ġany', 'Ġone', 'Ġof', 'Ġthe', 'Ġpayments', 'Ġin', 'Ġaccordance', 'Ġwith', 'Ġthis', 'Ġorder', ',', 'Ġthe', 'ĠLand', 'lord', 'Ġmay', ',', 'Ġwithout', 'Ġnotice', 'Ġto', 'Ġthe', 'ĠTen', 'ant', 'Ġand', 'Ġwithin', 'Ġ30', 'Ġdays', 'Ġof', 'Ġthe', 'Ġbreach', ',', 'Ġapply', 'Ġto', 'Ġthe', 'ĠBoard', 'Ġpursuant', 'Ġto', 'Ġsection', 'Ġ78', 'Ġof', 'Ġthe', 'ĠAct', 'Ġfor', 'Ġan', 'Ġorder', 'Ġterminating', 'Ġthe', 'Ġtenancy', 'Ġand', 'Ġevict', 'ing', 'Ġthe', 'ĠTen', 'ant', '.', 'Ġ4', '.', 'ĠThe', 'ĠTen', 'ant', 'Ġshall', 'Ġalso', 'Ġpay', 'Ġto', 'Ġthe', 'ĠLand', 'lord', 'Ġ$', '190', '.', '00', 'Ġfor', 'Ġthe', 'Ġcost', 'Ġof', 'Ġfiling', 'Ġthe', 'Ġapplication', '.', 'Ġ5', '.', 'ĠIf', 'Ġthe', 'ĠTen', 'ant', 'Ġdoes', 'Ġnot', 'Ġpay', 'Ġthe', 'ĠLand', 'lord', 'Ġthe', 'Ġfull', 'Ġamount', 'Ġowing', 'Ġin', 'Ġparagraph', 'Ġ4', 'Ġon', 'Ġor', 'Ġbefore', 'ĠJune', 'Ġ15', ',', 'Ġ2020', ',', 'Ġthe', 'ĠTen', 'ant', 'Ġwill', 'Ġstart', 'Ġto', 'Ġowe', 'Ġinterest', '.', 'ĠThis', 'Ġwill', 'Ġbe', 'Ġsimple', 'Ġinterest', 'Ġcalculated', 'Ġfrom', 'ĠJune', 'Ġ16', ',', 'Ġ2020', 'Ġat', 'Ġ3', '.', '00', '%', 'Ġannually', 'Ġon', 'Ġthe', 'Ġbalance', 'Ġoutstanding', '.', 'Ġ', 'Ġ', 'Ġ', 'Ġ', 'ĠJune', 'Ġ4', ',', 'Ġ2020', 'Ġ', 'Ġ', 'Ġ', '________________', '_______', 'ĠDate', 'ĠIss', 'ued', 'Ġ', 'Ġ', 'ĠSonia', 'ĠAn', 'war', '-', 'Ali', 'Ġ', 'Ġ', 'Ġ', 'Ġ', 'Ġ', 'ĠMember', ',', 'ĠLand', 'lord', 'Ġand', 'ĠTen', 'ant', 'ĠBoard', 'ĠToronto', 'ĠEast', '-', 'RO', 'Ġ2', '275', 'ĠMid', 'land', 'ĠAvenue', ',', 'ĠUnit', 'Ġ2', 'ĠToronto', 'ĠON', 'ĠM', '1', 'P', '3', 'E', '7', 'ĠIf', 'Ġyou', 'Ġhave', 'Ġany', 'Ġquestions', 'Ġabout', 'Ġthis', 'Ġorder', ',', 'Ġcall', 'Ġ416', '-', '645', '-', '80', '80', 'Ġor', 'Ġtoll', 'Ġfree', 'Ġat', 'Ġ1', '-', '888', '-', '332', '-', '3', '234', '.', 'Ġ']\n",
      " \n",
      "Attention Mask: [1, 1, 1, 1, 1, 1, 1, 1, 1, 1, 1, 1, 1, 1, 1, 1, 1, 1, 1, 1, 1, 1, 1, 1, 1, 1, 1, 1, 1, 1, 1, 1, 1, 1, 1, 1, 1, 1, 1, 1, 1, 1, 1, 1, 1, 1, 1, 1, 1, 1, 1, 1, 1, 1, 1, 1, 1, 1, 1, 1, 1, 1, 1, 1, 1, 1, 1, 1, 1, 1, 1, 1, 1, 1, 1, 1, 1, 1, 1, 1, 1, 1, 1, 1, 1, 1, 1, 1, 1, 1, 1, 1, 1, 1, 1, 1, 1, 1, 1, 1, 1, 1, 1, 1, 1, 1, 1, 1, 1, 1, 1, 1, 1, 1, 1, 1, 1, 1, 1, 1, 1, 1, 1, 1, 1, 1, 1, 1, 1, 1, 1, 1, 1, 1, 1, 1, 1, 1, 1, 1, 1, 1, 1, 1, 1, 1, 1, 1, 1, 1, 1, 1, 1, 1, 1, 1, 1, 1, 1, 1, 1, 1, 1, 1, 1, 1, 1, 1, 1, 1, 1, 1, 1, 1, 1, 1, 1, 1, 1, 1, 1, 1, 1, 1, 1, 1, 1, 1, 1, 1, 1, 1, 1, 1, 1, 1, 1, 1, 1, 1, 1, 1, 1, 1, 1, 1, 1, 1, 1, 1, 1, 1, 1, 1, 1, 1, 1, 1, 1, 1, 1, 1, 1, 1, 1, 1, 1, 1, 1, 1, 1, 1, 1, 1, 1, 1, 1, 1, 1, 1, 1, 1, 1, 1, 1, 1, 1, 1, 1, 1, 1, 1, 1, 1, 1, 1, 1, 1, 1, 1, 1, 1, 1, 1, 1, 1, 1, 1, 1, 1, 1, 1, 1, 1, 1, 1, 1, 1, 1, 1, 1, 1, 1, 1, 1, 1, 1, 1, 1, 1, 1, 1, 1, 1, 1, 1, 1, 1, 1, 1, 1, 1, 1, 1, 1, 1, 1, 1, 1, 1, 1, 1, 1, 1, 1, 1, 1, 1, 1, 1, 1, 1, 1, 1, 1, 1, 1, 1, 1, 1, 1, 1, 1, 1, 1, 1, 1, 1, 1, 1, 1, 1, 1, 1, 1, 1, 1, 1, 1, 1, 1, 1, 1, 1, 1, 1, 1, 1, 1, 1, 1, 1, 1, 1, 1, 1, 1, 1, 1, 1, 1, 1, 1, 1, 1, 1, 1, 1, 1, 1, 1, 1, 1, 1, 1, 1, 1, 1, 1, 1, 1, 1, 1, 1, 1, 1, 1, 1, 1, 1, 1, 1, 1, 1, 1, 1, 1, 1, 1, 1, 1, 1, 1, 1, 1, 1, 1, 1, 1, 1, 1, 1, 1, 1, 1, 1, 1, 1, 1, 1, 1, 1, 1, 1, 1, 1, 1, 1, 1, 1, 1, 1, 1, 1, 1, 1, 1, 1, 1, 1, 1, 1, 1, 1, 1, 1, 1, 1, 1, 1, 1, 1, 1, 1, 1, 1, 1, 1, 1, 1, 1, 1, 1, 1, 1, 1, 1, 1, 1, 1, 1, 1, 1, 1, 1, 1, 1, 1, 1, 1, 1, 1, 1, 1, 1, 1, 1, 1, 1, 1, 1, 1, 1, 1, 1, 1, 1, 1, 1, 1, 1, 1, 1, 1, 1, 1, 1, 1, 1, 1, 1, 1, 1, 1, 1, 1, 1, 1, 1, 1, 1, 1, 1, 1, 1, 1, 1, 1, 1, 1, 1, 1, 1, 1, 1, 1, 1, 1, 1, 1, 1, 1, 1, 1, 1, 1, 1, 1, 1, 1, 1, 1, 1, 1, 1, 1, 1, 1, 1, 1, 1, 1, 1, 1, 1, 1, 1, 1, 1, 1, 1, 1, 1, 1, 1, 1, 1, 1, 1, 1, 1, 1, 1, 1, 1, 1, 1, 1, 1, 1, 1, 1, 1, 1, 1, 1, 1, 1, 1, 1, 1, 1, 1, 1, 1, 1, 1, 1, 1, 1, 1, 1, 1, 1, 1, 1, 1, 1, 1, 1, 1, 1, 1, 1, 1, 1, 1, 1, 1, 1, 1, 1, 1, 1, 1, 1, 1, 1, 1, 1, 1, 1, 1, 1, 1, 1, 1, 1, 1, 1, 1, 1, 1, 1, 1, 1, 1, 1, 1, 1, 1, 1, 1, 1, 1, 1, 1, 1, 1, 1, 1, 1, 1, 1, 1, 1, 1, 1, 1, 1, 1, 1, 1, 1, 1, 1, 1, 1, 1, 1, 1, 1, 1, 1, 1, 1, 1, 1, 1, 1, 1, 1, 1, 1, 1, 1, 1, 1, 1, 1, 1, 1, 1, 1, 1, 1, 1, 1, 1, 1, 1, 1, 1, 1, 1, 1, 1, 1, 1, 1, 1, 1, 1, 1, 1, 1, 1, 1, 1, 1, 1, 1, 1, 1, 1, 1, 1, 1, 1, 1, 1, 1, 1, 1, 1, 1, 1, 1, 1, 1, 1, 1, 1, 1, 1, 1, 1, 1, 1, 1, 1, 1, 1, 1, 1, 1, 1, 1, 1, 1, 1, 1, 1, 1, 1, 1, 1, 1, 1, 1, 1, 1, 1, 1, 1, 1, 1, 1, 1, 1, 1, 1, 1, 1, 1, 1, 1, 1, 1, 1, 1, 1, 1, 1, 1, 1, 1, 1, 1, 1, 1, 1, 1, 1, 1, 1, 1, 1, 1, 1, 1, 1, 1, 1, 1, 1, 1, 1, 1, 1, 1, 1, 1, 1, 1, 1, 1, 1, 1, 1, 1, 1, 1, 1, 1, 1, 1, 1, 1, 1, 1, 1, 1, 1, 1, 1, 1, 1, 1, 1, 1, 1, 1, 1, 1, 1, 1, 1, 1, 1, 1, 1, 1, 1, 1, 1, 1, 1, 1, 1, 1, 1, 1, 1, 1, 1, 1, 1, 1, 1, 1, 1, 1, 1, 1, 1, 1, 1, 1, 1, 1, 1, 1, 1, 1, 1, 1, 1, 1, 1, 1, 1, 1, 1, 1, 1, 1, 1, 1, 1, 1, 1, 1, 1, 1, 1, 1, 1, 1, 1, 1, 1, 1, 1, 1, 1, 1, 1, 1, 1, 1, 1, 1, 1, 1, 1, 1, 1, 1, 1, 1, 1, 1, 1, 1, 1, 1, 1, 1, 1, 1, 1, 1, 1, 1, 1, 1, 1, 1, 1, 1, 1, 1, 1, 1, 1, 1, 1, 1, 1, 1, 1, 1, 1, 1, 1, 1, 1, 1, 1, 1, 1, 1, 1, 1, 1, 1, 1, 1, 1, 1, 1, 1, 1, 1, 1, 1, 1, 1, 1, 1, 1, 1, 1, 1, 1, 1, 1, 1, 1, 1, 1, 1, 1, 1, 1, 1, 1, 1, 1, 1, 1, 1, 1, 1, 1, 1, 1, 1, 1, 1, 1, 1, 1, 1, 1, 1, 1, 1, 1, 1, 1, 1, 1, 1, 1, 1, 1, 1, 1, 1, 1, 1, 1, 1, 1, 1, 1, 1, 1, 1, 1, 1, 1, 1, 1, 1, 1, 1, 1, 1, 1, 1, 1, 1, 1, 1, 1, 1, 1, 1, 1, 1, 1, 1, 1, 1, 1, 1, 1, 1, 1, 1, 1, 1, 1, 1, 1, 1, 1, 1, 1, 1, 1, 1, 1, 1, 1, 1, 1, 1, 1, 1, 1, 1, 1, 1, 1, 1, 1, 1, 1, 1, 1, 1, 1, 1, 1, 1, 1, 1, 1, 1, 1, 1, 1, 1, 1, 1, 1, 1, 1, 1, 1, 1, 1, 1, 1, 1, 1, 1, 1, 1, 1, 1, 1, 1, 1, 1, 1, 1, 1, 1, 1, 1, 1, 1, 1, 1, 1, 1, 1, 1, 1, 1, 1, 1, 1, 1, 1, 1, 1, 1, 1, 1, 1, 1, 1, 1, 1, 1, 1, 1, 1, 1, 1, 1, 1, 1, 1, 1, 1, 1, 1, 1, 1, 1, 1, 1, 1, 1, 1, 1, 1, 1, 1, 1, 1, 1, 1, 1, 1, 1, 1, 1, 1, 1, 1, 1, 1, 1, 1, 1, 1, 1, 1, 1, 1, 1, 1, 1, 1, 1, 1, 1, 1, 1, 1, 1, 1, 1, 1, 1, 1, 1, 1, 1, 1, 1, 1, 1, 1, 1, 1, 1, 1, 1, 1, 1, 1, 1, 1, 1, 1, 1, 1, 1, 1, 1, 1, 1, 1, 1, 1, 1, 1, 1, 1, 1, 1, 1, 1, 1, 1, 1, 1, 1, 1, 1, 1, 1, 1, 1, 1, 1, 1, 1, 1, 1, 1, 1, 1, 1, 1, 1, 1, 1, 1, 1, 1, 1, 1, 1]\n",
      " \n",
      "Output example:\n",
      " \n",
      " \n",
      "Output ID example:\n",
      " [347, 3721, 12, 27806, 4652, 12, 1646]\n",
      " \n"
     ]
    }
   ],
   "source": [
    "# for BertTokenizer\n",
    "print(\"Input length:\", len(train_input))\n",
    "# print(\" \")\n",
    "print(\"Input example:\\n\", tokenizer.decode(train_input['input_ids'][0])[100:])\n",
    "print(\" \")\n",
    "print(\"Input ID example:\\n\", train_input['input_ids'][0][100:])\n",
    "print(\" \")\n",
    "print(\"Tokens:\\n\", [tokenizer.convert_ids_to_tokens(id) for id in train_input['input_ids'][0]][100:])\n",
    "print(\" \")\n",
    "print(\"Attention Mask:\", train_input['attention_mask'][0])\n",
    "print(\" \")\n",
    "print(\"Output example:\\n\", tokenizer.decode(train_output['input_ids'][0])[100:])\n",
    "print(\" \")\n",
    "print(\"Output ID example:\\n\", train_output['input_ids'][0])\n",
    "print(\" \")"
   ]
  },
  {
   "cell_type": "markdown",
   "id": "b35e16a7-ebb9-4656-8af7-543c1e90a717",
   "metadata": {
    "id": "b35e16a7-ebb9-4656-8af7-543c1e90a717"
   },
   "source": [
    "## Create the Dataset"
   ]
  },
  {
   "cell_type": "code",
   "execution_count": 26,
   "id": "a0129cf5-ec8a-4792-a1a2-6da338a99b4c",
   "metadata": {
    "colab": {
     "base_uri": "https://localhost:8080/"
    },
    "id": "a0129cf5-ec8a-4792-a1a2-6da338a99b4c",
    "outputId": "27097eaa-91b8-45d1-85b8-8702054962c5"
   },
   "outputs": [
    {
     "data": {
      "text/plain": [
       "(1, 2)"
      ]
     },
     "execution_count": 26,
     "metadata": {},
     "output_type": "execute_result"
    }
   ],
   "source": [
    "PAD = tokenizer.pad_token_id\n",
    "SEP = tokenizer.sep_token_id\n",
    "PAD, SEP"
   ]
  },
  {
   "cell_type": "code",
   "execution_count": 27,
   "id": "9827de32-c0fa-4591-886d-11270507e4b7",
   "metadata": {
    "id": "9827de32-c0fa-4591-886d-11270507e4b7"
   },
   "outputs": [],
   "source": [
    "class CaseDataset(Dataset):\n",
    "\n",
    "    def __init__(self, inputs, outputs):\n",
    "        self.inputs = inputs\n",
    "        self.outputs = outputs\n",
    "\n",
    "    def __len__(self):\n",
    "        return len(self.inputs[\"input_ids\"])\n",
    "\n",
    "    def __getitem__(self, idx):\n",
    "        input_ids = self.inputs['input_ids'][idx]\n",
    "        attention_mask = self.inputs['attention_mask'][idx]\n",
    "\n",
    "        target_ids = self.outputs['input_ids'][idx]\n",
    "        # target_attention_mask = self.outputs['attention_mask'][idx]\n",
    "        return {\"input_ids\": input_ids, \"attention_mask\":attention_mask, \"output_ids\":target_ids}\n",
    "\n",
    "\n",
    "def collate_fn(batch):\n",
    "    batch_input = [torch.LongTensor(example['input_ids']) for example in batch]\n",
    "    batch_output = [torch.LongTensor(example['output_ids']) for example in batch]\n",
    "    batch_mask = [torch.LongTensor(example['attention_mask']) for example in batch]\n",
    "\n",
    "    padded_batch_input_ids = pad_sequence(batch_input, batch_first=True, padding_value=tokenizer.pad_token_id)\n",
    "    padded_batch_label = pad_sequence(batch_output, batch_first=True, padding_value=tokenizer.pad_token_id)\n",
    "    padded_batch_att_mask = pad_sequence(batch_mask, batch_first=True, padding_value=-100)\n",
    "\n",
    "    return {\"input_ids\": padded_batch_input_ids, \"attention_mask\": padded_batch_att_mask, \"labels\": padded_batch_label}\n",
    "\n",
    "\n",
    "def to_device(data, device):\n",
    "    new_data = {}\n",
    "    for k in data:\n",
    "        new_data[k] = data[k].to(device)\n",
    "    return new_data"
   ]
  },
  {
   "cell_type": "markdown",
   "id": "51g7EdVXFSsA",
   "metadata": {
    "id": "51g7EdVXFSsA"
   },
   "source": [
    "## Prepare the Functions for Training and Evaluation"
   ]
  },
  {
   "cell_type": "code",
   "execution_count": 28,
   "id": "7g9cTXxmFW4m",
   "metadata": {
    "id": "7g9cTXxmFW4m"
   },
   "outputs": [],
   "source": [
    "def train(model:nn.Module, train_loader:DataLoader, optimizer:optim.Optimizer, log_step=200):\n",
    "    model.train()\n",
    "    epoch_loss = 0.0\n",
    "    log_loss = 0.0\n",
    "    for idx, batch in enumerate(train_loader):\n",
    "        # try:\n",
    "        model.zero_grad()\n",
    "        batch = to_device(batch, device)\n",
    "        loss = model(**batch).loss\n",
    "        # print(loss)\n",
    "        loss.backward()\n",
    "        optimizer.step()\n",
    "        epoch_loss += loss.item()\n",
    "        log_loss += loss.item()\n",
    "\n",
    "        # wandb.log({'batch':idx, 'train_loss': loss.item()})\n",
    "        # wandb.log({'batch':idx, 'accumulated_train_loss_in_this_Q': log_loss})\n",
    "\n",
    "        if idx % log_step == 0:\n",
    "            print(f\"Train Step: {idx} Loss: {log_loss / log_step}\")\n",
    "            log_loss = 0.0\n",
    "        # except:\n",
    "        #     print(f'The text is too long. Passing for now. Step No: {idx}')\n",
    "        #     pass\n",
    "\n",
    "    return epoch_loss / len(train_loader)\n",
    "        \n",
    "\n",
    "@torch.no_grad()\n",
    "def evaluate(model:nn.Module, eval_loader:DataLoader):\n",
    "    eval_loss = 0.0\n",
    "    correct = 0\n",
    "    total = 0\n",
    "    model.eval()\n",
    "    for batch in eval_loader:\n",
    "        batch = to_device(batch, device)\n",
    "        output = model(**batch)\n",
    "        loss = output.loss\n",
    "        eval_loss += loss.item()\n",
    "        pred = output.logits.argmax(-1)\n",
    "        label = batch[\"labels\"]\n",
    "        correct += torch.where(label!=-100, pred==label, 0).sum().item()\n",
    "        total += torch.sum(label != -100).item()\n",
    "    \n",
    "    print(total, correct)\n",
    "\n",
    "    eval_acc = correct / total\n",
    "    eval_loss = eval_loss / len(eval_loader) \n",
    "    return eval_acc, eval_loss\n"
   ]
  },
  {
   "cell_type": "code",
   "execution_count": 29,
   "id": "I5aO_Z5aFfXd",
   "metadata": {
    "id": "I5aO_Z5aFfXd"
   },
   "outputs": [],
   "source": [
    "@torch.no_grad()\n",
    "def answer(model, loader):\n",
    "    all_preds = []\n",
    "    all_labels = []\n",
    "    model.eval()\n",
    "    for batch in loader:\n",
    "        batch = to_device(batch, device)\n",
    "        input_ids = batch[\"input_ids\"]\n",
    "        attention_mask = batch[\"attention_mask\"]\n",
    "        labels = batch[\"labels\"]\n",
    "        outputs = model.generate(input_ids=input_ids, \n",
    "                                 attention_mask=attention_mask, \n",
    "                                 return_dict_in_generate=True, \n",
    "                                 pad_token_id=tokenizer.pad_token_id, \n",
    "                                 max_length=512, \n",
    "                                 top_k=15)\n",
    "        \n",
    "        decode_texts = tokenizer.batch_decode([l[l != 0] for l in outputs['sequences']])\n",
    "        gold_texts = tokenizer.batch_decode([l[l != 0] for l in labels])\n",
    "        # print(decode_texts, gold_texts)\n",
    "        for gold, decode in zip(gold_texts, decode_texts):\n",
    "            l = gold.replace(' ', '').replace('</s>', '').replace('<pad>','').replace('<s>', '')\n",
    "            p = decode.replace(' ', '').replace('</s>', '').replace('<pad>','').replace('<s>', '')\n",
    "\n",
    "            # if '<pad>' in gold:\n",
    "            #     l_pad_idx = gold.index('<pad>')\n",
    "            #     l = gold[:l_pad_idx].replace(' ', '').replace('</s>', '').replace('<pad>','').replace('<s>', '')\n",
    "            # else:\n",
    "            #     l = gold.replace(' ', '').replace('</s>', '').replace('<pad>','').replace('<s>', '')\n",
    "            \n",
    "            # if '<pad>' in decode:\n",
    "            #     p_pad_idx = decode.index('<pad>')\n",
    "            #     p = decode[:p_pad_idx].replace(' ', '').replace('</s>', '').replace('<pad>','').replace('<s>', '')\n",
    "            # else:\n",
    "            #     p = decode.replace(' ', '').replace('</s>', '').replace('<pad>','').replace('<s>', '')\n",
    "\n",
    "            # print(l, p)\n",
    "            all_labels.append(l)\n",
    "            all_preds.append(p)\n",
    "    \n",
    "    return all_preds, all_labels\n",
    "\n",
    "\n",
    "def accuracy(sys, gold):\n",
    "    total = 0\n",
    "    correct = 0\n",
    "    for s, g in zip(sys, gold):\n",
    "        if s == g:\n",
    "            correct += 1\n",
    "        total += 1\n",
    "            \n",
    "    accuracy = correct / total\n",
    "    return accuracy, correct, total\n"
   ]
  },
  {
   "cell_type": "markdown",
   "id": "138d0350-47e2-4ccb-b446-a5a91486a83d",
   "metadata": {
    "id": "138d0350-47e2-4ccb-b446-a5a91486a83d"
   },
   "source": [
    "## Train the Model"
   ]
  },
  {
   "cell_type": "code",
   "execution_count": 30,
   "id": "TTCb0PgEWrMc",
   "metadata": {
    "colab": {
     "base_uri": "https://localhost:8080/"
    },
    "id": "TTCb0PgEWrMc",
    "outputId": "70de8083-57e9-4a0b-e41c-817e78c3734f"
   },
   "outputs": [
    {
     "data": {
      "text/plain": [
       "LEDForConditionalGeneration(\n",
       "  (led): LEDModel(\n",
       "    (shared): Embedding(50265, 768, padding_idx=1)\n",
       "    (encoder): LEDEncoder(\n",
       "      (embed_tokens): Embedding(50265, 768, padding_idx=1)\n",
       "      (embed_positions): LEDLearnedPositionalEmbedding(16384, 768)\n",
       "      (layers): ModuleList(\n",
       "        (0-5): 6 x LEDEncoderLayer(\n",
       "          (self_attn): LEDEncoderAttention(\n",
       "            (longformer_self_attn): LEDEncoderSelfAttention(\n",
       "              (query): Linear(in_features=768, out_features=768, bias=True)\n",
       "              (key): Linear(in_features=768, out_features=768, bias=True)\n",
       "              (value): Linear(in_features=768, out_features=768, bias=True)\n",
       "              (query_global): Linear(in_features=768, out_features=768, bias=True)\n",
       "              (key_global): Linear(in_features=768, out_features=768, bias=True)\n",
       "              (value_global): Linear(in_features=768, out_features=768, bias=True)\n",
       "            )\n",
       "            (output): Linear(in_features=768, out_features=768, bias=True)\n",
       "          )\n",
       "          (self_attn_layer_norm): LayerNorm((768,), eps=1e-05, elementwise_affine=True)\n",
       "          (activation_fn): GELUActivation()\n",
       "          (fc1): Linear(in_features=768, out_features=3072, bias=True)\n",
       "          (fc2): Linear(in_features=3072, out_features=768, bias=True)\n",
       "          (final_layer_norm): LayerNorm((768,), eps=1e-05, elementwise_affine=True)\n",
       "        )\n",
       "      )\n",
       "      (layernorm_embedding): LayerNorm((768,), eps=1e-05, elementwise_affine=True)\n",
       "    )\n",
       "    (decoder): LEDDecoder(\n",
       "      (embed_tokens): Embedding(50265, 768, padding_idx=1)\n",
       "      (embed_positions): LEDLearnedPositionalEmbedding(1024, 768)\n",
       "      (layers): ModuleList(\n",
       "        (0-5): 6 x LEDDecoderLayer(\n",
       "          (self_attn): LEDDecoderAttention(\n",
       "            (k_proj): Linear(in_features=768, out_features=768, bias=True)\n",
       "            (v_proj): Linear(in_features=768, out_features=768, bias=True)\n",
       "            (q_proj): Linear(in_features=768, out_features=768, bias=True)\n",
       "            (out_proj): Linear(in_features=768, out_features=768, bias=True)\n",
       "          )\n",
       "          (activation_fn): GELUActivation()\n",
       "          (self_attn_layer_norm): LayerNorm((768,), eps=1e-05, elementwise_affine=True)\n",
       "          (encoder_attn): LEDDecoderAttention(\n",
       "            (k_proj): Linear(in_features=768, out_features=768, bias=True)\n",
       "            (v_proj): Linear(in_features=768, out_features=768, bias=True)\n",
       "            (q_proj): Linear(in_features=768, out_features=768, bias=True)\n",
       "            (out_proj): Linear(in_features=768, out_features=768, bias=True)\n",
       "          )\n",
       "          (encoder_attn_layer_norm): LayerNorm((768,), eps=1e-05, elementwise_affine=True)\n",
       "          (fc1): Linear(in_features=768, out_features=3072, bias=True)\n",
       "          (fc2): Linear(in_features=3072, out_features=768, bias=True)\n",
       "          (final_layer_norm): LayerNorm((768,), eps=1e-05, elementwise_affine=True)\n",
       "        )\n",
       "      )\n",
       "      (layernorm_embedding): LayerNorm((768,), eps=1e-05, elementwise_affine=True)\n",
       "    )\n",
       "  )\n",
       "  (lm_head): Linear(in_features=768, out_features=50265, bias=False)\n",
       ")"
      ]
     },
     "execution_count": 30,
     "metadata": {},
     "output_type": "execute_result"
    }
   ],
   "source": [
    "model.to(device)"
   ]
  },
  {
   "cell_type": "code",
   "execution_count": 31,
   "id": "397ac1ed-f2f6-4fef-a998-f1d7cf9ad156",
   "metadata": {
    "id": "397ac1ed-f2f6-4fef-a998-f1d7cf9ad156"
   },
   "outputs": [],
   "source": [
    "# Experiment\n",
    "train_dataset = CaseDataset(train_input, train_output)\n",
    "train_loader = DataLoader(train_dataset, batch_size=2, collate_fn=collate_fn, shuffle=True)\n",
    "\n",
    "val_dataset = CaseDataset(val_input, val_output) \n",
    "val_loader = DataLoader(val_dataset, batch_size=2, collate_fn=collate_fn, shuffle=False)\n"
   ]
  },
  {
   "cell_type": "code",
   "execution_count": 32,
   "id": "xxBndeAsIpE_",
   "metadata": {
    "colab": {
     "base_uri": "https://localhost:8080/"
    },
    "id": "xxBndeAsIpE_",
    "outputId": "cb32c207-6809-4885-edbf-10af7368f25e"
   },
   "outputs": [
    {
     "data": {
      "text/plain": [
       "12"
      ]
     },
     "execution_count": 32,
     "metadata": {},
     "output_type": "execute_result"
    }
   ],
   "source": [
    "del df, train_dataset\n",
    "gc.collect()"
   ]
  },
  {
   "cell_type": "code",
   "execution_count": 33,
   "id": "b03fcf01-187c-4e5e-8e11-595205323057",
   "metadata": {
    "colab": {
     "base_uri": "https://localhost:8080/"
    },
    "id": "b03fcf01-187c-4e5e-8e11-595205323057",
    "outputId": "cd2cd43a-ac6c-4b1e-b0d5-6e8c60d43cc4"
   },
   "outputs": [
    {
     "name": "stdout",
     "output_type": "stream",
     "text": [
      "Epoch 1:\n",
      "Train Step: 0 Loss: 0.0910161018371582\n",
      "Train Step: 200 Loss: 3.823288514055312\n",
      "Train Step: 400 Loss: 2.2288485485315324\n",
      "Train Step: 600 Loss: 1.926533841714263\n",
      "Train Step: 800 Loss: 1.9272761825472116\n",
      "Train Step: 1000 Loss: 1.7187148754298687\n",
      "Train Step: 1200 Loss: 2.223682520762086\n",
      "Train Step: 1400 Loss: 1.9094089418277145\n",
      "Train Step: 1600 Loss: 1.424167960844934\n",
      "Train Step: 1800 Loss: 1.2141001358721406\n",
      "Train Step: 2000 Loss: 1.2233759127464146\n",
      "Train Step: 2200 Loss: 1.2804372095828875\n",
      "Train Step: 2400 Loss: 1.240971080409363\n",
      "Train Step: 2600 Loss: 1.113220043713227\n",
      "Train Step: 2800 Loss: 1.0740728620020672\n",
      "Train Step: 3000 Loss: 1.0001478788349778\n",
      "Train Step: 3200 Loss: 0.9772752594109625\n",
      "Train Step: 3400 Loss: 0.9708926041750238\n",
      "Train Step: 3600 Loss: 1.0541693927533924\n",
      "Train Step: 3800 Loss: 1.0435213529877365\n",
      "Train Step: 4000 Loss: 0.9857545538153499\n",
      "Train Step: 4200 Loss: 0.8617260059528052\n",
      "Train Step: 4400 Loss: 1.12155135453213\n",
      "Train Step: 4600 Loss: 1.052642973223701\n",
      "Train Step: 4800 Loss: 0.8971783481538296\n",
      "Train Step: 5000 Loss: 0.9602046204148792\n",
      "Train Step: 5200 Loss: 1.0271178865153343\n",
      "Train Step: 5400 Loss: 0.8609740533563308\n",
      "Train Step: 5600 Loss: 1.1524814502662049\n",
      "Train Step: 5800 Loss: 1.0445051299361512\n",
      "Train Step: 6000 Loss: 0.9436314521729946\n",
      "Train Step: 6200 Loss: 1.0326675538904966\n",
      "Train Step: 6400 Loss: 0.9351760373264552\n",
      "Train Step: 6600 Loss: 0.9703221815987491\n",
      "Train Step: 6800 Loss: 0.8130115579860285\n",
      "Train Step: 7000 Loss: 0.9141032397071831\n",
      "Train Step: 7200 Loss: 0.8371976107219234\n",
      "Train Step: 7400 Loss: 0.841741389404051\n",
      "Train Step: 7600 Loss: 1.0313064825511538\n",
      "Train Step: 7800 Loss: 0.9963709549885243\n",
      "Train Step: 8000 Loss: 0.8290970220975578\n",
      "Train Step: 8200 Loss: 0.935463490136899\n",
      "Train Step: 8400 Loss: 0.9401353571005165\n",
      "Train Step: 8600 Loss: 1.0024184737028554\n",
      "Train Step: 8800 Loss: 0.9324842760898173\n",
      "Train Step: 9000 Loss: 0.7850114808836952\n",
      "Train Step: 9200 Loss: 0.9974939929135144\n",
      "Train Step: 9400 Loss: 0.8946659302897751\n",
      "Train Step: 9600 Loss: 1.0669486449845136\n",
      "Train Step: 9800 Loss: 1.0782623128732667\n",
      "Train Step: 10000 Loss: 0.9862760010408238\n",
      "Train Step: 10200 Loss: 0.7811458295118063\n",
      "Train Step: 10400 Loss: 0.8384688136260956\n",
      "Train Step: 10600 Loss: 0.9817029707552866\n",
      "Train Step: 10800 Loss: 0.7588642841298133\n",
      "Train Step: 11000 Loss: 1.0391185324452819\n",
      "Train Step: 11200 Loss: 0.6621788453380577\n",
      "Train Step: 11400 Loss: 0.7612988688796759\n",
      "Train Step: 11600 Loss: 0.9208524817158468\n",
      "Train Step: 11800 Loss: 0.8479317406914197\n",
      "Train Step: 12000 Loss: 0.8948168097250163\n",
      "Epoch 1 Training Loss: 1.127553174498501\n",
      "10850 8495\n",
      "Epoch 0 Eval Acc: 0.7829493087557604; Eval Loss: 0.9382796139765232\n",
      "Epoch 2:\n",
      "Train Step: 0 Loss: 0.004465883374214172\n",
      "Train Step: 200 Loss: 0.8018556399317458\n",
      "Train Step: 400 Loss: 0.6547895628528204\n",
      "Train Step: 600 Loss: 0.8157437574611686\n",
      "Train Step: 800 Loss: 0.8400300043122843\n",
      "Train Step: 1000 Loss: 0.8641469821054488\n",
      "Train Step: 1200 Loss: 0.9206083676824346\n",
      "Train Step: 1400 Loss: 0.8806902522582095\n",
      "Train Step: 1600 Loss: 0.8664024770073593\n",
      "Train Step: 1800 Loss: 0.8423792579118162\n",
      "Train Step: 2000 Loss: 0.7714295350457542\n",
      "Train Step: 2200 Loss: 0.9635227534268052\n",
      "Train Step: 2400 Loss: 0.7832871654164046\n",
      "Train Step: 2600 Loss: 0.7408102287352085\n",
      "Train Step: 2800 Loss: 0.7618121542455628\n",
      "Train Step: 3000 Loss: 0.8912708194414154\n",
      "Train Step: 3200 Loss: 0.7774505158537067\n",
      "Train Step: 3400 Loss: 0.75515229140874\n",
      "Train Step: 3600 Loss: 0.9186333925044164\n",
      "Train Step: 3800 Loss: 0.7451933287829161\n",
      "Train Step: 4000 Loss: 0.8201404421718326\n",
      "Train Step: 4200 Loss: 0.6883514414844103\n",
      "Train Step: 4400 Loss: 0.8093685256922618\n",
      "Train Step: 4600 Loss: 0.852081695785746\n",
      "Train Step: 4800 Loss: 0.8654791659431066\n",
      "Train Step: 5000 Loss: 0.7889895705931121\n",
      "Train Step: 5200 Loss: 0.8876001415587962\n",
      "Train Step: 5400 Loss: 0.8109164827293717\n",
      "Train Step: 5600 Loss: 0.8400469034933485\n",
      "Train Step: 5800 Loss: 0.9224781390512362\n",
      "Train Step: 6000 Loss: 0.9542385078780353\n",
      "Train Step: 6200 Loss: 0.756758384583518\n",
      "Train Step: 6400 Loss: 0.8083200955274514\n",
      "Train Step: 6600 Loss: 0.8782384359673597\n",
      "Train Step: 6800 Loss: 0.7767218882311135\n",
      "Train Step: 7000 Loss: 0.8352397842679057\n",
      "Train Step: 7200 Loss: 0.7066475293645635\n",
      "Train Step: 7400 Loss: 0.8271577898785472\n",
      "Train Step: 7600 Loss: 0.8092368743265979\n",
      "Train Step: 7800 Loss: 0.8278751861024648\n",
      "Train Step: 8000 Loss: 0.8055478857178241\n",
      "Train Step: 8200 Loss: 0.8040998872276396\n",
      "Train Step: 8400 Loss: 0.7463229781249539\n",
      "Train Step: 8600 Loss: 0.7280457642883994\n",
      "Train Step: 8800 Loss: 0.7914324876805767\n",
      "Train Step: 9000 Loss: 0.7317178099788726\n",
      "Train Step: 9200 Loss: 0.878331936756149\n",
      "Train Step: 9400 Loss: 0.7179452318814583\n",
      "Train Step: 9600 Loss: 0.7688176285952796\n",
      "Train Step: 9800 Loss: 0.7592188203445402\n",
      "Train Step: 10000 Loss: 0.6586837655608542\n",
      "Train Step: 10200 Loss: 0.6849585848150309\n",
      "Train Step: 10400 Loss: 0.7209720738371834\n",
      "Train Step: 10600 Loss: 0.7875404287222773\n",
      "Train Step: 10800 Loss: 0.8397791256930214\n",
      "Train Step: 11000 Loss: 0.8514624348538927\n",
      "Train Step: 11200 Loss: 0.7659987480379641\n",
      "Train Step: 11400 Loss: 0.81730155993253\n",
      "Train Step: 11600 Loss: 0.671998554150341\n",
      "Train Step: 11800 Loss: 0.775165353610646\n",
      "Train Step: 12000 Loss: 0.7141783283150289\n",
      "Epoch 2 Training Loss: 0.8018528488274985\n",
      "10850 8829\n",
      "Epoch 1 Eval Acc: 0.8137327188940092; Eval Loss: 0.7625268935001427\n"
     ]
    }
   ],
   "source": [
    "# experiment\n",
    "epochs = 2\n",
    "optimizer = optim.Adam(model.parameters(), lr=5e-5)\n",
    "\n",
    "model.train()\n",
    "\n",
    "# print(f\"Training Question 1\")\n",
    "for epoch in range(epochs):\n",
    "    print(f\"Epoch {epoch+1}:\")\n",
    "    \n",
    "    train_loss = train(model, train_loader, optimizer)\n",
    "    print(f\"Epoch {epoch+1} Training Loss: {train_loss}\")\n",
    "\n",
    "    eval_acc, eval_loss = evaluate(model, val_loader)\n",
    "    print(f\"Epoch {epoch} Eval Acc: {eval_acc}; Eval Loss: {eval_loss}\")\n"
   ]
  },
  {
   "cell_type": "code",
   "execution_count": 34,
   "id": "KvK52Tbdw8iK",
   "metadata": {
    "id": "KvK52Tbdw8iK"
   },
   "outputs": [],
   "source": [
    "torch.save(model.state_dict(), 'led_2epoch_law_allqs.pt')"
   ]
  },
  {
   "cell_type": "code",
   "execution_count": 35,
   "id": "83VqUx8O3KJ-",
   "metadata": {
    "colab": {
     "base_uri": "https://localhost:8080/"
    },
    "id": "83VqUx8O3KJ-",
    "outputId": "c2c13ef4-c55b-4663-92d7-ce9f7f66924f"
   },
   "outputs": [
    {
     "name": "stdout",
     "output_type": "stream",
     "text": [
      "The model has 161,844,480 trainable parameters\n"
     ]
    }
   ],
   "source": [
    "def count_parameters(model):\n",
    "    return sum(p.numel() for p in model.parameters() if p.requires_grad)\n",
    "\n",
    "print(f'The model has {count_parameters(model):,} trainable parameters')"
   ]
  },
  {
   "cell_type": "markdown",
   "id": "dafc17dc-f263-45d3-b8e2-b460f61b5728",
   "metadata": {
    "id": "m47IvKfggdNh"
   },
   "source": [
    "## Evaluate the Model on Validation Set"
   ]
  },
  {
   "cell_type": "code",
   "execution_count": 42,
   "id": "d6eafbe7-33d9-4ff8-824f-8954d98ae8b4",
   "metadata": {},
   "outputs": [],
   "source": [
    "def q_prompt(dataframe, q_no, raw_texts):\n",
    "    input_texts = []\n",
    "    outputs = []\n",
    "    # long_cases = 0\n",
    "    \n",
    "    questions = dataframe.columns\n",
    "    answers = dataframe.iloc[:,q_no]\n",
    "    # print(len(raw_texts), len(answers))\n",
    "    assert len(raw_texts) == len(answers)\n",
    "\n",
    "    for i in range(len(answers)):\n",
    "        full_text = raw_texts[i]\n",
    "        text = full_text[full_text.find('Content:')+len('Content:'):]\n",
    "\n",
    "        # if len(text) > 26000:\n",
    "        #     # print(len(text))\n",
    "        #     text = text[:26000]\n",
    "        #     long_cases += 1\n",
    "\n",
    "        text = text.replace('\\n', ' ')\n",
    "        text = text.replace('\\xa0', ' ')\n",
    "        text = text.replace('\\t', ' ')\n",
    "        text = text.replace('   ', ' ').replace('  ', ' ').replace('  ', ' ').replace('  ', ' ')\n",
    "        # text\n",
    "        # for word in stop_words:\n",
    "        #     text = text.replace(' '+word+' ', ' ')\n",
    "\n",
    "        if 'Schedule 1' in text:\n",
    "            s_idx = text.find('Schedule 1')\n",
    "            text = text[:s_idx]\n",
    "\n",
    "        input_text = f'Question: {questions[q_no]} Text: {text}'  \n",
    "        input_texts.append(input_text)\n",
    "\n",
    "        output = str(answers[i])\n",
    "        outputs.append(output)\n",
    "        \n",
    "    # print(len(input_texts), len(outputs))\n",
    "    # print(input_texts[0], outputs[0]) \n",
    "    # print(long_cases)\n",
    "    return input_texts, outputs"
   ]
  },
  {
   "cell_type": "code",
   "execution_count": 43,
   "id": "cbdc306a-9329-424d-8338-578e6a8ef151",
   "metadata": {},
   "outputs": [],
   "source": [
    "def q_preprocess(dataframe, q_no, tokenizer, raw_texts):\n",
    "    input_texts, outputs = q_prompt(dataframe, q_no, raw_texts)   \n",
    "    \n",
    "    input_toks = tokenizer.batch_encode_plus(input_texts,\n",
    "                                             add_special_tokens=False, \n",
    "                                             return_token_type_ids=False)\n",
    "    output_toks = tokenizer.batch_encode_plus(outputs, \n",
    "                                              add_special_tokens=False,\n",
    "                                              return_token_type_ids=False)\n",
    "    # print(len(q1_train_input['input_ids']), len(q1_train_output['input_ids']))\n",
    "    return input_toks, output_toks\n",
    "    "
   ]
  },
  {
   "cell_type": "code",
   "execution_count": 54,
   "id": "7ccbaf06-1265-4c59-abd2-f2338165d9c4",
   "metadata": {},
   "outputs": [],
   "source": [
    "def get_test_dataloader(df, q_no, tokenizer, raw_texts):\n",
    "    input_toks, output_toks = q_preprocess(df, q_no, tokenizer, raw_texts)\n",
    "    dataset = CaseDataset(input_toks, output_toks)\n",
    "    dataloader = DataLoader(dataset, \n",
    "                            batch_size=4, \n",
    "                            collate_fn=collate_fn, \n",
    "                            shuffle=False)\n",
    "    return dataloader"
   ]
  },
  {
   "cell_type": "code",
   "execution_count": 55,
   "id": "7adbea6b-dedd-4951-92bb-e4bdfbc41af3",
   "metadata": {},
   "outputs": [],
   "source": [
    "def answer_qs(val_df, q_no, tokenizer):\n",
    "    loader = get_test_dataloader(val_df, q_no, tokenizer, val_raw_texts)\n",
    "    # print(len(loader))\n",
    "    \n",
    "    questions = val_df.columns\n",
    "    print(f'Q{q_no+1}: {questions[q_no]}')\n",
    "    \n",
    "    preds, golds = answer(model, loader)\n",
    "    acc, correct, total = accuracy(preds, golds)\n",
    "    acc = round(acc, 5)\n",
    "    \n",
    "    print(f\"Accuracy for this question is: {acc*100}%\")\n",
    "    print('')\n",
    "    \n",
    "    return acc, preds"
   ]
  },
  {
   "cell_type": "code",
   "execution_count": 56,
   "id": "9f1310a5-d9d5-41d0-a372-0c077386d9a7",
   "metadata": {},
   "outputs": [],
   "source": [
    "# del train_df, train_loader, count_parameters\n",
    "# gc.collect()"
   ]
  },
  {
   "cell_type": "code",
   "execution_count": 57,
   "id": "ce03dd2c-f02a-4407-aa72-e5086baefa1d",
   "metadata": {},
   "outputs": [
    {
     "ename": "NameError",
     "evalue": "name 'preds' is not defined",
     "output_type": "error",
     "traceback": [
      "\u001b[0;31m---------------------------------------------------------------------------\u001b[0m",
      "\u001b[0;31mNameError\u001b[0m                                 Traceback (most recent call last)",
      "Cell \u001b[0;32mIn[57], line 1\u001b[0m\n\u001b[0;32m----> 1\u001b[0m \u001b[38;5;28;01mdel\u001b[39;00m preds\n\u001b[1;32m      2\u001b[0m gc\u001b[38;5;241m.\u001b[39mcollect()\n",
      "\u001b[0;31mNameError\u001b[0m: name 'preds' is not defined"
     ]
    }
   ],
   "source": [
    "del preds\n",
    "gc.collect()"
   ]
  },
  {
   "cell_type": "code",
   "execution_count": 58,
   "id": "f098892c-9a40-4341-a45e-8e7cecdee24c",
   "metadata": {},
   "outputs": [
    {
     "name": "stdout",
     "output_type": "stream",
     "text": [
      "Q1: What is the file number of the case?\n",
      "Accuracy for this question is: 54.839000000000006%\n",
      "\n",
      "['TSL-0538-19', 'TEL-80084-17', 'TEL-80169-17', 'TEL-80248-17', 'TEL-80320-17-RVVVVVVVVVVVVVVVVVVVVVVVVVVVVVVVVVVVVVEL-VVVVVVVVVVEL-VVVVVVVVVVVVVVVVVVVVVVVVVVVVVVVVVVVVVVVVVVVVVVVVVVVVVVVVVVVVVVVVVVVVVVVVVVVVVVVVVVVVVVVVVVVVVVVVVVVVVVVVVVVVVVVVVVVVVVVVVVVVVVVVVVVVVVVVVVVVVVVVVVVVVVVVVVVVVVVVVVVVVVVVVVVVVVVVVVVVVVVVVVVVVVVVVVVVVVVVVVVVVVVVVVVVVVVVVVVVVVVVVVVVVVVVVVVEL-VVVVVEL-VVVVEL-VVVVEL-VVVVVVVVVVVVVVVVVVVVEL-VVVVVVVVVEL-VVVVEL-VVVVVVVEL-VVVVVVVVVVEL-VVVVVEL-VVVVEL-VVVVEL-VVVVEL-VVVEL-VVVVVEL-VVVVEL-VVVVEL-VVVVVVVVVVVVVVVVVVVVVVVVVVVVVVVVVVVVVVVVVVVVVVVVVVVVVVVVVVVVVVVVVVVVVVVVVVVEL-VVVVVVVVV', 'TEL-80483-17-RVVVV2VVVVV2-RV2-RVVV2-RVV2-RVV2VV2VVVVVV2VVVVVVVVVVVVVVVVVVVVVVVVVVV2-RVVVVVVVVVVVV2-RVV2VVVV2VVVVVVVVV2-RVV2-RVVVVVVVVV2V2VV2V2-RVVV2VV2V2-RVV2VVVVV2VVVVVVVVVVVVVVVVVVVVVVVVVVVVVVVVVVVVVVVVV2VVVV2-RVVV2VVVVV2VVVVV2-RVV2-RV2-RV2V2-RV2V2-RV2-RVV2V2-RV2-RVV2-RV2-RV2-RVV2-RVV2-RVV2-RV2-RVV2-RVV2V2-RVV2V2V2V2-RVV2V2V2V2-RV2V2V2VV2V2V2V2-RV2V2-RV2V2V2V2-RV2V2V2V2-RV2V2-RV2V2-RV2V2-RV2V2-RV2V2-RV2-RV2-RV2-RV2V2-RV2V2-RV2V2-RV2V2-RV2V2-RV2V2-RV2V2-RV2V2-RV2V2-RV2V2-RV2V2-RV2V2-RV2-RV2V2-RV2V2-RV2V2-RV2-R', 'TSL-05944-19-RVVVVVVVVVVVVVVVVVVVVVVVVVVVVRVVVL-05944-19-RVVVVL-05944-19-RVVVVVVVL-05944-19-RVVVVVVVVVRVVVVVVVVVRVVVVVVRVVVVRVVVVVVVVVVRVVVVVVVVVVVVVVVVVVVVVVVVVVVVVVVVVVVVVVVVVVVVVVVVVVVVVVVVVVVVVVVVVVVVVVVVVVVVVVVVVVVVVVVVVVVVVVVVVVVVVVVVVVVVVVVVVVVVVVVVVVVVVVVVVVVVVVVVVVVVVVVVVVVVVVVVVVVVVL-RVVVVVVVVVVL-05944-19-RVVVVL-05944-19-RVVVVL-RVVVVVVVVVL-05944-19-RVVVVL-05944-19-RVVVVVVVVL-05944-19-RVVVVVVVVVVVVVL-RVVVVL-RVVVRVVVVL-RVVVVL-RVVVL-RVVVL-RVVVL-05944-19-RVVVVL-05944-19-RVVVVRVVVVVVVVVVL-05944-19-RVVVVVVVVVVVVVVVVVVVVVVRVVVVVRVVVRVVVRVVRVL-05944-19-RVV', 'TEL-80715-17', 'TEL-80773-17', 'TSL-98711-18', 'TEL-81094-17', 'TSL-98713-18', 'TEL-85959-17-AM-AM-AM-AM-AM-AM-AM', 'TSL-98714-18', 'TEL-81400-17-RVVVVVVVVVVVVVVVVVVVVVVVVVVVVVVVVVVEL-RVVVVVVEL-81400-17-RVVVVVVVVVVVVVVVVVVVVVVVVVVVVVVVVVVVVVVVVVVVVVVVVVVVVVVVVVVVVVVVVVVVVVVVVVVVVVVVVVVVVVVVVVVVVVVVVVVVVVVVVVVVVVVVVVVVVVVVVVVVVVVVVVVVVVVVVVVVVVVVVVVVVVVVVVVVVVVVVVVVVVVVVVVVVVVVVVVVVVVVVVVVVVVVVVVVVVVVVVVVVVVVVVVVVVVL-VVVVVVVVVVVVVVVVL-VVVVVVL-RVVVVVVVVL-RVVVVVVVVVL-RVVVVVVVVL-RVVVVVVVVEL-RVVVL-RVVVVL-RVVVVVVVVVVEL-RVVVVEL-RVVVL-RVVVL-VVVVVEL-RVVVEL-RVVVEL-RVVVEL-81400-17-VVVVEL-RVVVVRVVVVEL-81400-17-VVVVVVVVVVVVVVVVVVVVVL-RVVVVVVVVVEL-RVVVVRVVVVVVVVVL-RVVVVVVRVV', 'TEL-81405-17', 'TSL-06394-19', 'TSL-98754-18', 'TSL-98756-18', 'TSL-06770-19', 'TSL-98918-18-RVVVVVVVVVVVVVVVVVVVVVVVVVVVVVVVVVVVVVVVVVVVVVVVVVVVVVVVVVVVVVVVVVVVVVVVVVVVVVVVVVVVVVVVVVVVVVVVVVVVVVVVVVVVVVVVVVVVVVVVVVVVVVVVVVVVVVVVVVVVVVVVVVVVVVVVVVVVVVVVVVVVVVVVVVVVVVVVVVVVVVVVVVVVVVVVVVVVVVVVVVVVVVVVVVVVVVVVVVVVVVVVVVVVVVVVVVVVVVVVVVVVVVVVVVVVVVVVVVVVVVVVVVVVVVVVVVVVVVVVVVVVVVVVVVVVVVVVVVVVVVVVVVVVVVVVVVVVVVVVVVVVVVVVVVVVVVVVVVVVVVVVVVVVVVVVVVVVVVVVVVVVVVVVVVVVVVVVVVVVVVVVVVVVVVVVVVVVVVVVVVVVVVVVVVVVVVVVVVVVVVVVVVVVVVVVVVVVVVVVVVVVVVVVVVVVVVVVVVVVVVVVVVVVVVVVVVVVVVVVVVVVVVVVVVVVVVVVVVVVVVV', 'TSL-06833-19', 'TSL-99691-18', 'TSL-99824-18', 'TSL-99900-18', 'TSL-99965-18', 'TSL-069-19-RVVVVVVVVVVVVVVVVVVVVVVVVVVVVVVVVVVVVVVVVVVVVVVVVVVVVVVVVVVVVVVVVVVVVVVVVVVVVVVVVVVVVVVVVVVVVVVVVVVVVVVVVVVVVVVVVVVVVVVVVVVVVVVVVVVVVVVVVVVVVVVVVVVVVVVVVVVVVVVVVVVVVVVVVVVVVVVVVVVVVVVVVVVVVVVVVVVVVVVVVVVVVVVVVVVVVVVVVVVVVVVVVVVVVVVVVVVVVVVVVVVVVVVVVVVVVVVVVVVVVVVVVVVVVVVVVVVVVVVVVVVVVVVVVVVVVVVVVVVVVVVVVVVVVVVVVVVVVVVVVVVVVVVVVVVVVVVVVVVVVVVVVVVVVVVVVVVVVVVVVVVVVVVVVVVVVVVVVVVVVVVVVVVVVVVVVVVVVVVVVVVVVVVVVVVVVVVVVVVVVVVVVVVVVVVVVVVVVVVVVVVVVVVVVVVVVVVVVVVVVVVVVVVVVVVVVVVVVVVVVVVVVVVVVVVVVVVVVVVVVVV', 'CEL-62600-16', 'TSL-07120-19', 'CEL-62852-16', 'CEL-63056-16', 'CEL-63024-16', 'CEL-63193-16', 'CEL-63559-17', 'CEL-0631-17', 'CEL-06V-17-RVVVVVVVVVVVVVVVVVVVVVVVVVVVVVVVVVVVVVVVVVVVVVVVVVVVVVVVVVVVVVVVVVVVVVVVVVVVVVVVVVVVVVVVVVVVVVVVVVVVVVVVVVVVVVVVVVVVVVVVVVVVVVVVVVVVVVVVVVVVVVVVVVVVVVVVVVVVVVVVVVVVVVVVVVVVVVVVVVVVVVVVVVVVVVVVVVVVVVVVVVVVVVVVVVVVVVVVVVVVVVVVVVVVVVVVVVVVVVVVVVVVVVVVVVVVVVVVVVVVVVVVVVVVVVVVVVVVVVVVVVVVVVVVVVVVVVVVVVVVVVVVVVVVVVVVVVVVVVVVVVVVVVVVVVVVVVVVVVVVVVVVVVVVVVVVVVVVVVVVVVVVVVVVVVVVVVVVVVVVVVVVVVVVVVVVVVVVVVVVVVVVVVVVVVVVVVVVVVVVVVVVVVVVVVVVVVVVVVVVVVVVVVVVVVVVVVVVVVVVVVVVVVVVVVVVVVVVVVVVVVVVVVVVVVVVVVVVVVVVVVV', 'TNL-64051-17', 'TSL-07620-19', 'TSL-07666-19-RVVVVVVVVVVVVVVVVVVVVVVVVVVVVVVVVVVVVVVVVVVVVVVVVVVVVVVVVVVVVVVVVVVVVVVVVVVVVVVVVVVVVVVVVVVVVVVVVVVVVVVVVVVVVVVVVVVVVVVVVVVVVVVVVVVVVVVVVVVVVVVVVVVVVVVVVVVVVVVVVVVVVVVVVVVVVVVVVVVVVVVVVVVVVVVVVVVVVVVVVVVVVVVVVVVVVVVVVVVVVVVVVVVVVVVVVVVVVVVVVVVVVVVVVVVVVVVVVVVVVVVVVVVVVVVVVVVVVVVVVVVVVVVVVVVVVVVVVVVVVVVVVVVVVVVVVVVVVVVVVVVVVVVVVVVVVVVVVVVVVVVVVVVVVVVVVVVVVVVVVVVVVVVVVVVVVVVVVVVVVVVVVVVVVVVVVVVVVVVVVVVVVVVVVVVVVVVVVVVVVVVVVVVVVVVVVVVVVVVVVVVVVVVVVVVVVVVVVVVVVVVVVVVVVVVVVVVVVVVVVVVVVVVVVVVVVVVVVVVVVVV', 'TSL-08760-19', 'TSL-08918-19', 'TSL-10061-19', 'TSL-10720-19', 'TSL-93207-18-RVVVVVVVVVVVVVVVVVVVVVVVVVVVVVVVVVVVVVVVVVVVVVVVVVVVVVVVVVVVVVVVVVVVVVVVVVVVVVVVVVVVVVVVVVVVVVVVVVVVVVVVVVVVVVVVVVVVVVVVVVVVVVVVVVVVVVVVVVVVVVVVVVVVVVVVVVVVVVVVVVVVVVVVVVVVVVVVVVVVVVVVVVVVVVVVVVVVVVVVVVVVVVVVVVVVVVVVVVVVVVVVVVVVVVVVVVVVVVVVVVVVVVVVVVVVVVVVVVVVVVVVVVVVVVVVVVVVVVVVVVVVVVVVVVVVVVVVVVVVVVVVVVVVVVVVVVVVVVVVVVVVVVVVVVVVVVVVVVVVVVVVVVVVVVVVVVVVVVVVVVVVVVVVVVVVVVVVVVVVVVVVVVVVVVVVVVVVVVVVVVVVVVVVVVVVVVVVVVVVVVVVVVVVVVVVVVVVVVVVVVVVVVVVVVVVVVVVVVVVVVVVVVVVVVVVVVVVVVVVVVVVVVVVVVVVVVVVVVVVVVV', 'TSL-95225-18-RVVVVVVVVVVVVVVVVVVVVVVVVVVVVVVVVVVVVVVVVVVVVVVVVVVVVVVVVVVVVVVVVVVVVVVVVVVVVVVVVVVVVVVVVVVVVVVVVVVVVVVVVVVVVVVVVVVVVVVVVVVVVVVVVVVVVVVVVVVVVVVVVVVVVVVVVVVVVVVVVVVVVVVVVVVVVVVVVVVVVVVVVVVVVVVVVVVVVVVVVVVVVVVVVVVVVVVVVVVVVVVVVVVVVVVVVVVVVVVVVVVVVVVVVVVVVVVVVVVVVVVVVVVVVVVVVVVVVVVVVVVVVVVVVVVVVVVVVVVVVVVVVVVVVVVVVVVVVVVVVVVVVVVVVVVVVVVVVVVVVVVVVVVVVVVVVVVVVVVVVVVVVVVVVVVVVVVVVVVVVVVVVVVVVVVVVVVVVVVVVVVVVVVVVVVVVVVVVVVVVVVVVVVVVVVVVVVVVVVVVVVVVVVVVVVVVVVVVVVVVVVVVVVVVVVVVVVVVVVVVVVVVVVVVVVVVVVVVVVVVVV', 'TSL-99696-18-RVVVVVVVVVVVVVVVVVVVVVVVVVVVVVVVVVVVVVVVVVVVVVVVVVVVVVVVVVVVVVVVVVVVVVVVVVVVVVVVVVVVVVVVVVVVVVVVVVVVVVVVVVVVVVVVVVVVVVVVVVVVVVVVVVVVVVVVVVVVVVVVVVVVVVVVVVVVVVVVVVVVVVVVVVVVVVVVVVVVVVVVVVVVVVVVVVVVVVVVVVVVVVVVVVVVVVVVVVVVVVVVVVVVVVVVVVVVVVVVVVVVVVVVVVVVVVVVVVVVVVVVVVVVVVVVVVVVVVVVVVVVVVVVVVVVVVVVVVVVVVVVVVVVVVVVVVVVVVVVVVVVVVVVVVVVVVVVVVVVVVVVVVVVVVVVVVVVVVVVVVVVVVVVVVVVVVVVVVVVVVVVVVVVVVVVVVVVVVVVVVVVVVVVVVVVVVVVVVVVVVVVVVVVVVVVVVVVVVVVVVVVVVVVVVVVVVVVVVVVVVVVVVVVVVVVVVVVVVVVVVVVVVVVVVVVVVVVVVVVVV', 'TSL-97152-18-RVVVVVVVVVVVVVVVVVVVVVVVVVVVVVVVVVVVVVVVVVVVVVVVVVVVVVVVVVVVVVVVVVVVVVVVVVVVVVVVVVVVVVVVVVVVVVVVVVVVVVVVVVVVVVVVVVVVVVVVVVVVVVVVVVVVVVVVVVVVVVVVVVVVVVVVVVVVVVVVVVVVVVVVVVVVVVVVVVVVVVVVVVVVVVVVVVVVVVVVVVVVVVVVVVVVVVVVVVVVVVVVVVVVVVVVVVVVVVVVVVVVVVVVVVVVVVVVVVVVVVVVVVVVVVVVVVVVVVVVVVVVVVVVVVVVVVVVVVVVVVVVVVVVVVVVVVVVVVVVVVVVVVVVVVVVVVVVVVVVVVVVVVVVVVVVVVVVVVVVVVVVVVVVVVVVVVVVVVVVVVVVVVVVVVVVVVVVVVVVVVVVVVVVVVVVVVVVVVVVVVVVVVVVVVVVVVVVVVVVVVVVVVVVVVVVVVVVVVVVVVVVVVVVVVVVVVVVVVVVVVVVVVVVVVVVVVVVVVVVVVV', 'TSL-97697-18', 'TSL-98395-18', 'TSL-97979-18', 'TSL-99380-18-RVVVVVVVVVVVVVVVVVVVVVVVVVVVVVVVVVVVVVVVVVVVVVVVVVVVVVVVVVVVVVVVVVVVVVVVVVVVVVVVVVVVVVVVVVVVVVVVVVVVVVVVVVVVVVVVVVVVVVVVVVVVVVVVVVVVVVVVVVVVVVVVVVVVVVVVVVVVVVVVVVVVVVVVVVVVVVVVVVVVVVVVVVVVVVVVVVVVVVVVVVVVVVVVVVVVVVVVVVVVVVVVVVVVVVVVVVVVVVVVVVVVVVVVVVVVVVVVVVVVVVVVVVVVVVVVVVVVVVVVVVVVVVVVVVVVVVVVVVVVVVVVVVVVVVVVVVVVVVVVVVVVVVVVVVVVVVVVVVVVVVVVVVVVVVVVVVVVVVVVVVVVVVVVVVVVVVVVVVVVVVVVVVVVVVVVVVVVVVVVVVVVVVVVVVVVVVVVVVVVVVVVVVVVVVVVVVVVVVVVVVVVVVVVVVVVVVVVVVVVVVVVVVVVVVVVVVVVVVVVVVVVVVVVVVVVVVVVVVVVVVV', 'TSL-06337-19-IN-INVIN-INVIN-IN-INVIN-IN-INVIN-INVIN-INVIN-INVIN-INVIN-INVIN-INVIN-INVIN-INVIN-INVIN-INVIN-INVIN-INVIN-INVIN-INVIN-INVIN-INVIN-INVIN-INVIN-INVIN-INVIN-INVIN-INVIN-INVIN-INVIN-INVIN-INVIN-INVAM', 'CEL-71370-17-RVVVVVVVVVVVVVVVVVVVVVVVVVVVVVVVVVVVVVVVVVVVVVVVVVVVVVVVVVVVVVVVVVVVVVVVVVVVVVVVVVVVVVVVVVVVVVVVVVVVVVVVVVVVVVVVVVVVVVVVVVVVVVVVVVVVVVVVVVVVVVVVVVVVVVVVVVVVVVVVVVVVVVVVVVVVVVVVVVVVVVVVVVVVVVVVVVVVVVVVVVVVVVVVVVVVVVVVVVVVVVVVVVVVVVVVVVVVVVVVVVVVVVVVVVVVVVVVVVVVVVVVVVVVVVVVVVVVVVVVVVVVVVVVVVVVVVVVVVVVVVVVVVVVVVVVVVVVVVVVVVVVVVVVVVVVVVVVVVVVVVVVVVVVVVVVVVVVVVVVVVVVVVVVVVVVVVVVVVVVVVVVVVVVVVVVVVVVVVVVVVVVVVVVVVVVVVVVVVVVVVVVVVVVVVVVVVVVVVVVVVVVVVVVVVVVVVVVVVVVVVVVVVVVVVVVVVVVVVVVVVVVVVVVVVVVVVVVVVVVVVV', 'CEL-736-17-RVVVVVVVVVVVVVVVVVVVVVVVVVVVVVVVVVVVVVVVVVVVVVVVVVVVVVVVVVVVVVVVVVVVVVVVVVVVVVVVVVVVVVVVVVVVVVVVVVVVVVVVVVVVVVVVVVVVVVVVVVVVVVVVVVVVVVVVVVVVVVVVVVVVVVVVVVVVVVVVVVVVVVVVVVVVVVVVVVVVVVVVVVVVVVVVVVVVVVVVVVVVVVVVVVVVVVVVVVVVVVVVVVVVVVVVVVVVVVVVVVVVVVVVVVVVVVVVVVVVVVVVVVVVVVVVVVVVVVVVVVVVVVL-VVVVVL-736-17', 'CEL-72199-17-17-17-17-17-17-17-17-17-17-17-AMVVVVVVVVVVVVVVVVVVVVVVVVVVVVVVVVVVVVVVVVVVVVVVVVVVVVVVVVVVVVVVVVVVVVVVVVVVVVVVVVVVVVVVVVVVVVVVVVVVVVVVVVVVVVVVVVVVVVVVVVVVVVVVVVVVVVVVVVVVVVVVVVVVVVVVVVVVVVVVVVVVVVVVVVVVVVVVVVVVVVVVVVVVVVVVVVVVVVVVVVVVVVVVVVVVVVVVVVVVVVVVVVVVVVVVVVVVVVVVVVVVVVVVVL-VVVVVVVVVVVL-72199-17-VVVVVVL-VVVVVVVVVL-72199-17-VVVVVVVVVVVVVVVVVL-VVVVVVVVVVVVVVVVVVVVVVVVVVVVVVVVVVVVVVVVVVL-VVVVVVVVVL-VVVVVL-72199-17-VVVVVVVVVVVL-72199-17-VVVVVVVVVVVVVVVVVVVVVVVVVVVVVVVVVVVVVVVVVVVVVVVVVVVVVVVVVVVVVVVVVVVVVVVVVVVVVVVVVVVVVVV', 'CEL-72209-18', 'CEL-08857-18-AM-AM-AM-AM-AM-AM', 'CEL-08859-18-AM-AM-AMVVVVVVVVVVVVVVVVVVVVVVVVVVVVVVVVVVVVVVVVVVVVVVVVVVVVVVVVVVVVVVVVVVVVVVVVVVVVVVVVVVVVVVVVVVVVVVVVVVVVVVVVVVVVVVVVVVVVVVVVVVVVVVVVVVVVVVVVVVVVVVVVVVVVVVVVVVVVVVVVVVVVVVVVVVVVVVVVVVVVVVVVVVVVVVVVVVVVVVVVVVVVVVVVVVVVVVVVVVVVVVVVVVVVVVVVVVVVVVVVVVVVVVVVVVVVVVVVVVVVVVVVVVVVVVVVVVVVVVVVVVVVVVVVVVVVVVVVVVVVVVVVVVVVVVVVVVVVVVVVVVVVVVVVVVVVVVVVVVVVVVVVVVVVVVVVVVVVVVVVVVVVVVVVVVVVVVVVVVVVVVVVVVVVVVVVVVVVVVVVVVVVVVVVVVVVVVVVVVVVVVVVVVVVVVVVVVVVVVVVVVVVVVVVVVVVVVVVVVVVVVVVVVVVVVVVVVVVVVVVVVVVVVVVVVVVVVVVVV', 'CEL-72919-18-AM-AM-AM-AM-AM-AM', 'CEL-72953-18-AM-AM-AM-AM-AM-AM-AM', 'CEL-72966-18-AM-AM-AM-AM-AM-AM', 'TEL-01869-19']\n",
      " \n",
      "Q2: What was the date of the hearing? [mm/dd/yyyy]\n",
      "Accuracy for this question is: 70.968%\n",
      "\n",
      "['2019-07-1600:00:00', '2017-05-2400:00:00', '2017-06-0200:00:00', '2017-06-0200:00:00', '2017-06-2300:00:00', '2017-07-0700:00:00', '2019-08-3000:00:00', '2017-06-3000:00:00', '2017-06-3000:00:00', '2018-10-0100:00:00', '2017-07-1000:00:00', '2018-10-0100:00:00', '2017-07-0700:00:00', '2018-10-0100:00:00', '2017-07-2400:00:00', '2017-08-1500:00:00', '2019-08-0900:00:00', '2018-10-0100:00:00', '2018-10-0100:00:00', '2019-07-0200:00:00', '2018-12-0600:00:00', '2019-08-2700:00:00', '2018-11-1900:00:00', '2018-11-2300:00:00', '2018-12-0400:00:00', '2018-11-0200:00:00', '2019-09-1900:00:00', '2017-01-1800:00:00', '2019-09-1200:00:00', '2017-01-0900:00:00', '2017-01-0900:00:00', '2017-01-0900:00:00', '2017-02-0300:00:00', '2017-02-0300:00:00', '2017-03-0300:00:00', '2017-03-1600:00:00', '2017-03-1600:00:00', '2019-07-3000:00:00', '2019-11-0100:00:00', '2019-10-1500:00:00', '2019-11-0700:00:00', '2019-12-1900:00:00', '2019-10-0900:00:00', '2018-10-1900:00:00', '2018-01-2800:00:00', '2019-05-0200:00:00', '2019-05-2900:00:00', '2018-11-2700:00:00', '2019-06-0600:00:00', '2018-11-0200:00:00', '2019-09-0500:00:00', '2019-09-0300:00:00', '2018-02-2700:00:00', '2018-01-2300:00:00', '2018-01-2300:00:00', '2018-02-2700:00:00', '2018-02-0800:00:00', '2018-02-0800:00:00', '2018-02-0500:00:00', '2018-02-0800:00:00', '2018-10-1900:00:00', '2019-08-1900:00:00']\n",
      " \n",
      "Q3: What was the date of the decision? [mm/dd/yyyy]\n",
      "Accuracy for this question is: 79.032%\n",
      "\n",
      "['2019-08-0900:00:00', '2017-06-0100:00:00', '2017-08-1500:00:00', '2017-06-1500:00:00', '2017-06-2600:00:00', '2017-07-2900:00:00', '2019-09-0300:00:00', '2017-06-0600:00:00', '2017-07-0500:00:00', '2018-10-0400:00:00', '2017-07-2400:00:00', '2018-10-0400:00:00', '2017-07-1800:00:00', '2018-10-0400:00:00', '2017-07-2700:00:00', '2017-08-1700:00:00', '2019-08-1400:00:00', '2018-10-0400:00:00', '2018-10-0400:00:00', '2019-07-0800:00:00', '2018-12-1300:00:00', '2019-09-0300:00:00', '2018-11-2300:00:00', '2018-11-2900:00:00', '2018-12-1200:00:00', '2018-11-2000:00:00', '2019-09-2400:00:00', '2017-01-1800:00:00', '2019-09-1700:00:00', '2017-01-0900:00:00', '2017-01-0900:00:00', '2017-01-0900:00:00', '2017-02-0300:00:00', '2017-02-0300:00:00', '2017-01-3000:00:00', '2017-03-2700:00:00', '2017-03-2800:00:00', '2020-01-1000:00:00', '2019-11-2000:00:00', '2019-10-1700:00:00', '2019-11-1500:00:00', '2019-12-0500:00:00', '2019-12-1300:00:00', '2019-03-1500:00:00', '2019-01-3000:00:00', '2019-05-1300:00:00', '2019-06-1100:00:00', '2018-10-2500:00:00', '2020-06-2300:00:00', '2019-01-0700:00:00', '2019-11-1900:00:00', '2019-09-0600:00:00', '2018-02-2700:00:00', '2018-01-2900:00:00', '2018-01-3000:00:00', '2018-06-2200:00:00', '2018-02-2000:00:00', '2018-01-2100:00:00', '2018-01-1500:00:00', '2018-02-1600:00:00', '2018-02-2700:00:00', '2019-08-2300:00:00']\n",
      " \n",
      "Q4: Who was the member adjudicating the decision?\n",
      "Accuracy for this question is: 90.323%\n",
      "\n",
      "['NicolaMulima', 'RuthCarey', 'LauraHartslief', 'LauraHartslief', 'RuthCarey', 'RuthCarey', 'ReneeLang', 'RuthCarey', 'RuthCarey', 'DaleWhitmore', 'ShelbyWhittick', 'DaleWhitmore', 'ShelbyWhittick', 'DaleWhitmore', 'JimMcMaster', 'LauraHartslief', 'ReneeLang', 'DaleWhitmore', 'DaleWhitmore', 'AnnaSolomon', 'NeeLang', 'AnnaSolomon', 'DavidLee', 'ReneeLang', 'DavidMungovan', 'DavidLee', 'ReneeLang', 'AvrilCardoso', 'AnnaSolomon', 'TiisetsoRussell', 'TiisetsoRussell', 'TiisetsoRussell', 'KarenWallace', 'AvrilCardoso', 'AvrilCardoso', 'KarenWallace', 'AvrilCardoso', 'SOlabode', 'AnnaSolomon', 'AnnaSolomon', 'DaleWhitmore', 'NicolaMulima', 'AnnaSolomon', 'NeeLang', 'DaleWhitmore', 'AnnaSolomon', 'AnnaSolomon', 'DavidLee', 'ROlabode', 'RoderickFlynn', 'AnnaSolomon', 'DaleWhitmore', 'KarenWallace', 'AvrilCardoso', 'AlexBrkic', 'LisaDelVecchio', 'AlexBrkic', 'AlexBrkic', 'AlexBrkic', 'AlexBrkic', 'DavidMungovan', 'RuthCarey']\n",
      " \n",
      "Q5: What was the location of the landlord tenant board?\n",
      "Accuracy for this question is: 85.48400000000001%\n",
      "\n",
      "['Toronto', 'Torontoby', 'Toronto', 'Toronto', 'Peterborough', 'Torontoby', 'Toronto', 'Torontoby', 'Torontoby', 'Toronto', 'Torontoby', 'Toronto', 'Toronto', 'Toronto', 'Torontoby', 'Torontosay', 'Toronto', 'Toronto', 'Toronto', 'Toronto', 'Toronto', 'Toronto', 'Toronto', 'Toronto', 'Toronto', 'Toronto', 'Toronto', 'Mississauga', 'Toronto', 'Mississauga', 'Mississauga', 'Mississauga', 'Mississauga', 'Mississauga', 'Mississauga', 'Mississauga', 'Mississauga', 'Toronto', 'Toronto', 'Toronto', 'Toronto', 'Toronto', 'Toronto', 'Toronto', 'Toronto', 'Toronto', 'Toronto', 'Toronto', 'Toronto', 'Toronto', 'Toronto', 'Toronto', 'Mississauga', 'Torontorie', 'Mississauga', 'Mississauga', 'Mississauga', 'Mississauga', 'Mississauga', 'Mississauga', 'Mississauga', 'Torontoby']\n",
      " \n",
      "Q6: Did the decision state the landlord was represented?\n",
      "Accuracy for this question is: 51.613%\n",
      "\n",
      "['No', 'No', 'No', 'Yes', 'Yes', 'No', 'No', 'No', 'No', 'Yes', 'No', 'Yes', 'No', 'Yes', 'No', 'No', 'No', 'No', 'Yes', 'Yes', 'No', 'No', 'No', 'No', 'No', 'No', 'No', 'No', 'No', 'No', 'No', 'No', 'No', 'No', 'No', 'No', 'Yes', 'No', 'No', 'No', 'No', 'No', 'No', 'No', 'Yes', 'No', 'No', 'No', 'Yes', 'No', 'No', 'No', 'No', 'Yes', 'No', 'Yes', 'No', 'No', 'Yes', 'No', 'No', 'No']\n",
      " \n",
      "Q7: Did the decision state the landlord attended the hearing?\n",
      "Accuracy for this question is: 45.161%\n",
      "\n",
      "['No', 'Yes', 'No', 'No', 'No', 'No', 'No', 'No', 'No', 'No', 'No', 'No', 'No', 'No', 'No', 'Yes', 'No', 'No', 'No', 'No', 'No', 'No', 'No', 'No', 'No', 'No', 'No', 'No', 'No', 'No', 'No', 'No', 'No', 'No', 'No', 'No', 'No', 'No', 'No', 'No', 'No', 'No', 'No', 'No', 'No', 'No', 'No', 'No', 'No', 'No', 'No', 'No', 'No', 'No', 'No', 'No', 'No', 'No', 'No', 'No', 'Yes', 'No']\n",
      " \n",
      "Q8: Did the decision state the tenant was represented?\n",
      "Accuracy for this question is: 90.323%\n",
      "\n",
      "['No', 'No', 'No', 'No', 'No', 'No', 'No', 'No', 'No', 'No', 'No', 'No', 'No', 'No', 'No', 'No', 'No', 'No', 'No', 'No', 'No', 'No', 'No', 'No', 'No', 'No', 'No', 'No', 'No', 'No', 'No', 'No', 'No', 'No', 'No', 'No', 'No', 'No', 'No', 'No', 'No', 'No', 'No', 'No', 'No', 'No', 'No', 'No', 'No', 'No', 'No', 'No', 'No', 'No', 'No', 'No', 'No', 'No', 'No', 'No', 'No', 'No']\n",
      " \n",
      "Q9: Did the decision state the tenant attended the hearing?\n",
      "Accuracy for this question is: 37.097%\n",
      "\n",
      "['No', 'Yes', 'No', 'No', 'No', 'No', 'No', 'No', 'No', 'No', 'No', 'No', 'No', 'No', 'No', 'Yes', 'No', 'No', 'No', 'No', 'No', 'No', 'No', 'No', 'No', 'No', 'No', 'No', 'No', 'No', 'No', 'No', 'No', 'No', 'No', 'No', 'No', 'No', 'No', 'No', 'No', 'No', 'No', 'No', 'No', 'No', 'No', 'No', 'No', 'No', 'No', 'No', 'No', 'No', 'No', 'No', 'No', 'No', 'No', 'No', 'Yes', 'No']\n",
      " \n",
      "Q10: Did the decision state the landlord was a not-for-profit landlord (e.g. Toronto Community Housing)?\n",
      "Accuracy for this question is: 98.387%\n",
      "\n",
      "['No', 'No', 'No', 'No', 'No', 'No', 'No', 'No', 'No', 'No', 'No', 'No', 'No', 'No', 'No', 'No', 'No', 'No', 'No', 'No', 'No', 'No', 'No', 'No', 'No', 'No', 'No', 'No', 'No', 'No', 'No', 'No', 'No', 'No', 'No', 'No', 'No', 'No', 'No', 'No', 'No', 'No', 'No', 'No', 'No', 'No', 'No', 'No', 'No', 'No', 'No', 'No', 'No', 'No', 'No', 'No', 'No', 'No', 'No', 'No', 'No', 'No']\n",
      " \n",
      "Q11: Did the decision state the tenant was collecting a subsidy?\n",
      "Accuracy for this question is: 91.935%\n",
      "\n",
      "['No', 'No', 'No', 'No', 'No', 'No', 'No', 'No', 'No', 'No', 'No', 'No', 'No', 'No', 'No', 'No', 'No', 'No', 'No', 'No', 'No', 'No', 'No', 'No', 'No', 'No', 'No', 'No', 'No', 'No', 'No', 'No', 'No', 'No', 'No', 'No', 'No', 'No', 'No', 'No', 'No', 'No', 'No', 'No', 'No', 'No', 'No', 'No', 'No', 'No', 'No', 'No', 'No', 'No', 'No', 'No', 'No', 'No', 'No', 'No', 'No', 'No']\n",
      " \n",
      "Q12: What was the outcome of the case?\n",
      "Accuracy for this question is: 56.452000000000005%\n",
      "\n",
      "['Norelief', 'Norelief', 'Norelief', 'Norelief', 'Norelief', 'Norelief', 'Norelief', 'Norelief', 'Norelief', 'Norelief', 'Norelief', 'Norelief', 'Norelief', 'Norelief', 'Norelief', 'Norelief', 'Norelief', 'Norelief', 'Norelief', 'Norelief', 'Norelief', 'Norelief', 'Norelief', 'Norelief', 'Norelief', 'Norelief', 'Norelief', 'Norelief', 'Norelief', 'Norelief', 'Norelief', 'Norelief', 'Norelief', 'Norelief', 'Norelief', 'Norelief', 'Norelief', 'Norelief', 'Norelief', 'Norelief', 'Norelief', 'Norelief', 'Norelief', 'Norelief', 'Norelief', 'Norelief', 'Norelief', 'Norelief', 'Norelief', 'Norelief', 'Norelief', 'Norelief', 'Norelief', 'Norelief', 'Norelief', 'Norelief', 'Norelief', 'Norelief', 'Norelief', 'Norelief', 'Norelief', 'Norelief']\n",
      " \n",
      "Q13: What was the length of the tenancy, or in other words, how long had the tenants lived at the residence in question? \n",
      "Accuracy for this question is: 82.258%\n",
      "\n",
      "['Notstated', 'Notstated', 'Notstated', 'Notstated', 'Notstated', 'Notstated', 'Notstated', 'Notstated', 'Notstated', 'Notstated', 'Notstated', 'Notstated', 'Notstated', 'Notstated', 'Notstated', 'Notstated', 'Notstated', 'Notstated', 'Notstated', 'Notstated', 'Notstated', 'Notstated', 'Notstated', 'Notstated', 'Notstated', 'Notstated', 'Notstated', 'Notstated', 'Notstated', 'Notstated', 'Notstated', 'Notstated', 'Notstated', 'Notstated', 'Notstated', 'Notstated', 'Notstated', 'Notstated', 'Notstated', 'Notstated', 'Notstated', 'Notstated', 'Notstated', 'Notstated', 'Notstated', 'Notstated', 'Notstated', 'Notstated', 'Notstated', 'Notstated', 'Notstated', 'Notstated', 'Notstated', 'Notstated', 'Notstated', 'Notstated', 'Notstated', 'Notstated', 'Notstated', 'Notstated', 'Notstated', 'notstated']\n",
      " \n",
      "Q14: What was the monthly rent?\n",
      "Accuracy for this question is: 53.226%\n",
      "\n",
      "['Notstated', 'Notstated', 'Notstated', 'Notstated', '75050.09', 'Notstated', 'Notstated', 'Notstated', 'Notstated', 'Notstated', 'Notstated', 'Notstated', 'Notstated', 'Notstated', 'Notstated', 'Notstated', 'Notstated', 'Notstated', 'Notstated', 'Notstated', 'Notstated', 'Notstated', '80000', 'Notstated', 'Notstated', 'Notstated', 'Notstated', 'Notstated', 'Notstated', 'Notstated', 'Notstated', 'Notstated', 'Notstated', 'Notstated', 'Notstated', 'Notstated', 'Notstated', 'Notstated', 'Notstated', 'Notstated', 'Notstated', 'Notstated', 'Notstated', 'Notstated', 'Notstated', 'Notstated', 'Notstated', 'Notstated', 'Notstated', 'Notstated', 'Notstated', 'Notstated', 'Notstated', 'Notstated', 'Notstated', 'Notstated', '975', '75050.75', 'Notstated', 'Notstated', 'Notstated', 'notstated']\n",
      " \n",
      "Q15: What was the amount of the rental deposit? \n",
      "Accuracy for this question is: 30.645%\n",
      "\n",
      "['Notstated', 'notstated', 'Notstated', '950', '75050.41', 'Notstated', '1300', '1300', '1300', 'Notstated', 'Notstated', 'Notstated', '1350.75', 'Notstated', 'notstated', '830', '090.9', 'Notstated', 'Notstated', '939.21', 'Notstated', '80000', '80000', '180000', '70000', '780', 'Notstated', 'Notstated', '200000', 'Notstated', '000', 'Notstated', 'Notstated', '80000', 'Notstated', 'Notstated', '800', '180000', 'Notstated', '980', 'Notstated', 'Notstated', 'Notstated', 'Notstated', 'Notstated', 'Notstated', 'Notstated', 'Notstated', '80000', 'Notstated', 'Notstated', 'Notstated', 'Notstated', 'Notstated', 'Notstated', 'Notstated', '975', '75050.75', 'Notstated', 'Notstated', '1350.41', 'notstated']\n",
      " \n",
      "Q16: What was the total amount of arrears?\n",
      "Accuracy for this question is: 12.903%\n",
      "\n",
      "['Notstated', '6700(monthlylylylylylylylylylylylylylylylylylylylylylylylylylystated', '67200(monthlylylylylylylylylylylylylylylylylylylylylylylylylylystated', '6700(monthlylylylylylylylylylylylylylylylylylylylylylylylylylystated', '6700(monthlylylylylylylylylylylylylylylylylylylylylylylylylylystated', '6700(monthlylylylylylylylylylylylylylylylylylylylylylylylylylystated', 'Notstated', '6700(monthlylylylylylylylylylylylylylylylylylylylylylylylylylystated', '6700(monthlylylylylylylylylylylylylylylylylylylylylylylylylylystated', 'Notstated', '67200(monthlylylylylylylylylylylylylylylylylylylylylylylylylylystated', 'Notstated', '6750.75', 'Notstated', '6700(monthlylylylylylylylylylylylylylylylylylylylylylylylylylystated', '6700(monthlylylylylylylylylylylylylylylylylylylylylylylylylylystated', 'Notstated', 'Notstated', 'Notstated', '3900(monthlylylylylylylylylylylylylylylylylylylylylylylylylylystated', 'Notstated', 'Notstated', 'Notstated', 'Notstated', 'Notstated', 'Notstated', 'Notstated', 'Notstated', 'Notstated', 'Notstated', '6700(monthlylylylylylylylylylylylylylylylylylylylylylylylylylystated', 'Notstated', '6700(monthlylylylylylylylylylylylylylylylylylylylylylylylylylystated', 'Notstated', 'Notstated', '6700(monthlylylylylylylylylylylylylylylylylylylylylylylylylylystated', 'Notstated', 'Notstated', 'Notstated', 'Notstated', 'Notstated', 'Notstated', 'Notstated', 'Notstated', 'Notstated', 'Notstated', 'Notstated', 'Notstated', 'Notstated', 'Notstated', 'Notstated', 'Notstated', 'Notstated', 'Notstated', 'Notstated', 'Notstated', 'Notstated', 'Notstated', 'Notstated', 'Notstated', '6750.73', 'notstated']\n",
      " \n",
      "Q17: Over how many months did the arrears accumulate? \n",
      "Accuracy for this question is: 17.742%\n",
      "\n",
      "['4', '4', '4', '4', '4', '4', '3', '4', '4', '4', '4', '4', '4', '4', '4', '4', '4', '4', '4', '4', 'Notstated', '4', '4', '3', '3', '4', '3', '3', '4', '4', '4', '3', '4', '4', '3', '4', '3', '4', '3', 'Notstated', '4', '4', 'Notstated', 'Notstated', '4', 'Notstated', '4', '4', '4', '4', 'Notstated', 'Notstated', '4', '3', '3', '3', '3', '3', '3', '3', '4', 'notstated']\n",
      " \n",
      "Q18: If the tenant made a payment on the arrears after the eviction notice was served and/or prior to the hearing, what was the amount of the payment? \n",
      "Accuracy for this question is: 67.742%\n",
      "\n",
      "['Notstated', 'Notstated', 'Notstated', 'Notstated', 'Notstated', 'Notstated', 'Notstated', 'Notstated', 'Notstated', 'Notstated', 'Notstated', 'Notstated', 'Notstated', 'Notstated', 'Notstated', 'Notstated', 'Notstated', 'Notstated', 'Notstated', 'Notstated', 'Notstated', 'Notstated', 'Notstated', 'Notstated', 'Notstated', 'Notstated', 'Notstated', 'Notstated', 'Notstated', 'Notstated', 'Notstated', 'Notstated', 'Notstated', 'Notstated', 'Notstated', 'Notstated', 'Notstated', 'Notstated', 'Notstated', 'Notstated', 'Notstated', 'Notstated', 'Notstated', 'Notstated', 'Notstated', 'Notstated', 'Notstated', 'Notstated', 'Notstated', 'Notstated', 'Notstated', 'Notstated', 'Notstated', 'Notstated', 'Notstated', 'Notstated', 'Notstated', 'Notstated', 'Notstated', 'Notstated', 'Notstated', 'notstated']\n",
      " \n",
      "Q19: Did the decision mention a history of arrears by the tenant separate from the arrears in the current claim (more than one period of arrears, recurrently coming in and out of arrears, arrears with previous landlord, etc.)?\n",
      "Accuracy for this question is: 95.161%\n",
      "\n",
      "['No', 'No', 'No', 'No', 'No', 'No', 'No', 'No', 'No', 'No', 'No', 'No', 'No', 'No', 'No', 'No', 'No', 'No', 'No', 'No', 'No', 'No', 'No', 'No', 'No', 'No', 'No', 'No', 'No', 'No', 'No', 'No', 'No', 'No', 'No', 'No', 'No', 'No', 'No', 'No', 'No', 'No', 'No', 'No', 'No', 'No', 'No', 'No', 'No', 'No', 'No', 'No', 'No', 'No', 'No', 'No', 'No', 'No', 'No', 'No', 'No', 'No']\n",
      " \n",
      "Q20: If the tenant had a history of arrears, did the decision mention a history of the tenant making payments on those arrears (separate from any payments made in response to the present eviction notice/hearing)?\n",
      "Accuracy for this question is: 91.935%\n",
      "\n",
      "['Notstated', 'Notstated', 'Notstated', 'Notstated', 'Notstated', 'Notstated', 'Notstated', 'Notstated', 'Notstated', 'Notstated', 'Notstated', 'Notstated', 'Notstated', 'Notstated', 'Notstated', 'Notstated', 'Notstated', 'Notstated', 'Notstated', 'Notstated', 'Notstated', 'Notstated', 'Notstated', 'Notstated', 'Notstated', 'Notstated', 'Notstated', 'Notstated', 'Notstated', 'Notstated', 'Notstated', 'Notstated', 'Notstated', 'Notstated', 'Notstated', 'Notstated', 'Notstated', 'Notstated', 'Notstated', 'Notstated', 'Notstated', 'Notstated', 'Notstated', 'Notstated', 'Notstated', 'Notstated', 'Notstated', 'Notstated', 'Notstated', 'Notstated', 'Notstated', 'Notstated', 'Notstated', 'Notstated', 'Notstated', 'Notstated', 'Notstated', 'Notstated', 'Notstated', 'Notstated', 'Notstated', 'Notstated']\n",
      " \n",
      "Q21: How frequently were rent payments made late?\n",
      "Accuracy for this question is: 87.09700000000001%\n",
      "\n",
      "['Notstated', 'Notstated', 'Notstated', 'Notstated', 'Notstated', 'Notstated', 'Notstated', 'Notstated', 'Notstated', 'Notstated', 'Notstated', 'Notstated', 'Notstated', 'Notstated', 'Notstated', 'Notstated', 'Notstated', 'Notstated', 'Notstated', 'Notstated', 'Notstated', 'Notstated', 'Notstated', 'Notstated', 'Notstated', 'Notstated', 'Notstated', 'Notstated', 'Notstated', 'Notstated', 'Notstated', 'Notstated', 'Notstated', 'Notstated', 'Notstated', 'Notstated', 'Notstated', 'Notstated', 'Notstated', 'Notstated', 'Notstated', 'Notstated', 'Notstated', 'Notstated', 'Notstated', 'Notstated', 'Notstated', 'Notstated', 'Notstated', 'Notstated', 'Notstated', 'Notstated', 'Notstated', 'Notstated', 'Notstated', 'Notstated', 'Notstated', 'Notstated', 'Notstated', 'Notstated', 'Notstated', 'notstated']\n",
      " \n",
      "Q22: Did the member find the tenant had or seemed to have the ability to pay rent, but chose not do so?\n",
      "Accuracy for this question is: 98.387%\n",
      "\n",
      "['No', 'No', 'No', 'No', 'No', 'No', 'No', 'No', 'No', 'No', 'No', 'No', 'No', 'No', 'No', 'No', 'No', 'No', 'No', 'No', 'No', 'No', 'No', 'No', 'No', 'No', 'No', 'No', 'No', 'No', 'No', 'No', 'No', 'No', 'No', 'No', 'No', 'No', 'No', 'No', 'No', 'No', 'No', 'No', 'No', 'No', 'No', 'No', 'No', 'No', 'No', 'No', 'No', 'No', 'No', 'No', 'No', 'No', 'No', 'No', 'No', 'No']\n",
      " \n",
      "Q23: What were the specific mental, medical, or physical conditions of the tenant, if any? \n",
      "Accuracy for this question is: 82.258%\n",
      "\n",
      "['Notstated', 'Notstated', 'Notstated', 'Notstated', 'Notstated', 'Notstated', 'Notstated', 'Notstated', 'Notstated', 'Notstated', 'Notstated', 'Notstated', 'Notstated', 'Notstated', 'Notstated', 'Notstated', 'Notstated', 'Notstated', 'Notstated', 'Notstated', 'Notstated', 'Notstated', 'Notstated', 'Notstated', 'Notstated', 'Notstated', 'Notstated', 'Notstated', 'Notstated', 'Notstated', 'Notstated', 'Notstated', 'Notstated', 'Notstated', 'Notstated', 'Notstated', 'Notstated', 'Notstated', 'Notstated', 'Notstated', 'Notstated', 'Notstated', 'Notstated', 'Notstated', 'Notstated', 'Notstated', 'Notstated', 'Notstated', 'Notstated', 'Notstated', 'Notstated', 'Notstated', 'Notstated', 'Notstated', 'Notstated', 'Notstated', 'Notstated', 'Notstated', 'Notstated', 'Notstated', 'Notstated', 'notstated']\n",
      " \n",
      "Q24: Did the decision state that the tenant had children living with them?\n",
      "Accuracy for this question is: 80.645%\n",
      "\n",
      "['No', 'No', 'No', 'No', 'No', 'No', 'No', 'No', 'No', 'No', 'No', 'No', 'No', 'No', 'No', 'No', 'No', 'No', 'No', 'No', 'No', 'No', 'No', 'No', 'No', 'No', 'No', 'No', 'No', 'No', 'No', 'No', 'No', 'No', 'No', 'No', 'No', 'No', 'No', 'No', 'No', 'No', 'No', 'No', 'No', 'No', 'No', 'No', 'No', 'No', 'No', 'No', 'No', 'No', 'No', 'No', 'No', 'No', 'No', 'No', 'No', 'No']\n",
      " \n",
      "Q25: Was the tenant employed at the time of the hearing?\n",
      "Accuracy for this question is: 74.194%\n",
      "\n",
      "['Notstated', 'Notstated', 'Notstated', 'Notstated', 'Notstated', 'Notstated', 'Notstated', 'Notstated', 'Notstated', 'Notstated', 'Notstated', 'Notstated', 'Notstated', 'Notstated', 'Notstated', 'Notstated', 'Notstated', 'Notstated', 'Notstated', 'Notstated', 'Notstated', 'Notstated', 'Notstated', 'Notstated', 'Notstated', 'Notstated', 'Notstated', 'Notstated', 'Notstated', 'Notstated', 'Notstated', 'Notstated', 'Notstated', 'Notstated', 'Notstated', 'Notstated', 'Notstated', 'Notstated', 'Notstated', 'Notstated', 'Notstated', 'Notstated', 'Notstated', 'Notstated', 'Notstated', 'Notstated', 'Notstated', 'Notstated', 'Notstated', 'Notstated', 'Notstated', 'Notstated', 'Notstated', 'Notstated', 'Notstated', 'Notstated', 'Notstated', 'Notstated', 'Notstated', 'Notstated', 'Notstated', 'Notstated']\n",
      " \n",
      "Q26: If the tenant was not employed, did the decision state the tenant was receiving any form of government assistance (e.g. OW, childcare benefits, ODSP, OSAP)?\n",
      "Accuracy for this question is: 85.48400000000001%\n",
      "\n",
      "['Notstated', 'Notstated', 'Notstated', 'Notstated', 'Notstated', 'Notstated', 'Notstated', 'Notstated', 'Notstated', 'Notstated', 'Notstated', 'Notstated', 'Notstated', 'Notstated', 'Notstated', 'Notstated', 'Notstated', 'Notstated', 'Notstated', 'Notstated', 'Notstated', 'Notstated', 'Notstated', 'Notstated', 'Notstated', 'Notstated', 'Notstated', 'Notstated', 'Notstated', 'Notstated', 'Notstated', 'Notstated', 'Notstated', 'Notstated', 'Notstated', 'Notstated', 'Notstated', 'Notstated', 'Notstated', 'Notstated', 'Notstated', 'Notstated', 'Notstated', 'Notstated', 'Notstated', 'Notstated', 'Notstated', 'Notstated', 'Notstated', 'Notstated', 'Notstated', 'Notstated', 'Notstated', 'Notstated', 'Notstated', 'Notstated', 'Notstated', 'Notstated', 'Notstated', 'Notstated', 'Notstated', 'Notstated']\n",
      " \n",
      "Q27: If the tenant was employed, did the decision state any doubts about the stability of employment e.g. lack of guaranteed hours, contract work, etc.?\n",
      "Accuracy for this question is: 80.645%\n",
      "\n",
      "['Notstated', 'Notstated', 'Notstated', 'Notstated', 'Notstated', 'Notstated', 'Notstated', 'Notstated', 'Notstated', 'Notstated', 'Notstated', 'Notstated', 'Notstated', 'Notstated', 'Notstated', 'Notstated', 'Notstated', 'Notstated', 'Notstated', 'Notstated', 'Notstated', 'Notstated', 'Notstated', 'Notstated', 'Notstated', 'Notstated', 'Notstated', 'Notstated', 'Notstated', 'Notstated', 'Notstated', 'Notstated', 'Notstated', 'Notstated', 'Notstated', 'Notstated', 'Notstated', 'Notstated', 'Notstated', 'Notstated', 'Notstated', 'Notstated', 'Notstated', 'Notstated', 'Notstated', 'Notstated', 'Notstated', 'Notstated', 'Notstated', 'Notstated', 'Notstated', 'Notstated', 'Notstated', 'Notstated', 'Notstated', 'Notstated', 'Notstated', 'Notstated', 'Notstated', 'Notstated', 'Notstated', 'Notstated']\n",
      " \n",
      "Q28: Did the member find the tenant had sufficient income to pay rent?\n",
      "Accuracy for this question is: 91.935%\n",
      "\n",
      "['No', 'No', 'No', 'No', 'No', 'No', 'No', 'No', 'No', 'No', 'No', 'No', 'No', 'No', 'No', 'No', 'No', 'No', 'No', 'No', 'No', 'No', 'No', 'No', 'No', 'No', 'No', 'No', 'No', 'No', 'No', 'No', 'No', 'No', 'No', 'No', 'No', 'No', 'No', 'No', 'No', 'No', 'No', 'No', 'No', 'No', 'No', 'No', 'No', 'No', 'No', 'No', 'No', 'No', 'No', 'No', 'No', 'No', 'No', 'No', 'No', 'No']\n",
      " \n",
      "Q29: What was the total income of the tenant’s household? \n",
      "Accuracy for this question is: 90.323%\n",
      "\n",
      "['Notstated', 'Notstated', 'Notstated', 'Notstated', 'Notstated', 'Notstated', 'Notstated', 'Notstated', 'Notstated', 'Notstated', 'Notstated', 'Notstated', 'Notstated', 'Notstated', 'Notstated', 'Notstated', 'Notstated', 'Notstated', 'Notstated', 'Notstated', 'Notstated', 'Notstated', 'Notstated', 'Notstated', 'Notstated', 'Notstated', 'Notstated', 'Notstated', 'Notstated', 'Notstated', 'Notstated', 'Notstated', 'Notstated', 'Notstated', 'Notstated', 'Notstated', 'Notstated', 'Notstated', 'Notstated', 'Notstated', 'Notstated', 'Notstated', 'Notstated', 'Notstated', 'Notstated', 'Notstated', 'Notstated', 'Notstated', 'Notstated', 'Notstated', 'Notstated', 'Notstated', 'Notstated', 'Notstated', 'Notstated', 'Notstated', 'Notstated', 'Notstated', 'Notstated', 'Notstated', 'Notstated', 'notstated']\n",
      " \n",
      "Q30: Did the decision mention the tenant lost their job leading up to or during the period of the hearing?\n",
      "Accuracy for this question is: 96.774%\n",
      "\n",
      "['No', 'No', 'No', 'No', 'No', 'No', 'No', 'No', 'No', 'No', 'No', 'No', 'No', 'No', 'No', 'No', 'No', 'No', 'No', 'No', 'No', 'No', 'No', 'No', 'No', 'No', 'No', 'No', 'No', 'No', 'No', 'No', 'No', 'No', 'No', 'No', 'No', 'No', 'No', 'No', 'No', 'No', 'No', 'No', 'No', 'No', 'No', 'No', 'No', 'No', 'No', 'No', 'No', 'No', 'No', 'No', 'No', 'No', 'No', 'No', 'No', 'No']\n",
      " \n",
      "Q31: Did the decision mention any other extenuating circumstances experienced by the tenant leading up to or during the period of the claim (e.g. hospitalization, death in the family, etc.)?\n",
      "Accuracy for this question is: 82.258%\n",
      "\n",
      "['Notstated', 'Notstated', 'Notstated', 'Notstated', 'Notstated', 'Notstated', 'Notstated', 'Notstated', 'Notstated', 'Notstated', 'Notstated', 'Notstated', 'Notstated', 'Notstated', 'Notstated', 'Notstated', 'Notstated', 'Notstated', 'Notstated', 'Notstated', 'Notstated', 'Notstated', 'Notstated', 'Notstated', 'Notstated', 'Notstated', 'Notstated', 'Notstated', 'Notstated', 'Notstated', 'Notstated', 'Notstated', 'Notstated', 'Notstated', 'Notstated', 'Notstated', 'Notstated', 'Notstated', 'Notstated', 'Notstated', 'Notstated', 'Notstated', 'Notstated', 'Notstated', 'Notstated', 'Notstated', 'Notstated', 'Notstated', 'Notstated', 'Notstated', 'Notstated', 'Notstated', 'Notstated', 'Notstated', 'Notstated', 'Notstated', 'Notstated', 'Notstated', 'Notstated', 'Notstated', 'Notstated', 'notstated']\n",
      " \n",
      "Q32: Did the tenant propose a payment plan?\n",
      "Accuracy for this question is: 80.645%\n",
      "\n",
      "['No', 'No', 'No', 'No', 'No', 'No', 'No', 'No', 'No', 'No', 'No', 'No', 'No', 'No', 'No', 'No', 'No', 'No', 'No', 'No', 'No', 'No', 'No', 'No', 'No', 'No', 'No', 'No', 'No', 'No', 'No', 'No', 'No', 'No', 'No', 'No', 'No', 'No', 'No', 'No', 'No', 'No', 'No', 'No', 'No', 'No', 'No', 'No', 'No', 'No', 'No', 'No', 'No', 'No', 'No', 'No', 'No', 'No', 'No', 'No', 'No', 'No']\n",
      " \n",
      "Q33: If the tenant did propose a payment plan, did the member accept the proposed payment plan?\n",
      "Accuracy for this question is: 82.258%\n",
      "\n",
      "['Notstated', 'No', 'Notstated', 'Notstated', 'Notstated', 'Notstated', 'Notstated', 'Notstated', 'Notstated', 'Notstated', 'Notstated', 'Notstated', 'Notstated', 'Notstated', 'Notstated', 'Notstated', 'Notstated', 'Notstated', 'Notstated', 'Notstated', 'Notstated', 'Notstated', 'Notstated', 'Notstated', 'Notstated', 'Notstated', 'Notstated', 'Notstated', 'Notstated', 'Notstated', 'Notstated', 'Notstated', 'Notstated', 'Notstated', 'Notstated', 'Notstated', 'Notstated', 'Notstated', 'Notstated', 'Notstated', 'Notstated', 'Notstated', 'Notstated', 'Notstated', 'Notstated', 'Notstated', 'Notstated', 'Notstated', 'Notstated', 'Notstated', 'Notstated', 'Notstated', 'Notstated', 'Notstated', 'Notstated', 'Notstated', 'Notstated', 'Notstated', 'Notstated', 'Notstated', 'Notstated', 'Notstated']\n",
      " \n",
      "Q34: Did the decision mention the tenant’s difficulty finding alternative housing for any reason e.g.physical limitations, reliance on social assistance, etc.?\n",
      "Accuracy for this question is: 85.48400000000001%\n",
      "\n",
      "['No', 'No', 'No', 'No', 'No', 'No', 'No', 'No', 'No', 'No', 'No', 'No', 'No', 'No', 'No', 'No', 'No', 'No', 'No', 'No', 'No', 'No', 'No', 'No', 'No', 'No', 'No', 'No', 'No', 'No', 'No', 'No', 'No', 'No', 'No', 'No', 'No', 'No', 'No', 'No', 'No', 'No', 'No', 'No', 'No', 'No', 'No', 'No', 'No', 'No', 'No', 'No', 'No', 'No', 'No', 'No', 'No', 'No', 'No', 'No', 'No', 'No']\n",
      " \n",
      "Q35: Did the decision state the tenant was given prior notice for the eviction?\n",
      "Accuracy for this question is: 93.548%\n",
      "\n",
      "['Yes', 'Yes', 'Yes', 'Yes', 'Yes', 'Yes', 'Yes', 'Yes', 'Yes', 'Yes', 'Yes', 'Yes', 'Yes', 'Yes', 'Yes', 'Yes', 'Yes', 'Yes', 'Yes', 'Yes', 'Yes', 'Yes', 'Yes', 'Yes', 'Yes', 'Yes', 'Yes', 'Yes', 'Yes', 'Yes', 'Yes', 'Yes', 'Yes', 'Yes', 'Yes', 'Yes', 'Yes', 'Yes', 'Yes', 'Yes', 'Yes', 'Yes', 'Yes', 'Yes', 'Yes', 'Yes', 'Yes', 'Yes', 'Yes', 'Yes', 'Yes', 'Yes', 'Yes', 'Yes', 'Yes', 'Yes', 'Yes', 'Yes', 'Yes', 'Yes', 'Yes', 'Yes']\n",
      " \n",
      "Q36: Did the decisions state postponement would result in the tenant accruing additional arrears?\n",
      "Accuracy for this question is: 50.0%\n",
      "\n",
      "['No', 'No', 'No', 'No', 'No', 'No', 'No', 'No', 'No', 'No', 'No', 'No', 'No', 'No', 'No', 'No', 'No', 'No', 'No', 'No', 'No', 'No', 'No', 'No', 'No', 'No', 'No', 'No', 'No', 'No', 'No', 'No', 'No', 'No', 'No', 'No', 'No', 'No', 'No', 'No', 'No', 'No', 'No', 'No', 'No', 'No', 'No', 'No', 'No', 'No', 'No', 'No', 'No', 'No', 'No', 'No', 'No', 'No', 'No', 'No', 'No', 'No']\n",
      " \n",
      "Q37: Which other specific applications of the landlord or the tenant were mentioned?\n",
      "Accuracy for this question is: 37.097%\n",
      "\n",
      "['Nootherspecificapplicationswerementioned', 'Nootherspecificapplicationswerementioned', 'Nootherspecificapplicationswerementioned', 'Nootherspecificapplicationswerementioned', 'Nootherspecificapplicationswerementioned', 'Nootherspecificapplicationswerementioned', 'Nootherspecificapplicationswerementioned', 'Nootherspecificapplicationswerementioned', 'Nootherspecificapplicationswerementioned', 'Nootherspecificapplicationswerementioned', 'Nootherspecificapplicationswerementioned', 'Nootherspecificapplicationswerementioned', 'Nootherspecificapplicationswerementioned', 'Nootherspecificapplicationswerementioned', 'Nootherspecificapplicationswerementioned', 'Nootherspecificapplicationswerementioned', 'Nootherspecificapplicationswerementioned', 'Nootherspecificapplicationswerementioned', 'Nootherspecificapplicationswerementioned', 'Nootherspecificapplicationswerementioned', 'Nootherspecificapplicationswerementioned', 'Nootherspecificapplicationswerementioned', 'Nootherspecificapplicationswerementioned', 'Nootherspecificapplicationswerementioned', 'Nootherspecificapplicationswerementioned', 'Nootherspecificapplicationswerementioned', 'Nootherspecificapplicationswerementioned', 'Nootherspecificapplicationswerementioned', 'Nootherspecificapplicationswerementioned', 'Nootherspecificapplicationswerementioned', 'Nootherspecificapplicationswerementioned', 'Nootherspecificapplicationswerementioned', 'Nootherspecificapplicationswerementioned', 'Nootherspecificapplicationswerementioned', 'Nootherspecificapplicationswerementioned', 'Nootherspecificapplicationswerementioned', 'Nootherspecificapplicationswerementioned', 'Nootherspecificapplicationswerementioned', 'Nootherspecificapplicationswerementioned', 'Nootherspecificapplicationswerementioned', 'Nootherspecificapplicationswerementioned', 'Nootherspecificapplicationswerementioned', 'Nootherspecificapplicationswerementioned', 'Nootherspecificapplicationswerementioned', 'Nootherspecificapplicationswerementioned', 'Nootherspecificapplicationswerementioned', 'Nootherspecificapplicationswerementioned', 'Nootherspecificapplicationswerementioned', 'Nootherspecificapplicationswerementioned', 'Nootherspecificapplicationswerementioned', 'Nootherspecificapplicationswerementioned', 'Nootherspecificapplicationswerementioned', 'Nootherspecificapplicationswerementioned', 'Nootherspecificapplicationswerementioned', 'Nootherspecificapplicationswerementioned', 'Nootherspecificapplicationswerementioned', 'Nootherspecificapplicationswerementioned', 'Nootherspecificapplicationswerementioned', 'Nootherspecificapplicationswerementioned', 'Nootherspecificapplicationswerementioned', 'Nootherspecificapplicationswerementioned', 'Nootherspecificapplicationswerementioned']\n",
      " \n",
      "Q38: Did the decision mention the validity of an N4 eviction notice?\n",
      "Accuracy for this question is: 88.71%\n",
      "\n",
      "['No', 'No', 'No', 'No', 'No', 'No', 'No', 'No', 'No', 'No', 'No', 'No', 'No', 'No', 'No', 'No', 'No', 'No', 'No', 'No', 'No', 'No', 'No', 'No', 'No', 'No', 'No', 'No', 'No', 'No', 'No', 'No', 'No', 'No', 'No', 'No', 'No', 'No', 'No', 'No', 'No', 'No', 'No', 'No', 'No', 'No', 'No', 'No', 'No', 'No', 'No', 'No', 'No', 'No', 'No', 'No', 'No', 'No', 'No', 'No', 'No', 'No']\n",
      " \n",
      "Q39: Were there detail(s) in the decision not captured by this questionnaire that should be included?\n",
      "Accuracy for this question is: 56.452000000000005%\n",
      "\n",
      "['Notstated', 'Notstated', 'Notstated', 'Notstated', 'Notstated', 'Notstated', 'Notstated', 'Notstated', 'Notstated', 'Notstated', 'Notstated', 'Notstated', 'Notstated', 'Notstated', 'Notstated', 'Notstated', 'Notstated', 'Notstated', 'Notstated', 'Notstated', 'Notstated', 'Notstated', 'Notstated', 'Notstated', 'Notstated', 'Notstated', 'Notstated', 'Notstated', 'Notstated', 'Notstated', 'Notstated', 'Notstated', 'Notstated', 'Notstated', 'Notstated', 'Notstated', 'Notstated', 'Notstated', 'Notstated', 'Notstated', 'Notstated', 'Notstated', 'Notstated', 'Notstated', 'Notstated', 'Notstated', 'Notstated', 'Notstated', 'Notstated', 'Notstated', 'Notstated', 'Notstated', 'Notstated', 'Notstated', 'Notstated', 'Notstated', 'Notstated', 'Notstated', 'Notstated', 'Notstated', 'Notstated', 'Notstated']\n",
      " \n"
     ]
    },
    {
     "data": {
      "text/plain": [
       "0.7249794871794872"
      ]
     },
     "execution_count": 58,
     "metadata": {},
     "output_type": "execute_result"
    }
   ],
   "source": [
    "acc_lst = []\n",
    "with open ('LED_allqs_preds.txt', 'w', encoding='utf-8') as p:\n",
    "    for i in range(0, val_df.shape[1]):\n",
    "        p.write(f'Q{i+1}: {val_df.columns[i]}\\n')\n",
    "        acc, preds = answer_qs(val_df, i, tokenizer)\n",
    "        acc_lst.append(acc)\n",
    "        print(preds)\n",
    "        print(' ')\n",
    "        p.write(str(preds)+'\\n')\n",
    "        p.write('\\n')\n",
    "        del preds\n",
    "        gc.collect()\n",
    "avg_acc = sum(acc_lst) / len(acc_lst)\n",
    "avg_acc"
   ]
  },
  {
   "cell_type": "code",
   "execution_count": 59,
   "id": "84c1573e-dfb6-4cc1-b972-0a237564f8b8",
   "metadata": {},
   "outputs": [
    {
     "data": {
      "text/plain": [
       "[0.54839,\n",
       " 0.70968,\n",
       " 0.79032,\n",
       " 0.90323,\n",
       " 0.85484,\n",
       " 0.51613,\n",
       " 0.45161,\n",
       " 0.90323,\n",
       " 0.37097,\n",
       " 0.98387,\n",
       " 0.91935,\n",
       " 0.56452,\n",
       " 0.82258,\n",
       " 0.53226,\n",
       " 0.30645,\n",
       " 0.12903,\n",
       " 0.17742,\n",
       " 0.67742,\n",
       " 0.95161,\n",
       " 0.91935,\n",
       " 0.87097,\n",
       " 0.98387,\n",
       " 0.82258,\n",
       " 0.80645,\n",
       " 0.74194,\n",
       " 0.85484,\n",
       " 0.80645,\n",
       " 0.91935,\n",
       " 0.90323,\n",
       " 0.96774,\n",
       " 0.82258,\n",
       " 0.80645,\n",
       " 0.82258,\n",
       " 0.85484,\n",
       " 0.93548,\n",
       " 0.5,\n",
       " 0.37097,\n",
       " 0.8871,\n",
       " 0.56452]"
      ]
     },
     "execution_count": 59,
     "metadata": {},
     "output_type": "execute_result"
    }
   ],
   "source": [
    "assert len(acc_lst) == 39\n",
    "acc_lst"
   ]
  },
  {
   "cell_type": "code",
   "execution_count": 60,
   "id": "cb83c367-183b-4e7f-a3d6-7b76144bac01",
   "metadata": {},
   "outputs": [
    {
     "name": "stdout",
     "output_type": "stream",
     "text": [
      "Q1: What is the file number of the case?\n"
     ]
    },
    {
     "data": {
      "text/plain": [
       "(['TSL-0538-19',\n",
       "  'TEL-80084-17',\n",
       "  'TEL-80169-17',\n",
       "  'TEL-80248-17',\n",
       "  'TEL-80320-17-RVVVVVVVVVVVVVVVVVVVVVVVVVVVVVVVVVVVVVEL-VVVVVVVVVVEL-VVVVVVVVVVVVVVVVVVVVVVVVVVVVVVVVVVVVVVVVVVVVVVVVVVVVVVVVVVVVVVVVVVVVVVVVVVVVVVVVVVVVVVVVVVVVVVVVVVVVVVVVVVVVVVVVVVVVVVVVVVVVVVVVVVVVVVVVVVVVVVVVVVVVVVVVVVVVVVVVVVVVVVVVVVVVVVVVVVVVVVVVVVVVVVVVVVVVVVVVVVVVVVVVVVVVVVVVVVVVVVVVVVVVVVVVVVVEL-VVVVVEL-VVVVEL-VVVVEL-VVVVVVVVVVVVVVVVVVVVEL-VVVVVVVVVEL-VVVVEL-VVVVVVVEL-VVVVVVVVVVEL-VVVVVEL-VVVVEL-VVVVEL-VVVVEL-VVVEL-VVVVVEL-VVVVEL-VVVVEL-VVVVVVVVVVVVVVVVVVVVVVVVVVVVVVVVVVVVVVVVVVVVVVVVVVVVVVVVVVVVVVVVVVVVVVVVVVVEL-VVVVVVVVV',\n",
       "  'TEL-80483-17-RVVVV2VVVVV2-RV2-RVVV2-RVV2-RVV2VV2VVVVVV2VVVVVVVVVVVVVVVVVVVVVVVVVVV2-RVVVVVVVVVVVV2-RVV2VVVV2VVVVVVVVV2-RVV2-RVVVVVVVVV2V2VV2V2-RVVV2VV2V2-RVV2VVVVV2VVVVVVVVVVVVVVVVVVVVVVVVVVVVVVVVVVVVVVVVV2VVVV2-RVVV2VVVVV2VVVVV2-RVV2-RV2-RV2V2-RV2V2-RV2-RVV2V2-RV2-RVV2-RV2-RV2-RVV2-RVV2-RVV2-RV2-RVV2-RVV2V2-RVV2V2V2V2-RVV2V2V2V2-RV2V2V2VV2V2V2V2-RV2V2-RV2V2V2V2-RV2V2V2V2-RV2V2-RV2V2-RV2V2-RV2V2-RV2V2-RV2-RV2-RV2-RV2V2-RV2V2-RV2V2-RV2V2-RV2V2-RV2V2-RV2V2-RV2V2-RV2V2-RV2V2-RV2V2-RV2V2-RV2-RV2V2-RV2V2-RV2V2-RV2-R',\n",
       "  'TSL-05944-19-RVVVVVVVVVVVVVVVVVVVVVVVVVVVVRVVVL-05944-19-RVVVVL-05944-19-RVVVVVVVL-05944-19-RVVVVVVVVVRVVVVVVVVVRVVVVVVRVVVVRVVVVVVVVVVRVVVVVVVVVVVVVVVVVVVVVVVVVVVVVVVVVVVVVVVVVVVVVVVVVVVVVVVVVVVVVVVVVVVVVVVVVVVVVVVVVVVVVVVVVVVVVVVVVVVVVVVVVVVVVVVVVVVVVVVVVVVVVVVVVVVVVVVVVVVVVVVVVVVVVVVVVVVVVL-RVVVVVVVVVVL-05944-19-RVVVVL-05944-19-RVVVVL-RVVVVVVVVVL-05944-19-RVVVVL-05944-19-RVVVVVVVVL-05944-19-RVVVVVVVVVVVVVL-RVVVVL-RVVVRVVVVL-RVVVVL-RVVVL-RVVVL-RVVVL-05944-19-RVVVVL-05944-19-RVVVVRVVVVVVVVVVL-05944-19-RVVVVVVVVVVVVVVVVVVVVVVRVVVVVRVVVRVVVRVVRVL-05944-19-RVV',\n",
       "  'TEL-80715-17',\n",
       "  'TEL-80773-17',\n",
       "  'TSL-98711-18',\n",
       "  'TEL-81094-17',\n",
       "  'TSL-98713-18',\n",
       "  'TEL-85959-17-AM-AM-AM-AM-AM-AM-AM',\n",
       "  'TSL-98714-18',\n",
       "  'TEL-81400-17-RVVVVVVVVVVVVVVVVVVVVVVVVVVVVVVVVVVEL-RVVVVVVEL-81400-17-RVVVVVVVVVVVVVVVVVVVVVVVVVVVVVVVVVVVVVVVVVVVVVVVVVVVVVVVVVVVVVVVVVVVVVVVVVVVVVVVVVVVVVVVVVVVVVVVVVVVVVVVVVVVVVVVVVVVVVVVVVVVVVVVVVVVVVVVVVVVVVVVVVVVVVVVVVVVVVVVVVVVVVVVVVVVVVVVVVVVVVVVVVVVVVVVVVVVVVVVVVVVVVVVVVVVVVVL-VVVVVVVVVVVVVVVVL-VVVVVVL-RVVVVVVVVL-RVVVVVVVVVL-RVVVVVVVVL-RVVVVVVVVEL-RVVVL-RVVVVL-RVVVVVVVVVVEL-RVVVVEL-RVVVL-RVVVL-VVVVVEL-RVVVEL-RVVVEL-RVVVEL-81400-17-VVVVEL-RVVVVRVVVVEL-81400-17-VVVVVVVVVVVVVVVVVVVVVL-RVVVVVVVVVEL-RVVVVRVVVVVVVVVL-RVVVVVVRVV',\n",
       "  'TEL-81405-17',\n",
       "  'TSL-06394-19',\n",
       "  'TSL-98754-18',\n",
       "  'TSL-98756-18',\n",
       "  'TSL-06770-19',\n",
       "  'TSL-98918-18-RVVVVVVVVVVVVVVVVVVVVVVVVVVVVVVVVVVVVVVVVVVVVVVVVVVVVVVVVVVVVVVVVVVVVVVVVVVVVVVVVVVVVVVVVVVVVVVVVVVVVVVVVVVVVVVVVVVVVVVVVVVVVVVVVVVVVVVVVVVVVVVVVVVVVVVVVVVVVVVVVVVVVVVVVVVVVVVVVVVVVVVVVVVVVVVVVVVVVVVVVVVVVVVVVVVVVVVVVVVVVVVVVVVVVVVVVVVVVVVVVVVVVVVVVVVVVVVVVVVVVVVVVVVVVVVVVVVVVVVVVVVVVVVVVVVVVVVVVVVVVVVVVVVVVVVVVVVVVVVVVVVVVVVVVVVVVVVVVVVVVVVVVVVVVVVVVVVVVVVVVVVVVVVVVVVVVVVVVVVVVVVVVVVVVVVVVVVVVVVVVVVVVVVVVVVVVVVVVVVVVVVVVVVVVVVVVVVVVVVVVVVVVVVVVVVVVVVVVVVVVVVVVVVVVVVVVVVVVVVVVVVVVVVVVVVVVVVVVVVVVVV',\n",
       "  'TSL-06833-19',\n",
       "  'TSL-99691-18',\n",
       "  'TSL-99824-18',\n",
       "  'TSL-99900-18',\n",
       "  'TSL-99965-18',\n",
       "  'TSL-069-19-RVVVVVVVVVVVVVVVVVVVVVVVVVVVVVVVVVVVVVVVVVVVVVVVVVVVVVVVVVVVVVVVVVVVVVVVVVVVVVVVVVVVVVVVVVVVVVVVVVVVVVVVVVVVVVVVVVVVVVVVVVVVVVVVVVVVVVVVVVVVVVVVVVVVVVVVVVVVVVVVVVVVVVVVVVVVVVVVVVVVVVVVVVVVVVVVVVVVVVVVVVVVVVVVVVVVVVVVVVVVVVVVVVVVVVVVVVVVVVVVVVVVVVVVVVVVVVVVVVVVVVVVVVVVVVVVVVVVVVVVVVVVVVVVVVVVVVVVVVVVVVVVVVVVVVVVVVVVVVVVVVVVVVVVVVVVVVVVVVVVVVVVVVVVVVVVVVVVVVVVVVVVVVVVVVVVVVVVVVVVVVVVVVVVVVVVVVVVVVVVVVVVVVVVVVVVVVVVVVVVVVVVVVVVVVVVVVVVVVVVVVVVVVVVVVVVVVVVVVVVVVVVVVVVVVVVVVVVVVVVVVVVVVVVVVVVVVVVVVVVVVV',\n",
       "  'CEL-62600-16',\n",
       "  'TSL-07120-19',\n",
       "  'CEL-62852-16',\n",
       "  'CEL-63056-16',\n",
       "  'CEL-63024-16',\n",
       "  'CEL-63193-16',\n",
       "  'CEL-63559-17',\n",
       "  'CEL-0631-17',\n",
       "  'CEL-06V-17-RVVVVVVVVVVVVVVVVVVVVVVVVVVVVVVVVVVVVVVVVVVVVVVVVVVVVVVVVVVVVVVVVVVVVVVVVVVVVVVVVVVVVVVVVVVVVVVVVVVVVVVVVVVVVVVVVVVVVVVVVVVVVVVVVVVVVVVVVVVVVVVVVVVVVVVVVVVVVVVVVVVVVVVVVVVVVVVVVVVVVVVVVVVVVVVVVVVVVVVVVVVVVVVVVVVVVVVVVVVVVVVVVVVVVVVVVVVVVVVVVVVVVVVVVVVVVVVVVVVVVVVVVVVVVVVVVVVVVVVVVVVVVVVVVVVVVVVVVVVVVVVVVVVVVVVVVVVVVVVVVVVVVVVVVVVVVVVVVVVVVVVVVVVVVVVVVVVVVVVVVVVVVVVVVVVVVVVVVVVVVVVVVVVVVVVVVVVVVVVVVVVVVVVVVVVVVVVVVVVVVVVVVVVVVVVVVVVVVVVVVVVVVVVVVVVVVVVVVVVVVVVVVVVVVVVVVVVVVVVVVVVVVVVVVVVVVVVVVVVVVVV',\n",
       "  'TNL-64051-17',\n",
       "  'TSL-07620-19',\n",
       "  'TSL-07666-19-RVVVVVVVVVVVVVVVVVVVVVVVVVVVVVVVVVVVVVVVVVVVVVVVVVVVVVVVVVVVVVVVVVVVVVVVVVVVVVVVVVVVVVVVVVVVVVVVVVVVVVVVVVVVVVVVVVVVVVVVVVVVVVVVVVVVVVVVVVVVVVVVVVVVVVVVVVVVVVVVVVVVVVVVVVVVVVVVVVVVVVVVVVVVVVVVVVVVVVVVVVVVVVVVVVVVVVVVVVVVVVVVVVVVVVVVVVVVVVVVVVVVVVVVVVVVVVVVVVVVVVVVVVVVVVVVVVVVVVVVVVVVVVVVVVVVVVVVVVVVVVVVVVVVVVVVVVVVVVVVVVVVVVVVVVVVVVVVVVVVVVVVVVVVVVVVVVVVVVVVVVVVVVVVVVVVVVVVVVVVVVVVVVVVVVVVVVVVVVVVVVVVVVVVVVVVVVVVVVVVVVVVVVVVVVVVVVVVVVVVVVVVVVVVVVVVVVVVVVVVVVVVVVVVVVVVVVVVVVVVVVVVVVVVVVVVVVVVVVVVVVV',\n",
       "  'TSL-08760-19',\n",
       "  'TSL-08918-19',\n",
       "  'TSL-10061-19',\n",
       "  'TSL-10720-19',\n",
       "  'TSL-93207-18-RVVVVVVVVVVVVVVVVVVVVVVVVVVVVVVVVVVVVVVVVVVVVVVVVVVVVVVVVVVVVVVVVVVVVVVVVVVVVVVVVVVVVVVVVVVVVVVVVVVVVVVVVVVVVVVVVVVVVVVVVVVVVVVVVVVVVVVVVVVVVVVVVVVVVVVVVVVVVVVVVVVVVVVVVVVVVVVVVVVVVVVVVVVVVVVVVVVVVVVVVVVVVVVVVVVVVVVVVVVVVVVVVVVVVVVVVVVVVVVVVVVVVVVVVVVVVVVVVVVVVVVVVVVVVVVVVVVVVVVVVVVVVVVVVVVVVVVVVVVVVVVVVVVVVVVVVVVVVVVVVVVVVVVVVVVVVVVVVVVVVVVVVVVVVVVVVVVVVVVVVVVVVVVVVVVVVVVVVVVVVVVVVVVVVVVVVVVVVVVVVVVVVVVVVVVVVVVVVVVVVVVVVVVVVVVVVVVVVVVVVVVVVVVVVVVVVVVVVVVVVVVVVVVVVVVVVVVVVVVVVVVVVVVVVVVVVVVVVVVVVVV',\n",
       "  'TSL-95225-18-RVVVVVVVVVVVVVVVVVVVVVVVVVVVVVVVVVVVVVVVVVVVVVVVVVVVVVVVVVVVVVVVVVVVVVVVVVVVVVVVVVVVVVVVVVVVVVVVVVVVVVVVVVVVVVVVVVVVVVVVVVVVVVVVVVVVVVVVVVVVVVVVVVVVVVVVVVVVVVVVVVVVVVVVVVVVVVVVVVVVVVVVVVVVVVVVVVVVVVVVVVVVVVVVVVVVVVVVVVVVVVVVVVVVVVVVVVVVVVVVVVVVVVVVVVVVVVVVVVVVVVVVVVVVVVVVVVVVVVVVVVVVVVVVVVVVVVVVVVVVVVVVVVVVVVVVVVVVVVVVVVVVVVVVVVVVVVVVVVVVVVVVVVVVVVVVVVVVVVVVVVVVVVVVVVVVVVVVVVVVVVVVVVVVVVVVVVVVVVVVVVVVVVVVVVVVVVVVVVVVVVVVVVVVVVVVVVVVVVVVVVVVVVVVVVVVVVVVVVVVVVVVVVVVVVVVVVVVVVVVVVVVVVVVVVVVVVVVVVVVVVV',\n",
       "  'TSL-99696-18-RVVVVVVVVVVVVVVVVVVVVVVVVVVVVVVVVVVVVVVVVVVVVVVVVVVVVVVVVVVVVVVVVVVVVVVVVVVVVVVVVVVVVVVVVVVVVVVVVVVVVVVVVVVVVVVVVVVVVVVVVVVVVVVVVVVVVVVVVVVVVVVVVVVVVVVVVVVVVVVVVVVVVVVVVVVVVVVVVVVVVVVVVVVVVVVVVVVVVVVVVVVVVVVVVVVVVVVVVVVVVVVVVVVVVVVVVVVVVVVVVVVVVVVVVVVVVVVVVVVVVVVVVVVVVVVVVVVVVVVVVVVVVVVVVVVVVVVVVVVVVVVVVVVVVVVVVVVVVVVVVVVVVVVVVVVVVVVVVVVVVVVVVVVVVVVVVVVVVVVVVVVVVVVVVVVVVVVVVVVVVVVVVVVVVVVVVVVVVVVVVVVVVVVVVVVVVVVVVVVVVVVVVVVVVVVVVVVVVVVVVVVVVVVVVVVVVVVVVVVVVVVVVVVVVVVVVVVVVVVVVVVVVVVVVVVVVVVVVVVVVV',\n",
       "  'TSL-97152-18-RVVVVVVVVVVVVVVVVVVVVVVVVVVVVVVVVVVVVVVVVVVVVVVVVVVVVVVVVVVVVVVVVVVVVVVVVVVVVVVVVVVVVVVVVVVVVVVVVVVVVVVVVVVVVVVVVVVVVVVVVVVVVVVVVVVVVVVVVVVVVVVVVVVVVVVVVVVVVVVVVVVVVVVVVVVVVVVVVVVVVVVVVVVVVVVVVVVVVVVVVVVVVVVVVVVVVVVVVVVVVVVVVVVVVVVVVVVVVVVVVVVVVVVVVVVVVVVVVVVVVVVVVVVVVVVVVVVVVVVVVVVVVVVVVVVVVVVVVVVVVVVVVVVVVVVVVVVVVVVVVVVVVVVVVVVVVVVVVVVVVVVVVVVVVVVVVVVVVVVVVVVVVVVVVVVVVVVVVVVVVVVVVVVVVVVVVVVVVVVVVVVVVVVVVVVVVVVVVVVVVVVVVVVVVVVVVVVVVVVVVVVVVVVVVVVVVVVVVVVVVVVVVVVVVVVVVVVVVVVVVVVVVVVVVVVVVVVVVVVVVVV',\n",
       "  'TSL-97697-18',\n",
       "  'TSL-98395-18',\n",
       "  'TSL-97979-18',\n",
       "  'TSL-99380-18-RVVVVVVVVVVVVVVVVVVVVVVVVVVVVVVVVVVVVVVVVVVVVVVVVVVVVVVVVVVVVVVVVVVVVVVVVVVVVVVVVVVVVVVVVVVVVVVVVVVVVVVVVVVVVVVVVVVVVVVVVVVVVVVVVVVVVVVVVVVVVVVVVVVVVVVVVVVVVVVVVVVVVVVVVVVVVVVVVVVVVVVVVVVVVVVVVVVVVVVVVVVVVVVVVVVVVVVVVVVVVVVVVVVVVVVVVVVVVVVVVVVVVVVVVVVVVVVVVVVVVVVVVVVVVVVVVVVVVVVVVVVVVVVVVVVVVVVVVVVVVVVVVVVVVVVVVVVVVVVVVVVVVVVVVVVVVVVVVVVVVVVVVVVVVVVVVVVVVVVVVVVVVVVVVVVVVVVVVVVVVVVVVVVVVVVVVVVVVVVVVVVVVVVVVVVVVVVVVVVVVVVVVVVVVVVVVVVVVVVVVVVVVVVVVVVVVVVVVVVVVVVVVVVVVVVVVVVVVVVVVVVVVVVVVVVVVVVVVVVVVVV',\n",
       "  'TSL-06337-19-IN-INVIN-INVIN-IN-INVIN-IN-INVIN-INVIN-INVIN-INVIN-INVIN-INVIN-INVIN-INVIN-INVIN-INVIN-INVIN-INVIN-INVIN-INVIN-INVIN-INVIN-INVIN-INVIN-INVIN-INVIN-INVIN-INVIN-INVIN-INVIN-INVIN-INVIN-INVIN-INVAM',\n",
       "  'CEL-71370-17-RVVVVVVVVVVVVVVVVVVVVVVVVVVVVVVVVVVVVVVVVVVVVVVVVVVVVVVVVVVVVVVVVVVVVVVVVVVVVVVVVVVVVVVVVVVVVVVVVVVVVVVVVVVVVVVVVVVVVVVVVVVVVVVVVVVVVVVVVVVVVVVVVVVVVVVVVVVVVVVVVVVVVVVVVVVVVVVVVVVVVVVVVVVVVVVVVVVVVVVVVVVVVVVVVVVVVVVVVVVVVVVVVVVVVVVVVVVVVVVVVVVVVVVVVVVVVVVVVVVVVVVVVVVVVVVVVVVVVVVVVVVVVVVVVVVVVVVVVVVVVVVVVVVVVVVVVVVVVVVVVVVVVVVVVVVVVVVVVVVVVVVVVVVVVVVVVVVVVVVVVVVVVVVVVVVVVVVVVVVVVVVVVVVVVVVVVVVVVVVVVVVVVVVVVVVVVVVVVVVVVVVVVVVVVVVVVVVVVVVVVVVVVVVVVVVVVVVVVVVVVVVVVVVVVVVVVVVVVVVVVVVVVVVVVVVVVVVVVVVVVVV',\n",
       "  'CEL-736-17-RVVVVVVVVVVVVVVVVVVVVVVVVVVVVVVVVVVVVVVVVVVVVVVVVVVVVVVVVVVVVVVVVVVVVVVVVVVVVVVVVVVVVVVVVVVVVVVVVVVVVVVVVVVVVVVVVVVVVVVVVVVVVVVVVVVVVVVVVVVVVVVVVVVVVVVVVVVVVVVVVVVVVVVVVVVVVVVVVVVVVVVVVVVVVVVVVVVVVVVVVVVVVVVVVVVVVVVVVVVVVVVVVVVVVVVVVVVVVVVVVVVVVVVVVVVVVVVVVVVVVVVVVVVVVVVVVVVVVVVVVVVVVVL-VVVVVL-736-17',\n",
       "  'CEL-72199-17-17-17-17-17-17-17-17-17-17-17-AMVVVVVVVVVVVVVVVVVVVVVVVVVVVVVVVVVVVVVVVVVVVVVVVVVVVVVVVVVVVVVVVVVVVVVVVVVVVVVVVVVVVVVVVVVVVVVVVVVVVVVVVVVVVVVVVVVVVVVVVVVVVVVVVVVVVVVVVVVVVVVVVVVVVVVVVVVVVVVVVVVVVVVVVVVVVVVVVVVVVVVVVVVVVVVVVVVVVVVVVVVVVVVVVVVVVVVVVVVVVVVVVVVVVVVVVVVVVVVVVVVVVVVVVL-VVVVVVVVVVVL-72199-17-VVVVVVL-VVVVVVVVVL-72199-17-VVVVVVVVVVVVVVVVVL-VVVVVVVVVVVVVVVVVVVVVVVVVVVVVVVVVVVVVVVVVVL-VVVVVVVVVL-VVVVVL-72199-17-VVVVVVVVVVVL-72199-17-VVVVVVVVVVVVVVVVVVVVVVVVVVVVVVVVVVVVVVVVVVVVVVVVVVVVVVVVVVVVVVVVVVVVVVVVVVVVVVVVVVVVVVV',\n",
       "  'CEL-72209-18',\n",
       "  'CEL-08857-18-AM-AM-AM-AM-AM-AM',\n",
       "  'CEL-08859-18-AM-AM-AMVVVVVVVVVVVVVVVVVVVVVVVVVVVVVVVVVVVVVVVVVVVVVVVVVVVVVVVVVVVVVVVVVVVVVVVVVVVVVVVVVVVVVVVVVVVVVVVVVVVVVVVVVVVVVVVVVVVVVVVVVVVVVVVVVVVVVVVVVVVVVVVVVVVVVVVVVVVVVVVVVVVVVVVVVVVVVVVVVVVVVVVVVVVVVVVVVVVVVVVVVVVVVVVVVVVVVVVVVVVVVVVVVVVVVVVVVVVVVVVVVVVVVVVVVVVVVVVVVVVVVVVVVVVVVVVVVVVVVVVVVVVVVVVVVVVVVVVVVVVVVVVVVVVVVVVVVVVVVVVVVVVVVVVVVVVVVVVVVVVVVVVVVVVVVVVVVVVVVVVVVVVVVVVVVVVVVVVVVVVVVVVVVVVVVVVVVVVVVVVVVVVVVVVVVVVVVVVVVVVVVVVVVVVVVVVVVVVVVVVVVVVVVVVVVVVVVVVVVVVVVVVVVVVVVVVVVVVVVVVVVVVVVVVVVVVVVVVVVV',\n",
       "  'CEL-72919-18-AM-AM-AM-AM-AM-AM',\n",
       "  'CEL-72953-18-AM-AM-AM-AM-AM-AM-AM',\n",
       "  'CEL-72966-18-AM-AM-AM-AM-AM-AM',\n",
       "  'TEL-01869-19'],\n",
       " ['TSL-05638-19',\n",
       "  'TEL-80084-17',\n",
       "  'TEL-80169-17',\n",
       "  'TEL-80248-17',\n",
       "  'TEL-80320-17',\n",
       "  'TEL-80483-17-RV',\n",
       "  'TSL-05944-19',\n",
       "  'TEL-80715-17',\n",
       "  'TEL-80773-17',\n",
       "  'TSL-98711-18',\n",
       "  'TEL-81094-17',\n",
       "  'TSL-98713-18',\n",
       "  'TEL-81359-17-AM',\n",
       "  'TSL-98714-18',\n",
       "  'TEL-81400-17',\n",
       "  'TEL-81405-17',\n",
       "  'TSL-06394-19',\n",
       "  'TSL-98754-18',\n",
       "  'TSL-98756-18',\n",
       "  'TSL-06770-19',\n",
       "  'TSL-98918-18-RV',\n",
       "  'TSL-06833-19',\n",
       "  'TSL-99691-18',\n",
       "  'TSL-99824-18',\n",
       "  'TSL-99900-18',\n",
       "  'TSL-99965-18',\n",
       "  'TSL-06955-19-RV',\n",
       "  'CEL-62600-16',\n",
       "  'TSL-07120-19',\n",
       "  'CEL-62852-16',\n",
       "  'CEL-63056-16',\n",
       "  'CEL-63024-16',\n",
       "  'CEL-63193-16',\n",
       "  'CEL-63559-17',\n",
       "  'CEL-63931-17',\n",
       "  'CEL-63965-17-RV',\n",
       "  'CEL-64051-17',\n",
       "  'TSL-07620-19',\n",
       "  'TSL-07666-19-RV',\n",
       "  'TSL-08760-19',\n",
       "  'TSL-08918-19',\n",
       "  'TSL-10061-19',\n",
       "  'TSL-10720-19',\n",
       "  'TSL-93207-18-RV;TST-94747-18;TSL-00082-18',\n",
       "  'TSL-95225-18-RV',\n",
       "  'TSL-95896-18-RV',\n",
       "  'TSL-97152-18-RV',\n",
       "  'TSL-97697-18',\n",
       "  'TSL-98395-18',\n",
       "  'TSL-98879-18',\n",
       "  'TSL-99380-18-RV',\n",
       "  'TST-06337-19-IN',\n",
       "  'CEL-71370-17',\n",
       "  'CEL-71536-17',\n",
       "  'CEL-72199-17',\n",
       "  'CEL-72209-17;CET-73173-18',\n",
       "  'CEL-72857-18',\n",
       "  'CEL-72859-18',\n",
       "  'CEL-72919-18',\n",
       "  'CEL-72953-18',\n",
       "  'CEL-72966-18',\n",
       "  'TEL-01869-19'])"
      ]
     },
     "execution_count": 60,
     "metadata": {},
     "output_type": "execute_result"
    }
   ],
   "source": [
    "q1_loader = get_test_dataloader(val_df, 0, tokenizer, val_raw_texts)\n",
    "# print(len(loader))\n",
    "\n",
    "questions = val_df.columns\n",
    "print(f'Q1: {questions[0]}')\n",
    "\n",
    "preds, golds = answer(model, q1_loader)\n",
    "preds, golds"
   ]
  },
  {
   "cell_type": "code",
   "execution_count": null,
   "id": "fb203967-9299-420f-ab9a-8d084f58042e",
   "metadata": {},
   "outputs": [],
   "source": []
  }
 ],
 "metadata": {
  "accelerator": "GPU",
  "colab": {
   "gpuType": "V100",
   "machine_shape": "hm",
   "provenance": []
  },
  "kernelspec": {
   "display_name": "Python 3 (ipykernel)",
   "language": "python",
   "name": "python3"
  },
  "language_info": {
   "codemirror_mode": {
    "name": "ipython",
    "version": 3
   },
   "file_extension": ".py",
   "mimetype": "text/x-python",
   "name": "python",
   "nbconvert_exporter": "python",
   "pygments_lexer": "ipython3",
   "version": "3.8.10"
  }
 },
 "nbformat": 4,
 "nbformat_minor": 5
}
